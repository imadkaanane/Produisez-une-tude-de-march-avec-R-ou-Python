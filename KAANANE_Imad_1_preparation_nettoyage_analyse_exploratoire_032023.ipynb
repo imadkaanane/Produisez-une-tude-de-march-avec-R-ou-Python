{
 "cells": [
  {
   "cell_type": "markdown",
   "metadata": {},
   "source": [
    "# Sommaire\n",
    "\n",
    "- [1- Bibliothéque et fonctions](#1---Bibliothéque-et-fonction)\n",
    "  * [1.1 - Disponibilité alimentaire](#1.1---Disponibilité-alimentaire)\n",
    "    * [1.1.1 - Import](#1.1.1---Import)\n",
    "    * [1.1.2 - Description](#1.1.2---Description)\n",
    "    * [1.1.3 - Nettoyage et préparation.](#1.1.3---Nettoyage-et-préparation.)\n",
    "    * [1.1.4 - Analyse univariée](#1.1.4---Analyse-univariée)\n",
    "      * [Exportation](#Exportation)\n",
    "      * [Importation](#Importation)\n",
    "      * [Nourriture](#Nourriture)\n",
    "      * [Production](#Production)\n",
    "  * [1.2 - Population](#1.2---Population)\n",
    "    * [1.2.1 - Import](#1.2.1---Import)\n",
    "    * [1.2.2 - Description](#1.2.2---Description)\n",
    "    * [1.2.3 - Nettoyage et préparation.](#1.2.3---Nettoyage-et-préparation.)\n",
    "    * [1.2.4 - Analyse univariée](#1.2.4---Analyse-univariée)\n",
    "      * [Population](#Population)\n",
    "  * [1.3 - Stabilité Politique](#1.3---Stabilité-Politique)\n",
    "    * [1.3.1 - Import](#1.3.1---Import)\n",
    "    * [1.3.2 - Description](#1.3.2---Description)\n",
    "    * [1.3.3 - Nettoyage et préparation](#1.3.3---Nettoyage-et-préparation)\n",
    "    * [1.3.4 - Analyse univariée](#1.3.4---Analyse-univariée)\n",
    "      * [Stabilité politique](#Stabilité-politique)\n",
    "  * [1.4 - ISO3](#1.4---ISO3)\n",
    "    * [1.4.1 - Import](#1.4.1---Import)\n",
    "    * [1.4.2 - Description](#1.4.2---Description)\n",
    "    * [1.4.3 - Nettoyage et préparation](#1.4.3---Nettoyage-et-préparation)\n",
    "  * [1.5 - Doing Business](#1.5---Doing-Business)\n",
    "    * [1.5.1 - Import](#1.5.1---Import)\n",
    "    * [1.5.2 - Description](#1.5.2---Description)\n",
    "    * [1.5.3 - Nettoyage et préparation](#1.5.3---Nettoyage-et-préparation)\n",
    "    * [1.5.4 - Analyse univariée](#1.5.4---Analyse-univariée)\n",
    "      * [Facilité du Business](#Facilité-du-Business)\n",
    "  * [1.6 - Distance](#1.6---Distance)\n",
    "    * [1.6.1 - Import](#1.6.1---Import)\n",
    "    * [1.6.2 - Description](#1.6.2---Description)\n",
    "    * [1.6.3 - Nettoyage et préparation](#1.6.3---Nettoyage-et-préparation)\n",
    "    * [1.6.4 - Analyse univariée](#1.6.4---Analyse-univariée)\n",
    "      * [distance](#distance)\n",
    "- [2 - Merge](#2---Merge)\n",
    "  * [2.1 - \"Disponibilité alimentaire\" + \"Population\"](#2.1---\"Disponibilité-alimentaire\"-+-\"Population\")\n",
    "  * [2.2 - 'df' + \"Stabilité Politique\"](#2.2---Ajout-de-la-\"Stabilité-Politique\")\n",
    "  * [2.3 -  df' + 'ISO 3'](#2.3---Ajout-du-code-ISO-3)\n",
    "  * [2.4 - 'df' + 'facilité du business'](#2.4---Ajout-du-score-sur-facilité-du-business)\n",
    "  * [2.5 - 'df' + 'distance'](#2.5---Ajout-du-paramètre-distance)"
   ]
  },
  {
   "cell_type": "markdown",
   "metadata": {},
   "source": [
    "# 1- Bibliothéque et fonctions"
   ]
  },
  {
   "cell_type": "code",
   "execution_count": 1,
   "metadata": {},
   "outputs": [],
   "source": [
    "import pandas as pd\n",
    "import numpy as np\n",
    "import plotly.express as px\n",
    "import plotly.figure_factory as ff"
   ]
  },
  {
   "cell_type": "code",
   "execution_count": 2,
   "metadata": {},
   "outputs": [],
   "source": [
    "# Fonction analyse multivarié\n",
    "def analyse_univarie(df, col, nbins, log_y, titre, titre_axex):\n",
    "    count = df[col].count()\n",
    "    moyenne = df[col].mean()\n",
    "    ecart_type = df[col].std()\n",
    "    mediane = df[col].median()\n",
    "    valeur_max = df[col].max()\n",
    "    valeur_min = df[col].min()\n",
    "    quantile_25_pourcent = df[col].quantile(0.25)\n",
    "    quantile_75_pourcent = df[col].quantile(0.75)\n",
    "    mode = df[col].mode().max()\n",
    "\n",
    "    print(\"Description rapide\")\n",
    "    print(\"--------------\")\n",
    "    print(\"Count :                      \",round(count,2)) \n",
    "    print(\"Moyenne :                    \",round(moyenne,2)) \n",
    "    print(\"Ecart type :                 \",round(ecart_type,2)) \n",
    "    print(\"\\n\")\n",
    "    print(\"Minimum :                    \",round(valeur_min,2))\n",
    "    print(\"Quantile 25 % :              \",round(quantile_25_pourcent,2))\n",
    "    print(\"Médiane :                    \",round(mediane,2))\n",
    "    print(\"Quantile 75 % :              \",round(quantile_75_pourcent,2))\n",
    "    print(\"Maximum :                    \",round(valeur_max,2))\n",
    "    print(\"\\n\")\n",
    "    print(\"Valeur la plus représentée : \",round(mode,2))\n",
    "    print(\"\\n\")\n",
    "    print(\"--------------\")\n",
    "   \n",
    "\n",
    "    fig = px.histogram(df, \n",
    "                       x = col, \n",
    "                       nbins = nbins, \n",
    "                       log_y= log_y,\n",
    "                       marginal = \"box\", \n",
    "                       height = 540)\n",
    "\n",
    "    fig.update_layout(\n",
    "        template = 'plotly_dark',\n",
    "        title = titre,\n",
    "        xaxis_title = titre_axex,\n",
    "        yaxis_title = 'Count')\n",
    "    \n",
    "    fig.update_xaxes(showline=True, linewidth=1,linecolor='#E0E2E5')\n",
    "    \n",
    "    fig.show()\n",
    "    \n",
    "    print(\"--------------------\")\n",
    "    print(\"Évaluation de la distribution avec les coefficients d'assymétrie et de Kurtosis.\")\n",
    "    print(f\"Skewness: {df[col].skew()}\")\n",
    "    print(f\"Kurtosis: {df[col].kurt()}\")\n",
    "    print(\"--------------------\")"
   ]
  },
  {
   "cell_type": "markdown",
   "metadata": {},
   "source": [
    "# 2 - Import des données\n",
    "\n",
    "On va importer les différentes tables de données suivantes pour chaque pays : \n",
    "4 sources de données que j'ai reçu de votre part plus 2 sources externes que j'ai choisi pour compléter mon analyse:\n",
    "- La disponibilité alimentaire\n",
    "- La population \n",
    "- La stabilité politique \n",
    "- Le code ISO 3, c'est la norme de codification des pays. \n",
    "- La facilité à faire du business (source : https://databank.worldbank.org/source/doing-business)\n",
    "- La distance entre les pays. C'est une distance qui tient compte de la dispersion de la population dans le pays (source : http://www.cepii.fr/CEPII/en/bdd_modele/bdd_modele_item.asp?id=6)"
   ]
  },
  {
   "cell_type": "markdown",
   "metadata": {},
   "source": [
    "## 2.1 - Disponibilité alimentaire\n",
    "### 2.1.1 - Import "
   ]
  },
  {
   "cell_type": "code",
   "execution_count": 3,
   "metadata": {},
   "outputs": [
    {
     "data": {
      "text/html": [
       "<div>\n",
       "<style scoped>\n",
       "    .dataframe tbody tr th:only-of-type {\n",
       "        vertical-align: middle;\n",
       "    }\n",
       "\n",
       "    .dataframe tbody tr th {\n",
       "        vertical-align: top;\n",
       "    }\n",
       "\n",
       "    .dataframe thead th {\n",
       "        text-align: right;\n",
       "    }\n",
       "</style>\n",
       "<table border=\"1\" class=\"dataframe\">\n",
       "  <thead>\n",
       "    <tr style=\"text-align: right;\">\n",
       "      <th></th>\n",
       "      <th>Code Domaine</th>\n",
       "      <th>Domaine</th>\n",
       "      <th>Code zone</th>\n",
       "      <th>Zone</th>\n",
       "      <th>Code Élément</th>\n",
       "      <th>Élément</th>\n",
       "      <th>Code Produit</th>\n",
       "      <th>Produit</th>\n",
       "      <th>Code année</th>\n",
       "      <th>Année</th>\n",
       "      <th>Unité</th>\n",
       "      <th>Valeur</th>\n",
       "      <th>Symbole</th>\n",
       "      <th>Description du Symbole</th>\n",
       "    </tr>\n",
       "  </thead>\n",
       "  <tbody>\n",
       "    <tr>\n",
       "      <th>0</th>\n",
       "      <td>FBS</td>\n",
       "      <td>Nouveaux Bilans Alimentaire</td>\n",
       "      <td>2</td>\n",
       "      <td>Afghanistan</td>\n",
       "      <td>5511</td>\n",
       "      <td>Production</td>\n",
       "      <td>2511</td>\n",
       "      <td>Blé et produits</td>\n",
       "      <td>2017</td>\n",
       "      <td>2017</td>\n",
       "      <td>Milliers de tonnes</td>\n",
       "      <td>4281.00</td>\n",
       "      <td>S</td>\n",
       "      <td>Données standardisées</td>\n",
       "    </tr>\n",
       "    <tr>\n",
       "      <th>1</th>\n",
       "      <td>FBS</td>\n",
       "      <td>Nouveaux Bilans Alimentaire</td>\n",
       "      <td>2</td>\n",
       "      <td>Afghanistan</td>\n",
       "      <td>5611</td>\n",
       "      <td>Importations - Quantité</td>\n",
       "      <td>2511</td>\n",
       "      <td>Blé et produits</td>\n",
       "      <td>2017</td>\n",
       "      <td>2017</td>\n",
       "      <td>Milliers de tonnes</td>\n",
       "      <td>2302.00</td>\n",
       "      <td>S</td>\n",
       "      <td>Données standardisées</td>\n",
       "    </tr>\n",
       "    <tr>\n",
       "      <th>2</th>\n",
       "      <td>FBS</td>\n",
       "      <td>Nouveaux Bilans Alimentaire</td>\n",
       "      <td>2</td>\n",
       "      <td>Afghanistan</td>\n",
       "      <td>5072</td>\n",
       "      <td>Variation de stock</td>\n",
       "      <td>2511</td>\n",
       "      <td>Blé et produits</td>\n",
       "      <td>2017</td>\n",
       "      <td>2017</td>\n",
       "      <td>Milliers de tonnes</td>\n",
       "      <td>-119.00</td>\n",
       "      <td>S</td>\n",
       "      <td>Données standardisées</td>\n",
       "    </tr>\n",
       "    <tr>\n",
       "      <th>3</th>\n",
       "      <td>FBS</td>\n",
       "      <td>Nouveaux Bilans Alimentaire</td>\n",
       "      <td>2</td>\n",
       "      <td>Afghanistan</td>\n",
       "      <td>5911</td>\n",
       "      <td>Exportations - Quantité</td>\n",
       "      <td>2511</td>\n",
       "      <td>Blé et produits</td>\n",
       "      <td>2017</td>\n",
       "      <td>2017</td>\n",
       "      <td>Milliers de tonnes</td>\n",
       "      <td>0.00</td>\n",
       "      <td>S</td>\n",
       "      <td>Données standardisées</td>\n",
       "    </tr>\n",
       "    <tr>\n",
       "      <th>4</th>\n",
       "      <td>FBS</td>\n",
       "      <td>Nouveaux Bilans Alimentaire</td>\n",
       "      <td>2</td>\n",
       "      <td>Afghanistan</td>\n",
       "      <td>5301</td>\n",
       "      <td>Disponibilité intérieure</td>\n",
       "      <td>2511</td>\n",
       "      <td>Blé et produits</td>\n",
       "      <td>2017</td>\n",
       "      <td>2017</td>\n",
       "      <td>Milliers de tonnes</td>\n",
       "      <td>6701.00</td>\n",
       "      <td>S</td>\n",
       "      <td>Données standardisées</td>\n",
       "    </tr>\n",
       "    <tr>\n",
       "      <th>...</th>\n",
       "      <td>...</td>\n",
       "      <td>...</td>\n",
       "      <td>...</td>\n",
       "      <td>...</td>\n",
       "      <td>...</td>\n",
       "      <td>...</td>\n",
       "      <td>...</td>\n",
       "      <td>...</td>\n",
       "      <td>...</td>\n",
       "      <td>...</td>\n",
       "      <td>...</td>\n",
       "      <td>...</td>\n",
       "      <td>...</td>\n",
       "      <td>...</td>\n",
       "    </tr>\n",
       "    <tr>\n",
       "      <th>176595</th>\n",
       "      <td>FBS</td>\n",
       "      <td>Nouveaux Bilans Alimentaire</td>\n",
       "      <td>181</td>\n",
       "      <td>Zimbabwe</td>\n",
       "      <td>5142</td>\n",
       "      <td>Nourriture</td>\n",
       "      <td>2899</td>\n",
       "      <td>Miscellanees</td>\n",
       "      <td>2017</td>\n",
       "      <td>2017</td>\n",
       "      <td>Milliers de tonnes</td>\n",
       "      <td>19.00</td>\n",
       "      <td>S</td>\n",
       "      <td>Données standardisées</td>\n",
       "    </tr>\n",
       "    <tr>\n",
       "      <th>176596</th>\n",
       "      <td>FBS</td>\n",
       "      <td>Nouveaux Bilans Alimentaire</td>\n",
       "      <td>181</td>\n",
       "      <td>Zimbabwe</td>\n",
       "      <td>645</td>\n",
       "      <td>Disponibilité alimentaire en quantité (kg/pers...</td>\n",
       "      <td>2899</td>\n",
       "      <td>Miscellanees</td>\n",
       "      <td>2017</td>\n",
       "      <td>2017</td>\n",
       "      <td>kg</td>\n",
       "      <td>1.33</td>\n",
       "      <td>Fc</td>\n",
       "      <td>Donnée calculée</td>\n",
       "    </tr>\n",
       "    <tr>\n",
       "      <th>176597</th>\n",
       "      <td>FBS</td>\n",
       "      <td>Nouveaux Bilans Alimentaire</td>\n",
       "      <td>181</td>\n",
       "      <td>Zimbabwe</td>\n",
       "      <td>664</td>\n",
       "      <td>Disponibilité alimentaire (Kcal/personne/jour)</td>\n",
       "      <td>2899</td>\n",
       "      <td>Miscellanees</td>\n",
       "      <td>2017</td>\n",
       "      <td>2017</td>\n",
       "      <td>Kcal/personne/jour</td>\n",
       "      <td>1.00</td>\n",
       "      <td>Fc</td>\n",
       "      <td>Donnée calculée</td>\n",
       "    </tr>\n",
       "    <tr>\n",
       "      <th>176598</th>\n",
       "      <td>FBS</td>\n",
       "      <td>Nouveaux Bilans Alimentaire</td>\n",
       "      <td>181</td>\n",
       "      <td>Zimbabwe</td>\n",
       "      <td>674</td>\n",
       "      <td>Disponibilité de protéines en quantité (g/pers...</td>\n",
       "      <td>2899</td>\n",
       "      <td>Miscellanees</td>\n",
       "      <td>2017</td>\n",
       "      <td>2017</td>\n",
       "      <td>g/personne/jour</td>\n",
       "      <td>0.04</td>\n",
       "      <td>Fc</td>\n",
       "      <td>Donnée calculée</td>\n",
       "    </tr>\n",
       "    <tr>\n",
       "      <th>176599</th>\n",
       "      <td>FBS</td>\n",
       "      <td>Nouveaux Bilans Alimentaire</td>\n",
       "      <td>181</td>\n",
       "      <td>Zimbabwe</td>\n",
       "      <td>684</td>\n",
       "      <td>Disponibilité de matière grasse en quantité (g...</td>\n",
       "      <td>2899</td>\n",
       "      <td>Miscellanees</td>\n",
       "      <td>2017</td>\n",
       "      <td>2017</td>\n",
       "      <td>g/personne/jour</td>\n",
       "      <td>0.02</td>\n",
       "      <td>Fc</td>\n",
       "      <td>Donnée calculée</td>\n",
       "    </tr>\n",
       "  </tbody>\n",
       "</table>\n",
       "<p>176600 rows × 14 columns</p>\n",
       "</div>"
      ],
      "text/plain": [
       "       Code Domaine                      Domaine  Code zone         Zone  \\\n",
       "0               FBS  Nouveaux Bilans Alimentaire          2  Afghanistan   \n",
       "1               FBS  Nouveaux Bilans Alimentaire          2  Afghanistan   \n",
       "2               FBS  Nouveaux Bilans Alimentaire          2  Afghanistan   \n",
       "3               FBS  Nouveaux Bilans Alimentaire          2  Afghanistan   \n",
       "4               FBS  Nouveaux Bilans Alimentaire          2  Afghanistan   \n",
       "...             ...                          ...        ...          ...   \n",
       "176595          FBS  Nouveaux Bilans Alimentaire        181     Zimbabwe   \n",
       "176596          FBS  Nouveaux Bilans Alimentaire        181     Zimbabwe   \n",
       "176597          FBS  Nouveaux Bilans Alimentaire        181     Zimbabwe   \n",
       "176598          FBS  Nouveaux Bilans Alimentaire        181     Zimbabwe   \n",
       "176599          FBS  Nouveaux Bilans Alimentaire        181     Zimbabwe   \n",
       "\n",
       "        Code Élément                                            Élément  \\\n",
       "0               5511                                         Production   \n",
       "1               5611                            Importations - Quantité   \n",
       "2               5072                                 Variation de stock   \n",
       "3               5911                            Exportations - Quantité   \n",
       "4               5301                           Disponibilité intérieure   \n",
       "...              ...                                                ...   \n",
       "176595          5142                                         Nourriture   \n",
       "176596           645  Disponibilité alimentaire en quantité (kg/pers...   \n",
       "176597           664     Disponibilité alimentaire (Kcal/personne/jour)   \n",
       "176598           674  Disponibilité de protéines en quantité (g/pers...   \n",
       "176599           684  Disponibilité de matière grasse en quantité (g...   \n",
       "\n",
       "        Code Produit          Produit  Code année  Année               Unité  \\\n",
       "0               2511  Blé et produits        2017   2017  Milliers de tonnes   \n",
       "1               2511  Blé et produits        2017   2017  Milliers de tonnes   \n",
       "2               2511  Blé et produits        2017   2017  Milliers de tonnes   \n",
       "3               2511  Blé et produits        2017   2017  Milliers de tonnes   \n",
       "4               2511  Blé et produits        2017   2017  Milliers de tonnes   \n",
       "...              ...              ...         ...    ...                 ...   \n",
       "176595          2899     Miscellanees        2017   2017  Milliers de tonnes   \n",
       "176596          2899     Miscellanees        2017   2017                  kg   \n",
       "176597          2899     Miscellanees        2017   2017  Kcal/personne/jour   \n",
       "176598          2899     Miscellanees        2017   2017     g/personne/jour   \n",
       "176599          2899     Miscellanees        2017   2017     g/personne/jour   \n",
       "\n",
       "         Valeur Symbole Description du Symbole  \n",
       "0       4281.00       S  Données standardisées  \n",
       "1       2302.00       S  Données standardisées  \n",
       "2       -119.00       S  Données standardisées  \n",
       "3          0.00       S  Données standardisées  \n",
       "4       6701.00       S  Données standardisées  \n",
       "...         ...     ...                    ...  \n",
       "176595    19.00       S  Données standardisées  \n",
       "176596     1.33      Fc        Donnée calculée  \n",
       "176597     1.00      Fc        Donnée calculée  \n",
       "176598     0.04      Fc        Donnée calculée  \n",
       "176599     0.02      Fc        Donnée calculée  \n",
       "\n",
       "[176600 rows x 14 columns]"
      ]
     },
     "execution_count": 3,
     "metadata": {},
     "output_type": "execute_result"
    }
   ],
   "source": [
    "dispo_alim = pd.read_csv(r\"C:\\Users\\imadk\\Downloads\\DAN-P9-data\\DAN-P9-data\\DisponibiliteAlimentaire_2017.csv\", sep=',')\n",
    "dispo_alim"
   ]
  },
  {
   "cell_type": "markdown",
   "metadata": {},
   "source": [
    "### 2.1.2 - Description\n",
    "- On commence par voir en détail notre jeu de données et les variables qu'il contient"
   ]
  },
  {
   "cell_type": "code",
   "execution_count": 4,
   "metadata": {},
   "outputs": [
    {
     "data": {
      "text/html": [
       "<div>\n",
       "<style scoped>\n",
       "    .dataframe tbody tr th:only-of-type {\n",
       "        vertical-align: middle;\n",
       "    }\n",
       "\n",
       "    .dataframe tbody tr th {\n",
       "        vertical-align: top;\n",
       "    }\n",
       "\n",
       "    .dataframe thead th {\n",
       "        text-align: right;\n",
       "    }\n",
       "</style>\n",
       "<table border=\"1\" class=\"dataframe\">\n",
       "  <thead>\n",
       "    <tr style=\"text-align: right;\">\n",
       "      <th></th>\n",
       "      <th>Code Domaine</th>\n",
       "      <th>Domaine</th>\n",
       "      <th>Code zone</th>\n",
       "      <th>Zone</th>\n",
       "      <th>Code Élément</th>\n",
       "      <th>Élément</th>\n",
       "      <th>Code Produit</th>\n",
       "      <th>Produit</th>\n",
       "      <th>Code année</th>\n",
       "      <th>Année</th>\n",
       "      <th>Unité</th>\n",
       "      <th>Valeur</th>\n",
       "      <th>Symbole</th>\n",
       "      <th>Description du Symbole</th>\n",
       "    </tr>\n",
       "  </thead>\n",
       "  <tbody>\n",
       "    <tr>\n",
       "      <th>count</th>\n",
       "      <td>176600</td>\n",
       "      <td>176600</td>\n",
       "      <td>176600.000000</td>\n",
       "      <td>176600</td>\n",
       "      <td>176600.000000</td>\n",
       "      <td>176600</td>\n",
       "      <td>176600.000000</td>\n",
       "      <td>176600</td>\n",
       "      <td>176600.0</td>\n",
       "      <td>176600.0</td>\n",
       "      <td>176600</td>\n",
       "      <td>176600.000000</td>\n",
       "      <td>176600</td>\n",
       "      <td>176600</td>\n",
       "    </tr>\n",
       "    <tr>\n",
       "      <th>unique</th>\n",
       "      <td>1</td>\n",
       "      <td>1</td>\n",
       "      <td>NaN</td>\n",
       "      <td>174</td>\n",
       "      <td>NaN</td>\n",
       "      <td>17</td>\n",
       "      <td>NaN</td>\n",
       "      <td>98</td>\n",
       "      <td>NaN</td>\n",
       "      <td>NaN</td>\n",
       "      <td>4</td>\n",
       "      <td>NaN</td>\n",
       "      <td>2</td>\n",
       "      <td>2</td>\n",
       "    </tr>\n",
       "    <tr>\n",
       "      <th>top</th>\n",
       "      <td>FBS</td>\n",
       "      <td>Nouveaux Bilans Alimentaire</td>\n",
       "      <td>NaN</td>\n",
       "      <td>Tchad</td>\n",
       "      <td>NaN</td>\n",
       "      <td>Disponibilité intérieure</td>\n",
       "      <td>NaN</td>\n",
       "      <td>Maïs et produits</td>\n",
       "      <td>NaN</td>\n",
       "      <td>NaN</td>\n",
       "      <td>Milliers de tonnes</td>\n",
       "      <td>NaN</td>\n",
       "      <td>S</td>\n",
       "      <td>Données standardisées</td>\n",
       "    </tr>\n",
       "    <tr>\n",
       "      <th>freq</th>\n",
       "      <td>176600</td>\n",
       "      <td>176600</td>\n",
       "      <td>NaN</td>\n",
       "      <td>1416</td>\n",
       "      <td>NaN</td>\n",
       "      <td>15905</td>\n",
       "      <td>NaN</td>\n",
       "      <td>2593</td>\n",
       "      <td>NaN</td>\n",
       "      <td>NaN</td>\n",
       "      <td>118487</td>\n",
       "      <td>NaN</td>\n",
       "      <td>118487</td>\n",
       "      <td>118487</td>\n",
       "    </tr>\n",
       "    <tr>\n",
       "      <th>mean</th>\n",
       "      <td>NaN</td>\n",
       "      <td>NaN</td>\n",
       "      <td>125.474740</td>\n",
       "      <td>NaN</td>\n",
       "      <td>3810.052894</td>\n",
       "      <td>NaN</td>\n",
       "      <td>2628.778545</td>\n",
       "      <td>NaN</td>\n",
       "      <td>2017.0</td>\n",
       "      <td>2017.0</td>\n",
       "      <td>NaN</td>\n",
       "      <td>210.554918</td>\n",
       "      <td>NaN</td>\n",
       "      <td>NaN</td>\n",
       "    </tr>\n",
       "    <tr>\n",
       "      <th>std</th>\n",
       "      <td>NaN</td>\n",
       "      <td>NaN</td>\n",
       "      <td>72.941699</td>\n",
       "      <td>NaN</td>\n",
       "      <td>2211.790089</td>\n",
       "      <td>NaN</td>\n",
       "      <td>91.993247</td>\n",
       "      <td>NaN</td>\n",
       "      <td>0.0</td>\n",
       "      <td>0.0</td>\n",
       "      <td>NaN</td>\n",
       "      <td>4762.047787</td>\n",
       "      <td>NaN</td>\n",
       "      <td>NaN</td>\n",
       "    </tr>\n",
       "    <tr>\n",
       "      <th>min</th>\n",
       "      <td>NaN</td>\n",
       "      <td>NaN</td>\n",
       "      <td>1.000000</td>\n",
       "      <td>NaN</td>\n",
       "      <td>645.000000</td>\n",
       "      <td>NaN</td>\n",
       "      <td>2511.000000</td>\n",
       "      <td>NaN</td>\n",
       "      <td>2017.0</td>\n",
       "      <td>2017.0</td>\n",
       "      <td>NaN</td>\n",
       "      <td>-10388.000000</td>\n",
       "      <td>NaN</td>\n",
       "      <td>NaN</td>\n",
       "    </tr>\n",
       "    <tr>\n",
       "      <th>25%</th>\n",
       "      <td>NaN</td>\n",
       "      <td>NaN</td>\n",
       "      <td>63.000000</td>\n",
       "      <td>NaN</td>\n",
       "      <td>684.000000</td>\n",
       "      <td>NaN</td>\n",
       "      <td>2556.000000</td>\n",
       "      <td>NaN</td>\n",
       "      <td>2017.0</td>\n",
       "      <td>2017.0</td>\n",
       "      <td>NaN</td>\n",
       "      <td>0.000000</td>\n",
       "      <td>NaN</td>\n",
       "      <td>NaN</td>\n",
       "    </tr>\n",
       "    <tr>\n",
       "      <th>50%</th>\n",
       "      <td>NaN</td>\n",
       "      <td>NaN</td>\n",
       "      <td>120.000000</td>\n",
       "      <td>NaN</td>\n",
       "      <td>5142.000000</td>\n",
       "      <td>NaN</td>\n",
       "      <td>2612.000000</td>\n",
       "      <td>NaN</td>\n",
       "      <td>2017.0</td>\n",
       "      <td>2017.0</td>\n",
       "      <td>NaN</td>\n",
       "      <td>0.120000</td>\n",
       "      <td>NaN</td>\n",
       "      <td>NaN</td>\n",
       "    </tr>\n",
       "    <tr>\n",
       "      <th>75%</th>\n",
       "      <td>NaN</td>\n",
       "      <td>NaN</td>\n",
       "      <td>188.000000</td>\n",
       "      <td>NaN</td>\n",
       "      <td>5301.000000</td>\n",
       "      <td>NaN</td>\n",
       "      <td>2732.000000</td>\n",
       "      <td>NaN</td>\n",
       "      <td>2017.0</td>\n",
       "      <td>2017.0</td>\n",
       "      <td>NaN</td>\n",
       "      <td>8.462500</td>\n",
       "      <td>NaN</td>\n",
       "      <td>NaN</td>\n",
       "    </tr>\n",
       "    <tr>\n",
       "      <th>max</th>\n",
       "      <td>NaN</td>\n",
       "      <td>NaN</td>\n",
       "      <td>276.000000</td>\n",
       "      <td>NaN</td>\n",
       "      <td>5911.000000</td>\n",
       "      <td>NaN</td>\n",
       "      <td>2899.000000</td>\n",
       "      <td>NaN</td>\n",
       "      <td>2017.0</td>\n",
       "      <td>2017.0</td>\n",
       "      <td>NaN</td>\n",
       "      <td>758548.000000</td>\n",
       "      <td>NaN</td>\n",
       "      <td>NaN</td>\n",
       "    </tr>\n",
       "  </tbody>\n",
       "</table>\n",
       "</div>"
      ],
      "text/plain": [
       "       Code Domaine                      Domaine      Code zone    Zone  \\\n",
       "count        176600                       176600  176600.000000  176600   \n",
       "unique            1                            1            NaN     174   \n",
       "top             FBS  Nouveaux Bilans Alimentaire            NaN   Tchad   \n",
       "freq         176600                       176600            NaN    1416   \n",
       "mean            NaN                          NaN     125.474740     NaN   \n",
       "std             NaN                          NaN      72.941699     NaN   \n",
       "min             NaN                          NaN       1.000000     NaN   \n",
       "25%             NaN                          NaN      63.000000     NaN   \n",
       "50%             NaN                          NaN     120.000000     NaN   \n",
       "75%             NaN                          NaN     188.000000     NaN   \n",
       "max             NaN                          NaN     276.000000     NaN   \n",
       "\n",
       "         Code Élément                   Élément   Code Produit  \\\n",
       "count   176600.000000                    176600  176600.000000   \n",
       "unique            NaN                        17            NaN   \n",
       "top               NaN  Disponibilité intérieure            NaN   \n",
       "freq              NaN                     15905            NaN   \n",
       "mean      3810.052894                       NaN    2628.778545   \n",
       "std       2211.790089                       NaN      91.993247   \n",
       "min        645.000000                       NaN    2511.000000   \n",
       "25%        684.000000                       NaN    2556.000000   \n",
       "50%       5142.000000                       NaN    2612.000000   \n",
       "75%       5301.000000                       NaN    2732.000000   \n",
       "max       5911.000000                       NaN    2899.000000   \n",
       "\n",
       "                 Produit  Code année     Année               Unité  \\\n",
       "count             176600    176600.0  176600.0              176600   \n",
       "unique                98         NaN       NaN                   4   \n",
       "top     Maïs et produits         NaN       NaN  Milliers de tonnes   \n",
       "freq                2593         NaN       NaN              118487   \n",
       "mean                 NaN      2017.0    2017.0                 NaN   \n",
       "std                  NaN         0.0       0.0                 NaN   \n",
       "min                  NaN      2017.0    2017.0                 NaN   \n",
       "25%                  NaN      2017.0    2017.0                 NaN   \n",
       "50%                  NaN      2017.0    2017.0                 NaN   \n",
       "75%                  NaN      2017.0    2017.0                 NaN   \n",
       "max                  NaN      2017.0    2017.0                 NaN   \n",
       "\n",
       "               Valeur Symbole Description du Symbole  \n",
       "count   176600.000000  176600                 176600  \n",
       "unique            NaN       2                      2  \n",
       "top               NaN       S  Données standardisées  \n",
       "freq              NaN  118487                 118487  \n",
       "mean       210.554918     NaN                    NaN  \n",
       "std       4762.047787     NaN                    NaN  \n",
       "min     -10388.000000     NaN                    NaN  \n",
       "25%          0.000000     NaN                    NaN  \n",
       "50%          0.120000     NaN                    NaN  \n",
       "75%          8.462500     NaN                    NaN  \n",
       "max     758548.000000     NaN                    NaN  "
      ]
     },
     "execution_count": 4,
     "metadata": {},
     "output_type": "execute_result"
    }
   ],
   "source": [
    "dispo_alim.describe(include='all')"
   ]
  },
  {
   "cell_type": "code",
   "execution_count": 5,
   "metadata": {},
   "outputs": [
    {
     "name": "stdout",
     "output_type": "stream",
     "text": [
      "<class 'pandas.core.frame.DataFrame'>\n",
      "RangeIndex: 176600 entries, 0 to 176599\n",
      "Data columns (total 14 columns):\n",
      " #   Column                  Non-Null Count   Dtype  \n",
      "---  ------                  --------------   -----  \n",
      " 0   Code Domaine            176600 non-null  object \n",
      " 1   Domaine                 176600 non-null  object \n",
      " 2   Code zone               176600 non-null  int64  \n",
      " 3   Zone                    176600 non-null  object \n",
      " 4   Code Élément            176600 non-null  int64  \n",
      " 5   Élément                 176600 non-null  object \n",
      " 6   Code Produit            176600 non-null  int64  \n",
      " 7   Produit                 176600 non-null  object \n",
      " 8   Code année              176600 non-null  int64  \n",
      " 9   Année                   176600 non-null  int64  \n",
      " 10  Unité                   176600 non-null  object \n",
      " 11  Valeur                  176600 non-null  float64\n",
      " 12  Symbole                 176600 non-null  object \n",
      " 13  Description du Symbole  176600 non-null  object \n",
      "dtypes: float64(1), int64(5), object(8)\n",
      "memory usage: 18.9+ MB\n"
     ]
    }
   ],
   "source": [
    "dispo_alim.info()"
   ]
  },
  {
   "cell_type": "markdown",
   "metadata": {},
   "source": [
    "- On remarque qu'on a des variables qui sont des constantes c'est le cas de **Code domaine** ou de **Année** par exemple. \n",
    "- On remarque aussi qu'il y a beaucoup de données liées entre elles, comme **Code élément** et **Élément**, on supprimera les variables de type Code.\n",
    "- Les colonnes **Élément** et **Valeur** contiennent différentes variables comme l'exportation, l'importation... On fera un pivot de ces colonnes\n",
    "- On a aussi des variables inutiles qu'on va supprimé."
   ]
  },
  {
   "cell_type": "markdown",
   "metadata": {},
   "source": [
    "### 2.1.3 - Nettoyage et préparation. \n",
    "- On va tout d'abord voir s'il y a des doublons."
   ]
  },
  {
   "cell_type": "code",
   "execution_count": 6,
   "metadata": {},
   "outputs": [
    {
     "data": {
      "text/plain": [
       "0"
      ]
     },
     "execution_count": 6,
     "metadata": {},
     "output_type": "execute_result"
    }
   ],
   "source": [
    "dispo_alim.duplicated().sum()"
   ]
  },
  {
   "cell_type": "markdown",
   "metadata": {},
   "source": [
    "- Il n'y a pas de doublon.\n",
    "- On procéde aux opérations citer auparavant"
   ]
  },
  {
   "cell_type": "code",
   "execution_count": 7,
   "metadata": {},
   "outputs": [
    {
     "data": {
      "text/html": [
       "<div>\n",
       "<style scoped>\n",
       "    .dataframe tbody tr th:only-of-type {\n",
       "        vertical-align: middle;\n",
       "    }\n",
       "\n",
       "    .dataframe tbody tr th {\n",
       "        vertical-align: top;\n",
       "    }\n",
       "\n",
       "    .dataframe thead th {\n",
       "        text-align: right;\n",
       "    }\n",
       "</style>\n",
       "<table border=\"1\" class=\"dataframe\">\n",
       "  <thead>\n",
       "    <tr style=\"text-align: right;\">\n",
       "      <th>Élément</th>\n",
       "      <th>Zone</th>\n",
       "      <th>Exportations Volailles (en milliers tonnes)</th>\n",
       "      <th>Importations Volailles (en milliers tonnes)</th>\n",
       "      <th>Nourritures (en milliers tonnes)</th>\n",
       "      <th>Productions Volailles (en milliers tonnes)</th>\n",
       "    </tr>\n",
       "  </thead>\n",
       "  <tbody>\n",
       "    <tr>\n",
       "      <th>78</th>\n",
       "      <td>Afghanistan</td>\n",
       "      <td>0</td>\n",
       "      <td>29</td>\n",
       "      <td>55</td>\n",
       "      <td>28</td>\n",
       "    </tr>\n",
       "    <tr>\n",
       "      <th>173</th>\n",
       "      <td>Afrique du Sud</td>\n",
       "      <td>63</td>\n",
       "      <td>514</td>\n",
       "      <td>2035</td>\n",
       "      <td>1667</td>\n",
       "    </tr>\n",
       "    <tr>\n",
       "      <th>265</th>\n",
       "      <td>Albanie</td>\n",
       "      <td>0</td>\n",
       "      <td>38</td>\n",
       "      <td>47</td>\n",
       "      <td>13</td>\n",
       "    </tr>\n",
       "    <tr>\n",
       "      <th>357</th>\n",
       "      <td>Algérie</td>\n",
       "      <td>0</td>\n",
       "      <td>2</td>\n",
       "      <td>264</td>\n",
       "      <td>275</td>\n",
       "    </tr>\n",
       "    <tr>\n",
       "      <th>452</th>\n",
       "      <td>Allemagne</td>\n",
       "      <td>646</td>\n",
       "      <td>842</td>\n",
       "      <td>1609</td>\n",
       "      <td>1514</td>\n",
       "    </tr>\n",
       "    <tr>\n",
       "      <th>...</th>\n",
       "      <td>...</td>\n",
       "      <td>...</td>\n",
       "      <td>...</td>\n",
       "      <td>...</td>\n",
       "      <td>...</td>\n",
       "    </tr>\n",
       "    <tr>\n",
       "      <th>15668</th>\n",
       "      <td>Émirats arabes unis</td>\n",
       "      <td>94</td>\n",
       "      <td>433</td>\n",
       "      <td>412</td>\n",
       "      <td>48</td>\n",
       "    </tr>\n",
       "    <tr>\n",
       "      <th>15765</th>\n",
       "      <td>Équateur</td>\n",
       "      <td>0</td>\n",
       "      <td>0</td>\n",
       "      <td>324</td>\n",
       "      <td>340</td>\n",
       "    </tr>\n",
       "    <tr>\n",
       "      <th>15860</th>\n",
       "      <td>États-Unis d'Amérique</td>\n",
       "      <td>3692</td>\n",
       "      <td>123</td>\n",
       "      <td>18100</td>\n",
       "      <td>21914</td>\n",
       "    </tr>\n",
       "    <tr>\n",
       "      <th>15954</th>\n",
       "      <td>Éthiopie</td>\n",
       "      <td>0</td>\n",
       "      <td>1</td>\n",
       "      <td>14</td>\n",
       "      <td>14</td>\n",
       "    </tr>\n",
       "    <tr>\n",
       "      <th>16043</th>\n",
       "      <td>Îles Salomon</td>\n",
       "      <td>0</td>\n",
       "      <td>6</td>\n",
       "      <td>3</td>\n",
       "      <td>0</td>\n",
       "    </tr>\n",
       "  </tbody>\n",
       "</table>\n",
       "<p>172 rows × 5 columns</p>\n",
       "</div>"
      ],
      "text/plain": [
       "Élément                   Zone  Exportations Volailles (en milliers tonnes)  \\\n",
       "78                 Afghanistan                                            0   \n",
       "173             Afrique du Sud                                           63   \n",
       "265                    Albanie                                            0   \n",
       "357                    Algérie                                            0   \n",
       "452                  Allemagne                                          646   \n",
       "...                        ...                                          ...   \n",
       "15668      Émirats arabes unis                                           94   \n",
       "15765                 Équateur                                            0   \n",
       "15860    États-Unis d'Amérique                                         3692   \n",
       "15954                 Éthiopie                                            0   \n",
       "16043             Îles Salomon                                            0   \n",
       "\n",
       "Élément  Importations Volailles (en milliers tonnes)  \\\n",
       "78                                                29   \n",
       "173                                              514   \n",
       "265                                               38   \n",
       "357                                                2   \n",
       "452                                              842   \n",
       "...                                              ...   \n",
       "15668                                            433   \n",
       "15765                                              0   \n",
       "15860                                            123   \n",
       "15954                                              1   \n",
       "16043                                              6   \n",
       "\n",
       "Élément  Nourritures (en milliers tonnes)  \\\n",
       "78                                     55   \n",
       "173                                  2035   \n",
       "265                                    47   \n",
       "357                                   264   \n",
       "452                                  1609   \n",
       "...                                   ...   \n",
       "15668                                 412   \n",
       "15765                                 324   \n",
       "15860                               18100   \n",
       "15954                                  14   \n",
       "16043                                   3   \n",
       "\n",
       "Élément  Productions Volailles (en milliers tonnes)  \n",
       "78                                               28  \n",
       "173                                            1667  \n",
       "265                                              13  \n",
       "357                                             275  \n",
       "452                                            1514  \n",
       "...                                             ...  \n",
       "15668                                            48  \n",
       "15765                                           340  \n",
       "15860                                         21914  \n",
       "15954                                            14  \n",
       "16043                                             0  \n",
       "\n",
       "[172 rows x 5 columns]"
      ]
     },
     "execution_count": 7,
     "metadata": {},
     "output_type": "execute_result"
    }
   ],
   "source": [
    "dispo_alim = dispo_alim.pivot_table(index=['Zone','Produit'], \n",
    "                                    columns='Élément', \n",
    "                                    values='Valeur', \n",
    "                                    fill_value=0)\n",
    "# Les colonnes Produit et zone sont transformées en index par la méthode pivot_table. On les retransforme en colonnes\n",
    "dispo_alim.reset_index(inplace= True)\n",
    "# On filtre la colonne produit pour ne garder que les données concernant la viande de volailles\n",
    "dispo_alim = dispo_alim[dispo_alim['Produit'] == 'Viande de Volailles']\n",
    "# On garde les colonnes utiles\n",
    "dispo_alim = dispo_alim[['Zone', \n",
    "                        'Exportations - Quantité', \n",
    "                        'Importations - Quantité', \n",
    "                        'Nourriture', \n",
    "                        'Production']]\n",
    "# renommer les colonnes\n",
    "dispo_alim.rename(columns={'Exportations - Quantité': 'Exportations Volailles (en milliers tonnes)',\n",
    "                            'Importations - Quantité': 'Importations Volailles (en milliers tonnes)',\n",
    "                            'Nourriture' : 'Nourritures (en milliers tonnes)',\n",
    "                            'Production' : 'Productions Volailles (en milliers tonnes)'}, \n",
    "                            inplace=True)\n",
    "\n",
    "dispo_alim"
   ]
  },
  {
   "cell_type": "markdown",
   "metadata": {},
   "source": [
    "- Maintenant que notre dataset est propre, on va regarder les variables dans le détail."
   ]
  },
  {
   "cell_type": "markdown",
   "metadata": {},
   "source": [
    "### 2.1.4 - Analyse univariée\n",
    "- Ici, on va s'intéresser plus particulièrement à chacune des variables."
   ]
  },
  {
   "cell_type": "markdown",
   "metadata": {},
   "source": [
    "#### Exportation\n",
    "\n",
    "- On réalise une description rapide."
   ]
  },
  {
   "cell_type": "code",
   "execution_count": 8,
   "metadata": {},
   "outputs": [
    {
     "name": "stdout",
     "output_type": "stream",
     "text": [
      "Description rapide\n",
      "--------------\n",
      "Count :                       172\n",
      "Moyenne :                     103.75\n",
      "Ecart type :                  458.07\n",
      "\n",
      "\n",
      "Minimum :                     0\n",
      "Quantile 25 % :               0.0\n",
      "Médiane :                     0.0\n",
      "Quantile 75 % :               12.0\n",
      "Maximum :                     4223\n",
      "\n",
      "\n",
      "Valeur la plus représentée :  0\n",
      "\n",
      "\n",
      "--------------\n"
     ]
    },
    {
     "data": {
      "application/vnd.plotly.v1+json": {
       "config": {
        "plotlyServerURL": "https://plot.ly"
       },
       "data": [
        {
         "alignmentgroup": "True",
         "bingroup": "x",
         "hovertemplate": "Exportations Volailles (en milliers tonnes)=%{x}<br>count=%{y}<extra></extra>",
         "legendgroup": "",
         "marker": {
          "color": "#636efa",
          "pattern": {
           "shape": ""
          }
         },
         "name": "",
         "nbinsx": 50,
         "offsetgroup": "",
         "orientation": "v",
         "showlegend": false,
         "type": "histogram",
         "x": [
          0,
          63,
          0,
          0,
          646,
          0,
          0,
          10,
          207,
          0,
          42,
          78,
          0,
          0,
          0,
          0,
          656,
          0,
          1,
          8,
          0,
          4223,
          45,
          0,
          152,
          0,
          0,
          0,
          0,
          163,
          115,
          663,
          0,
          8,
          576,
          1,
          2,
          0,
          3,
          17,
          0,
          0,
          139,
          0,
          0,
          2,
          212,
          11,
          0,
          0,
          12,
          501,
          115,
          0,
          0,
          0,
          0,
          29,
          7,
          0,
          0,
          0,
          5,
          0,
          1,
          210,
          4,
          0,
          45,
          0,
          93,
          0,
          3,
          183,
          1,
          10,
          10,
          6,
          0,
          0,
          0,
          4,
          0,
          20,
          4,
          0,
          68,
          1,
          1,
          0,
          44,
          0,
          0,
          0,
          0,
          1,
          0,
          0,
          9,
          0,
          0,
          0,
          0,
          12,
          0,
          0,
          0,
          0,
          0,
          23,
          0,
          16,
          0,
          0,
          4,
          0,
          4,
          1418,
          2,
          1025,
          0,
          44,
          1,
          69,
          359,
          0,
          0,
          6,
          0,
          6,
          0,
          0,
          0,
          0,
          0,
          0,
          0,
          0,
          7,
          0,
          35,
          29,
          0,
          2,
          4,
          5,
          23,
          0,
          0,
          0,
          27,
          796,
          0,
          0,
          0,
          4,
          0,
          429,
          273,
          3,
          0,
          0,
          1,
          0,
          1,
          0,
          1,
          94,
          0,
          3692,
          0,
          0
         ],
         "xaxis": "x",
         "yaxis": "y"
        },
        {
         "alignmentgroup": "True",
         "hovertemplate": "Exportations Volailles (en milliers tonnes)=%{x}<extra></extra>",
         "legendgroup": "",
         "marker": {
          "color": "#636efa"
         },
         "name": "",
         "notched": true,
         "offsetgroup": "",
         "showlegend": false,
         "type": "box",
         "x": [
          0,
          63,
          0,
          0,
          646,
          0,
          0,
          10,
          207,
          0,
          42,
          78,
          0,
          0,
          0,
          0,
          656,
          0,
          1,
          8,
          0,
          4223,
          45,
          0,
          152,
          0,
          0,
          0,
          0,
          163,
          115,
          663,
          0,
          8,
          576,
          1,
          2,
          0,
          3,
          17,
          0,
          0,
          139,
          0,
          0,
          2,
          212,
          11,
          0,
          0,
          12,
          501,
          115,
          0,
          0,
          0,
          0,
          29,
          7,
          0,
          0,
          0,
          5,
          0,
          1,
          210,
          4,
          0,
          45,
          0,
          93,
          0,
          3,
          183,
          1,
          10,
          10,
          6,
          0,
          0,
          0,
          4,
          0,
          20,
          4,
          0,
          68,
          1,
          1,
          0,
          44,
          0,
          0,
          0,
          0,
          1,
          0,
          0,
          9,
          0,
          0,
          0,
          0,
          12,
          0,
          0,
          0,
          0,
          0,
          23,
          0,
          16,
          0,
          0,
          4,
          0,
          4,
          1418,
          2,
          1025,
          0,
          44,
          1,
          69,
          359,
          0,
          0,
          6,
          0,
          6,
          0,
          0,
          0,
          0,
          0,
          0,
          0,
          0,
          7,
          0,
          35,
          29,
          0,
          2,
          4,
          5,
          23,
          0,
          0,
          0,
          27,
          796,
          0,
          0,
          0,
          4,
          0,
          429,
          273,
          3,
          0,
          0,
          1,
          0,
          1,
          0,
          1,
          94,
          0,
          3692,
          0,
          0
         ],
         "xaxis": "x2",
         "yaxis": "y2"
        }
       ],
       "layout": {
        "barmode": "relative",
        "height": 540,
        "legend": {
         "tracegroupgap": 0
        },
        "margin": {
         "t": 60
        },
        "template": {
         "data": {
          "bar": [
           {
            "error_x": {
             "color": "#f2f5fa"
            },
            "error_y": {
             "color": "#f2f5fa"
            },
            "marker": {
             "line": {
              "color": "rgb(17,17,17)",
              "width": 0.5
             },
             "pattern": {
              "fillmode": "overlay",
              "size": 10,
              "solidity": 0.2
             }
            },
            "type": "bar"
           }
          ],
          "barpolar": [
           {
            "marker": {
             "line": {
              "color": "rgb(17,17,17)",
              "width": 0.5
             },
             "pattern": {
              "fillmode": "overlay",
              "size": 10,
              "solidity": 0.2
             }
            },
            "type": "barpolar"
           }
          ],
          "carpet": [
           {
            "aaxis": {
             "endlinecolor": "#A2B1C6",
             "gridcolor": "#506784",
             "linecolor": "#506784",
             "minorgridcolor": "#506784",
             "startlinecolor": "#A2B1C6"
            },
            "baxis": {
             "endlinecolor": "#A2B1C6",
             "gridcolor": "#506784",
             "linecolor": "#506784",
             "minorgridcolor": "#506784",
             "startlinecolor": "#A2B1C6"
            },
            "type": "carpet"
           }
          ],
          "choropleth": [
           {
            "colorbar": {
             "outlinewidth": 0,
             "ticks": ""
            },
            "type": "choropleth"
           }
          ],
          "contour": [
           {
            "colorbar": {
             "outlinewidth": 0,
             "ticks": ""
            },
            "colorscale": [
             [
              0,
              "#0d0887"
             ],
             [
              0.1111111111111111,
              "#46039f"
             ],
             [
              0.2222222222222222,
              "#7201a8"
             ],
             [
              0.3333333333333333,
              "#9c179e"
             ],
             [
              0.4444444444444444,
              "#bd3786"
             ],
             [
              0.5555555555555556,
              "#d8576b"
             ],
             [
              0.6666666666666666,
              "#ed7953"
             ],
             [
              0.7777777777777778,
              "#fb9f3a"
             ],
             [
              0.8888888888888888,
              "#fdca26"
             ],
             [
              1,
              "#f0f921"
             ]
            ],
            "type": "contour"
           }
          ],
          "contourcarpet": [
           {
            "colorbar": {
             "outlinewidth": 0,
             "ticks": ""
            },
            "type": "contourcarpet"
           }
          ],
          "heatmap": [
           {
            "colorbar": {
             "outlinewidth": 0,
             "ticks": ""
            },
            "colorscale": [
             [
              0,
              "#0d0887"
             ],
             [
              0.1111111111111111,
              "#46039f"
             ],
             [
              0.2222222222222222,
              "#7201a8"
             ],
             [
              0.3333333333333333,
              "#9c179e"
             ],
             [
              0.4444444444444444,
              "#bd3786"
             ],
             [
              0.5555555555555556,
              "#d8576b"
             ],
             [
              0.6666666666666666,
              "#ed7953"
             ],
             [
              0.7777777777777778,
              "#fb9f3a"
             ],
             [
              0.8888888888888888,
              "#fdca26"
             ],
             [
              1,
              "#f0f921"
             ]
            ],
            "type": "heatmap"
           }
          ],
          "heatmapgl": [
           {
            "colorbar": {
             "outlinewidth": 0,
             "ticks": ""
            },
            "colorscale": [
             [
              0,
              "#0d0887"
             ],
             [
              0.1111111111111111,
              "#46039f"
             ],
             [
              0.2222222222222222,
              "#7201a8"
             ],
             [
              0.3333333333333333,
              "#9c179e"
             ],
             [
              0.4444444444444444,
              "#bd3786"
             ],
             [
              0.5555555555555556,
              "#d8576b"
             ],
             [
              0.6666666666666666,
              "#ed7953"
             ],
             [
              0.7777777777777778,
              "#fb9f3a"
             ],
             [
              0.8888888888888888,
              "#fdca26"
             ],
             [
              1,
              "#f0f921"
             ]
            ],
            "type": "heatmapgl"
           }
          ],
          "histogram": [
           {
            "marker": {
             "pattern": {
              "fillmode": "overlay",
              "size": 10,
              "solidity": 0.2
             }
            },
            "type": "histogram"
           }
          ],
          "histogram2d": [
           {
            "colorbar": {
             "outlinewidth": 0,
             "ticks": ""
            },
            "colorscale": [
             [
              0,
              "#0d0887"
             ],
             [
              0.1111111111111111,
              "#46039f"
             ],
             [
              0.2222222222222222,
              "#7201a8"
             ],
             [
              0.3333333333333333,
              "#9c179e"
             ],
             [
              0.4444444444444444,
              "#bd3786"
             ],
             [
              0.5555555555555556,
              "#d8576b"
             ],
             [
              0.6666666666666666,
              "#ed7953"
             ],
             [
              0.7777777777777778,
              "#fb9f3a"
             ],
             [
              0.8888888888888888,
              "#fdca26"
             ],
             [
              1,
              "#f0f921"
             ]
            ],
            "type": "histogram2d"
           }
          ],
          "histogram2dcontour": [
           {
            "colorbar": {
             "outlinewidth": 0,
             "ticks": ""
            },
            "colorscale": [
             [
              0,
              "#0d0887"
             ],
             [
              0.1111111111111111,
              "#46039f"
             ],
             [
              0.2222222222222222,
              "#7201a8"
             ],
             [
              0.3333333333333333,
              "#9c179e"
             ],
             [
              0.4444444444444444,
              "#bd3786"
             ],
             [
              0.5555555555555556,
              "#d8576b"
             ],
             [
              0.6666666666666666,
              "#ed7953"
             ],
             [
              0.7777777777777778,
              "#fb9f3a"
             ],
             [
              0.8888888888888888,
              "#fdca26"
             ],
             [
              1,
              "#f0f921"
             ]
            ],
            "type": "histogram2dcontour"
           }
          ],
          "mesh3d": [
           {
            "colorbar": {
             "outlinewidth": 0,
             "ticks": ""
            },
            "type": "mesh3d"
           }
          ],
          "parcoords": [
           {
            "line": {
             "colorbar": {
              "outlinewidth": 0,
              "ticks": ""
             }
            },
            "type": "parcoords"
           }
          ],
          "pie": [
           {
            "automargin": true,
            "type": "pie"
           }
          ],
          "scatter": [
           {
            "marker": {
             "line": {
              "color": "#283442"
             }
            },
            "type": "scatter"
           }
          ],
          "scatter3d": [
           {
            "line": {
             "colorbar": {
              "outlinewidth": 0,
              "ticks": ""
             }
            },
            "marker": {
             "colorbar": {
              "outlinewidth": 0,
              "ticks": ""
             }
            },
            "type": "scatter3d"
           }
          ],
          "scattercarpet": [
           {
            "marker": {
             "colorbar": {
              "outlinewidth": 0,
              "ticks": ""
             }
            },
            "type": "scattercarpet"
           }
          ],
          "scattergeo": [
           {
            "marker": {
             "colorbar": {
              "outlinewidth": 0,
              "ticks": ""
             }
            },
            "type": "scattergeo"
           }
          ],
          "scattergl": [
           {
            "marker": {
             "line": {
              "color": "#283442"
             }
            },
            "type": "scattergl"
           }
          ],
          "scattermapbox": [
           {
            "marker": {
             "colorbar": {
              "outlinewidth": 0,
              "ticks": ""
             }
            },
            "type": "scattermapbox"
           }
          ],
          "scatterpolar": [
           {
            "marker": {
             "colorbar": {
              "outlinewidth": 0,
              "ticks": ""
             }
            },
            "type": "scatterpolar"
           }
          ],
          "scatterpolargl": [
           {
            "marker": {
             "colorbar": {
              "outlinewidth": 0,
              "ticks": ""
             }
            },
            "type": "scatterpolargl"
           }
          ],
          "scatterternary": [
           {
            "marker": {
             "colorbar": {
              "outlinewidth": 0,
              "ticks": ""
             }
            },
            "type": "scatterternary"
           }
          ],
          "surface": [
           {
            "colorbar": {
             "outlinewidth": 0,
             "ticks": ""
            },
            "colorscale": [
             [
              0,
              "#0d0887"
             ],
             [
              0.1111111111111111,
              "#46039f"
             ],
             [
              0.2222222222222222,
              "#7201a8"
             ],
             [
              0.3333333333333333,
              "#9c179e"
             ],
             [
              0.4444444444444444,
              "#bd3786"
             ],
             [
              0.5555555555555556,
              "#d8576b"
             ],
             [
              0.6666666666666666,
              "#ed7953"
             ],
             [
              0.7777777777777778,
              "#fb9f3a"
             ],
             [
              0.8888888888888888,
              "#fdca26"
             ],
             [
              1,
              "#f0f921"
             ]
            ],
            "type": "surface"
           }
          ],
          "table": [
           {
            "cells": {
             "fill": {
              "color": "#506784"
             },
             "line": {
              "color": "rgb(17,17,17)"
             }
            },
            "header": {
             "fill": {
              "color": "#2a3f5f"
             },
             "line": {
              "color": "rgb(17,17,17)"
             }
            },
            "type": "table"
           }
          ]
         },
         "layout": {
          "annotationdefaults": {
           "arrowcolor": "#f2f5fa",
           "arrowhead": 0,
           "arrowwidth": 1
          },
          "autotypenumbers": "strict",
          "coloraxis": {
           "colorbar": {
            "outlinewidth": 0,
            "ticks": ""
           }
          },
          "colorscale": {
           "diverging": [
            [
             0,
             "#8e0152"
            ],
            [
             0.1,
             "#c51b7d"
            ],
            [
             0.2,
             "#de77ae"
            ],
            [
             0.3,
             "#f1b6da"
            ],
            [
             0.4,
             "#fde0ef"
            ],
            [
             0.5,
             "#f7f7f7"
            ],
            [
             0.6,
             "#e6f5d0"
            ],
            [
             0.7,
             "#b8e186"
            ],
            [
             0.8,
             "#7fbc41"
            ],
            [
             0.9,
             "#4d9221"
            ],
            [
             1,
             "#276419"
            ]
           ],
           "sequential": [
            [
             0,
             "#0d0887"
            ],
            [
             0.1111111111111111,
             "#46039f"
            ],
            [
             0.2222222222222222,
             "#7201a8"
            ],
            [
             0.3333333333333333,
             "#9c179e"
            ],
            [
             0.4444444444444444,
             "#bd3786"
            ],
            [
             0.5555555555555556,
             "#d8576b"
            ],
            [
             0.6666666666666666,
             "#ed7953"
            ],
            [
             0.7777777777777778,
             "#fb9f3a"
            ],
            [
             0.8888888888888888,
             "#fdca26"
            ],
            [
             1,
             "#f0f921"
            ]
           ],
           "sequentialminus": [
            [
             0,
             "#0d0887"
            ],
            [
             0.1111111111111111,
             "#46039f"
            ],
            [
             0.2222222222222222,
             "#7201a8"
            ],
            [
             0.3333333333333333,
             "#9c179e"
            ],
            [
             0.4444444444444444,
             "#bd3786"
            ],
            [
             0.5555555555555556,
             "#d8576b"
            ],
            [
             0.6666666666666666,
             "#ed7953"
            ],
            [
             0.7777777777777778,
             "#fb9f3a"
            ],
            [
             0.8888888888888888,
             "#fdca26"
            ],
            [
             1,
             "#f0f921"
            ]
           ]
          },
          "colorway": [
           "#636efa",
           "#EF553B",
           "#00cc96",
           "#ab63fa",
           "#FFA15A",
           "#19d3f3",
           "#FF6692",
           "#B6E880",
           "#FF97FF",
           "#FECB52"
          ],
          "font": {
           "color": "#f2f5fa"
          },
          "geo": {
           "bgcolor": "rgb(17,17,17)",
           "lakecolor": "rgb(17,17,17)",
           "landcolor": "rgb(17,17,17)",
           "showlakes": true,
           "showland": true,
           "subunitcolor": "#506784"
          },
          "hoverlabel": {
           "align": "left"
          },
          "hovermode": "closest",
          "mapbox": {
           "style": "dark"
          },
          "paper_bgcolor": "rgb(17,17,17)",
          "plot_bgcolor": "rgb(17,17,17)",
          "polar": {
           "angularaxis": {
            "gridcolor": "#506784",
            "linecolor": "#506784",
            "ticks": ""
           },
           "bgcolor": "rgb(17,17,17)",
           "radialaxis": {
            "gridcolor": "#506784",
            "linecolor": "#506784",
            "ticks": ""
           }
          },
          "scene": {
           "xaxis": {
            "backgroundcolor": "rgb(17,17,17)",
            "gridcolor": "#506784",
            "gridwidth": 2,
            "linecolor": "#506784",
            "showbackground": true,
            "ticks": "",
            "zerolinecolor": "#C8D4E3"
           },
           "yaxis": {
            "backgroundcolor": "rgb(17,17,17)",
            "gridcolor": "#506784",
            "gridwidth": 2,
            "linecolor": "#506784",
            "showbackground": true,
            "ticks": "",
            "zerolinecolor": "#C8D4E3"
           },
           "zaxis": {
            "backgroundcolor": "rgb(17,17,17)",
            "gridcolor": "#506784",
            "gridwidth": 2,
            "linecolor": "#506784",
            "showbackground": true,
            "ticks": "",
            "zerolinecolor": "#C8D4E3"
           }
          },
          "shapedefaults": {
           "line": {
            "color": "#f2f5fa"
           }
          },
          "sliderdefaults": {
           "bgcolor": "#C8D4E3",
           "bordercolor": "rgb(17,17,17)",
           "borderwidth": 1,
           "tickwidth": 0
          },
          "ternary": {
           "aaxis": {
            "gridcolor": "#506784",
            "linecolor": "#506784",
            "ticks": ""
           },
           "baxis": {
            "gridcolor": "#506784",
            "linecolor": "#506784",
            "ticks": ""
           },
           "bgcolor": "rgb(17,17,17)",
           "caxis": {
            "gridcolor": "#506784",
            "linecolor": "#506784",
            "ticks": ""
           }
          },
          "title": {
           "x": 0.05
          },
          "updatemenudefaults": {
           "bgcolor": "#506784",
           "borderwidth": 0
          },
          "xaxis": {
           "automargin": true,
           "gridcolor": "#283442",
           "linecolor": "#506784",
           "ticks": "",
           "title": {
            "standoff": 15
           },
           "zerolinecolor": "#283442",
           "zerolinewidth": 2
          },
          "yaxis": {
           "automargin": true,
           "gridcolor": "#283442",
           "linecolor": "#506784",
           "ticks": "",
           "title": {
            "standoff": 15
           },
           "zerolinecolor": "#283442",
           "zerolinewidth": 2
          }
         }
        },
        "title": {
         "text": "Dispersion des exportations"
        },
        "xaxis": {
         "anchor": "y",
         "domain": [
          0,
          1
         ],
         "linecolor": "#E0E2E5",
         "linewidth": 1,
         "showline": true,
         "title": {
          "text": "Exportations Vollailes (en milliers de tonnes)"
         }
        },
        "xaxis2": {
         "anchor": "y2",
         "domain": [
          0,
          1
         ],
         "linecolor": "#E0E2E5",
         "linewidth": 1,
         "matches": "x",
         "showgrid": true,
         "showline": true,
         "showticklabels": false
        },
        "yaxis": {
         "anchor": "x",
         "domain": [
          0,
          0.8316
         ],
         "title": {
          "text": "Count"
         }
        },
        "yaxis2": {
         "anchor": "x2",
         "domain": [
          0.8416,
          1
         ],
         "matches": "y2",
         "showgrid": false,
         "showline": false,
         "showticklabels": false,
         "ticks": ""
        }
       }
      }
     },
     "metadata": {},
     "output_type": "display_data"
    },
    {
     "name": "stdout",
     "output_type": "stream",
     "text": [
      "--------------------\n",
      "Évaluation de la distribution avec les coefficients d'assymétrie et de Kurtosis.\n",
      "Skewness: 7.3912924275999625\n",
      "Kurtosis: 59.95692289814235\n",
      "--------------------\n"
     ]
    }
   ],
   "source": [
    "analyse_univarie(dispo_alim, 'Exportations Volailles (en milliers tonnes)', 50, False, 'Dispersion des exportations', 'Exportations Vollailes (en milliers de tonnes)')"
   ]
  },
  {
   "cell_type": "markdown",
   "metadata": {},
   "source": [
    "- On voit que la grande partie des pays exporte peu de poulet entre **0** et **100 000 tonnes**, mais il y a quelques pays qui exportent plus de **1 000 000 tonnes** de poulet. Quels sont ces pays ?"
   ]
  },
  {
   "cell_type": "code",
   "execution_count": 9,
   "metadata": {},
   "outputs": [
    {
     "data": {
      "text/html": [
       "<div>\n",
       "<style scoped>\n",
       "    .dataframe tbody tr th:only-of-type {\n",
       "        vertical-align: middle;\n",
       "    }\n",
       "\n",
       "    .dataframe tbody tr th {\n",
       "        vertical-align: top;\n",
       "    }\n",
       "\n",
       "    .dataframe thead th {\n",
       "        text-align: right;\n",
       "    }\n",
       "</style>\n",
       "<table border=\"1\" class=\"dataframe\">\n",
       "  <thead>\n",
       "    <tr style=\"text-align: right;\">\n",
       "      <th>Élément</th>\n",
       "      <th>Zone</th>\n",
       "      <th>Exportations Volailles (en milliers tonnes)</th>\n",
       "      <th>Importations Volailles (en milliers tonnes)</th>\n",
       "      <th>Nourritures (en milliers tonnes)</th>\n",
       "      <th>Productions Volailles (en milliers tonnes)</th>\n",
       "    </tr>\n",
       "  </thead>\n",
       "  <tbody>\n",
       "    <tr>\n",
       "      <th>2073</th>\n",
       "      <td>Brésil</td>\n",
       "      <td>4223</td>\n",
       "      <td>3</td>\n",
       "      <td>9982</td>\n",
       "      <td>14201</td>\n",
       "    </tr>\n",
       "    <tr>\n",
       "      <th>11036</th>\n",
       "      <td>Pays-Bas</td>\n",
       "      <td>1418</td>\n",
       "      <td>608</td>\n",
       "      <td>346</td>\n",
       "      <td>1100</td>\n",
       "    </tr>\n",
       "    <tr>\n",
       "      <th>11227</th>\n",
       "      <td>Pologne</td>\n",
       "      <td>1025</td>\n",
       "      <td>55</td>\n",
       "      <td>1150</td>\n",
       "      <td>2351</td>\n",
       "    </tr>\n",
       "    <tr>\n",
       "      <th>15860</th>\n",
       "      <td>États-Unis d'Amérique</td>\n",
       "      <td>3692</td>\n",
       "      <td>123</td>\n",
       "      <td>18100</td>\n",
       "      <td>21914</td>\n",
       "    </tr>\n",
       "  </tbody>\n",
       "</table>\n",
       "</div>"
      ],
      "text/plain": [
       "Élément                   Zone  Exportations Volailles (en milliers tonnes)  \\\n",
       "2073                    Brésil                                         4223   \n",
       "11036                 Pays-Bas                                         1418   \n",
       "11227                  Pologne                                         1025   \n",
       "15860    États-Unis d'Amérique                                         3692   \n",
       "\n",
       "Élément  Importations Volailles (en milliers tonnes)  \\\n",
       "2073                                               3   \n",
       "11036                                            608   \n",
       "11227                                             55   \n",
       "15860                                            123   \n",
       "\n",
       "Élément  Nourritures (en milliers tonnes)  \\\n",
       "2073                                 9982   \n",
       "11036                                 346   \n",
       "11227                                1150   \n",
       "15860                               18100   \n",
       "\n",
       "Élément  Productions Volailles (en milliers tonnes)  \n",
       "2073                                          14201  \n",
       "11036                                          1100  \n",
       "11227                                          2351  \n",
       "15860                                         21914  "
      ]
     },
     "execution_count": 9,
     "metadata": {},
     "output_type": "execute_result"
    }
   ],
   "source": [
    "dispo_alim[dispo_alim['Exportations Volailles (en milliers tonnes)'] > 1000 ]"
   ]
  },
  {
   "cell_type": "markdown",
   "metadata": {},
   "source": [
    "- D'après le tableau précedent on a maintenant **les 4 pays** qui exportent le plus de viande de volaille au monde."
   ]
  },
  {
   "cell_type": "markdown",
   "metadata": {},
   "source": [
    "#### Importation\n",
    "\n",
    "- On réalise une description rapide."
   ]
  },
  {
   "cell_type": "code",
   "execution_count": 10,
   "metadata": {},
   "outputs": [
    {
     "name": "stdout",
     "output_type": "stream",
     "text": [
      "Description rapide\n",
      "--------------\n",
      "Count :                       172\n",
      "Moyenne :                     88.49\n",
      "Ecart type :                  185.82\n",
      "\n",
      "\n",
      "Minimum :                     0\n",
      "Quantile 25 % :               3.0\n",
      "Médiane :                     16.0\n",
      "Quantile 75 % :               79.75\n",
      "Maximum :                     1069\n",
      "\n",
      "\n",
      "Valeur la plus représentée :  0\n",
      "\n",
      "\n",
      "--------------\n"
     ]
    },
    {
     "data": {
      "application/vnd.plotly.v1+json": {
       "config": {
        "plotlyServerURL": "https://plot.ly"
       },
       "data": [
        {
         "alignmentgroup": "True",
         "bingroup": "x",
         "hovertemplate": "Importations Volailles (en milliers tonnes)=%{x}<br>count=%{y}<extra></extra>",
         "legendgroup": "",
         "marker": {
          "color": "#636efa",
          "pattern": {
           "shape": ""
          }
         },
         "name": "",
         "nbinsx": 50,
         "offsetgroup": "",
         "orientation": "v",
         "showlegend": false,
         "type": "histogram",
         "x": [
          29,
          514,
          38,
          2,
          842,
          277,
          7,
          722,
          8,
          35,
          16,
          110,
          27,
          24,
          0,
          2,
          338,
          0,
          1,
          10,
          3,
          3,
          108,
          0,
          21,
          123,
          12,
          10,
          0,
          182,
          155,
          907,
          23,
          161,
          452,
          14,
          78,
          104,
          17,
          24,
          312,
          7,
          133,
          3,
          4,
          16,
          205,
          21,
          2,
          3,
          16,
          506,
          226,
          76,
          16,
          151,
          7,
          79,
          129,
          37,
          4,
          0,
          51,
          89,
          12,
          58,
          0,
          1,
          6,
          470,
          99,
          2,
          0,
          97,
          31,
          1069,
          64,
          174,
          0,
          25,
          1,
          137,
          15,
          43,
          13,
          48,
          44,
          11,
          40,
          0,
          68,
          0,
          12,
          1,
          9,
          3,
          2,
          24,
          972,
          10,
          8,
          24,
          3,
          29,
          6,
          3,
          0,
          2,
          9,
          1,
          0,
          126,
          0,
          0,
          2,
          20,
          1,
          608,
          249,
          55,
          15,
          82,
          60,
          146,
          779,
          0,
          4,
          137,
          16,
          42,
          0,
          0,
          2,
          4,
          9,
          10,
          17,
          2,
          12,
          14,
          63,
          20,
          2,
          0,
          51,
          18,
          84,
          0,
          38,
          1,
          116,
          2,
          11,
          16,
          23,
          0,
          9,
          3,
          121,
          3,
          4,
          25,
          291,
          78,
          12,
          6,
          110,
          433,
          0,
          123,
          1,
          6
         ],
         "xaxis": "x",
         "yaxis": "y"
        },
        {
         "alignmentgroup": "True",
         "hovertemplate": "Importations Volailles (en milliers tonnes)=%{x}<extra></extra>",
         "legendgroup": "",
         "marker": {
          "color": "#636efa"
         },
         "name": "",
         "notched": true,
         "offsetgroup": "",
         "showlegend": false,
         "type": "box",
         "x": [
          29,
          514,
          38,
          2,
          842,
          277,
          7,
          722,
          8,
          35,
          16,
          110,
          27,
          24,
          0,
          2,
          338,
          0,
          1,
          10,
          3,
          3,
          108,
          0,
          21,
          123,
          12,
          10,
          0,
          182,
          155,
          907,
          23,
          161,
          452,
          14,
          78,
          104,
          17,
          24,
          312,
          7,
          133,
          3,
          4,
          16,
          205,
          21,
          2,
          3,
          16,
          506,
          226,
          76,
          16,
          151,
          7,
          79,
          129,
          37,
          4,
          0,
          51,
          89,
          12,
          58,
          0,
          1,
          6,
          470,
          99,
          2,
          0,
          97,
          31,
          1069,
          64,
          174,
          0,
          25,
          1,
          137,
          15,
          43,
          13,
          48,
          44,
          11,
          40,
          0,
          68,
          0,
          12,
          1,
          9,
          3,
          2,
          24,
          972,
          10,
          8,
          24,
          3,
          29,
          6,
          3,
          0,
          2,
          9,
          1,
          0,
          126,
          0,
          0,
          2,
          20,
          1,
          608,
          249,
          55,
          15,
          82,
          60,
          146,
          779,
          0,
          4,
          137,
          16,
          42,
          0,
          0,
          2,
          4,
          9,
          10,
          17,
          2,
          12,
          14,
          63,
          20,
          2,
          0,
          51,
          18,
          84,
          0,
          38,
          1,
          116,
          2,
          11,
          16,
          23,
          0,
          9,
          3,
          121,
          3,
          4,
          25,
          291,
          78,
          12,
          6,
          110,
          433,
          0,
          123,
          1,
          6
         ],
         "xaxis": "x2",
         "yaxis": "y2"
        }
       ],
       "layout": {
        "barmode": "relative",
        "height": 540,
        "legend": {
         "tracegroupgap": 0
        },
        "margin": {
         "t": 60
        },
        "template": {
         "data": {
          "bar": [
           {
            "error_x": {
             "color": "#f2f5fa"
            },
            "error_y": {
             "color": "#f2f5fa"
            },
            "marker": {
             "line": {
              "color": "rgb(17,17,17)",
              "width": 0.5
             },
             "pattern": {
              "fillmode": "overlay",
              "size": 10,
              "solidity": 0.2
             }
            },
            "type": "bar"
           }
          ],
          "barpolar": [
           {
            "marker": {
             "line": {
              "color": "rgb(17,17,17)",
              "width": 0.5
             },
             "pattern": {
              "fillmode": "overlay",
              "size": 10,
              "solidity": 0.2
             }
            },
            "type": "barpolar"
           }
          ],
          "carpet": [
           {
            "aaxis": {
             "endlinecolor": "#A2B1C6",
             "gridcolor": "#506784",
             "linecolor": "#506784",
             "minorgridcolor": "#506784",
             "startlinecolor": "#A2B1C6"
            },
            "baxis": {
             "endlinecolor": "#A2B1C6",
             "gridcolor": "#506784",
             "linecolor": "#506784",
             "minorgridcolor": "#506784",
             "startlinecolor": "#A2B1C6"
            },
            "type": "carpet"
           }
          ],
          "choropleth": [
           {
            "colorbar": {
             "outlinewidth": 0,
             "ticks": ""
            },
            "type": "choropleth"
           }
          ],
          "contour": [
           {
            "colorbar": {
             "outlinewidth": 0,
             "ticks": ""
            },
            "colorscale": [
             [
              0,
              "#0d0887"
             ],
             [
              0.1111111111111111,
              "#46039f"
             ],
             [
              0.2222222222222222,
              "#7201a8"
             ],
             [
              0.3333333333333333,
              "#9c179e"
             ],
             [
              0.4444444444444444,
              "#bd3786"
             ],
             [
              0.5555555555555556,
              "#d8576b"
             ],
             [
              0.6666666666666666,
              "#ed7953"
             ],
             [
              0.7777777777777778,
              "#fb9f3a"
             ],
             [
              0.8888888888888888,
              "#fdca26"
             ],
             [
              1,
              "#f0f921"
             ]
            ],
            "type": "contour"
           }
          ],
          "contourcarpet": [
           {
            "colorbar": {
             "outlinewidth": 0,
             "ticks": ""
            },
            "type": "contourcarpet"
           }
          ],
          "heatmap": [
           {
            "colorbar": {
             "outlinewidth": 0,
             "ticks": ""
            },
            "colorscale": [
             [
              0,
              "#0d0887"
             ],
             [
              0.1111111111111111,
              "#46039f"
             ],
             [
              0.2222222222222222,
              "#7201a8"
             ],
             [
              0.3333333333333333,
              "#9c179e"
             ],
             [
              0.4444444444444444,
              "#bd3786"
             ],
             [
              0.5555555555555556,
              "#d8576b"
             ],
             [
              0.6666666666666666,
              "#ed7953"
             ],
             [
              0.7777777777777778,
              "#fb9f3a"
             ],
             [
              0.8888888888888888,
              "#fdca26"
             ],
             [
              1,
              "#f0f921"
             ]
            ],
            "type": "heatmap"
           }
          ],
          "heatmapgl": [
           {
            "colorbar": {
             "outlinewidth": 0,
             "ticks": ""
            },
            "colorscale": [
             [
              0,
              "#0d0887"
             ],
             [
              0.1111111111111111,
              "#46039f"
             ],
             [
              0.2222222222222222,
              "#7201a8"
             ],
             [
              0.3333333333333333,
              "#9c179e"
             ],
             [
              0.4444444444444444,
              "#bd3786"
             ],
             [
              0.5555555555555556,
              "#d8576b"
             ],
             [
              0.6666666666666666,
              "#ed7953"
             ],
             [
              0.7777777777777778,
              "#fb9f3a"
             ],
             [
              0.8888888888888888,
              "#fdca26"
             ],
             [
              1,
              "#f0f921"
             ]
            ],
            "type": "heatmapgl"
           }
          ],
          "histogram": [
           {
            "marker": {
             "pattern": {
              "fillmode": "overlay",
              "size": 10,
              "solidity": 0.2
             }
            },
            "type": "histogram"
           }
          ],
          "histogram2d": [
           {
            "colorbar": {
             "outlinewidth": 0,
             "ticks": ""
            },
            "colorscale": [
             [
              0,
              "#0d0887"
             ],
             [
              0.1111111111111111,
              "#46039f"
             ],
             [
              0.2222222222222222,
              "#7201a8"
             ],
             [
              0.3333333333333333,
              "#9c179e"
             ],
             [
              0.4444444444444444,
              "#bd3786"
             ],
             [
              0.5555555555555556,
              "#d8576b"
             ],
             [
              0.6666666666666666,
              "#ed7953"
             ],
             [
              0.7777777777777778,
              "#fb9f3a"
             ],
             [
              0.8888888888888888,
              "#fdca26"
             ],
             [
              1,
              "#f0f921"
             ]
            ],
            "type": "histogram2d"
           }
          ],
          "histogram2dcontour": [
           {
            "colorbar": {
             "outlinewidth": 0,
             "ticks": ""
            },
            "colorscale": [
             [
              0,
              "#0d0887"
             ],
             [
              0.1111111111111111,
              "#46039f"
             ],
             [
              0.2222222222222222,
              "#7201a8"
             ],
             [
              0.3333333333333333,
              "#9c179e"
             ],
             [
              0.4444444444444444,
              "#bd3786"
             ],
             [
              0.5555555555555556,
              "#d8576b"
             ],
             [
              0.6666666666666666,
              "#ed7953"
             ],
             [
              0.7777777777777778,
              "#fb9f3a"
             ],
             [
              0.8888888888888888,
              "#fdca26"
             ],
             [
              1,
              "#f0f921"
             ]
            ],
            "type": "histogram2dcontour"
           }
          ],
          "mesh3d": [
           {
            "colorbar": {
             "outlinewidth": 0,
             "ticks": ""
            },
            "type": "mesh3d"
           }
          ],
          "parcoords": [
           {
            "line": {
             "colorbar": {
              "outlinewidth": 0,
              "ticks": ""
             }
            },
            "type": "parcoords"
           }
          ],
          "pie": [
           {
            "automargin": true,
            "type": "pie"
           }
          ],
          "scatter": [
           {
            "marker": {
             "line": {
              "color": "#283442"
             }
            },
            "type": "scatter"
           }
          ],
          "scatter3d": [
           {
            "line": {
             "colorbar": {
              "outlinewidth": 0,
              "ticks": ""
             }
            },
            "marker": {
             "colorbar": {
              "outlinewidth": 0,
              "ticks": ""
             }
            },
            "type": "scatter3d"
           }
          ],
          "scattercarpet": [
           {
            "marker": {
             "colorbar": {
              "outlinewidth": 0,
              "ticks": ""
             }
            },
            "type": "scattercarpet"
           }
          ],
          "scattergeo": [
           {
            "marker": {
             "colorbar": {
              "outlinewidth": 0,
              "ticks": ""
             }
            },
            "type": "scattergeo"
           }
          ],
          "scattergl": [
           {
            "marker": {
             "line": {
              "color": "#283442"
             }
            },
            "type": "scattergl"
           }
          ],
          "scattermapbox": [
           {
            "marker": {
             "colorbar": {
              "outlinewidth": 0,
              "ticks": ""
             }
            },
            "type": "scattermapbox"
           }
          ],
          "scatterpolar": [
           {
            "marker": {
             "colorbar": {
              "outlinewidth": 0,
              "ticks": ""
             }
            },
            "type": "scatterpolar"
           }
          ],
          "scatterpolargl": [
           {
            "marker": {
             "colorbar": {
              "outlinewidth": 0,
              "ticks": ""
             }
            },
            "type": "scatterpolargl"
           }
          ],
          "scatterternary": [
           {
            "marker": {
             "colorbar": {
              "outlinewidth": 0,
              "ticks": ""
             }
            },
            "type": "scatterternary"
           }
          ],
          "surface": [
           {
            "colorbar": {
             "outlinewidth": 0,
             "ticks": ""
            },
            "colorscale": [
             [
              0,
              "#0d0887"
             ],
             [
              0.1111111111111111,
              "#46039f"
             ],
             [
              0.2222222222222222,
              "#7201a8"
             ],
             [
              0.3333333333333333,
              "#9c179e"
             ],
             [
              0.4444444444444444,
              "#bd3786"
             ],
             [
              0.5555555555555556,
              "#d8576b"
             ],
             [
              0.6666666666666666,
              "#ed7953"
             ],
             [
              0.7777777777777778,
              "#fb9f3a"
             ],
             [
              0.8888888888888888,
              "#fdca26"
             ],
             [
              1,
              "#f0f921"
             ]
            ],
            "type": "surface"
           }
          ],
          "table": [
           {
            "cells": {
             "fill": {
              "color": "#506784"
             },
             "line": {
              "color": "rgb(17,17,17)"
             }
            },
            "header": {
             "fill": {
              "color": "#2a3f5f"
             },
             "line": {
              "color": "rgb(17,17,17)"
             }
            },
            "type": "table"
           }
          ]
         },
         "layout": {
          "annotationdefaults": {
           "arrowcolor": "#f2f5fa",
           "arrowhead": 0,
           "arrowwidth": 1
          },
          "autotypenumbers": "strict",
          "coloraxis": {
           "colorbar": {
            "outlinewidth": 0,
            "ticks": ""
           }
          },
          "colorscale": {
           "diverging": [
            [
             0,
             "#8e0152"
            ],
            [
             0.1,
             "#c51b7d"
            ],
            [
             0.2,
             "#de77ae"
            ],
            [
             0.3,
             "#f1b6da"
            ],
            [
             0.4,
             "#fde0ef"
            ],
            [
             0.5,
             "#f7f7f7"
            ],
            [
             0.6,
             "#e6f5d0"
            ],
            [
             0.7,
             "#b8e186"
            ],
            [
             0.8,
             "#7fbc41"
            ],
            [
             0.9,
             "#4d9221"
            ],
            [
             1,
             "#276419"
            ]
           ],
           "sequential": [
            [
             0,
             "#0d0887"
            ],
            [
             0.1111111111111111,
             "#46039f"
            ],
            [
             0.2222222222222222,
             "#7201a8"
            ],
            [
             0.3333333333333333,
             "#9c179e"
            ],
            [
             0.4444444444444444,
             "#bd3786"
            ],
            [
             0.5555555555555556,
             "#d8576b"
            ],
            [
             0.6666666666666666,
             "#ed7953"
            ],
            [
             0.7777777777777778,
             "#fb9f3a"
            ],
            [
             0.8888888888888888,
             "#fdca26"
            ],
            [
             1,
             "#f0f921"
            ]
           ],
           "sequentialminus": [
            [
             0,
             "#0d0887"
            ],
            [
             0.1111111111111111,
             "#46039f"
            ],
            [
             0.2222222222222222,
             "#7201a8"
            ],
            [
             0.3333333333333333,
             "#9c179e"
            ],
            [
             0.4444444444444444,
             "#bd3786"
            ],
            [
             0.5555555555555556,
             "#d8576b"
            ],
            [
             0.6666666666666666,
             "#ed7953"
            ],
            [
             0.7777777777777778,
             "#fb9f3a"
            ],
            [
             0.8888888888888888,
             "#fdca26"
            ],
            [
             1,
             "#f0f921"
            ]
           ]
          },
          "colorway": [
           "#636efa",
           "#EF553B",
           "#00cc96",
           "#ab63fa",
           "#FFA15A",
           "#19d3f3",
           "#FF6692",
           "#B6E880",
           "#FF97FF",
           "#FECB52"
          ],
          "font": {
           "color": "#f2f5fa"
          },
          "geo": {
           "bgcolor": "rgb(17,17,17)",
           "lakecolor": "rgb(17,17,17)",
           "landcolor": "rgb(17,17,17)",
           "showlakes": true,
           "showland": true,
           "subunitcolor": "#506784"
          },
          "hoverlabel": {
           "align": "left"
          },
          "hovermode": "closest",
          "mapbox": {
           "style": "dark"
          },
          "paper_bgcolor": "rgb(17,17,17)",
          "plot_bgcolor": "rgb(17,17,17)",
          "polar": {
           "angularaxis": {
            "gridcolor": "#506784",
            "linecolor": "#506784",
            "ticks": ""
           },
           "bgcolor": "rgb(17,17,17)",
           "radialaxis": {
            "gridcolor": "#506784",
            "linecolor": "#506784",
            "ticks": ""
           }
          },
          "scene": {
           "xaxis": {
            "backgroundcolor": "rgb(17,17,17)",
            "gridcolor": "#506784",
            "gridwidth": 2,
            "linecolor": "#506784",
            "showbackground": true,
            "ticks": "",
            "zerolinecolor": "#C8D4E3"
           },
           "yaxis": {
            "backgroundcolor": "rgb(17,17,17)",
            "gridcolor": "#506784",
            "gridwidth": 2,
            "linecolor": "#506784",
            "showbackground": true,
            "ticks": "",
            "zerolinecolor": "#C8D4E3"
           },
           "zaxis": {
            "backgroundcolor": "rgb(17,17,17)",
            "gridcolor": "#506784",
            "gridwidth": 2,
            "linecolor": "#506784",
            "showbackground": true,
            "ticks": "",
            "zerolinecolor": "#C8D4E3"
           }
          },
          "shapedefaults": {
           "line": {
            "color": "#f2f5fa"
           }
          },
          "sliderdefaults": {
           "bgcolor": "#C8D4E3",
           "bordercolor": "rgb(17,17,17)",
           "borderwidth": 1,
           "tickwidth": 0
          },
          "ternary": {
           "aaxis": {
            "gridcolor": "#506784",
            "linecolor": "#506784",
            "ticks": ""
           },
           "baxis": {
            "gridcolor": "#506784",
            "linecolor": "#506784",
            "ticks": ""
           },
           "bgcolor": "rgb(17,17,17)",
           "caxis": {
            "gridcolor": "#506784",
            "linecolor": "#506784",
            "ticks": ""
           }
          },
          "title": {
           "x": 0.05
          },
          "updatemenudefaults": {
           "bgcolor": "#506784",
           "borderwidth": 0
          },
          "xaxis": {
           "automargin": true,
           "gridcolor": "#283442",
           "linecolor": "#506784",
           "ticks": "",
           "title": {
            "standoff": 15
           },
           "zerolinecolor": "#283442",
           "zerolinewidth": 2
          },
          "yaxis": {
           "automargin": true,
           "gridcolor": "#283442",
           "linecolor": "#506784",
           "ticks": "",
           "title": {
            "standoff": 15
           },
           "zerolinecolor": "#283442",
           "zerolinewidth": 2
          }
         }
        },
        "title": {
         "text": "Dispersions des importations"
        },
        "xaxis": {
         "anchor": "y",
         "domain": [
          0,
          1
         ],
         "linecolor": "#E0E2E5",
         "linewidth": 1,
         "showline": true,
         "title": {
          "text": "Importations Vollailes (en milliers tonnes)"
         }
        },
        "xaxis2": {
         "anchor": "y2",
         "domain": [
          0,
          1
         ],
         "linecolor": "#E0E2E5",
         "linewidth": 1,
         "matches": "x",
         "showgrid": true,
         "showline": true,
         "showticklabels": false
        },
        "yaxis": {
         "anchor": "x",
         "domain": [
          0,
          0.8316
         ],
         "title": {
          "text": "Count"
         }
        },
        "yaxis2": {
         "anchor": "x2",
         "domain": [
          0.8416,
          1
         ],
         "matches": "y2",
         "showgrid": false,
         "showline": false,
         "showticklabels": false,
         "ticks": ""
        }
       }
      }
     },
     "metadata": {},
     "output_type": "display_data"
    },
    {
     "name": "stdout",
     "output_type": "stream",
     "text": [
      "--------------------\n",
      "Évaluation de la distribution avec les coefficients d'assymétrie et de Kurtosis.\n",
      "Skewness: 3.3389744604199065\n",
      "Kurtosis: 11.66500629821301\n",
      "--------------------\n"
     ]
    }
   ],
   "source": [
    "analyse_univarie(dispo_alim, 'Importations Volailles (en milliers tonnes)', 50, False, 'Dispersions des importations', 'Importations Vollailes (en milliers tonnes)')"
   ]
  },
  {
   "cell_type": "markdown",
   "metadata": {},
   "source": [
    "- On peut voir qu'une grande partie des pays importe moins de **400 000 tonnes** de poulet, mais que quelques pays importe plus de **400 000 tonnes** . \n",
    "- On va voir maintenant quels sont ces pays qui importent plus de poulet que les autres."
   ]
  },
  {
   "cell_type": "code",
   "execution_count": 11,
   "metadata": {},
   "outputs": [
    {
     "data": {
      "text/html": [
       "<div>\n",
       "<style scoped>\n",
       "    .dataframe tbody tr th:only-of-type {\n",
       "        vertical-align: middle;\n",
       "    }\n",
       "\n",
       "    .dataframe tbody tr th {\n",
       "        vertical-align: top;\n",
       "    }\n",
       "\n",
       "    .dataframe thead th {\n",
       "        text-align: right;\n",
       "    }\n",
       "</style>\n",
       "<table border=\"1\" class=\"dataframe\">\n",
       "  <thead>\n",
       "    <tr style=\"text-align: right;\">\n",
       "      <th>Élément</th>\n",
       "      <th>Zone</th>\n",
       "      <th>Exportations Volailles (en milliers tonnes)</th>\n",
       "      <th>Importations Volailles (en milliers tonnes)</th>\n",
       "      <th>Nourritures (en milliers tonnes)</th>\n",
       "      <th>Productions Volailles (en milliers tonnes)</th>\n",
       "    </tr>\n",
       "  </thead>\n",
       "  <tbody>\n",
       "    <tr>\n",
       "      <th>173</th>\n",
       "      <td>Afrique du Sud</td>\n",
       "      <td>63</td>\n",
       "      <td>514</td>\n",
       "      <td>2035</td>\n",
       "      <td>1667</td>\n",
       "    </tr>\n",
       "    <tr>\n",
       "      <th>452</th>\n",
       "      <td>Allemagne</td>\n",
       "      <td>646</td>\n",
       "      <td>842</td>\n",
       "      <td>1609</td>\n",
       "      <td>1514</td>\n",
       "    </tr>\n",
       "    <tr>\n",
       "      <th>735</th>\n",
       "      <td>Arabie saoudite</td>\n",
       "      <td>10</td>\n",
       "      <td>722</td>\n",
       "      <td>1435</td>\n",
       "      <td>616</td>\n",
       "    </tr>\n",
       "    <tr>\n",
       "      <th>3014</th>\n",
       "      <td>Chine - RAS de Hong-Kong</td>\n",
       "      <td>663</td>\n",
       "      <td>907</td>\n",
       "      <td>391</td>\n",
       "      <td>24</td>\n",
       "    </tr>\n",
       "    <tr>\n",
       "      <th>3298</th>\n",
       "      <td>Chine, continentale</td>\n",
       "      <td>576</td>\n",
       "      <td>452</td>\n",
       "      <td>17518</td>\n",
       "      <td>18236</td>\n",
       "    </tr>\n",
       "    <tr>\n",
       "      <th>4898</th>\n",
       "      <td>France</td>\n",
       "      <td>501</td>\n",
       "      <td>506</td>\n",
       "      <td>1485</td>\n",
       "      <td>1750</td>\n",
       "    </tr>\n",
       "    <tr>\n",
       "      <th>6572</th>\n",
       "      <td>Iraq</td>\n",
       "      <td>0</td>\n",
       "      <td>470</td>\n",
       "      <td>561</td>\n",
       "      <td>96</td>\n",
       "    </tr>\n",
       "    <tr>\n",
       "      <th>7143</th>\n",
       "      <td>Japon</td>\n",
       "      <td>10</td>\n",
       "      <td>1069</td>\n",
       "      <td>2359</td>\n",
       "      <td>2215</td>\n",
       "    </tr>\n",
       "    <tr>\n",
       "      <th>9259</th>\n",
       "      <td>Mexique</td>\n",
       "      <td>9</td>\n",
       "      <td>972</td>\n",
       "      <td>4058</td>\n",
       "      <td>3249</td>\n",
       "    </tr>\n",
       "    <tr>\n",
       "      <th>11036</th>\n",
       "      <td>Pays-Bas</td>\n",
       "      <td>1418</td>\n",
       "      <td>608</td>\n",
       "      <td>346</td>\n",
       "      <td>1100</td>\n",
       "    </tr>\n",
       "    <tr>\n",
       "      <th>11696</th>\n",
       "      <td>Royaume-Uni de Grande-Bretagne et d'Irlande du...</td>\n",
       "      <td>359</td>\n",
       "      <td>779</td>\n",
       "      <td>2131</td>\n",
       "      <td>1814</td>\n",
       "    </tr>\n",
       "    <tr>\n",
       "      <th>15668</th>\n",
       "      <td>Émirats arabes unis</td>\n",
       "      <td>94</td>\n",
       "      <td>433</td>\n",
       "      <td>412</td>\n",
       "      <td>48</td>\n",
       "    </tr>\n",
       "  </tbody>\n",
       "</table>\n",
       "</div>"
      ],
      "text/plain": [
       "Élément                                               Zone  \\\n",
       "173                                         Afrique du Sud   \n",
       "452                                              Allemagne   \n",
       "735                                        Arabie saoudite   \n",
       "3014                              Chine - RAS de Hong-Kong   \n",
       "3298                                   Chine, continentale   \n",
       "4898                                                France   \n",
       "6572                                                  Iraq   \n",
       "7143                                                 Japon   \n",
       "9259                                               Mexique   \n",
       "11036                                             Pays-Bas   \n",
       "11696    Royaume-Uni de Grande-Bretagne et d'Irlande du...   \n",
       "15668                                  Émirats arabes unis   \n",
       "\n",
       "Élément  Exportations Volailles (en milliers tonnes)  \\\n",
       "173                                               63   \n",
       "452                                              646   \n",
       "735                                               10   \n",
       "3014                                             663   \n",
       "3298                                             576   \n",
       "4898                                             501   \n",
       "6572                                               0   \n",
       "7143                                              10   \n",
       "9259                                               9   \n",
       "11036                                           1418   \n",
       "11696                                            359   \n",
       "15668                                             94   \n",
       "\n",
       "Élément  Importations Volailles (en milliers tonnes)  \\\n",
       "173                                              514   \n",
       "452                                              842   \n",
       "735                                              722   \n",
       "3014                                             907   \n",
       "3298                                             452   \n",
       "4898                                             506   \n",
       "6572                                             470   \n",
       "7143                                            1069   \n",
       "9259                                             972   \n",
       "11036                                            608   \n",
       "11696                                            779   \n",
       "15668                                            433   \n",
       "\n",
       "Élément  Nourritures (en milliers tonnes)  \\\n",
       "173                                  2035   \n",
       "452                                  1609   \n",
       "735                                  1435   \n",
       "3014                                  391   \n",
       "3298                                17518   \n",
       "4898                                 1485   \n",
       "6572                                  561   \n",
       "7143                                 2359   \n",
       "9259                                 4058   \n",
       "11036                                 346   \n",
       "11696                                2131   \n",
       "15668                                 412   \n",
       "\n",
       "Élément  Productions Volailles (en milliers tonnes)  \n",
       "173                                            1667  \n",
       "452                                            1514  \n",
       "735                                             616  \n",
       "3014                                             24  \n",
       "3298                                          18236  \n",
       "4898                                           1750  \n",
       "6572                                             96  \n",
       "7143                                           2215  \n",
       "9259                                           3249  \n",
       "11036                                          1100  \n",
       "11696                                          1814  \n",
       "15668                                            48  "
      ]
     },
     "execution_count": 11,
     "metadata": {},
     "output_type": "execute_result"
    }
   ],
   "source": [
    "dispo_alim[dispo_alim['Importations Volailles (en milliers tonnes)'] > 400 ]"
   ]
  },
  {
   "cell_type": "markdown",
   "metadata": {},
   "source": [
    "- On a **12 pays** qui importent le plus de viande de volaille au monde."
   ]
  },
  {
   "cell_type": "markdown",
   "metadata": {},
   "source": [
    "#### Nourriture"
   ]
  },
  {
   "cell_type": "code",
   "execution_count": 12,
   "metadata": {},
   "outputs": [
    {
     "name": "stdout",
     "output_type": "stream",
     "text": [
      "Description rapide\n",
      "--------------\n",
      "Count :                       172\n",
      "Moyenne :                     649.41\n",
      "Ecart type :                  2125.19\n",
      "\n",
      "\n",
      "Minimum :                     0\n",
      "Quantile 25 % :               27.5\n",
      "Médiane :                     94.5\n",
      "Quantile 75 % :               353.75\n",
      "Maximum :                     18100\n",
      "\n",
      "\n",
      "Valeur la plus représentée :  3\n",
      "\n",
      "\n",
      "--------------\n"
     ]
    },
    {
     "data": {
      "application/vnd.plotly.v1+json": {
       "config": {
        "plotlyServerURL": "https://plot.ly"
       },
       "data": [
        {
         "alignmentgroup": "True",
         "bingroup": "x",
         "hovertemplate": "Nourritures (en milliers tonnes)=%{x}<br>count=%{y}<extra></extra>",
         "legendgroup": "",
         "marker": {
          "color": "#636efa",
          "pattern": {
           "shape": ""
          }
         },
         "name": "",
         "nbinsx": 50,
         "offsetgroup": "",
         "orientation": "v",
         "showlegend": false,
         "type": "histogram",
         "x": [
          55,
          2035,
          47,
          264,
          1609,
          315,
          5,
          1435,
          1856,
          47,
          1171,
          160,
          129,
          16,
          240,
          13,
          144,
          10,
          403,
          56,
          7,
          9982,
          157,
          44,
          264,
          161,
          9,
          37,
          78,
          1433,
          672,
          391,
          21,
          785,
          17518,
          30,
          1565,
          110,
          131,
          45,
          269,
          62,
          166,
          3,
          3,
          131,
          1418,
          28,
          7,
          25,
          103,
          1485,
          4509,
          61,
          8,
          211,
          5,
          162,
          348,
          49,
          4,
          30,
          61,
          98,
          205,
          246,
          2965,
          1904,
          2220,
          561,
          123,
          10,
          556,
          1146,
          149,
          2359,
          275,
          330,
          34,
          19,
          2,
          188,
          17,
          41,
          73,
          50,
          80,
          11,
          41,
          73,
          1220,
          91,
          7,
          52,
          12,
          746,
          48,
          22,
          4058,
          9,
          10,
          103,
          1621,
          28,
          138,
          20,
          192,
          101,
          11,
          164,
          55,
          101,
          62,
          0,
          1218,
          139,
          41,
          346,
          1459,
          1150,
          13,
          315,
          424,
          381,
          2131,
          18,
          11,
          854,
          66,
          371,
          0,
          41,
          103,
          3,
          8,
          10,
          13,
          2,
          90,
          30,
          76,
          51,
          65,
          164,
          133,
          18,
          164,
          73,
          39,
          7,
          234,
          896,
          5,
          54,
          75,
          195,
          26,
          1674,
          1006,
          31,
          3,
          596,
          1166,
          237,
          58,
          67,
          1250,
          412,
          324,
          18100,
          14,
          3
         ],
         "xaxis": "x",
         "yaxis": "y"
        },
        {
         "alignmentgroup": "True",
         "hovertemplate": "Nourritures (en milliers tonnes)=%{x}<extra></extra>",
         "legendgroup": "",
         "marker": {
          "color": "#636efa"
         },
         "name": "",
         "notched": true,
         "offsetgroup": "",
         "showlegend": false,
         "type": "box",
         "x": [
          55,
          2035,
          47,
          264,
          1609,
          315,
          5,
          1435,
          1856,
          47,
          1171,
          160,
          129,
          16,
          240,
          13,
          144,
          10,
          403,
          56,
          7,
          9982,
          157,
          44,
          264,
          161,
          9,
          37,
          78,
          1433,
          672,
          391,
          21,
          785,
          17518,
          30,
          1565,
          110,
          131,
          45,
          269,
          62,
          166,
          3,
          3,
          131,
          1418,
          28,
          7,
          25,
          103,
          1485,
          4509,
          61,
          8,
          211,
          5,
          162,
          348,
          49,
          4,
          30,
          61,
          98,
          205,
          246,
          2965,
          1904,
          2220,
          561,
          123,
          10,
          556,
          1146,
          149,
          2359,
          275,
          330,
          34,
          19,
          2,
          188,
          17,
          41,
          73,
          50,
          80,
          11,
          41,
          73,
          1220,
          91,
          7,
          52,
          12,
          746,
          48,
          22,
          4058,
          9,
          10,
          103,
          1621,
          28,
          138,
          20,
          192,
          101,
          11,
          164,
          55,
          101,
          62,
          0,
          1218,
          139,
          41,
          346,
          1459,
          1150,
          13,
          315,
          424,
          381,
          2131,
          18,
          11,
          854,
          66,
          371,
          0,
          41,
          103,
          3,
          8,
          10,
          13,
          2,
          90,
          30,
          76,
          51,
          65,
          164,
          133,
          18,
          164,
          73,
          39,
          7,
          234,
          896,
          5,
          54,
          75,
          195,
          26,
          1674,
          1006,
          31,
          3,
          596,
          1166,
          237,
          58,
          67,
          1250,
          412,
          324,
          18100,
          14,
          3
         ],
         "xaxis": "x2",
         "yaxis": "y2"
        }
       ],
       "layout": {
        "barmode": "relative",
        "height": 540,
        "legend": {
         "tracegroupgap": 0
        },
        "margin": {
         "t": 60
        },
        "template": {
         "data": {
          "bar": [
           {
            "error_x": {
             "color": "#f2f5fa"
            },
            "error_y": {
             "color": "#f2f5fa"
            },
            "marker": {
             "line": {
              "color": "rgb(17,17,17)",
              "width": 0.5
             },
             "pattern": {
              "fillmode": "overlay",
              "size": 10,
              "solidity": 0.2
             }
            },
            "type": "bar"
           }
          ],
          "barpolar": [
           {
            "marker": {
             "line": {
              "color": "rgb(17,17,17)",
              "width": 0.5
             },
             "pattern": {
              "fillmode": "overlay",
              "size": 10,
              "solidity": 0.2
             }
            },
            "type": "barpolar"
           }
          ],
          "carpet": [
           {
            "aaxis": {
             "endlinecolor": "#A2B1C6",
             "gridcolor": "#506784",
             "linecolor": "#506784",
             "minorgridcolor": "#506784",
             "startlinecolor": "#A2B1C6"
            },
            "baxis": {
             "endlinecolor": "#A2B1C6",
             "gridcolor": "#506784",
             "linecolor": "#506784",
             "minorgridcolor": "#506784",
             "startlinecolor": "#A2B1C6"
            },
            "type": "carpet"
           }
          ],
          "choropleth": [
           {
            "colorbar": {
             "outlinewidth": 0,
             "ticks": ""
            },
            "type": "choropleth"
           }
          ],
          "contour": [
           {
            "colorbar": {
             "outlinewidth": 0,
             "ticks": ""
            },
            "colorscale": [
             [
              0,
              "#0d0887"
             ],
             [
              0.1111111111111111,
              "#46039f"
             ],
             [
              0.2222222222222222,
              "#7201a8"
             ],
             [
              0.3333333333333333,
              "#9c179e"
             ],
             [
              0.4444444444444444,
              "#bd3786"
             ],
             [
              0.5555555555555556,
              "#d8576b"
             ],
             [
              0.6666666666666666,
              "#ed7953"
             ],
             [
              0.7777777777777778,
              "#fb9f3a"
             ],
             [
              0.8888888888888888,
              "#fdca26"
             ],
             [
              1,
              "#f0f921"
             ]
            ],
            "type": "contour"
           }
          ],
          "contourcarpet": [
           {
            "colorbar": {
             "outlinewidth": 0,
             "ticks": ""
            },
            "type": "contourcarpet"
           }
          ],
          "heatmap": [
           {
            "colorbar": {
             "outlinewidth": 0,
             "ticks": ""
            },
            "colorscale": [
             [
              0,
              "#0d0887"
             ],
             [
              0.1111111111111111,
              "#46039f"
             ],
             [
              0.2222222222222222,
              "#7201a8"
             ],
             [
              0.3333333333333333,
              "#9c179e"
             ],
             [
              0.4444444444444444,
              "#bd3786"
             ],
             [
              0.5555555555555556,
              "#d8576b"
             ],
             [
              0.6666666666666666,
              "#ed7953"
             ],
             [
              0.7777777777777778,
              "#fb9f3a"
             ],
             [
              0.8888888888888888,
              "#fdca26"
             ],
             [
              1,
              "#f0f921"
             ]
            ],
            "type": "heatmap"
           }
          ],
          "heatmapgl": [
           {
            "colorbar": {
             "outlinewidth": 0,
             "ticks": ""
            },
            "colorscale": [
             [
              0,
              "#0d0887"
             ],
             [
              0.1111111111111111,
              "#46039f"
             ],
             [
              0.2222222222222222,
              "#7201a8"
             ],
             [
              0.3333333333333333,
              "#9c179e"
             ],
             [
              0.4444444444444444,
              "#bd3786"
             ],
             [
              0.5555555555555556,
              "#d8576b"
             ],
             [
              0.6666666666666666,
              "#ed7953"
             ],
             [
              0.7777777777777778,
              "#fb9f3a"
             ],
             [
              0.8888888888888888,
              "#fdca26"
             ],
             [
              1,
              "#f0f921"
             ]
            ],
            "type": "heatmapgl"
           }
          ],
          "histogram": [
           {
            "marker": {
             "pattern": {
              "fillmode": "overlay",
              "size": 10,
              "solidity": 0.2
             }
            },
            "type": "histogram"
           }
          ],
          "histogram2d": [
           {
            "colorbar": {
             "outlinewidth": 0,
             "ticks": ""
            },
            "colorscale": [
             [
              0,
              "#0d0887"
             ],
             [
              0.1111111111111111,
              "#46039f"
             ],
             [
              0.2222222222222222,
              "#7201a8"
             ],
             [
              0.3333333333333333,
              "#9c179e"
             ],
             [
              0.4444444444444444,
              "#bd3786"
             ],
             [
              0.5555555555555556,
              "#d8576b"
             ],
             [
              0.6666666666666666,
              "#ed7953"
             ],
             [
              0.7777777777777778,
              "#fb9f3a"
             ],
             [
              0.8888888888888888,
              "#fdca26"
             ],
             [
              1,
              "#f0f921"
             ]
            ],
            "type": "histogram2d"
           }
          ],
          "histogram2dcontour": [
           {
            "colorbar": {
             "outlinewidth": 0,
             "ticks": ""
            },
            "colorscale": [
             [
              0,
              "#0d0887"
             ],
             [
              0.1111111111111111,
              "#46039f"
             ],
             [
              0.2222222222222222,
              "#7201a8"
             ],
             [
              0.3333333333333333,
              "#9c179e"
             ],
             [
              0.4444444444444444,
              "#bd3786"
             ],
             [
              0.5555555555555556,
              "#d8576b"
             ],
             [
              0.6666666666666666,
              "#ed7953"
             ],
             [
              0.7777777777777778,
              "#fb9f3a"
             ],
             [
              0.8888888888888888,
              "#fdca26"
             ],
             [
              1,
              "#f0f921"
             ]
            ],
            "type": "histogram2dcontour"
           }
          ],
          "mesh3d": [
           {
            "colorbar": {
             "outlinewidth": 0,
             "ticks": ""
            },
            "type": "mesh3d"
           }
          ],
          "parcoords": [
           {
            "line": {
             "colorbar": {
              "outlinewidth": 0,
              "ticks": ""
             }
            },
            "type": "parcoords"
           }
          ],
          "pie": [
           {
            "automargin": true,
            "type": "pie"
           }
          ],
          "scatter": [
           {
            "marker": {
             "line": {
              "color": "#283442"
             }
            },
            "type": "scatter"
           }
          ],
          "scatter3d": [
           {
            "line": {
             "colorbar": {
              "outlinewidth": 0,
              "ticks": ""
             }
            },
            "marker": {
             "colorbar": {
              "outlinewidth": 0,
              "ticks": ""
             }
            },
            "type": "scatter3d"
           }
          ],
          "scattercarpet": [
           {
            "marker": {
             "colorbar": {
              "outlinewidth": 0,
              "ticks": ""
             }
            },
            "type": "scattercarpet"
           }
          ],
          "scattergeo": [
           {
            "marker": {
             "colorbar": {
              "outlinewidth": 0,
              "ticks": ""
             }
            },
            "type": "scattergeo"
           }
          ],
          "scattergl": [
           {
            "marker": {
             "line": {
              "color": "#283442"
             }
            },
            "type": "scattergl"
           }
          ],
          "scattermapbox": [
           {
            "marker": {
             "colorbar": {
              "outlinewidth": 0,
              "ticks": ""
             }
            },
            "type": "scattermapbox"
           }
          ],
          "scatterpolar": [
           {
            "marker": {
             "colorbar": {
              "outlinewidth": 0,
              "ticks": ""
             }
            },
            "type": "scatterpolar"
           }
          ],
          "scatterpolargl": [
           {
            "marker": {
             "colorbar": {
              "outlinewidth": 0,
              "ticks": ""
             }
            },
            "type": "scatterpolargl"
           }
          ],
          "scatterternary": [
           {
            "marker": {
             "colorbar": {
              "outlinewidth": 0,
              "ticks": ""
             }
            },
            "type": "scatterternary"
           }
          ],
          "surface": [
           {
            "colorbar": {
             "outlinewidth": 0,
             "ticks": ""
            },
            "colorscale": [
             [
              0,
              "#0d0887"
             ],
             [
              0.1111111111111111,
              "#46039f"
             ],
             [
              0.2222222222222222,
              "#7201a8"
             ],
             [
              0.3333333333333333,
              "#9c179e"
             ],
             [
              0.4444444444444444,
              "#bd3786"
             ],
             [
              0.5555555555555556,
              "#d8576b"
             ],
             [
              0.6666666666666666,
              "#ed7953"
             ],
             [
              0.7777777777777778,
              "#fb9f3a"
             ],
             [
              0.8888888888888888,
              "#fdca26"
             ],
             [
              1,
              "#f0f921"
             ]
            ],
            "type": "surface"
           }
          ],
          "table": [
           {
            "cells": {
             "fill": {
              "color": "#506784"
             },
             "line": {
              "color": "rgb(17,17,17)"
             }
            },
            "header": {
             "fill": {
              "color": "#2a3f5f"
             },
             "line": {
              "color": "rgb(17,17,17)"
             }
            },
            "type": "table"
           }
          ]
         },
         "layout": {
          "annotationdefaults": {
           "arrowcolor": "#f2f5fa",
           "arrowhead": 0,
           "arrowwidth": 1
          },
          "autotypenumbers": "strict",
          "coloraxis": {
           "colorbar": {
            "outlinewidth": 0,
            "ticks": ""
           }
          },
          "colorscale": {
           "diverging": [
            [
             0,
             "#8e0152"
            ],
            [
             0.1,
             "#c51b7d"
            ],
            [
             0.2,
             "#de77ae"
            ],
            [
             0.3,
             "#f1b6da"
            ],
            [
             0.4,
             "#fde0ef"
            ],
            [
             0.5,
             "#f7f7f7"
            ],
            [
             0.6,
             "#e6f5d0"
            ],
            [
             0.7,
             "#b8e186"
            ],
            [
             0.8,
             "#7fbc41"
            ],
            [
             0.9,
             "#4d9221"
            ],
            [
             1,
             "#276419"
            ]
           ],
           "sequential": [
            [
             0,
             "#0d0887"
            ],
            [
             0.1111111111111111,
             "#46039f"
            ],
            [
             0.2222222222222222,
             "#7201a8"
            ],
            [
             0.3333333333333333,
             "#9c179e"
            ],
            [
             0.4444444444444444,
             "#bd3786"
            ],
            [
             0.5555555555555556,
             "#d8576b"
            ],
            [
             0.6666666666666666,
             "#ed7953"
            ],
            [
             0.7777777777777778,
             "#fb9f3a"
            ],
            [
             0.8888888888888888,
             "#fdca26"
            ],
            [
             1,
             "#f0f921"
            ]
           ],
           "sequentialminus": [
            [
             0,
             "#0d0887"
            ],
            [
             0.1111111111111111,
             "#46039f"
            ],
            [
             0.2222222222222222,
             "#7201a8"
            ],
            [
             0.3333333333333333,
             "#9c179e"
            ],
            [
             0.4444444444444444,
             "#bd3786"
            ],
            [
             0.5555555555555556,
             "#d8576b"
            ],
            [
             0.6666666666666666,
             "#ed7953"
            ],
            [
             0.7777777777777778,
             "#fb9f3a"
            ],
            [
             0.8888888888888888,
             "#fdca26"
            ],
            [
             1,
             "#f0f921"
            ]
           ]
          },
          "colorway": [
           "#636efa",
           "#EF553B",
           "#00cc96",
           "#ab63fa",
           "#FFA15A",
           "#19d3f3",
           "#FF6692",
           "#B6E880",
           "#FF97FF",
           "#FECB52"
          ],
          "font": {
           "color": "#f2f5fa"
          },
          "geo": {
           "bgcolor": "rgb(17,17,17)",
           "lakecolor": "rgb(17,17,17)",
           "landcolor": "rgb(17,17,17)",
           "showlakes": true,
           "showland": true,
           "subunitcolor": "#506784"
          },
          "hoverlabel": {
           "align": "left"
          },
          "hovermode": "closest",
          "mapbox": {
           "style": "dark"
          },
          "paper_bgcolor": "rgb(17,17,17)",
          "plot_bgcolor": "rgb(17,17,17)",
          "polar": {
           "angularaxis": {
            "gridcolor": "#506784",
            "linecolor": "#506784",
            "ticks": ""
           },
           "bgcolor": "rgb(17,17,17)",
           "radialaxis": {
            "gridcolor": "#506784",
            "linecolor": "#506784",
            "ticks": ""
           }
          },
          "scene": {
           "xaxis": {
            "backgroundcolor": "rgb(17,17,17)",
            "gridcolor": "#506784",
            "gridwidth": 2,
            "linecolor": "#506784",
            "showbackground": true,
            "ticks": "",
            "zerolinecolor": "#C8D4E3"
           },
           "yaxis": {
            "backgroundcolor": "rgb(17,17,17)",
            "gridcolor": "#506784",
            "gridwidth": 2,
            "linecolor": "#506784",
            "showbackground": true,
            "ticks": "",
            "zerolinecolor": "#C8D4E3"
           },
           "zaxis": {
            "backgroundcolor": "rgb(17,17,17)",
            "gridcolor": "#506784",
            "gridwidth": 2,
            "linecolor": "#506784",
            "showbackground": true,
            "ticks": "",
            "zerolinecolor": "#C8D4E3"
           }
          },
          "shapedefaults": {
           "line": {
            "color": "#f2f5fa"
           }
          },
          "sliderdefaults": {
           "bgcolor": "#C8D4E3",
           "bordercolor": "rgb(17,17,17)",
           "borderwidth": 1,
           "tickwidth": 0
          },
          "ternary": {
           "aaxis": {
            "gridcolor": "#506784",
            "linecolor": "#506784",
            "ticks": ""
           },
           "baxis": {
            "gridcolor": "#506784",
            "linecolor": "#506784",
            "ticks": ""
           },
           "bgcolor": "rgb(17,17,17)",
           "caxis": {
            "gridcolor": "#506784",
            "linecolor": "#506784",
            "ticks": ""
           }
          },
          "title": {
           "x": 0.05
          },
          "updatemenudefaults": {
           "bgcolor": "#506784",
           "borderwidth": 0
          },
          "xaxis": {
           "automargin": true,
           "gridcolor": "#283442",
           "linecolor": "#506784",
           "ticks": "",
           "title": {
            "standoff": 15
           },
           "zerolinecolor": "#283442",
           "zerolinewidth": 2
          },
          "yaxis": {
           "automargin": true,
           "gridcolor": "#283442",
           "linecolor": "#506784",
           "ticks": "",
           "title": {
            "standoff": 15
           },
           "zerolinecolor": "#283442",
           "zerolinewidth": 2
          }
         }
        },
        "title": {
         "text": "Dispersion de la nourriture"
        },
        "xaxis": {
         "anchor": "y",
         "domain": [
          0,
          1
         ],
         "linecolor": "#E0E2E5",
         "linewidth": 1,
         "showline": true,
         "title": {
          "text": "Nourritures (en milliers tonnes)"
         }
        },
        "xaxis2": {
         "anchor": "y2",
         "domain": [
          0,
          1
         ],
         "linecolor": "#E0E2E5",
         "linewidth": 1,
         "matches": "x",
         "showgrid": true,
         "showline": true,
         "showticklabels": false
        },
        "yaxis": {
         "anchor": "x",
         "domain": [
          0,
          0.8316
         ],
         "title": {
          "text": "Count"
         }
        },
        "yaxis2": {
         "anchor": "x2",
         "domain": [
          0.8416,
          1
         ],
         "matches": "y2",
         "showgrid": false,
         "showline": false,
         "showticklabels": false,
         "ticks": ""
        }
       }
      }
     },
     "metadata": {},
     "output_type": "display_data"
    },
    {
     "name": "stdout",
     "output_type": "stream",
     "text": [
      "--------------------\n",
      "Évaluation de la distribution avec les coefficients d'assymétrie et de Kurtosis.\n",
      "Skewness: 6.803898376356385\n",
      "Kurtosis: 50.90548081760291\n",
      "--------------------\n"
     ]
    }
   ],
   "source": [
    "analyse_univarie(dispo_alim, 'Nourritures (en milliers tonnes)', 50, False, 'Dispersion de la nourriture', 'Nourritures (en milliers tonnes)')"
   ]
  },
  {
   "cell_type": "markdown",
   "metadata": {},
   "source": [
    "- La grande majorité des pays utilise moins de **2 millions de tonnes** de viande de volaille pour nourrir la population. \n",
    "- Mais ça n'empêche pas que quelques pays on utilise plus."
   ]
  },
  {
   "cell_type": "code",
   "execution_count": 13,
   "metadata": {},
   "outputs": [
    {
     "data": {
      "text/html": [
       "<div>\n",
       "<style scoped>\n",
       "    .dataframe tbody tr th:only-of-type {\n",
       "        vertical-align: middle;\n",
       "    }\n",
       "\n",
       "    .dataframe tbody tr th {\n",
       "        vertical-align: top;\n",
       "    }\n",
       "\n",
       "    .dataframe thead th {\n",
       "        text-align: right;\n",
       "    }\n",
       "</style>\n",
       "<table border=\"1\" class=\"dataframe\">\n",
       "  <thead>\n",
       "    <tr style=\"text-align: right;\">\n",
       "      <th>Élément</th>\n",
       "      <th>Zone</th>\n",
       "      <th>Exportations Volailles (en milliers tonnes)</th>\n",
       "      <th>Importations Volailles (en milliers tonnes)</th>\n",
       "      <th>Nourritures (en milliers tonnes)</th>\n",
       "      <th>Productions Volailles (en milliers tonnes)</th>\n",
       "    </tr>\n",
       "  </thead>\n",
       "  <tbody>\n",
       "    <tr>\n",
       "      <th>173</th>\n",
       "      <td>Afrique du Sud</td>\n",
       "      <td>63</td>\n",
       "      <td>514</td>\n",
       "      <td>2035</td>\n",
       "      <td>1667</td>\n",
       "    </tr>\n",
       "    <tr>\n",
       "      <th>2073</th>\n",
       "      <td>Brésil</td>\n",
       "      <td>4223</td>\n",
       "      <td>3</td>\n",
       "      <td>9982</td>\n",
       "      <td>14201</td>\n",
       "    </tr>\n",
       "    <tr>\n",
       "      <th>3298</th>\n",
       "      <td>Chine, continentale</td>\n",
       "      <td>576</td>\n",
       "      <td>452</td>\n",
       "      <td>17518</td>\n",
       "      <td>18236</td>\n",
       "    </tr>\n",
       "    <tr>\n",
       "      <th>4993</th>\n",
       "      <td>Fédération de Russie</td>\n",
       "      <td>115</td>\n",
       "      <td>226</td>\n",
       "      <td>4509</td>\n",
       "      <td>4444</td>\n",
       "    </tr>\n",
       "    <tr>\n",
       "      <th>6289</th>\n",
       "      <td>Inde</td>\n",
       "      <td>4</td>\n",
       "      <td>0</td>\n",
       "      <td>2965</td>\n",
       "      <td>3545</td>\n",
       "    </tr>\n",
       "    <tr>\n",
       "      <th>6478</th>\n",
       "      <td>Iran (République islamique d')</td>\n",
       "      <td>45</td>\n",
       "      <td>6</td>\n",
       "      <td>2220</td>\n",
       "      <td>2174</td>\n",
       "    </tr>\n",
       "    <tr>\n",
       "      <th>7143</th>\n",
       "      <td>Japon</td>\n",
       "      <td>10</td>\n",
       "      <td>1069</td>\n",
       "      <td>2359</td>\n",
       "      <td>2215</td>\n",
       "    </tr>\n",
       "    <tr>\n",
       "      <th>9259</th>\n",
       "      <td>Mexique</td>\n",
       "      <td>9</td>\n",
       "      <td>972</td>\n",
       "      <td>4058</td>\n",
       "      <td>3249</td>\n",
       "    </tr>\n",
       "    <tr>\n",
       "      <th>11696</th>\n",
       "      <td>Royaume-Uni de Grande-Bretagne et d'Irlande du...</td>\n",
       "      <td>359</td>\n",
       "      <td>779</td>\n",
       "      <td>2131</td>\n",
       "      <td>1814</td>\n",
       "    </tr>\n",
       "    <tr>\n",
       "      <th>15860</th>\n",
       "      <td>États-Unis d'Amérique</td>\n",
       "      <td>3692</td>\n",
       "      <td>123</td>\n",
       "      <td>18100</td>\n",
       "      <td>21914</td>\n",
       "    </tr>\n",
       "  </tbody>\n",
       "</table>\n",
       "</div>"
      ],
      "text/plain": [
       "Élément                                               Zone  \\\n",
       "173                                         Afrique du Sud   \n",
       "2073                                                Brésil   \n",
       "3298                                   Chine, continentale   \n",
       "4993                                  Fédération de Russie   \n",
       "6289                                                  Inde   \n",
       "6478                        Iran (République islamique d')   \n",
       "7143                                                 Japon   \n",
       "9259                                               Mexique   \n",
       "11696    Royaume-Uni de Grande-Bretagne et d'Irlande du...   \n",
       "15860                                États-Unis d'Amérique   \n",
       "\n",
       "Élément  Exportations Volailles (en milliers tonnes)  \\\n",
       "173                                               63   \n",
       "2073                                            4223   \n",
       "3298                                             576   \n",
       "4993                                             115   \n",
       "6289                                               4   \n",
       "6478                                              45   \n",
       "7143                                              10   \n",
       "9259                                               9   \n",
       "11696                                            359   \n",
       "15860                                           3692   \n",
       "\n",
       "Élément  Importations Volailles (en milliers tonnes)  \\\n",
       "173                                              514   \n",
       "2073                                               3   \n",
       "3298                                             452   \n",
       "4993                                             226   \n",
       "6289                                               0   \n",
       "6478                                               6   \n",
       "7143                                            1069   \n",
       "9259                                             972   \n",
       "11696                                            779   \n",
       "15860                                            123   \n",
       "\n",
       "Élément  Nourritures (en milliers tonnes)  \\\n",
       "173                                  2035   \n",
       "2073                                 9982   \n",
       "3298                                17518   \n",
       "4993                                 4509   \n",
       "6289                                 2965   \n",
       "6478                                 2220   \n",
       "7143                                 2359   \n",
       "9259                                 4058   \n",
       "11696                                2131   \n",
       "15860                               18100   \n",
       "\n",
       "Élément  Productions Volailles (en milliers tonnes)  \n",
       "173                                            1667  \n",
       "2073                                          14201  \n",
       "3298                                          18236  \n",
       "4993                                           4444  \n",
       "6289                                           3545  \n",
       "6478                                           2174  \n",
       "7143                                           2215  \n",
       "9259                                           3249  \n",
       "11696                                          1814  \n",
       "15860                                         21914  "
      ]
     },
     "execution_count": 13,
     "metadata": {},
     "output_type": "execute_result"
    }
   ],
   "source": [
    "dispo_alim[dispo_alim['Nourritures (en milliers tonnes)'] > 2000 ]"
   ]
  },
  {
   "cell_type": "markdown",
   "metadata": {},
   "source": [
    "- On retrouve parmi les **10 pays** qui utilisent **le plus de viande de volaille** pour nourrir leurs populations sont **les pays les plus peuplés**. \n",
    "- Ce qui sera intéressant ici  c'est d'avoir **le ratio entre le nombre de nourriture disponible pour la population et la population du pays**"
   ]
  },
  {
   "cell_type": "markdown",
   "metadata": {},
   "source": [
    "#### Production"
   ]
  },
  {
   "cell_type": "code",
   "execution_count": 14,
   "metadata": {},
   "outputs": [
    {
     "name": "stdout",
     "output_type": "stream",
     "text": [
      "Description rapide\n",
      "--------------\n",
      "Count :                       172\n",
      "Moyenne :                     708.33\n",
      "Ecart type :                  2474.46\n",
      "\n",
      "\n",
      "Minimum :                     0\n",
      "Quantile 25 % :               11.0\n",
      "Médiane :                     66.0\n",
      "Quantile 75 % :               368.75\n",
      "Maximum :                     21914\n",
      "\n",
      "\n",
      "Valeur la plus représentée :  0\n",
      "\n",
      "\n",
      "--------------\n"
     ]
    },
    {
     "data": {
      "application/vnd.plotly.v1+json": {
       "config": {
        "plotlyServerURL": "https://plot.ly"
       },
       "data": [
        {
         "alignmentgroup": "True",
         "bingroup": "x",
         "hovertemplate": "Productions Volailles (en milliers tonnes)=%{x}<br>count=%{y}<extra></extra>",
         "legendgroup": "",
         "marker": {
          "color": "#636efa",
          "pattern": {
           "shape": ""
          }
         },
         "name": "",
         "nbinsx": 50,
         "offsetgroup": "",
         "orientation": "v",
         "showlegend": false,
         "type": "histogram",
         "x": [
          28,
          1667,
          13,
          275,
          1514,
          42,
          0,
          616,
          2161,
          11,
          1269,
          148,
          104,
          6,
          249,
          15,
          463,
          20,
          533,
          61,
          5,
          14201,
          107,
          46,
          463,
          18,
          1,
          28,
          81,
          1417,
          712,
          24,
          3,
          652,
          18236,
          25,
          1564,
          7,
          133,
          61,
          29,
          58,
          173,
          0,
          0,
          136,
          1515,
          20,
          6,
          23,
          129,
          1750,
          4444,
          4,
          2,
          60,
          1,
          246,
          235,
          13,
          3,
          31,
          22,
          9,
          193,
          493,
          3545,
          2301,
          2174,
          96,
          110,
          10,
          629,
          1315,
          128,
          2215,
          210,
          171,
          35,
          7,
          1,
          56,
          2,
          33,
          64,
          15,
          118,
          0,
          2,
          81,
          1724,
          130,
          0,
          48,
          4,
          762,
          48,
          5,
          3249,
          0,
          4,
          92,
          1662,
          11,
          143,
          19,
          201,
          101,
          1,
          223,
          58,
          7,
          65,
          0,
          1281,
          198,
          45,
          1100,
          1272,
          2351,
          1,
          361,
          1465,
          392,
          1814,
          19,
          7,
          838,
          54,
          339,
          0,
          43,
          105,
          0,
          0,
          1,
          0,
          1,
          85,
          17,
          71,
          72,
          67,
          192,
          91,
          10,
          157,
          77,
          2,
          6,
          163,
          1676,
          1,
          40,
          61,
          213,
          20,
          2192,
          1211,
          33,
          1,
          600,
          918,
          168,
          49,
          69,
          1118,
          48,
          340,
          21914,
          14,
          0
         ],
         "xaxis": "x",
         "yaxis": "y"
        },
        {
         "alignmentgroup": "True",
         "hovertemplate": "Productions Volailles (en milliers tonnes)=%{x}<extra></extra>",
         "legendgroup": "",
         "marker": {
          "color": "#636efa"
         },
         "name": "",
         "notched": true,
         "offsetgroup": "",
         "showlegend": false,
         "type": "box",
         "x": [
          28,
          1667,
          13,
          275,
          1514,
          42,
          0,
          616,
          2161,
          11,
          1269,
          148,
          104,
          6,
          249,
          15,
          463,
          20,
          533,
          61,
          5,
          14201,
          107,
          46,
          463,
          18,
          1,
          28,
          81,
          1417,
          712,
          24,
          3,
          652,
          18236,
          25,
          1564,
          7,
          133,
          61,
          29,
          58,
          173,
          0,
          0,
          136,
          1515,
          20,
          6,
          23,
          129,
          1750,
          4444,
          4,
          2,
          60,
          1,
          246,
          235,
          13,
          3,
          31,
          22,
          9,
          193,
          493,
          3545,
          2301,
          2174,
          96,
          110,
          10,
          629,
          1315,
          128,
          2215,
          210,
          171,
          35,
          7,
          1,
          56,
          2,
          33,
          64,
          15,
          118,
          0,
          2,
          81,
          1724,
          130,
          0,
          48,
          4,
          762,
          48,
          5,
          3249,
          0,
          4,
          92,
          1662,
          11,
          143,
          19,
          201,
          101,
          1,
          223,
          58,
          7,
          65,
          0,
          1281,
          198,
          45,
          1100,
          1272,
          2351,
          1,
          361,
          1465,
          392,
          1814,
          19,
          7,
          838,
          54,
          339,
          0,
          43,
          105,
          0,
          0,
          1,
          0,
          1,
          85,
          17,
          71,
          72,
          67,
          192,
          91,
          10,
          157,
          77,
          2,
          6,
          163,
          1676,
          1,
          40,
          61,
          213,
          20,
          2192,
          1211,
          33,
          1,
          600,
          918,
          168,
          49,
          69,
          1118,
          48,
          340,
          21914,
          14,
          0
         ],
         "xaxis": "x2",
         "yaxis": "y2"
        }
       ],
       "layout": {
        "barmode": "relative",
        "height": 540,
        "legend": {
         "tracegroupgap": 0
        },
        "margin": {
         "t": 60
        },
        "template": {
         "data": {
          "bar": [
           {
            "error_x": {
             "color": "#f2f5fa"
            },
            "error_y": {
             "color": "#f2f5fa"
            },
            "marker": {
             "line": {
              "color": "rgb(17,17,17)",
              "width": 0.5
             },
             "pattern": {
              "fillmode": "overlay",
              "size": 10,
              "solidity": 0.2
             }
            },
            "type": "bar"
           }
          ],
          "barpolar": [
           {
            "marker": {
             "line": {
              "color": "rgb(17,17,17)",
              "width": 0.5
             },
             "pattern": {
              "fillmode": "overlay",
              "size": 10,
              "solidity": 0.2
             }
            },
            "type": "barpolar"
           }
          ],
          "carpet": [
           {
            "aaxis": {
             "endlinecolor": "#A2B1C6",
             "gridcolor": "#506784",
             "linecolor": "#506784",
             "minorgridcolor": "#506784",
             "startlinecolor": "#A2B1C6"
            },
            "baxis": {
             "endlinecolor": "#A2B1C6",
             "gridcolor": "#506784",
             "linecolor": "#506784",
             "minorgridcolor": "#506784",
             "startlinecolor": "#A2B1C6"
            },
            "type": "carpet"
           }
          ],
          "choropleth": [
           {
            "colorbar": {
             "outlinewidth": 0,
             "ticks": ""
            },
            "type": "choropleth"
           }
          ],
          "contour": [
           {
            "colorbar": {
             "outlinewidth": 0,
             "ticks": ""
            },
            "colorscale": [
             [
              0,
              "#0d0887"
             ],
             [
              0.1111111111111111,
              "#46039f"
             ],
             [
              0.2222222222222222,
              "#7201a8"
             ],
             [
              0.3333333333333333,
              "#9c179e"
             ],
             [
              0.4444444444444444,
              "#bd3786"
             ],
             [
              0.5555555555555556,
              "#d8576b"
             ],
             [
              0.6666666666666666,
              "#ed7953"
             ],
             [
              0.7777777777777778,
              "#fb9f3a"
             ],
             [
              0.8888888888888888,
              "#fdca26"
             ],
             [
              1,
              "#f0f921"
             ]
            ],
            "type": "contour"
           }
          ],
          "contourcarpet": [
           {
            "colorbar": {
             "outlinewidth": 0,
             "ticks": ""
            },
            "type": "contourcarpet"
           }
          ],
          "heatmap": [
           {
            "colorbar": {
             "outlinewidth": 0,
             "ticks": ""
            },
            "colorscale": [
             [
              0,
              "#0d0887"
             ],
             [
              0.1111111111111111,
              "#46039f"
             ],
             [
              0.2222222222222222,
              "#7201a8"
             ],
             [
              0.3333333333333333,
              "#9c179e"
             ],
             [
              0.4444444444444444,
              "#bd3786"
             ],
             [
              0.5555555555555556,
              "#d8576b"
             ],
             [
              0.6666666666666666,
              "#ed7953"
             ],
             [
              0.7777777777777778,
              "#fb9f3a"
             ],
             [
              0.8888888888888888,
              "#fdca26"
             ],
             [
              1,
              "#f0f921"
             ]
            ],
            "type": "heatmap"
           }
          ],
          "heatmapgl": [
           {
            "colorbar": {
             "outlinewidth": 0,
             "ticks": ""
            },
            "colorscale": [
             [
              0,
              "#0d0887"
             ],
             [
              0.1111111111111111,
              "#46039f"
             ],
             [
              0.2222222222222222,
              "#7201a8"
             ],
             [
              0.3333333333333333,
              "#9c179e"
             ],
             [
              0.4444444444444444,
              "#bd3786"
             ],
             [
              0.5555555555555556,
              "#d8576b"
             ],
             [
              0.6666666666666666,
              "#ed7953"
             ],
             [
              0.7777777777777778,
              "#fb9f3a"
             ],
             [
              0.8888888888888888,
              "#fdca26"
             ],
             [
              1,
              "#f0f921"
             ]
            ],
            "type": "heatmapgl"
           }
          ],
          "histogram": [
           {
            "marker": {
             "pattern": {
              "fillmode": "overlay",
              "size": 10,
              "solidity": 0.2
             }
            },
            "type": "histogram"
           }
          ],
          "histogram2d": [
           {
            "colorbar": {
             "outlinewidth": 0,
             "ticks": ""
            },
            "colorscale": [
             [
              0,
              "#0d0887"
             ],
             [
              0.1111111111111111,
              "#46039f"
             ],
             [
              0.2222222222222222,
              "#7201a8"
             ],
             [
              0.3333333333333333,
              "#9c179e"
             ],
             [
              0.4444444444444444,
              "#bd3786"
             ],
             [
              0.5555555555555556,
              "#d8576b"
             ],
             [
              0.6666666666666666,
              "#ed7953"
             ],
             [
              0.7777777777777778,
              "#fb9f3a"
             ],
             [
              0.8888888888888888,
              "#fdca26"
             ],
             [
              1,
              "#f0f921"
             ]
            ],
            "type": "histogram2d"
           }
          ],
          "histogram2dcontour": [
           {
            "colorbar": {
             "outlinewidth": 0,
             "ticks": ""
            },
            "colorscale": [
             [
              0,
              "#0d0887"
             ],
             [
              0.1111111111111111,
              "#46039f"
             ],
             [
              0.2222222222222222,
              "#7201a8"
             ],
             [
              0.3333333333333333,
              "#9c179e"
             ],
             [
              0.4444444444444444,
              "#bd3786"
             ],
             [
              0.5555555555555556,
              "#d8576b"
             ],
             [
              0.6666666666666666,
              "#ed7953"
             ],
             [
              0.7777777777777778,
              "#fb9f3a"
             ],
             [
              0.8888888888888888,
              "#fdca26"
             ],
             [
              1,
              "#f0f921"
             ]
            ],
            "type": "histogram2dcontour"
           }
          ],
          "mesh3d": [
           {
            "colorbar": {
             "outlinewidth": 0,
             "ticks": ""
            },
            "type": "mesh3d"
           }
          ],
          "parcoords": [
           {
            "line": {
             "colorbar": {
              "outlinewidth": 0,
              "ticks": ""
             }
            },
            "type": "parcoords"
           }
          ],
          "pie": [
           {
            "automargin": true,
            "type": "pie"
           }
          ],
          "scatter": [
           {
            "marker": {
             "line": {
              "color": "#283442"
             }
            },
            "type": "scatter"
           }
          ],
          "scatter3d": [
           {
            "line": {
             "colorbar": {
              "outlinewidth": 0,
              "ticks": ""
             }
            },
            "marker": {
             "colorbar": {
              "outlinewidth": 0,
              "ticks": ""
             }
            },
            "type": "scatter3d"
           }
          ],
          "scattercarpet": [
           {
            "marker": {
             "colorbar": {
              "outlinewidth": 0,
              "ticks": ""
             }
            },
            "type": "scattercarpet"
           }
          ],
          "scattergeo": [
           {
            "marker": {
             "colorbar": {
              "outlinewidth": 0,
              "ticks": ""
             }
            },
            "type": "scattergeo"
           }
          ],
          "scattergl": [
           {
            "marker": {
             "line": {
              "color": "#283442"
             }
            },
            "type": "scattergl"
           }
          ],
          "scattermapbox": [
           {
            "marker": {
             "colorbar": {
              "outlinewidth": 0,
              "ticks": ""
             }
            },
            "type": "scattermapbox"
           }
          ],
          "scatterpolar": [
           {
            "marker": {
             "colorbar": {
              "outlinewidth": 0,
              "ticks": ""
             }
            },
            "type": "scatterpolar"
           }
          ],
          "scatterpolargl": [
           {
            "marker": {
             "colorbar": {
              "outlinewidth": 0,
              "ticks": ""
             }
            },
            "type": "scatterpolargl"
           }
          ],
          "scatterternary": [
           {
            "marker": {
             "colorbar": {
              "outlinewidth": 0,
              "ticks": ""
             }
            },
            "type": "scatterternary"
           }
          ],
          "surface": [
           {
            "colorbar": {
             "outlinewidth": 0,
             "ticks": ""
            },
            "colorscale": [
             [
              0,
              "#0d0887"
             ],
             [
              0.1111111111111111,
              "#46039f"
             ],
             [
              0.2222222222222222,
              "#7201a8"
             ],
             [
              0.3333333333333333,
              "#9c179e"
             ],
             [
              0.4444444444444444,
              "#bd3786"
             ],
             [
              0.5555555555555556,
              "#d8576b"
             ],
             [
              0.6666666666666666,
              "#ed7953"
             ],
             [
              0.7777777777777778,
              "#fb9f3a"
             ],
             [
              0.8888888888888888,
              "#fdca26"
             ],
             [
              1,
              "#f0f921"
             ]
            ],
            "type": "surface"
           }
          ],
          "table": [
           {
            "cells": {
             "fill": {
              "color": "#506784"
             },
             "line": {
              "color": "rgb(17,17,17)"
             }
            },
            "header": {
             "fill": {
              "color": "#2a3f5f"
             },
             "line": {
              "color": "rgb(17,17,17)"
             }
            },
            "type": "table"
           }
          ]
         },
         "layout": {
          "annotationdefaults": {
           "arrowcolor": "#f2f5fa",
           "arrowhead": 0,
           "arrowwidth": 1
          },
          "autotypenumbers": "strict",
          "coloraxis": {
           "colorbar": {
            "outlinewidth": 0,
            "ticks": ""
           }
          },
          "colorscale": {
           "diverging": [
            [
             0,
             "#8e0152"
            ],
            [
             0.1,
             "#c51b7d"
            ],
            [
             0.2,
             "#de77ae"
            ],
            [
             0.3,
             "#f1b6da"
            ],
            [
             0.4,
             "#fde0ef"
            ],
            [
             0.5,
             "#f7f7f7"
            ],
            [
             0.6,
             "#e6f5d0"
            ],
            [
             0.7,
             "#b8e186"
            ],
            [
             0.8,
             "#7fbc41"
            ],
            [
             0.9,
             "#4d9221"
            ],
            [
             1,
             "#276419"
            ]
           ],
           "sequential": [
            [
             0,
             "#0d0887"
            ],
            [
             0.1111111111111111,
             "#46039f"
            ],
            [
             0.2222222222222222,
             "#7201a8"
            ],
            [
             0.3333333333333333,
             "#9c179e"
            ],
            [
             0.4444444444444444,
             "#bd3786"
            ],
            [
             0.5555555555555556,
             "#d8576b"
            ],
            [
             0.6666666666666666,
             "#ed7953"
            ],
            [
             0.7777777777777778,
             "#fb9f3a"
            ],
            [
             0.8888888888888888,
             "#fdca26"
            ],
            [
             1,
             "#f0f921"
            ]
           ],
           "sequentialminus": [
            [
             0,
             "#0d0887"
            ],
            [
             0.1111111111111111,
             "#46039f"
            ],
            [
             0.2222222222222222,
             "#7201a8"
            ],
            [
             0.3333333333333333,
             "#9c179e"
            ],
            [
             0.4444444444444444,
             "#bd3786"
            ],
            [
             0.5555555555555556,
             "#d8576b"
            ],
            [
             0.6666666666666666,
             "#ed7953"
            ],
            [
             0.7777777777777778,
             "#fb9f3a"
            ],
            [
             0.8888888888888888,
             "#fdca26"
            ],
            [
             1,
             "#f0f921"
            ]
           ]
          },
          "colorway": [
           "#636efa",
           "#EF553B",
           "#00cc96",
           "#ab63fa",
           "#FFA15A",
           "#19d3f3",
           "#FF6692",
           "#B6E880",
           "#FF97FF",
           "#FECB52"
          ],
          "font": {
           "color": "#f2f5fa"
          },
          "geo": {
           "bgcolor": "rgb(17,17,17)",
           "lakecolor": "rgb(17,17,17)",
           "landcolor": "rgb(17,17,17)",
           "showlakes": true,
           "showland": true,
           "subunitcolor": "#506784"
          },
          "hoverlabel": {
           "align": "left"
          },
          "hovermode": "closest",
          "mapbox": {
           "style": "dark"
          },
          "paper_bgcolor": "rgb(17,17,17)",
          "plot_bgcolor": "rgb(17,17,17)",
          "polar": {
           "angularaxis": {
            "gridcolor": "#506784",
            "linecolor": "#506784",
            "ticks": ""
           },
           "bgcolor": "rgb(17,17,17)",
           "radialaxis": {
            "gridcolor": "#506784",
            "linecolor": "#506784",
            "ticks": ""
           }
          },
          "scene": {
           "xaxis": {
            "backgroundcolor": "rgb(17,17,17)",
            "gridcolor": "#506784",
            "gridwidth": 2,
            "linecolor": "#506784",
            "showbackground": true,
            "ticks": "",
            "zerolinecolor": "#C8D4E3"
           },
           "yaxis": {
            "backgroundcolor": "rgb(17,17,17)",
            "gridcolor": "#506784",
            "gridwidth": 2,
            "linecolor": "#506784",
            "showbackground": true,
            "ticks": "",
            "zerolinecolor": "#C8D4E3"
           },
           "zaxis": {
            "backgroundcolor": "rgb(17,17,17)",
            "gridcolor": "#506784",
            "gridwidth": 2,
            "linecolor": "#506784",
            "showbackground": true,
            "ticks": "",
            "zerolinecolor": "#C8D4E3"
           }
          },
          "shapedefaults": {
           "line": {
            "color": "#f2f5fa"
           }
          },
          "sliderdefaults": {
           "bgcolor": "#C8D4E3",
           "bordercolor": "rgb(17,17,17)",
           "borderwidth": 1,
           "tickwidth": 0
          },
          "ternary": {
           "aaxis": {
            "gridcolor": "#506784",
            "linecolor": "#506784",
            "ticks": ""
           },
           "baxis": {
            "gridcolor": "#506784",
            "linecolor": "#506784",
            "ticks": ""
           },
           "bgcolor": "rgb(17,17,17)",
           "caxis": {
            "gridcolor": "#506784",
            "linecolor": "#506784",
            "ticks": ""
           }
          },
          "title": {
           "x": 0.05
          },
          "updatemenudefaults": {
           "bgcolor": "#506784",
           "borderwidth": 0
          },
          "xaxis": {
           "automargin": true,
           "gridcolor": "#283442",
           "linecolor": "#506784",
           "ticks": "",
           "title": {
            "standoff": 15
           },
           "zerolinecolor": "#283442",
           "zerolinewidth": 2
          },
          "yaxis": {
           "automargin": true,
           "gridcolor": "#283442",
           "linecolor": "#506784",
           "ticks": "",
           "title": {
            "standoff": 15
           },
           "zerolinecolor": "#283442",
           "zerolinewidth": 2
          }
         }
        },
        "title": {
         "text": "Dispersion de la production"
        },
        "xaxis": {
         "anchor": "y",
         "domain": [
          0,
          1
         ],
         "linecolor": "#E0E2E5",
         "linewidth": 1,
         "showline": true,
         "title": {
          "text": "Productions Volailles (en milliers tonnes)"
         }
        },
        "xaxis2": {
         "anchor": "y2",
         "domain": [
          0,
          1
         ],
         "linecolor": "#E0E2E5",
         "linewidth": 1,
         "matches": "x",
         "showgrid": true,
         "showline": true,
         "showticklabels": false
        },
        "yaxis": {
         "anchor": "x",
         "domain": [
          0,
          0.8316
         ],
         "title": {
          "text": "Count"
         }
        },
        "yaxis2": {
         "anchor": "x2",
         "domain": [
          0.8416,
          1
         ],
         "matches": "y2",
         "showgrid": false,
         "showline": false,
         "showticklabels": false,
         "ticks": ""
        }
       }
      }
     },
     "metadata": {},
     "output_type": "display_data"
    },
    {
     "name": "stdout",
     "output_type": "stream",
     "text": [
      "--------------------\n",
      "Évaluation de la distribution avec les coefficients d'assymétrie et de Kurtosis.\n",
      "Skewness: 6.8198812530837705\n",
      "Kurtosis: 50.277322011953345\n",
      "--------------------\n"
     ]
    }
   ],
   "source": [
    "analyse_univarie(dispo_alim, 'Productions Volailles (en milliers tonnes)', 50, False, 'Dispersion de la production', 'Productions Volailles (en milliers tonnes)')"
   ]
  },
  {
   "cell_type": "markdown",
   "metadata": {},
   "source": [
    "- La plupart des pays produisent moins de **2,5 millions de tonnes** de viande de volaille. \n",
    "- Mais quelques pays en produits jusqu'à **21 millions de tonnes**."
   ]
  },
  {
   "cell_type": "code",
   "execution_count": 15,
   "metadata": {},
   "outputs": [
    {
     "data": {
      "text/html": [
       "<div>\n",
       "<style scoped>\n",
       "    .dataframe tbody tr th:only-of-type {\n",
       "        vertical-align: middle;\n",
       "    }\n",
       "\n",
       "    .dataframe tbody tr th {\n",
       "        vertical-align: top;\n",
       "    }\n",
       "\n",
       "    .dataframe thead th {\n",
       "        text-align: right;\n",
       "    }\n",
       "</style>\n",
       "<table border=\"1\" class=\"dataframe\">\n",
       "  <thead>\n",
       "    <tr style=\"text-align: right;\">\n",
       "      <th>Élément</th>\n",
       "      <th>Zone</th>\n",
       "      <th>Exportations Volailles (en milliers tonnes)</th>\n",
       "      <th>Importations Volailles (en milliers tonnes)</th>\n",
       "      <th>Nourritures (en milliers tonnes)</th>\n",
       "      <th>Productions Volailles (en milliers tonnes)</th>\n",
       "    </tr>\n",
       "  </thead>\n",
       "  <tbody>\n",
       "    <tr>\n",
       "      <th>2073</th>\n",
       "      <td>Brésil</td>\n",
       "      <td>4223</td>\n",
       "      <td>3</td>\n",
       "      <td>9982</td>\n",
       "      <td>14201</td>\n",
       "    </tr>\n",
       "    <tr>\n",
       "      <th>3298</th>\n",
       "      <td>Chine, continentale</td>\n",
       "      <td>576</td>\n",
       "      <td>452</td>\n",
       "      <td>17518</td>\n",
       "      <td>18236</td>\n",
       "    </tr>\n",
       "    <tr>\n",
       "      <th>4993</th>\n",
       "      <td>Fédération de Russie</td>\n",
       "      <td>115</td>\n",
       "      <td>226</td>\n",
       "      <td>4509</td>\n",
       "      <td>4444</td>\n",
       "    </tr>\n",
       "    <tr>\n",
       "      <th>6289</th>\n",
       "      <td>Inde</td>\n",
       "      <td>4</td>\n",
       "      <td>0</td>\n",
       "      <td>2965</td>\n",
       "      <td>3545</td>\n",
       "    </tr>\n",
       "    <tr>\n",
       "      <th>9259</th>\n",
       "      <td>Mexique</td>\n",
       "      <td>9</td>\n",
       "      <td>972</td>\n",
       "      <td>4058</td>\n",
       "      <td>3249</td>\n",
       "    </tr>\n",
       "    <tr>\n",
       "      <th>15860</th>\n",
       "      <td>États-Unis d'Amérique</td>\n",
       "      <td>3692</td>\n",
       "      <td>123</td>\n",
       "      <td>18100</td>\n",
       "      <td>21914</td>\n",
       "    </tr>\n",
       "  </tbody>\n",
       "</table>\n",
       "</div>"
      ],
      "text/plain": [
       "Élément                   Zone  Exportations Volailles (en milliers tonnes)  \\\n",
       "2073                    Brésil                                         4223   \n",
       "3298       Chine, continentale                                          576   \n",
       "4993      Fédération de Russie                                          115   \n",
       "6289                      Inde                                            4   \n",
       "9259                   Mexique                                            9   \n",
       "15860    États-Unis d'Amérique                                         3692   \n",
       "\n",
       "Élément  Importations Volailles (en milliers tonnes)  \\\n",
       "2073                                               3   \n",
       "3298                                             452   \n",
       "4993                                             226   \n",
       "6289                                               0   \n",
       "9259                                             972   \n",
       "15860                                            123   \n",
       "\n",
       "Élément  Nourritures (en milliers tonnes)  \\\n",
       "2073                                 9982   \n",
       "3298                                17518   \n",
       "4993                                 4509   \n",
       "6289                                 2965   \n",
       "9259                                 4058   \n",
       "15860                               18100   \n",
       "\n",
       "Élément  Productions Volailles (en milliers tonnes)  \n",
       "2073                                          14201  \n",
       "3298                                          18236  \n",
       "4993                                           4444  \n",
       "6289                                           3545  \n",
       "9259                                           3249  \n",
       "15860                                         21914  "
      ]
     },
     "execution_count": 15,
     "metadata": {},
     "output_type": "execute_result"
    }
   ],
   "source": [
    "dispo_alim[dispo_alim['Productions Volailles (en milliers tonnes)'] > 2500 ]"
   ]
  },
  {
   "cell_type": "markdown",
   "metadata": {},
   "source": [
    "- On retrouve **les mêmes pays qui ont une grande population à nourrir** et qui utilise aussi **beaucoup de disponibilité pour la nourriture** de leur population. \n",
    "- Certains de ces pays en **profitent pour faire de l'exportation et d'autres pas du tout**."
   ]
  },
  {
   "cell_type": "code",
   "execution_count": 16,
   "metadata": {},
   "outputs": [
    {
     "data": {
      "text/html": [
       "<div>\n",
       "<style scoped>\n",
       "    .dataframe tbody tr th:only-of-type {\n",
       "        vertical-align: middle;\n",
       "    }\n",
       "\n",
       "    .dataframe tbody tr th {\n",
       "        vertical-align: top;\n",
       "    }\n",
       "\n",
       "    .dataframe thead th {\n",
       "        text-align: right;\n",
       "    }\n",
       "</style>\n",
       "<table border=\"1\" class=\"dataframe\">\n",
       "  <thead>\n",
       "    <tr style=\"text-align: right;\">\n",
       "      <th>Élément</th>\n",
       "      <th>Zone</th>\n",
       "      <th>Exportations Volailles (en milliers tonnes)</th>\n",
       "      <th>Importations Volailles (en milliers tonnes)</th>\n",
       "      <th>Nourritures (en milliers tonnes)</th>\n",
       "      <th>Productions Volailles (en milliers tonnes)</th>\n",
       "    </tr>\n",
       "  </thead>\n",
       "  <tbody>\n",
       "    <tr>\n",
       "      <th>78</th>\n",
       "      <td>Afghanistan</td>\n",
       "      <td>0</td>\n",
       "      <td>29</td>\n",
       "      <td>55</td>\n",
       "      <td>28</td>\n",
       "    </tr>\n",
       "    <tr>\n",
       "      <th>173</th>\n",
       "      <td>Afrique du Sud</td>\n",
       "      <td>63</td>\n",
       "      <td>514</td>\n",
       "      <td>2035</td>\n",
       "      <td>1667</td>\n",
       "    </tr>\n",
       "    <tr>\n",
       "      <th>265</th>\n",
       "      <td>Albanie</td>\n",
       "      <td>0</td>\n",
       "      <td>38</td>\n",
       "      <td>47</td>\n",
       "      <td>13</td>\n",
       "    </tr>\n",
       "    <tr>\n",
       "      <th>357</th>\n",
       "      <td>Algérie</td>\n",
       "      <td>0</td>\n",
       "      <td>2</td>\n",
       "      <td>264</td>\n",
       "      <td>275</td>\n",
       "    </tr>\n",
       "    <tr>\n",
       "      <th>452</th>\n",
       "      <td>Allemagne</td>\n",
       "      <td>646</td>\n",
       "      <td>842</td>\n",
       "      <td>1609</td>\n",
       "      <td>1514</td>\n",
       "    </tr>\n",
       "    <tr>\n",
       "      <th>...</th>\n",
       "      <td>...</td>\n",
       "      <td>...</td>\n",
       "      <td>...</td>\n",
       "      <td>...</td>\n",
       "      <td>...</td>\n",
       "    </tr>\n",
       "    <tr>\n",
       "      <th>15668</th>\n",
       "      <td>Émirats arabes unis</td>\n",
       "      <td>94</td>\n",
       "      <td>433</td>\n",
       "      <td>412</td>\n",
       "      <td>48</td>\n",
       "    </tr>\n",
       "    <tr>\n",
       "      <th>15765</th>\n",
       "      <td>Équateur</td>\n",
       "      <td>0</td>\n",
       "      <td>0</td>\n",
       "      <td>324</td>\n",
       "      <td>340</td>\n",
       "    </tr>\n",
       "    <tr>\n",
       "      <th>15860</th>\n",
       "      <td>États-Unis d'Amérique</td>\n",
       "      <td>3692</td>\n",
       "      <td>123</td>\n",
       "      <td>18100</td>\n",
       "      <td>21914</td>\n",
       "    </tr>\n",
       "    <tr>\n",
       "      <th>15954</th>\n",
       "      <td>Éthiopie</td>\n",
       "      <td>0</td>\n",
       "      <td>1</td>\n",
       "      <td>14</td>\n",
       "      <td>14</td>\n",
       "    </tr>\n",
       "    <tr>\n",
       "      <th>16043</th>\n",
       "      <td>Îles Salomon</td>\n",
       "      <td>0</td>\n",
       "      <td>6</td>\n",
       "      <td>3</td>\n",
       "      <td>0</td>\n",
       "    </tr>\n",
       "  </tbody>\n",
       "</table>\n",
       "<p>172 rows × 5 columns</p>\n",
       "</div>"
      ],
      "text/plain": [
       "Élément                   Zone  Exportations Volailles (en milliers tonnes)  \\\n",
       "78                 Afghanistan                                            0   \n",
       "173             Afrique du Sud                                           63   \n",
       "265                    Albanie                                            0   \n",
       "357                    Algérie                                            0   \n",
       "452                  Allemagne                                          646   \n",
       "...                        ...                                          ...   \n",
       "15668      Émirats arabes unis                                           94   \n",
       "15765                 Équateur                                            0   \n",
       "15860    États-Unis d'Amérique                                         3692   \n",
       "15954                 Éthiopie                                            0   \n",
       "16043             Îles Salomon                                            0   \n",
       "\n",
       "Élément  Importations Volailles (en milliers tonnes)  \\\n",
       "78                                                29   \n",
       "173                                              514   \n",
       "265                                               38   \n",
       "357                                                2   \n",
       "452                                              842   \n",
       "...                                              ...   \n",
       "15668                                            433   \n",
       "15765                                              0   \n",
       "15860                                            123   \n",
       "15954                                              1   \n",
       "16043                                              6   \n",
       "\n",
       "Élément  Nourritures (en milliers tonnes)  \\\n",
       "78                                     55   \n",
       "173                                  2035   \n",
       "265                                    47   \n",
       "357                                   264   \n",
       "452                                  1609   \n",
       "...                                   ...   \n",
       "15668                                 412   \n",
       "15765                                 324   \n",
       "15860                               18100   \n",
       "15954                                  14   \n",
       "16043                                   3   \n",
       "\n",
       "Élément  Productions Volailles (en milliers tonnes)  \n",
       "78                                               28  \n",
       "173                                            1667  \n",
       "265                                              13  \n",
       "357                                             275  \n",
       "452                                            1514  \n",
       "...                                             ...  \n",
       "15668                                            48  \n",
       "15765                                           340  \n",
       "15860                                         21914  \n",
       "15954                                            14  \n",
       "16043                                             0  \n",
       "\n",
       "[172 rows x 5 columns]"
      ]
     },
     "execution_count": 16,
     "metadata": {},
     "output_type": "execute_result"
    }
   ],
   "source": [
    "dispo_alim"
   ]
  },
  {
   "cell_type": "markdown",
   "metadata": {},
   "source": [
    "## 2.2 - Population\n",
    "### 2.2.1 - Import"
   ]
  },
  {
   "cell_type": "code",
   "execution_count": 17,
   "metadata": {},
   "outputs": [
    {
     "data": {
      "text/html": [
       "<div>\n",
       "<style scoped>\n",
       "    .dataframe tbody tr th:only-of-type {\n",
       "        vertical-align: middle;\n",
       "    }\n",
       "\n",
       "    .dataframe tbody tr th {\n",
       "        vertical-align: top;\n",
       "    }\n",
       "\n",
       "    .dataframe thead th {\n",
       "        text-align: right;\n",
       "    }\n",
       "</style>\n",
       "<table border=\"1\" class=\"dataframe\">\n",
       "  <thead>\n",
       "    <tr style=\"text-align: right;\">\n",
       "      <th></th>\n",
       "      <th>Code Domaine</th>\n",
       "      <th>Domaine</th>\n",
       "      <th>Code zone</th>\n",
       "      <th>Zone</th>\n",
       "      <th>Code Élément</th>\n",
       "      <th>Élément</th>\n",
       "      <th>Code Produit</th>\n",
       "      <th>Produit</th>\n",
       "      <th>Code année</th>\n",
       "      <th>Année</th>\n",
       "      <th>Unité</th>\n",
       "      <th>Valeur</th>\n",
       "      <th>Symbole</th>\n",
       "      <th>Description du Symbole</th>\n",
       "      <th>Note</th>\n",
       "    </tr>\n",
       "  </thead>\n",
       "  <tbody>\n",
       "    <tr>\n",
       "      <th>0</th>\n",
       "      <td>OA</td>\n",
       "      <td>Séries temporelles annuelles</td>\n",
       "      <td>2</td>\n",
       "      <td>Afghanistan</td>\n",
       "      <td>511</td>\n",
       "      <td>Population totale</td>\n",
       "      <td>3010</td>\n",
       "      <td>Population-Estimations</td>\n",
       "      <td>2000</td>\n",
       "      <td>2000</td>\n",
       "      <td>1000 personnes</td>\n",
       "      <td>20779.953</td>\n",
       "      <td>X</td>\n",
       "      <td>Sources internationales sûres</td>\n",
       "      <td>NaN</td>\n",
       "    </tr>\n",
       "    <tr>\n",
       "      <th>1</th>\n",
       "      <td>OA</td>\n",
       "      <td>Séries temporelles annuelles</td>\n",
       "      <td>2</td>\n",
       "      <td>Afghanistan</td>\n",
       "      <td>511</td>\n",
       "      <td>Population totale</td>\n",
       "      <td>3010</td>\n",
       "      <td>Population-Estimations</td>\n",
       "      <td>2001</td>\n",
       "      <td>2001</td>\n",
       "      <td>1000 personnes</td>\n",
       "      <td>21606.988</td>\n",
       "      <td>X</td>\n",
       "      <td>Sources internationales sûres</td>\n",
       "      <td>NaN</td>\n",
       "    </tr>\n",
       "    <tr>\n",
       "      <th>2</th>\n",
       "      <td>OA</td>\n",
       "      <td>Séries temporelles annuelles</td>\n",
       "      <td>2</td>\n",
       "      <td>Afghanistan</td>\n",
       "      <td>511</td>\n",
       "      <td>Population totale</td>\n",
       "      <td>3010</td>\n",
       "      <td>Population-Estimations</td>\n",
       "      <td>2002</td>\n",
       "      <td>2002</td>\n",
       "      <td>1000 personnes</td>\n",
       "      <td>22600.770</td>\n",
       "      <td>X</td>\n",
       "      <td>Sources internationales sûres</td>\n",
       "      <td>NaN</td>\n",
       "    </tr>\n",
       "    <tr>\n",
       "      <th>3</th>\n",
       "      <td>OA</td>\n",
       "      <td>Séries temporelles annuelles</td>\n",
       "      <td>2</td>\n",
       "      <td>Afghanistan</td>\n",
       "      <td>511</td>\n",
       "      <td>Population totale</td>\n",
       "      <td>3010</td>\n",
       "      <td>Population-Estimations</td>\n",
       "      <td>2003</td>\n",
       "      <td>2003</td>\n",
       "      <td>1000 personnes</td>\n",
       "      <td>23680.871</td>\n",
       "      <td>X</td>\n",
       "      <td>Sources internationales sûres</td>\n",
       "      <td>NaN</td>\n",
       "    </tr>\n",
       "    <tr>\n",
       "      <th>4</th>\n",
       "      <td>OA</td>\n",
       "      <td>Séries temporelles annuelles</td>\n",
       "      <td>2</td>\n",
       "      <td>Afghanistan</td>\n",
       "      <td>511</td>\n",
       "      <td>Population totale</td>\n",
       "      <td>3010</td>\n",
       "      <td>Population-Estimations</td>\n",
       "      <td>2004</td>\n",
       "      <td>2004</td>\n",
       "      <td>1000 personnes</td>\n",
       "      <td>24726.684</td>\n",
       "      <td>X</td>\n",
       "      <td>Sources internationales sûres</td>\n",
       "      <td>NaN</td>\n",
       "    </tr>\n",
       "    <tr>\n",
       "      <th>...</th>\n",
       "      <td>...</td>\n",
       "      <td>...</td>\n",
       "      <td>...</td>\n",
       "      <td>...</td>\n",
       "      <td>...</td>\n",
       "      <td>...</td>\n",
       "      <td>...</td>\n",
       "      <td>...</td>\n",
       "      <td>...</td>\n",
       "      <td>...</td>\n",
       "      <td>...</td>\n",
       "      <td>...</td>\n",
       "      <td>...</td>\n",
       "      <td>...</td>\n",
       "      <td>...</td>\n",
       "    </tr>\n",
       "    <tr>\n",
       "      <th>4406</th>\n",
       "      <td>OA</td>\n",
       "      <td>Séries temporelles annuelles</td>\n",
       "      <td>181</td>\n",
       "      <td>Zimbabwe</td>\n",
       "      <td>511</td>\n",
       "      <td>Population totale</td>\n",
       "      <td>3010</td>\n",
       "      <td>Population-Estimations</td>\n",
       "      <td>2014</td>\n",
       "      <td>2014</td>\n",
       "      <td>1000 personnes</td>\n",
       "      <td>13586.707</td>\n",
       "      <td>X</td>\n",
       "      <td>Sources internationales sûres</td>\n",
       "      <td>NaN</td>\n",
       "    </tr>\n",
       "    <tr>\n",
       "      <th>4407</th>\n",
       "      <td>OA</td>\n",
       "      <td>Séries temporelles annuelles</td>\n",
       "      <td>181</td>\n",
       "      <td>Zimbabwe</td>\n",
       "      <td>511</td>\n",
       "      <td>Population totale</td>\n",
       "      <td>3010</td>\n",
       "      <td>Population-Estimations</td>\n",
       "      <td>2015</td>\n",
       "      <td>2015</td>\n",
       "      <td>1000 personnes</td>\n",
       "      <td>13814.629</td>\n",
       "      <td>X</td>\n",
       "      <td>Sources internationales sûres</td>\n",
       "      <td>NaN</td>\n",
       "    </tr>\n",
       "    <tr>\n",
       "      <th>4408</th>\n",
       "      <td>OA</td>\n",
       "      <td>Séries temporelles annuelles</td>\n",
       "      <td>181</td>\n",
       "      <td>Zimbabwe</td>\n",
       "      <td>511</td>\n",
       "      <td>Population totale</td>\n",
       "      <td>3010</td>\n",
       "      <td>Population-Estimations</td>\n",
       "      <td>2016</td>\n",
       "      <td>2016</td>\n",
       "      <td>1000 personnes</td>\n",
       "      <td>14030.331</td>\n",
       "      <td>X</td>\n",
       "      <td>Sources internationales sûres</td>\n",
       "      <td>NaN</td>\n",
       "    </tr>\n",
       "    <tr>\n",
       "      <th>4409</th>\n",
       "      <td>OA</td>\n",
       "      <td>Séries temporelles annuelles</td>\n",
       "      <td>181</td>\n",
       "      <td>Zimbabwe</td>\n",
       "      <td>511</td>\n",
       "      <td>Population totale</td>\n",
       "      <td>3010</td>\n",
       "      <td>Population-Estimations</td>\n",
       "      <td>2017</td>\n",
       "      <td>2017</td>\n",
       "      <td>1000 personnes</td>\n",
       "      <td>14236.595</td>\n",
       "      <td>X</td>\n",
       "      <td>Sources internationales sûres</td>\n",
       "      <td>NaN</td>\n",
       "    </tr>\n",
       "    <tr>\n",
       "      <th>4410</th>\n",
       "      <td>OA</td>\n",
       "      <td>Séries temporelles annuelles</td>\n",
       "      <td>181</td>\n",
       "      <td>Zimbabwe</td>\n",
       "      <td>511</td>\n",
       "      <td>Population totale</td>\n",
       "      <td>3010</td>\n",
       "      <td>Population-Estimations</td>\n",
       "      <td>2018</td>\n",
       "      <td>2018</td>\n",
       "      <td>1000 personnes</td>\n",
       "      <td>14438.802</td>\n",
       "      <td>X</td>\n",
       "      <td>Sources internationales sûres</td>\n",
       "      <td>NaN</td>\n",
       "    </tr>\n",
       "  </tbody>\n",
       "</table>\n",
       "<p>4411 rows × 15 columns</p>\n",
       "</div>"
      ],
      "text/plain": [
       "     Code Domaine                       Domaine  Code zone         Zone  \\\n",
       "0              OA  Séries temporelles annuelles          2  Afghanistan   \n",
       "1              OA  Séries temporelles annuelles          2  Afghanistan   \n",
       "2              OA  Séries temporelles annuelles          2  Afghanistan   \n",
       "3              OA  Séries temporelles annuelles          2  Afghanistan   \n",
       "4              OA  Séries temporelles annuelles          2  Afghanistan   \n",
       "...           ...                           ...        ...          ...   \n",
       "4406           OA  Séries temporelles annuelles        181     Zimbabwe   \n",
       "4407           OA  Séries temporelles annuelles        181     Zimbabwe   \n",
       "4408           OA  Séries temporelles annuelles        181     Zimbabwe   \n",
       "4409           OA  Séries temporelles annuelles        181     Zimbabwe   \n",
       "4410           OA  Séries temporelles annuelles        181     Zimbabwe   \n",
       "\n",
       "      Code Élément            Élément  Code Produit                 Produit  \\\n",
       "0              511  Population totale          3010  Population-Estimations   \n",
       "1              511  Population totale          3010  Population-Estimations   \n",
       "2              511  Population totale          3010  Population-Estimations   \n",
       "3              511  Population totale          3010  Population-Estimations   \n",
       "4              511  Population totale          3010  Population-Estimations   \n",
       "...            ...                ...           ...                     ...   \n",
       "4406           511  Population totale          3010  Population-Estimations   \n",
       "4407           511  Population totale          3010  Population-Estimations   \n",
       "4408           511  Population totale          3010  Population-Estimations   \n",
       "4409           511  Population totale          3010  Population-Estimations   \n",
       "4410           511  Population totale          3010  Population-Estimations   \n",
       "\n",
       "      Code année  Année           Unité     Valeur Symbole  \\\n",
       "0           2000   2000  1000 personnes  20779.953       X   \n",
       "1           2001   2001  1000 personnes  21606.988       X   \n",
       "2           2002   2002  1000 personnes  22600.770       X   \n",
       "3           2003   2003  1000 personnes  23680.871       X   \n",
       "4           2004   2004  1000 personnes  24726.684       X   \n",
       "...          ...    ...             ...        ...     ...   \n",
       "4406        2014   2014  1000 personnes  13586.707       X   \n",
       "4407        2015   2015  1000 personnes  13814.629       X   \n",
       "4408        2016   2016  1000 personnes  14030.331       X   \n",
       "4409        2017   2017  1000 personnes  14236.595       X   \n",
       "4410        2018   2018  1000 personnes  14438.802       X   \n",
       "\n",
       "             Description du Symbole Note  \n",
       "0     Sources internationales sûres  NaN  \n",
       "1     Sources internationales sûres  NaN  \n",
       "2     Sources internationales sûres  NaN  \n",
       "3     Sources internationales sûres  NaN  \n",
       "4     Sources internationales sûres  NaN  \n",
       "...                             ...  ...  \n",
       "4406  Sources internationales sûres  NaN  \n",
       "4407  Sources internationales sûres  NaN  \n",
       "4408  Sources internationales sûres  NaN  \n",
       "4409  Sources internationales sûres  NaN  \n",
       "4410  Sources internationales sûres  NaN  \n",
       "\n",
       "[4411 rows x 15 columns]"
      ]
     },
     "execution_count": 17,
     "metadata": {},
     "output_type": "execute_result"
    }
   ],
   "source": [
    "population = pd.read_csv(r\"C:\\Users\\imadk\\Downloads\\DAN-P9-data\\DAN-P9-data\\Population_2000_2018.csv\", sep=',')\n",
    "population"
   ]
  },
  {
   "cell_type": "markdown",
   "metadata": {},
   "source": [
    "### 2.2.2 - Description\n",
    "- Ici, on va voir en détail un petit peu, notre jeu de données et les variables qu'il contient"
   ]
  },
  {
   "cell_type": "code",
   "execution_count": 18,
   "metadata": {},
   "outputs": [
    {
     "data": {
      "text/html": [
       "<div>\n",
       "<style scoped>\n",
       "    .dataframe tbody tr th:only-of-type {\n",
       "        vertical-align: middle;\n",
       "    }\n",
       "\n",
       "    .dataframe tbody tr th {\n",
       "        vertical-align: top;\n",
       "    }\n",
       "\n",
       "    .dataframe thead th {\n",
       "        text-align: right;\n",
       "    }\n",
       "</style>\n",
       "<table border=\"1\" class=\"dataframe\">\n",
       "  <thead>\n",
       "    <tr style=\"text-align: right;\">\n",
       "      <th></th>\n",
       "      <th>Code Domaine</th>\n",
       "      <th>Domaine</th>\n",
       "      <th>Code zone</th>\n",
       "      <th>Zone</th>\n",
       "      <th>Code Élément</th>\n",
       "      <th>Élément</th>\n",
       "      <th>Code Produit</th>\n",
       "      <th>Produit</th>\n",
       "      <th>Code année</th>\n",
       "      <th>Année</th>\n",
       "      <th>Unité</th>\n",
       "      <th>Valeur</th>\n",
       "      <th>Symbole</th>\n",
       "      <th>Description du Symbole</th>\n",
       "      <th>Note</th>\n",
       "    </tr>\n",
       "  </thead>\n",
       "  <tbody>\n",
       "    <tr>\n",
       "      <th>count</th>\n",
       "      <td>4411</td>\n",
       "      <td>4411</td>\n",
       "      <td>4411.000000</td>\n",
       "      <td>4411</td>\n",
       "      <td>4411.0</td>\n",
       "      <td>4411</td>\n",
       "      <td>4411.0</td>\n",
       "      <td>4411</td>\n",
       "      <td>4411.000000</td>\n",
       "      <td>4411.000000</td>\n",
       "      <td>4411</td>\n",
       "      <td>4.411000e+03</td>\n",
       "      <td>4411</td>\n",
       "      <td>4411</td>\n",
       "      <td>258</td>\n",
       "    </tr>\n",
       "    <tr>\n",
       "      <th>unique</th>\n",
       "      <td>1</td>\n",
       "      <td>1</td>\n",
       "      <td>NaN</td>\n",
       "      <td>238</td>\n",
       "      <td>NaN</td>\n",
       "      <td>1</td>\n",
       "      <td>NaN</td>\n",
       "      <td>1</td>\n",
       "      <td>NaN</td>\n",
       "      <td>NaN</td>\n",
       "      <td>1</td>\n",
       "      <td>NaN</td>\n",
       "      <td>2</td>\n",
       "      <td>2</td>\n",
       "      <td>1</td>\n",
       "    </tr>\n",
       "    <tr>\n",
       "      <th>top</th>\n",
       "      <td>OA</td>\n",
       "      <td>Séries temporelles annuelles</td>\n",
       "      <td>NaN</td>\n",
       "      <td>Afghanistan</td>\n",
       "      <td>NaN</td>\n",
       "      <td>Population totale</td>\n",
       "      <td>NaN</td>\n",
       "      <td>Population-Estimations</td>\n",
       "      <td>NaN</td>\n",
       "      <td>NaN</td>\n",
       "      <td>1000 personnes</td>\n",
       "      <td>NaN</td>\n",
       "      <td>X</td>\n",
       "      <td>Sources internationales sûres</td>\n",
       "      <td>UNDESA, Population Division – World Population...</td>\n",
       "    </tr>\n",
       "    <tr>\n",
       "      <th>freq</th>\n",
       "      <td>4411</td>\n",
       "      <td>4411</td>\n",
       "      <td>NaN</td>\n",
       "      <td>19</td>\n",
       "      <td>NaN</td>\n",
       "      <td>4411</td>\n",
       "      <td>NaN</td>\n",
       "      <td>4411</td>\n",
       "      <td>NaN</td>\n",
       "      <td>NaN</td>\n",
       "      <td>4411</td>\n",
       "      <td>NaN</td>\n",
       "      <td>4374</td>\n",
       "      <td>4374</td>\n",
       "      <td>258</td>\n",
       "    </tr>\n",
       "    <tr>\n",
       "      <th>mean</th>\n",
       "      <td>NaN</td>\n",
       "      <td>NaN</td>\n",
       "      <td>132.202902</td>\n",
       "      <td>NaN</td>\n",
       "      <td>511.0</td>\n",
       "      <td>NaN</td>\n",
       "      <td>3010.0</td>\n",
       "      <td>NaN</td>\n",
       "      <td>2009.068238</td>\n",
       "      <td>2009.068238</td>\n",
       "      <td>NaN</td>\n",
       "      <td>2.963004e+04</td>\n",
       "      <td>NaN</td>\n",
       "      <td>NaN</td>\n",
       "      <td>NaN</td>\n",
       "    </tr>\n",
       "    <tr>\n",
       "      <th>std</th>\n",
       "      <td>NaN</td>\n",
       "      <td>NaN</td>\n",
       "      <td>75.854840</td>\n",
       "      <td>NaN</td>\n",
       "      <td>0.0</td>\n",
       "      <td>NaN</td>\n",
       "      <td>0.0</td>\n",
       "      <td>NaN</td>\n",
       "      <td>5.481539</td>\n",
       "      <td>5.481539</td>\n",
       "      <td>NaN</td>\n",
       "      <td>1.238029e+05</td>\n",
       "      <td>NaN</td>\n",
       "      <td>NaN</td>\n",
       "      <td>NaN</td>\n",
       "    </tr>\n",
       "    <tr>\n",
       "      <th>min</th>\n",
       "      <td>NaN</td>\n",
       "      <td>NaN</td>\n",
       "      <td>1.000000</td>\n",
       "      <td>NaN</td>\n",
       "      <td>511.0</td>\n",
       "      <td>NaN</td>\n",
       "      <td>3010.0</td>\n",
       "      <td>NaN</td>\n",
       "      <td>2000.000000</td>\n",
       "      <td>2000.000000</td>\n",
       "      <td>NaN</td>\n",
       "      <td>7.850000e-01</td>\n",
       "      <td>NaN</td>\n",
       "      <td>NaN</td>\n",
       "      <td>NaN</td>\n",
       "    </tr>\n",
       "    <tr>\n",
       "      <th>25%</th>\n",
       "      <td>NaN</td>\n",
       "      <td>NaN</td>\n",
       "      <td>68.000000</td>\n",
       "      <td>NaN</td>\n",
       "      <td>511.0</td>\n",
       "      <td>NaN</td>\n",
       "      <td>3010.0</td>\n",
       "      <td>NaN</td>\n",
       "      <td>2004.000000</td>\n",
       "      <td>2004.000000</td>\n",
       "      <td>NaN</td>\n",
       "      <td>3.921890e+02</td>\n",
       "      <td>NaN</td>\n",
       "      <td>NaN</td>\n",
       "      <td>NaN</td>\n",
       "    </tr>\n",
       "    <tr>\n",
       "      <th>50%</th>\n",
       "      <td>NaN</td>\n",
       "      <td>NaN</td>\n",
       "      <td>132.000000</td>\n",
       "      <td>NaN</td>\n",
       "      <td>511.0</td>\n",
       "      <td>NaN</td>\n",
       "      <td>3010.0</td>\n",
       "      <td>NaN</td>\n",
       "      <td>2009.000000</td>\n",
       "      <td>2009.000000</td>\n",
       "      <td>NaN</td>\n",
       "      <td>4.764741e+03</td>\n",
       "      <td>NaN</td>\n",
       "      <td>NaN</td>\n",
       "      <td>NaN</td>\n",
       "    </tr>\n",
       "    <tr>\n",
       "      <th>75%</th>\n",
       "      <td>NaN</td>\n",
       "      <td>NaN</td>\n",
       "      <td>195.000000</td>\n",
       "      <td>NaN</td>\n",
       "      <td>511.0</td>\n",
       "      <td>NaN</td>\n",
       "      <td>3010.0</td>\n",
       "      <td>NaN</td>\n",
       "      <td>2014.000000</td>\n",
       "      <td>2014.000000</td>\n",
       "      <td>NaN</td>\n",
       "      <td>1.821548e+04</td>\n",
       "      <td>NaN</td>\n",
       "      <td>NaN</td>\n",
       "      <td>NaN</td>\n",
       "    </tr>\n",
       "    <tr>\n",
       "      <th>max</th>\n",
       "      <td>NaN</td>\n",
       "      <td>NaN</td>\n",
       "      <td>299.000000</td>\n",
       "      <td>NaN</td>\n",
       "      <td>511.0</td>\n",
       "      <td>NaN</td>\n",
       "      <td>3010.0</td>\n",
       "      <td>NaN</td>\n",
       "      <td>2018.000000</td>\n",
       "      <td>2018.000000</td>\n",
       "      <td>NaN</td>\n",
       "      <td>1.427648e+06</td>\n",
       "      <td>NaN</td>\n",
       "      <td>NaN</td>\n",
       "      <td>NaN</td>\n",
       "    </tr>\n",
       "  </tbody>\n",
       "</table>\n",
       "</div>"
      ],
      "text/plain": [
       "       Code Domaine                       Domaine    Code zone         Zone  \\\n",
       "count          4411                          4411  4411.000000         4411   \n",
       "unique            1                             1          NaN          238   \n",
       "top              OA  Séries temporelles annuelles          NaN  Afghanistan   \n",
       "freq           4411                          4411          NaN           19   \n",
       "mean            NaN                           NaN   132.202902          NaN   \n",
       "std             NaN                           NaN    75.854840          NaN   \n",
       "min             NaN                           NaN     1.000000          NaN   \n",
       "25%             NaN                           NaN    68.000000          NaN   \n",
       "50%             NaN                           NaN   132.000000          NaN   \n",
       "75%             NaN                           NaN   195.000000          NaN   \n",
       "max             NaN                           NaN   299.000000          NaN   \n",
       "\n",
       "        Code Élément            Élément  Code Produit                 Produit  \\\n",
       "count         4411.0               4411        4411.0                    4411   \n",
       "unique           NaN                  1           NaN                       1   \n",
       "top              NaN  Population totale           NaN  Population-Estimations   \n",
       "freq             NaN               4411           NaN                    4411   \n",
       "mean           511.0                NaN        3010.0                     NaN   \n",
       "std              0.0                NaN           0.0                     NaN   \n",
       "min            511.0                NaN        3010.0                     NaN   \n",
       "25%            511.0                NaN        3010.0                     NaN   \n",
       "50%            511.0                NaN        3010.0                     NaN   \n",
       "75%            511.0                NaN        3010.0                     NaN   \n",
       "max            511.0                NaN        3010.0                     NaN   \n",
       "\n",
       "         Code année        Année           Unité        Valeur Symbole  \\\n",
       "count   4411.000000  4411.000000            4411  4.411000e+03    4411   \n",
       "unique          NaN          NaN               1           NaN       2   \n",
       "top             NaN          NaN  1000 personnes           NaN       X   \n",
       "freq            NaN          NaN            4411           NaN    4374   \n",
       "mean    2009.068238  2009.068238             NaN  2.963004e+04     NaN   \n",
       "std        5.481539     5.481539             NaN  1.238029e+05     NaN   \n",
       "min     2000.000000  2000.000000             NaN  7.850000e-01     NaN   \n",
       "25%     2004.000000  2004.000000             NaN  3.921890e+02     NaN   \n",
       "50%     2009.000000  2009.000000             NaN  4.764741e+03     NaN   \n",
       "75%     2014.000000  2014.000000             NaN  1.821548e+04     NaN   \n",
       "max     2018.000000  2018.000000             NaN  1.427648e+06     NaN   \n",
       "\n",
       "               Description du Symbole  \\\n",
       "count                            4411   \n",
       "unique                              2   \n",
       "top     Sources internationales sûres   \n",
       "freq                             4374   \n",
       "mean                              NaN   \n",
       "std                               NaN   \n",
       "min                               NaN   \n",
       "25%                               NaN   \n",
       "50%                               NaN   \n",
       "75%                               NaN   \n",
       "max                               NaN   \n",
       "\n",
       "                                                     Note  \n",
       "count                                                 258  \n",
       "unique                                                  1  \n",
       "top     UNDESA, Population Division – World Population...  \n",
       "freq                                                  258  \n",
       "mean                                                  NaN  \n",
       "std                                                   NaN  \n",
       "min                                                   NaN  \n",
       "25%                                                   NaN  \n",
       "50%                                                   NaN  \n",
       "75%                                                   NaN  \n",
       "max                                                   NaN  "
      ]
     },
     "execution_count": 18,
     "metadata": {},
     "output_type": "execute_result"
    }
   ],
   "source": [
    "population.describe(include='all')"
   ]
  },
  {
   "cell_type": "code",
   "execution_count": 19,
   "metadata": {},
   "outputs": [
    {
     "name": "stdout",
     "output_type": "stream",
     "text": [
      "<class 'pandas.core.frame.DataFrame'>\n",
      "RangeIndex: 4411 entries, 0 to 4410\n",
      "Data columns (total 15 columns):\n",
      " #   Column                  Non-Null Count  Dtype  \n",
      "---  ------                  --------------  -----  \n",
      " 0   Code Domaine            4411 non-null   object \n",
      " 1   Domaine                 4411 non-null   object \n",
      " 2   Code zone               4411 non-null   int64  \n",
      " 3   Zone                    4411 non-null   object \n",
      " 4   Code Élément            4411 non-null   int64  \n",
      " 5   Élément                 4411 non-null   object \n",
      " 6   Code Produit            4411 non-null   int64  \n",
      " 7   Produit                 4411 non-null   object \n",
      " 8   Code année              4411 non-null   int64  \n",
      " 9   Année                   4411 non-null   int64  \n",
      " 10  Unité                   4411 non-null   object \n",
      " 11  Valeur                  4411 non-null   float64\n",
      " 12  Symbole                 4411 non-null   object \n",
      " 13  Description du Symbole  4411 non-null   object \n",
      " 14  Note                    258 non-null    object \n",
      "dtypes: float64(1), int64(5), object(9)\n",
      "memory usage: 517.0+ KB\n"
     ]
    }
   ],
   "source": [
    "population.info()"
   ]
  },
  {
   "cell_type": "markdown",
   "metadata": {},
   "source": [
    "- On a la colonne **Année** qu'on va filtrer sur **2017.**\n",
    "- On a la colonne **Valeur** qui représente le nombre de la **population en milliers.**\n",
    "- On a aussi des colonnes inutiles qu'on va supprimées. "
   ]
  },
  {
   "cell_type": "markdown",
   "metadata": {},
   "source": [
    "### 2.2.3 - Nettoyage et préparation.\n",
    "- On va tout d'abord voir s'il y a des doublons"
   ]
  },
  {
   "cell_type": "code",
   "execution_count": 20,
   "metadata": {},
   "outputs": [
    {
     "data": {
      "text/plain": [
       "0"
      ]
     },
     "execution_count": 20,
     "metadata": {},
     "output_type": "execute_result"
    }
   ],
   "source": [
    "population.duplicated().sum()"
   ]
  },
  {
   "cell_type": "markdown",
   "metadata": {},
   "source": [
    "- Il n'y a pas de doublon."
   ]
  },
  {
   "cell_type": "code",
   "execution_count": 21,
   "metadata": {},
   "outputs": [
    {
     "data": {
      "text/html": [
       "<div>\n",
       "<style scoped>\n",
       "    .dataframe tbody tr th:only-of-type {\n",
       "        vertical-align: middle;\n",
       "    }\n",
       "\n",
       "    .dataframe tbody tr th {\n",
       "        vertical-align: top;\n",
       "    }\n",
       "\n",
       "    .dataframe thead th {\n",
       "        text-align: right;\n",
       "    }\n",
       "</style>\n",
       "<table border=\"1\" class=\"dataframe\">\n",
       "  <thead>\n",
       "    <tr style=\"text-align: right;\">\n",
       "      <th>Année</th>\n",
       "      <th>Zone</th>\n",
       "      <th>Population en 2017 (milliers de personnes)</th>\n",
       "    </tr>\n",
       "  </thead>\n",
       "  <tbody>\n",
       "    <tr>\n",
       "      <th>0</th>\n",
       "      <td>Afghanistan</td>\n",
       "      <td>36296.113</td>\n",
       "    </tr>\n",
       "    <tr>\n",
       "      <th>1</th>\n",
       "      <td>Afrique du Sud</td>\n",
       "      <td>57009.756</td>\n",
       "    </tr>\n",
       "    <tr>\n",
       "      <th>2</th>\n",
       "      <td>Albanie</td>\n",
       "      <td>2884.169</td>\n",
       "    </tr>\n",
       "    <tr>\n",
       "      <th>3</th>\n",
       "      <td>Algérie</td>\n",
       "      <td>41389.189</td>\n",
       "    </tr>\n",
       "    <tr>\n",
       "      <th>4</th>\n",
       "      <td>Allemagne</td>\n",
       "      <td>82658.409</td>\n",
       "    </tr>\n",
       "    <tr>\n",
       "      <th>...</th>\n",
       "      <td>...</td>\n",
       "      <td>...</td>\n",
       "    </tr>\n",
       "    <tr>\n",
       "      <th>233</th>\n",
       "      <td>Îles Salomon</td>\n",
       "      <td>636.039</td>\n",
       "    </tr>\n",
       "    <tr>\n",
       "      <th>234</th>\n",
       "      <td>Îles Turques-et-Caïques</td>\n",
       "      <td>37.115</td>\n",
       "    </tr>\n",
       "    <tr>\n",
       "      <th>235</th>\n",
       "      <td>Îles Vierges américaines</td>\n",
       "      <td>104.751</td>\n",
       "    </tr>\n",
       "    <tr>\n",
       "      <th>236</th>\n",
       "      <td>Îles Vierges britanniques</td>\n",
       "      <td>29.577</td>\n",
       "    </tr>\n",
       "    <tr>\n",
       "      <th>237</th>\n",
       "      <td>Îles Wallis-et-Futuna</td>\n",
       "      <td>11.900</td>\n",
       "    </tr>\n",
       "  </tbody>\n",
       "</table>\n",
       "<p>238 rows × 2 columns</p>\n",
       "</div>"
      ],
      "text/plain": [
       "Année                       Zone  Population en 2017 (milliers de personnes)\n",
       "0                    Afghanistan                                   36296.113\n",
       "1                 Afrique du Sud                                   57009.756\n",
       "2                        Albanie                                    2884.169\n",
       "3                        Algérie                                   41389.189\n",
       "4                      Allemagne                                   82658.409\n",
       "..                           ...                                         ...\n",
       "233                 Îles Salomon                                     636.039\n",
       "234      Îles Turques-et-Caïques                                      37.115\n",
       "235     Îles Vierges américaines                                     104.751\n",
       "236    Îles Vierges britanniques                                      29.577\n",
       "237        Îles Wallis-et-Futuna                                      11.900\n",
       "\n",
       "[238 rows x 2 columns]"
      ]
     },
     "execution_count": 21,
     "metadata": {},
     "output_type": "execute_result"
    }
   ],
   "source": [
    "# pivot de la table \n",
    "population = population.pivot_table(index=['Zone'], \n",
    "                                    columns='Année', \n",
    "                                    values='Valeur', \n",
    "                                    fill_value=0,) #Remplace les Nan en 0\n",
    "# La colonne zone est transformée en index par la méthode pivot_table. On la retransforme en colonne\n",
    "population.reset_index(inplace= True)\n",
    "# On filtre la colonne zone pour ne garder que les données concernant l'année 2017\n",
    "population = population[['Zone', 2017]]\n",
    "# renommer la colonne 2017\n",
    "population.rename(columns={2017: \"Population en 2017 (milliers de personnes)\"}, inplace=True)\n",
    "population"
   ]
  },
  {
   "cell_type": "markdown",
   "metadata": {},
   "source": [
    "- Maintenant que notre dataframe est propre, on va regarder les variables dans le détail."
   ]
  },
  {
   "cell_type": "markdown",
   "metadata": {},
   "source": [
    "### 2.2.4 - Analyse univariée\n",
    "#### Population"
   ]
  },
  {
   "cell_type": "code",
   "execution_count": 22,
   "metadata": {},
   "outputs": [
    {
     "name": "stdout",
     "output_type": "stream",
     "text": [
      "Description rapide\n",
      "--------------\n",
      "Count :                       238\n",
      "Moyenne :                     31714.85\n",
      "Ecart type :                  131369.77\n",
      "\n",
      "\n",
      "Minimum :                     0.0\n",
      "Quantile 25 % :               375.81\n",
      "Médiane :                     5030.32\n",
      "Quantile 75 % :               19023.03\n",
      "Maximum :                     1421021.79\n",
      "\n",
      "\n",
      "Valeur la plus représentée :  0.0\n",
      "\n",
      "\n",
      "--------------\n"
     ]
    },
    {
     "data": {
      "application/vnd.plotly.v1+json": {
       "config": {
        "plotlyServerURL": "https://plot.ly"
       },
       "data": [
        {
         "alignmentgroup": "True",
         "bingroup": "x",
         "hovertemplate": "Population en 2017 (milliers de personnes)=%{x}<br>count=%{y}<extra></extra>",
         "legendgroup": "",
         "marker": {
          "color": "#636efa",
          "pattern": {
           "shape": ""
          }
         },
         "name": "",
         "nbinsx": 50,
         "offsetgroup": "",
         "orientation": "v",
         "showlegend": false,
         "type": "histogram",
         "x": [
          36296.113,
          57009.756,
          2884.169,
          41389.189,
          82658.409,
          77.001,
          29816.766,
          14.584,
          95.426,
          275.186,
          33101.179,
          43937.14,
          2944.791,
          105.366,
          24584.62,
          8819.901,
          9845.32,
          381.755,
          1494.076,
          159685.424,
          286.232,
          11419.748,
          375.769,
          63.049,
          745.563,
          11192.855,
          25.401,
          3351.525,
          2205.08,
          424.473,
          207833.823,
          7102.444,
          19193.234,
          10827.019,
          9450.231,
          11175.198,
          537.498,
          16009.409,
          24566.073,
          36732.095,
          18470.439,
          7306.322,
          622.585,
          23674.546,
          1421021.791,
          1179.678,
          48909.839,
          813.892,
          5110.695,
          4949.954,
          4182.857,
          11339.254,
          161.997,
          24437.47,
          5732.274,
          944.099,
          71.458,
          6388.126,
          46647.428,
          1319.39,
          1124.805,
          877.459,
          5511.371,
          64842.509,
          145530.082,
          2064.823,
          2213.889,
          29121.465,
          33.728,
          110.874,
          56.481,
          10569.45,
          399.672,
          164.281,
          16914.97,
          12067.519,
          1262.002,
          1828.145,
          775.222,
          275.191,
          4008.716,
          10982.366,
          9429.013,
          9729.823,
          1338676.785,
          264650.963,
          80673.883,
          37552.781,
          4753.279,
          334.393,
          8243.848,
          60673.701,
          2920.848,
          127502.725,
          9785.843,
          18080.019,
          50221.142,
          6189.733,
          114.158,
          4056.099,
          2091.534,
          1951.097,
          6819.373,
          6580.724,
          4702.226,
          37.8,
          2845.414,
          591.91,
          2081.996,
          25570.512,
          31104.646,
          17670.196,
          496.402,
          18512.43,
          437.933,
          35581.255,
          375.948,
          1264.499,
          4282.57,
          252.957,
          124777.324,
          111.459,
          38.392,
          3113.786,
          4.984,
          627.563,
          28649.018,
          53382.523,
          2402.633,
          10.573,
          6384.846,
          21602.382,
          190873.244,
          1.609,
          5296.326,
          277.15,
          4702.034,
          27632.681,
          4665.928,
          41166.588,
          31959.785,
          207906.209,
          17.808,
          4747.227,
          4106.769,
          8438.036,
          6867.061,
          17021.347,
          105172.925,
          37953.18,
          276.102,
          3163.667,
          10288.527,
          31444.298,
          2724.728,
          19653.969,
          66727.461,
          11980.961,
          17095.678,
          4596.023,
          51096.415,
          4059.684,
          10513.104,
          81398.764,
          6953.035,
          25429.825,
          54660.339,
          876.134,
          552.615,
          9.784,
          52.045,
          33.671,
          36.56,
          5.887,
          0.793,
          109.827,
          6.008,
          180.954,
          195.352,
          55.62,
          207.089,
          8829.628,
          0,
          96.418,
          7488.423,
          5708.041,
          41.444,
          5447.9,
          2076.394,
          14589.179,
          40813.397,
          0,
          10910.763,
          21128.032,
          8455.804,
          570.496,
          9904.896,
          15419.355,
          8880.268,
          15016.753,
          10641.034,
          69209.81,
          1243.258,
          7698.474,
          1.3,
          101.998,
          1384.059,
          11433.443,
          5757.667,
          81116.45,
          11.37,
          44487.709,
          3436.641,
          285.51,
          29402.484,
          94600.648,
          27834.819,
          16853.599,
          14236.595,
          96442.591,
          9487.203,
          16785.361,
          3412.893,
          325084.756,
          106399.924,
          83.598,
          168.665,
          63.382,
          17.507,
          3.068,
          48.331,
          56.562,
          58.058,
          636.039,
          37.115,
          104.751,
          29.577,
          11.9
         ],
         "xaxis": "x",
         "yaxis": "y"
        },
        {
         "alignmentgroup": "True",
         "hovertemplate": "Population en 2017 (milliers de personnes)=%{x}<extra></extra>",
         "legendgroup": "",
         "marker": {
          "color": "#636efa"
         },
         "name": "",
         "notched": true,
         "offsetgroup": "",
         "showlegend": false,
         "type": "box",
         "x": [
          36296.113,
          57009.756,
          2884.169,
          41389.189,
          82658.409,
          77.001,
          29816.766,
          14.584,
          95.426,
          275.186,
          33101.179,
          43937.14,
          2944.791,
          105.366,
          24584.62,
          8819.901,
          9845.32,
          381.755,
          1494.076,
          159685.424,
          286.232,
          11419.748,
          375.769,
          63.049,
          745.563,
          11192.855,
          25.401,
          3351.525,
          2205.08,
          424.473,
          207833.823,
          7102.444,
          19193.234,
          10827.019,
          9450.231,
          11175.198,
          537.498,
          16009.409,
          24566.073,
          36732.095,
          18470.439,
          7306.322,
          622.585,
          23674.546,
          1421021.791,
          1179.678,
          48909.839,
          813.892,
          5110.695,
          4949.954,
          4182.857,
          11339.254,
          161.997,
          24437.47,
          5732.274,
          944.099,
          71.458,
          6388.126,
          46647.428,
          1319.39,
          1124.805,
          877.459,
          5511.371,
          64842.509,
          145530.082,
          2064.823,
          2213.889,
          29121.465,
          33.728,
          110.874,
          56.481,
          10569.45,
          399.672,
          164.281,
          16914.97,
          12067.519,
          1262.002,
          1828.145,
          775.222,
          275.191,
          4008.716,
          10982.366,
          9429.013,
          9729.823,
          1338676.785,
          264650.963,
          80673.883,
          37552.781,
          4753.279,
          334.393,
          8243.848,
          60673.701,
          2920.848,
          127502.725,
          9785.843,
          18080.019,
          50221.142,
          6189.733,
          114.158,
          4056.099,
          2091.534,
          1951.097,
          6819.373,
          6580.724,
          4702.226,
          37.8,
          2845.414,
          591.91,
          2081.996,
          25570.512,
          31104.646,
          17670.196,
          496.402,
          18512.43,
          437.933,
          35581.255,
          375.948,
          1264.499,
          4282.57,
          252.957,
          124777.324,
          111.459,
          38.392,
          3113.786,
          4.984,
          627.563,
          28649.018,
          53382.523,
          2402.633,
          10.573,
          6384.846,
          21602.382,
          190873.244,
          1.609,
          5296.326,
          277.15,
          4702.034,
          27632.681,
          4665.928,
          41166.588,
          31959.785,
          207906.209,
          17.808,
          4747.227,
          4106.769,
          8438.036,
          6867.061,
          17021.347,
          105172.925,
          37953.18,
          276.102,
          3163.667,
          10288.527,
          31444.298,
          2724.728,
          19653.969,
          66727.461,
          11980.961,
          17095.678,
          4596.023,
          51096.415,
          4059.684,
          10513.104,
          81398.764,
          6953.035,
          25429.825,
          54660.339,
          876.134,
          552.615,
          9.784,
          52.045,
          33.671,
          36.56,
          5.887,
          0.793,
          109.827,
          6.008,
          180.954,
          195.352,
          55.62,
          207.089,
          8829.628,
          0,
          96.418,
          7488.423,
          5708.041,
          41.444,
          5447.9,
          2076.394,
          14589.179,
          40813.397,
          0,
          10910.763,
          21128.032,
          8455.804,
          570.496,
          9904.896,
          15419.355,
          8880.268,
          15016.753,
          10641.034,
          69209.81,
          1243.258,
          7698.474,
          1.3,
          101.998,
          1384.059,
          11433.443,
          5757.667,
          81116.45,
          11.37,
          44487.709,
          3436.641,
          285.51,
          29402.484,
          94600.648,
          27834.819,
          16853.599,
          14236.595,
          96442.591,
          9487.203,
          16785.361,
          3412.893,
          325084.756,
          106399.924,
          83.598,
          168.665,
          63.382,
          17.507,
          3.068,
          48.331,
          56.562,
          58.058,
          636.039,
          37.115,
          104.751,
          29.577,
          11.9
         ],
         "xaxis": "x2",
         "yaxis": "y2"
        }
       ],
       "layout": {
        "barmode": "relative",
        "height": 540,
        "legend": {
         "tracegroupgap": 0
        },
        "margin": {
         "t": 60
        },
        "template": {
         "data": {
          "bar": [
           {
            "error_x": {
             "color": "#f2f5fa"
            },
            "error_y": {
             "color": "#f2f5fa"
            },
            "marker": {
             "line": {
              "color": "rgb(17,17,17)",
              "width": 0.5
             },
             "pattern": {
              "fillmode": "overlay",
              "size": 10,
              "solidity": 0.2
             }
            },
            "type": "bar"
           }
          ],
          "barpolar": [
           {
            "marker": {
             "line": {
              "color": "rgb(17,17,17)",
              "width": 0.5
             },
             "pattern": {
              "fillmode": "overlay",
              "size": 10,
              "solidity": 0.2
             }
            },
            "type": "barpolar"
           }
          ],
          "carpet": [
           {
            "aaxis": {
             "endlinecolor": "#A2B1C6",
             "gridcolor": "#506784",
             "linecolor": "#506784",
             "minorgridcolor": "#506784",
             "startlinecolor": "#A2B1C6"
            },
            "baxis": {
             "endlinecolor": "#A2B1C6",
             "gridcolor": "#506784",
             "linecolor": "#506784",
             "minorgridcolor": "#506784",
             "startlinecolor": "#A2B1C6"
            },
            "type": "carpet"
           }
          ],
          "choropleth": [
           {
            "colorbar": {
             "outlinewidth": 0,
             "ticks": ""
            },
            "type": "choropleth"
           }
          ],
          "contour": [
           {
            "colorbar": {
             "outlinewidth": 0,
             "ticks": ""
            },
            "colorscale": [
             [
              0,
              "#0d0887"
             ],
             [
              0.1111111111111111,
              "#46039f"
             ],
             [
              0.2222222222222222,
              "#7201a8"
             ],
             [
              0.3333333333333333,
              "#9c179e"
             ],
             [
              0.4444444444444444,
              "#bd3786"
             ],
             [
              0.5555555555555556,
              "#d8576b"
             ],
             [
              0.6666666666666666,
              "#ed7953"
             ],
             [
              0.7777777777777778,
              "#fb9f3a"
             ],
             [
              0.8888888888888888,
              "#fdca26"
             ],
             [
              1,
              "#f0f921"
             ]
            ],
            "type": "contour"
           }
          ],
          "contourcarpet": [
           {
            "colorbar": {
             "outlinewidth": 0,
             "ticks": ""
            },
            "type": "contourcarpet"
           }
          ],
          "heatmap": [
           {
            "colorbar": {
             "outlinewidth": 0,
             "ticks": ""
            },
            "colorscale": [
             [
              0,
              "#0d0887"
             ],
             [
              0.1111111111111111,
              "#46039f"
             ],
             [
              0.2222222222222222,
              "#7201a8"
             ],
             [
              0.3333333333333333,
              "#9c179e"
             ],
             [
              0.4444444444444444,
              "#bd3786"
             ],
             [
              0.5555555555555556,
              "#d8576b"
             ],
             [
              0.6666666666666666,
              "#ed7953"
             ],
             [
              0.7777777777777778,
              "#fb9f3a"
             ],
             [
              0.8888888888888888,
              "#fdca26"
             ],
             [
              1,
              "#f0f921"
             ]
            ],
            "type": "heatmap"
           }
          ],
          "heatmapgl": [
           {
            "colorbar": {
             "outlinewidth": 0,
             "ticks": ""
            },
            "colorscale": [
             [
              0,
              "#0d0887"
             ],
             [
              0.1111111111111111,
              "#46039f"
             ],
             [
              0.2222222222222222,
              "#7201a8"
             ],
             [
              0.3333333333333333,
              "#9c179e"
             ],
             [
              0.4444444444444444,
              "#bd3786"
             ],
             [
              0.5555555555555556,
              "#d8576b"
             ],
             [
              0.6666666666666666,
              "#ed7953"
             ],
             [
              0.7777777777777778,
              "#fb9f3a"
             ],
             [
              0.8888888888888888,
              "#fdca26"
             ],
             [
              1,
              "#f0f921"
             ]
            ],
            "type": "heatmapgl"
           }
          ],
          "histogram": [
           {
            "marker": {
             "pattern": {
              "fillmode": "overlay",
              "size": 10,
              "solidity": 0.2
             }
            },
            "type": "histogram"
           }
          ],
          "histogram2d": [
           {
            "colorbar": {
             "outlinewidth": 0,
             "ticks": ""
            },
            "colorscale": [
             [
              0,
              "#0d0887"
             ],
             [
              0.1111111111111111,
              "#46039f"
             ],
             [
              0.2222222222222222,
              "#7201a8"
             ],
             [
              0.3333333333333333,
              "#9c179e"
             ],
             [
              0.4444444444444444,
              "#bd3786"
             ],
             [
              0.5555555555555556,
              "#d8576b"
             ],
             [
              0.6666666666666666,
              "#ed7953"
             ],
             [
              0.7777777777777778,
              "#fb9f3a"
             ],
             [
              0.8888888888888888,
              "#fdca26"
             ],
             [
              1,
              "#f0f921"
             ]
            ],
            "type": "histogram2d"
           }
          ],
          "histogram2dcontour": [
           {
            "colorbar": {
             "outlinewidth": 0,
             "ticks": ""
            },
            "colorscale": [
             [
              0,
              "#0d0887"
             ],
             [
              0.1111111111111111,
              "#46039f"
             ],
             [
              0.2222222222222222,
              "#7201a8"
             ],
             [
              0.3333333333333333,
              "#9c179e"
             ],
             [
              0.4444444444444444,
              "#bd3786"
             ],
             [
              0.5555555555555556,
              "#d8576b"
             ],
             [
              0.6666666666666666,
              "#ed7953"
             ],
             [
              0.7777777777777778,
              "#fb9f3a"
             ],
             [
              0.8888888888888888,
              "#fdca26"
             ],
             [
              1,
              "#f0f921"
             ]
            ],
            "type": "histogram2dcontour"
           }
          ],
          "mesh3d": [
           {
            "colorbar": {
             "outlinewidth": 0,
             "ticks": ""
            },
            "type": "mesh3d"
           }
          ],
          "parcoords": [
           {
            "line": {
             "colorbar": {
              "outlinewidth": 0,
              "ticks": ""
             }
            },
            "type": "parcoords"
           }
          ],
          "pie": [
           {
            "automargin": true,
            "type": "pie"
           }
          ],
          "scatter": [
           {
            "marker": {
             "line": {
              "color": "#283442"
             }
            },
            "type": "scatter"
           }
          ],
          "scatter3d": [
           {
            "line": {
             "colorbar": {
              "outlinewidth": 0,
              "ticks": ""
             }
            },
            "marker": {
             "colorbar": {
              "outlinewidth": 0,
              "ticks": ""
             }
            },
            "type": "scatter3d"
           }
          ],
          "scattercarpet": [
           {
            "marker": {
             "colorbar": {
              "outlinewidth": 0,
              "ticks": ""
             }
            },
            "type": "scattercarpet"
           }
          ],
          "scattergeo": [
           {
            "marker": {
             "colorbar": {
              "outlinewidth": 0,
              "ticks": ""
             }
            },
            "type": "scattergeo"
           }
          ],
          "scattergl": [
           {
            "marker": {
             "line": {
              "color": "#283442"
             }
            },
            "type": "scattergl"
           }
          ],
          "scattermapbox": [
           {
            "marker": {
             "colorbar": {
              "outlinewidth": 0,
              "ticks": ""
             }
            },
            "type": "scattermapbox"
           }
          ],
          "scatterpolar": [
           {
            "marker": {
             "colorbar": {
              "outlinewidth": 0,
              "ticks": ""
             }
            },
            "type": "scatterpolar"
           }
          ],
          "scatterpolargl": [
           {
            "marker": {
             "colorbar": {
              "outlinewidth": 0,
              "ticks": ""
             }
            },
            "type": "scatterpolargl"
           }
          ],
          "scatterternary": [
           {
            "marker": {
             "colorbar": {
              "outlinewidth": 0,
              "ticks": ""
             }
            },
            "type": "scatterternary"
           }
          ],
          "surface": [
           {
            "colorbar": {
             "outlinewidth": 0,
             "ticks": ""
            },
            "colorscale": [
             [
              0,
              "#0d0887"
             ],
             [
              0.1111111111111111,
              "#46039f"
             ],
             [
              0.2222222222222222,
              "#7201a8"
             ],
             [
              0.3333333333333333,
              "#9c179e"
             ],
             [
              0.4444444444444444,
              "#bd3786"
             ],
             [
              0.5555555555555556,
              "#d8576b"
             ],
             [
              0.6666666666666666,
              "#ed7953"
             ],
             [
              0.7777777777777778,
              "#fb9f3a"
             ],
             [
              0.8888888888888888,
              "#fdca26"
             ],
             [
              1,
              "#f0f921"
             ]
            ],
            "type": "surface"
           }
          ],
          "table": [
           {
            "cells": {
             "fill": {
              "color": "#506784"
             },
             "line": {
              "color": "rgb(17,17,17)"
             }
            },
            "header": {
             "fill": {
              "color": "#2a3f5f"
             },
             "line": {
              "color": "rgb(17,17,17)"
             }
            },
            "type": "table"
           }
          ]
         },
         "layout": {
          "annotationdefaults": {
           "arrowcolor": "#f2f5fa",
           "arrowhead": 0,
           "arrowwidth": 1
          },
          "autotypenumbers": "strict",
          "coloraxis": {
           "colorbar": {
            "outlinewidth": 0,
            "ticks": ""
           }
          },
          "colorscale": {
           "diverging": [
            [
             0,
             "#8e0152"
            ],
            [
             0.1,
             "#c51b7d"
            ],
            [
             0.2,
             "#de77ae"
            ],
            [
             0.3,
             "#f1b6da"
            ],
            [
             0.4,
             "#fde0ef"
            ],
            [
             0.5,
             "#f7f7f7"
            ],
            [
             0.6,
             "#e6f5d0"
            ],
            [
             0.7,
             "#b8e186"
            ],
            [
             0.8,
             "#7fbc41"
            ],
            [
             0.9,
             "#4d9221"
            ],
            [
             1,
             "#276419"
            ]
           ],
           "sequential": [
            [
             0,
             "#0d0887"
            ],
            [
             0.1111111111111111,
             "#46039f"
            ],
            [
             0.2222222222222222,
             "#7201a8"
            ],
            [
             0.3333333333333333,
             "#9c179e"
            ],
            [
             0.4444444444444444,
             "#bd3786"
            ],
            [
             0.5555555555555556,
             "#d8576b"
            ],
            [
             0.6666666666666666,
             "#ed7953"
            ],
            [
             0.7777777777777778,
             "#fb9f3a"
            ],
            [
             0.8888888888888888,
             "#fdca26"
            ],
            [
             1,
             "#f0f921"
            ]
           ],
           "sequentialminus": [
            [
             0,
             "#0d0887"
            ],
            [
             0.1111111111111111,
             "#46039f"
            ],
            [
             0.2222222222222222,
             "#7201a8"
            ],
            [
             0.3333333333333333,
             "#9c179e"
            ],
            [
             0.4444444444444444,
             "#bd3786"
            ],
            [
             0.5555555555555556,
             "#d8576b"
            ],
            [
             0.6666666666666666,
             "#ed7953"
            ],
            [
             0.7777777777777778,
             "#fb9f3a"
            ],
            [
             0.8888888888888888,
             "#fdca26"
            ],
            [
             1,
             "#f0f921"
            ]
           ]
          },
          "colorway": [
           "#636efa",
           "#EF553B",
           "#00cc96",
           "#ab63fa",
           "#FFA15A",
           "#19d3f3",
           "#FF6692",
           "#B6E880",
           "#FF97FF",
           "#FECB52"
          ],
          "font": {
           "color": "#f2f5fa"
          },
          "geo": {
           "bgcolor": "rgb(17,17,17)",
           "lakecolor": "rgb(17,17,17)",
           "landcolor": "rgb(17,17,17)",
           "showlakes": true,
           "showland": true,
           "subunitcolor": "#506784"
          },
          "hoverlabel": {
           "align": "left"
          },
          "hovermode": "closest",
          "mapbox": {
           "style": "dark"
          },
          "paper_bgcolor": "rgb(17,17,17)",
          "plot_bgcolor": "rgb(17,17,17)",
          "polar": {
           "angularaxis": {
            "gridcolor": "#506784",
            "linecolor": "#506784",
            "ticks": ""
           },
           "bgcolor": "rgb(17,17,17)",
           "radialaxis": {
            "gridcolor": "#506784",
            "linecolor": "#506784",
            "ticks": ""
           }
          },
          "scene": {
           "xaxis": {
            "backgroundcolor": "rgb(17,17,17)",
            "gridcolor": "#506784",
            "gridwidth": 2,
            "linecolor": "#506784",
            "showbackground": true,
            "ticks": "",
            "zerolinecolor": "#C8D4E3"
           },
           "yaxis": {
            "backgroundcolor": "rgb(17,17,17)",
            "gridcolor": "#506784",
            "gridwidth": 2,
            "linecolor": "#506784",
            "showbackground": true,
            "ticks": "",
            "zerolinecolor": "#C8D4E3"
           },
           "zaxis": {
            "backgroundcolor": "rgb(17,17,17)",
            "gridcolor": "#506784",
            "gridwidth": 2,
            "linecolor": "#506784",
            "showbackground": true,
            "ticks": "",
            "zerolinecolor": "#C8D4E3"
           }
          },
          "shapedefaults": {
           "line": {
            "color": "#f2f5fa"
           }
          },
          "sliderdefaults": {
           "bgcolor": "#C8D4E3",
           "bordercolor": "rgb(17,17,17)",
           "borderwidth": 1,
           "tickwidth": 0
          },
          "ternary": {
           "aaxis": {
            "gridcolor": "#506784",
            "linecolor": "#506784",
            "ticks": ""
           },
           "baxis": {
            "gridcolor": "#506784",
            "linecolor": "#506784",
            "ticks": ""
           },
           "bgcolor": "rgb(17,17,17)",
           "caxis": {
            "gridcolor": "#506784",
            "linecolor": "#506784",
            "ticks": ""
           }
          },
          "title": {
           "x": 0.05
          },
          "updatemenudefaults": {
           "bgcolor": "#506784",
           "borderwidth": 0
          },
          "xaxis": {
           "automargin": true,
           "gridcolor": "#283442",
           "linecolor": "#506784",
           "ticks": "",
           "title": {
            "standoff": 15
           },
           "zerolinecolor": "#283442",
           "zerolinewidth": 2
          },
          "yaxis": {
           "automargin": true,
           "gridcolor": "#283442",
           "linecolor": "#506784",
           "ticks": "",
           "title": {
            "standoff": 15
           },
           "zerolinecolor": "#283442",
           "zerolinewidth": 2
          }
         }
        },
        "title": {
         "text": "Dispersion de la population"
        },
        "xaxis": {
         "anchor": "y",
         "domain": [
          0,
          1
         ],
         "linecolor": "#E0E2E5",
         "linewidth": 1,
         "showline": true,
         "title": {
          "text": "Population en 2017 (milliers de personnes)"
         }
        },
        "xaxis2": {
         "anchor": "y2",
         "domain": [
          0,
          1
         ],
         "linecolor": "#E0E2E5",
         "linewidth": 1,
         "matches": "x",
         "showgrid": true,
         "showline": true,
         "showticklabels": false
        },
        "yaxis": {
         "anchor": "x",
         "domain": [
          0,
          0.8316
         ],
         "title": {
          "text": "Count"
         }
        },
        "yaxis2": {
         "anchor": "x2",
         "domain": [
          0.8416,
          1
         ],
         "matches": "y2",
         "showgrid": false,
         "showline": false,
         "showticklabels": false,
         "ticks": ""
        }
       }
      }
     },
     "metadata": {},
     "output_type": "display_data"
    },
    {
     "name": "stdout",
     "output_type": "stream",
     "text": [
      "--------------------\n",
      "Évaluation de la distribution avec les coefficients d'assymétrie et de Kurtosis.\n",
      "Skewness: 9.328329313879022\n",
      "Kurtosis: 93.68920524061015\n",
      "--------------------\n"
     ]
    }
   ],
   "source": [
    "analyse_univarie(population, 'Population en 2017 (milliers de personnes)', 50, False, 'Dispersion de la population', 'Population en 2017 (milliers de personnes)')"
   ]
  },
  {
   "cell_type": "markdown",
   "metadata": {},
   "source": [
    "- On a des pays avec le nombre de population élevé."
   ]
  },
  {
   "cell_type": "code",
   "execution_count": 23,
   "metadata": {},
   "outputs": [
    {
     "data": {
      "text/html": [
       "<div>\n",
       "<style scoped>\n",
       "    .dataframe tbody tr th:only-of-type {\n",
       "        vertical-align: middle;\n",
       "    }\n",
       "\n",
       "    .dataframe tbody tr th {\n",
       "        vertical-align: top;\n",
       "    }\n",
       "\n",
       "    .dataframe thead th {\n",
       "        text-align: right;\n",
       "    }\n",
       "</style>\n",
       "<table border=\"1\" class=\"dataframe\">\n",
       "  <thead>\n",
       "    <tr style=\"text-align: right;\">\n",
       "      <th>Année</th>\n",
       "      <th>Zone</th>\n",
       "      <th>Population en 2017 (milliers de personnes)</th>\n",
       "    </tr>\n",
       "  </thead>\n",
       "  <tbody>\n",
       "    <tr>\n",
       "      <th>44</th>\n",
       "      <td>Chine, continentale</td>\n",
       "      <td>1421021.791</td>\n",
       "    </tr>\n",
       "    <tr>\n",
       "      <th>84</th>\n",
       "      <td>Inde</td>\n",
       "      <td>1338676.785</td>\n",
       "    </tr>\n",
       "    <tr>\n",
       "      <th>223</th>\n",
       "      <td>États-Unis d'Amérique</td>\n",
       "      <td>325084.756</td>\n",
       "    </tr>\n",
       "    <tr>\n",
       "      <th>85</th>\n",
       "      <td>Indonésie</td>\n",
       "      <td>264650.963</td>\n",
       "    </tr>\n",
       "    <tr>\n",
       "      <th>141</th>\n",
       "      <td>Pakistan</td>\n",
       "      <td>207906.209</td>\n",
       "    </tr>\n",
       "    <tr>\n",
       "      <th>30</th>\n",
       "      <td>Brésil</td>\n",
       "      <td>207833.823</td>\n",
       "    </tr>\n",
       "    <tr>\n",
       "      <th>132</th>\n",
       "      <td>Nigéria</td>\n",
       "      <td>190873.244</td>\n",
       "    </tr>\n",
       "    <tr>\n",
       "      <th>19</th>\n",
       "      <td>Bangladesh</td>\n",
       "      <td>159685.424</td>\n",
       "    </tr>\n",
       "    <tr>\n",
       "      <th>64</th>\n",
       "      <td>Fédération de Russie</td>\n",
       "      <td>145530.082</td>\n",
       "    </tr>\n",
       "    <tr>\n",
       "      <th>93</th>\n",
       "      <td>Japon</td>\n",
       "      <td>127502.725</td>\n",
       "    </tr>\n",
       "  </tbody>\n",
       "</table>\n",
       "</div>"
      ],
      "text/plain": [
       "Année                   Zone  Population en 2017 (milliers de personnes)\n",
       "44       Chine, continentale                                 1421021.791\n",
       "84                      Inde                                 1338676.785\n",
       "223    États-Unis d'Amérique                                  325084.756\n",
       "85                 Indonésie                                  264650.963\n",
       "141                 Pakistan                                  207906.209\n",
       "30                    Brésil                                  207833.823\n",
       "132                  Nigéria                                  190873.244\n",
       "19                Bangladesh                                  159685.424\n",
       "64      Fédération de Russie                                  145530.082\n",
       "93                     Japon                                  127502.725"
      ]
     },
     "execution_count": 23,
     "metadata": {},
     "output_type": "execute_result"
    }
   ],
   "source": [
    "# Renvoyer les 10 premières lignes avec les plus grandes valeurs dans la colonne 'Population 2017 (millier de personne)', dans ordre décroissant\n",
    "# Cette méthode est équivalente à df.sort_values() mais plus performante\n",
    "population.nlargest(n=10, columns=['Population en 2017 (milliers de personnes)'])"
   ]
  },
  {
   "cell_type": "markdown",
   "metadata": {},
   "source": [
    "- On a **10 pays** les plus peuplés du monde."
   ]
  },
  {
   "cell_type": "markdown",
   "metadata": {},
   "source": [
    "## 2.3 - Stabilité Politique\n",
    "### 2.3.1 - Import"
   ]
  },
  {
   "cell_type": "code",
   "execution_count": 24,
   "metadata": {},
   "outputs": [
    {
     "data": {
      "text/html": [
       "<div>\n",
       "<style scoped>\n",
       "    .dataframe tbody tr th:only-of-type {\n",
       "        vertical-align: middle;\n",
       "    }\n",
       "\n",
       "    .dataframe tbody tr th {\n",
       "        vertical-align: top;\n",
       "    }\n",
       "\n",
       "    .dataframe thead th {\n",
       "        text-align: right;\n",
       "    }\n",
       "</style>\n",
       "<table border=\"1\" class=\"dataframe\">\n",
       "  <thead>\n",
       "    <tr style=\"text-align: right;\">\n",
       "      <th></th>\n",
       "      <th>Code Domaine</th>\n",
       "      <th>Domaine</th>\n",
       "      <th>Code zone</th>\n",
       "      <th>Zone</th>\n",
       "      <th>Code Élément</th>\n",
       "      <th>Élément</th>\n",
       "      <th>Code Produit</th>\n",
       "      <th>Produit</th>\n",
       "      <th>Code année</th>\n",
       "      <th>Année</th>\n",
       "      <th>Unité</th>\n",
       "      <th>Valeur</th>\n",
       "      <th>Symbole</th>\n",
       "      <th>Description du Symbole</th>\n",
       "      <th>Note</th>\n",
       "    </tr>\n",
       "  </thead>\n",
       "  <tbody>\n",
       "    <tr>\n",
       "      <th>0</th>\n",
       "      <td>FS</td>\n",
       "      <td>Données de la sécurité alimentaire</td>\n",
       "      <td>2</td>\n",
       "      <td>Afghanistan</td>\n",
       "      <td>6125</td>\n",
       "      <td>Valeur</td>\n",
       "      <td>21032</td>\n",
       "      <td>Stabilité politique et absence de violence/ter...</td>\n",
       "      <td>2000</td>\n",
       "      <td>2000</td>\n",
       "      <td>indice</td>\n",
       "      <td>-2.44</td>\n",
       "      <td>X</td>\n",
       "      <td>Ciffre de sources internationales</td>\n",
       "      <td>NaN</td>\n",
       "    </tr>\n",
       "    <tr>\n",
       "      <th>1</th>\n",
       "      <td>FS</td>\n",
       "      <td>Données de la sécurité alimentaire</td>\n",
       "      <td>2</td>\n",
       "      <td>Afghanistan</td>\n",
       "      <td>6125</td>\n",
       "      <td>Valeur</td>\n",
       "      <td>21032</td>\n",
       "      <td>Stabilité politique et absence de violence/ter...</td>\n",
       "      <td>2002</td>\n",
       "      <td>2002</td>\n",
       "      <td>indice</td>\n",
       "      <td>-2.04</td>\n",
       "      <td>X</td>\n",
       "      <td>Ciffre de sources internationales</td>\n",
       "      <td>NaN</td>\n",
       "    </tr>\n",
       "    <tr>\n",
       "      <th>2</th>\n",
       "      <td>FS</td>\n",
       "      <td>Données de la sécurité alimentaire</td>\n",
       "      <td>2</td>\n",
       "      <td>Afghanistan</td>\n",
       "      <td>6125</td>\n",
       "      <td>Valeur</td>\n",
       "      <td>21032</td>\n",
       "      <td>Stabilité politique et absence de violence/ter...</td>\n",
       "      <td>2003</td>\n",
       "      <td>2003</td>\n",
       "      <td>indice</td>\n",
       "      <td>-2.20</td>\n",
       "      <td>X</td>\n",
       "      <td>Ciffre de sources internationales</td>\n",
       "      <td>NaN</td>\n",
       "    </tr>\n",
       "    <tr>\n",
       "      <th>3</th>\n",
       "      <td>FS</td>\n",
       "      <td>Données de la sécurité alimentaire</td>\n",
       "      <td>2</td>\n",
       "      <td>Afghanistan</td>\n",
       "      <td>6125</td>\n",
       "      <td>Valeur</td>\n",
       "      <td>21032</td>\n",
       "      <td>Stabilité politique et absence de violence/ter...</td>\n",
       "      <td>2004</td>\n",
       "      <td>2004</td>\n",
       "      <td>indice</td>\n",
       "      <td>-2.30</td>\n",
       "      <td>X</td>\n",
       "      <td>Ciffre de sources internationales</td>\n",
       "      <td>NaN</td>\n",
       "    </tr>\n",
       "    <tr>\n",
       "      <th>4</th>\n",
       "      <td>FS</td>\n",
       "      <td>Données de la sécurité alimentaire</td>\n",
       "      <td>2</td>\n",
       "      <td>Afghanistan</td>\n",
       "      <td>6125</td>\n",
       "      <td>Valeur</td>\n",
       "      <td>21032</td>\n",
       "      <td>Stabilité politique et absence de violence/ter...</td>\n",
       "      <td>2005</td>\n",
       "      <td>2005</td>\n",
       "      <td>indice</td>\n",
       "      <td>-2.07</td>\n",
       "      <td>X</td>\n",
       "      <td>Ciffre de sources internationales</td>\n",
       "      <td>NaN</td>\n",
       "    </tr>\n",
       "    <tr>\n",
       "      <th>...</th>\n",
       "      <td>...</td>\n",
       "      <td>...</td>\n",
       "      <td>...</td>\n",
       "      <td>...</td>\n",
       "      <td>...</td>\n",
       "      <td>...</td>\n",
       "      <td>...</td>\n",
       "      <td>...</td>\n",
       "      <td>...</td>\n",
       "      <td>...</td>\n",
       "      <td>...</td>\n",
       "      <td>...</td>\n",
       "      <td>...</td>\n",
       "      <td>...</td>\n",
       "      <td>...</td>\n",
       "    </tr>\n",
       "    <tr>\n",
       "      <th>3903</th>\n",
       "      <td>FS</td>\n",
       "      <td>Données de la sécurité alimentaire</td>\n",
       "      <td>181</td>\n",
       "      <td>Zimbabwe</td>\n",
       "      <td>6125</td>\n",
       "      <td>Valeur</td>\n",
       "      <td>21032</td>\n",
       "      <td>Stabilité politique et absence de violence/ter...</td>\n",
       "      <td>2016</td>\n",
       "      <td>2016</td>\n",
       "      <td>indice</td>\n",
       "      <td>-0.62</td>\n",
       "      <td>X</td>\n",
       "      <td>Ciffre de sources internationales</td>\n",
       "      <td>NaN</td>\n",
       "    </tr>\n",
       "    <tr>\n",
       "      <th>3904</th>\n",
       "      <td>FS</td>\n",
       "      <td>Données de la sécurité alimentaire</td>\n",
       "      <td>181</td>\n",
       "      <td>Zimbabwe</td>\n",
       "      <td>6125</td>\n",
       "      <td>Valeur</td>\n",
       "      <td>21032</td>\n",
       "      <td>Stabilité politique et absence de violence/ter...</td>\n",
       "      <td>2017</td>\n",
       "      <td>2017</td>\n",
       "      <td>indice</td>\n",
       "      <td>-0.71</td>\n",
       "      <td>X</td>\n",
       "      <td>Ciffre de sources internationales</td>\n",
       "      <td>NaN</td>\n",
       "    </tr>\n",
       "    <tr>\n",
       "      <th>3905</th>\n",
       "      <td>FS</td>\n",
       "      <td>Données de la sécurité alimentaire</td>\n",
       "      <td>181</td>\n",
       "      <td>Zimbabwe</td>\n",
       "      <td>6125</td>\n",
       "      <td>Valeur</td>\n",
       "      <td>21032</td>\n",
       "      <td>Stabilité politique et absence de violence/ter...</td>\n",
       "      <td>2018</td>\n",
       "      <td>2018</td>\n",
       "      <td>indice</td>\n",
       "      <td>-0.72</td>\n",
       "      <td>X</td>\n",
       "      <td>Ciffre de sources internationales</td>\n",
       "      <td>NaN</td>\n",
       "    </tr>\n",
       "    <tr>\n",
       "      <th>3906</th>\n",
       "      <td>FS</td>\n",
       "      <td>Données de la sécurité alimentaire</td>\n",
       "      <td>181</td>\n",
       "      <td>Zimbabwe</td>\n",
       "      <td>6125</td>\n",
       "      <td>Valeur</td>\n",
       "      <td>21032</td>\n",
       "      <td>Stabilité politique et absence de violence/ter...</td>\n",
       "      <td>2019</td>\n",
       "      <td>2019</td>\n",
       "      <td>indice</td>\n",
       "      <td>-0.96</td>\n",
       "      <td>X</td>\n",
       "      <td>Ciffre de sources internationales</td>\n",
       "      <td>NaN</td>\n",
       "    </tr>\n",
       "    <tr>\n",
       "      <th>3907</th>\n",
       "      <td>FS</td>\n",
       "      <td>Données de la sécurité alimentaire</td>\n",
       "      <td>181</td>\n",
       "      <td>Zimbabwe</td>\n",
       "      <td>6125</td>\n",
       "      <td>Valeur</td>\n",
       "      <td>21032</td>\n",
       "      <td>Stabilité politique et absence de violence/ter...</td>\n",
       "      <td>2020</td>\n",
       "      <td>2020</td>\n",
       "      <td>indice</td>\n",
       "      <td>-1.08</td>\n",
       "      <td>X</td>\n",
       "      <td>Ciffre de sources internationales</td>\n",
       "      <td>NaN</td>\n",
       "    </tr>\n",
       "  </tbody>\n",
       "</table>\n",
       "<p>3908 rows × 15 columns</p>\n",
       "</div>"
      ],
      "text/plain": [
       "     Code Domaine                             Domaine  Code zone         Zone  \\\n",
       "0              FS  Données de la sécurité alimentaire          2  Afghanistan   \n",
       "1              FS  Données de la sécurité alimentaire          2  Afghanistan   \n",
       "2              FS  Données de la sécurité alimentaire          2  Afghanistan   \n",
       "3              FS  Données de la sécurité alimentaire          2  Afghanistan   \n",
       "4              FS  Données de la sécurité alimentaire          2  Afghanistan   \n",
       "...           ...                                 ...        ...          ...   \n",
       "3903           FS  Données de la sécurité alimentaire        181     Zimbabwe   \n",
       "3904           FS  Données de la sécurité alimentaire        181     Zimbabwe   \n",
       "3905           FS  Données de la sécurité alimentaire        181     Zimbabwe   \n",
       "3906           FS  Données de la sécurité alimentaire        181     Zimbabwe   \n",
       "3907           FS  Données de la sécurité alimentaire        181     Zimbabwe   \n",
       "\n",
       "      Code Élément Élément  Code Produit  \\\n",
       "0             6125  Valeur         21032   \n",
       "1             6125  Valeur         21032   \n",
       "2             6125  Valeur         21032   \n",
       "3             6125  Valeur         21032   \n",
       "4             6125  Valeur         21032   \n",
       "...            ...     ...           ...   \n",
       "3903          6125  Valeur         21032   \n",
       "3904          6125  Valeur         21032   \n",
       "3905          6125  Valeur         21032   \n",
       "3906          6125  Valeur         21032   \n",
       "3907          6125  Valeur         21032   \n",
       "\n",
       "                                                Produit  Code année  Année  \\\n",
       "0     Stabilité politique et absence de violence/ter...        2000   2000   \n",
       "1     Stabilité politique et absence de violence/ter...        2002   2002   \n",
       "2     Stabilité politique et absence de violence/ter...        2003   2003   \n",
       "3     Stabilité politique et absence de violence/ter...        2004   2004   \n",
       "4     Stabilité politique et absence de violence/ter...        2005   2005   \n",
       "...                                                 ...         ...    ...   \n",
       "3903  Stabilité politique et absence de violence/ter...        2016   2016   \n",
       "3904  Stabilité politique et absence de violence/ter...        2017   2017   \n",
       "3905  Stabilité politique et absence de violence/ter...        2018   2018   \n",
       "3906  Stabilité politique et absence de violence/ter...        2019   2019   \n",
       "3907  Stabilité politique et absence de violence/ter...        2020   2020   \n",
       "\n",
       "       Unité  Valeur Symbole             Description du Symbole  Note  \n",
       "0     indice   -2.44       X  Ciffre de sources internationales   NaN  \n",
       "1     indice   -2.04       X  Ciffre de sources internationales   NaN  \n",
       "2     indice   -2.20       X  Ciffre de sources internationales   NaN  \n",
       "3     indice   -2.30       X  Ciffre de sources internationales   NaN  \n",
       "4     indice   -2.07       X  Ciffre de sources internationales   NaN  \n",
       "...      ...     ...     ...                                ...   ...  \n",
       "3903  indice   -0.62       X  Ciffre de sources internationales   NaN  \n",
       "3904  indice   -0.71       X  Ciffre de sources internationales   NaN  \n",
       "3905  indice   -0.72       X  Ciffre de sources internationales   NaN  \n",
       "3906  indice   -0.96       X  Ciffre de sources internationales   NaN  \n",
       "3907  indice   -1.08       X  Ciffre de sources internationales   NaN  \n",
       "\n",
       "[3908 rows x 15 columns]"
      ]
     },
     "execution_count": 24,
     "metadata": {},
     "output_type": "execute_result"
    }
   ],
   "source": [
    "political_stability=pd.read_csv(r\"C:\\Users\\imadk\\Downloads\\DAN-P9-data\\DAN-P9-data\\FAOSTAT_data_fr_3-30-2023.csv\", sep=',')\n",
    "political_stability"
   ]
  },
  {
   "cell_type": "code",
   "execution_count": 25,
   "metadata": {},
   "outputs": [
    {
     "data": {
      "text/html": [
       "<div>\n",
       "<style scoped>\n",
       "    .dataframe tbody tr th:only-of-type {\n",
       "        vertical-align: middle;\n",
       "    }\n",
       "\n",
       "    .dataframe tbody tr th {\n",
       "        vertical-align: top;\n",
       "    }\n",
       "\n",
       "    .dataframe thead th {\n",
       "        text-align: right;\n",
       "    }\n",
       "</style>\n",
       "<table border=\"1\" class=\"dataframe\">\n",
       "  <thead>\n",
       "    <tr style=\"text-align: right;\">\n",
       "      <th></th>\n",
       "      <th>Code Domaine</th>\n",
       "      <th>Domaine</th>\n",
       "      <th>Code zone</th>\n",
       "      <th>Zone</th>\n",
       "      <th>Code Élément</th>\n",
       "      <th>Élément</th>\n",
       "      <th>Code Produit</th>\n",
       "      <th>Produit</th>\n",
       "      <th>Code année</th>\n",
       "      <th>Année</th>\n",
       "      <th>Unité</th>\n",
       "      <th>Valeur</th>\n",
       "      <th>Symbole</th>\n",
       "      <th>Description du Symbole</th>\n",
       "      <th>Note</th>\n",
       "    </tr>\n",
       "  </thead>\n",
       "  <tbody>\n",
       "    <tr>\n",
       "      <th>count</th>\n",
       "      <td>3908</td>\n",
       "      <td>3908</td>\n",
       "      <td>3908.000000</td>\n",
       "      <td>3908</td>\n",
       "      <td>3908.0</td>\n",
       "      <td>3908</td>\n",
       "      <td>3908.0</td>\n",
       "      <td>3908</td>\n",
       "      <td>3908.000000</td>\n",
       "      <td>3908.000000</td>\n",
       "      <td>3908</td>\n",
       "      <td>3908.000000</td>\n",
       "      <td>3908</td>\n",
       "      <td>3908</td>\n",
       "      <td>0.0</td>\n",
       "    </tr>\n",
       "    <tr>\n",
       "      <th>unique</th>\n",
       "      <td>1</td>\n",
       "      <td>1</td>\n",
       "      <td>NaN</td>\n",
       "      <td>199</td>\n",
       "      <td>NaN</td>\n",
       "      <td>1</td>\n",
       "      <td>NaN</td>\n",
       "      <td>1</td>\n",
       "      <td>NaN</td>\n",
       "      <td>NaN</td>\n",
       "      <td>1</td>\n",
       "      <td>NaN</td>\n",
       "      <td>1</td>\n",
       "      <td>1</td>\n",
       "      <td>NaN</td>\n",
       "    </tr>\n",
       "    <tr>\n",
       "      <th>top</th>\n",
       "      <td>FS</td>\n",
       "      <td>Données de la sécurité alimentaire</td>\n",
       "      <td>NaN</td>\n",
       "      <td>Afghanistan</td>\n",
       "      <td>NaN</td>\n",
       "      <td>Valeur</td>\n",
       "      <td>NaN</td>\n",
       "      <td>Stabilité politique et absence de violence/ter...</td>\n",
       "      <td>NaN</td>\n",
       "      <td>NaN</td>\n",
       "      <td>indice</td>\n",
       "      <td>NaN</td>\n",
       "      <td>X</td>\n",
       "      <td>Ciffre de sources internationales</td>\n",
       "      <td>NaN</td>\n",
       "    </tr>\n",
       "    <tr>\n",
       "      <th>freq</th>\n",
       "      <td>3908</td>\n",
       "      <td>3908</td>\n",
       "      <td>NaN</td>\n",
       "      <td>20</td>\n",
       "      <td>NaN</td>\n",
       "      <td>3908</td>\n",
       "      <td>NaN</td>\n",
       "      <td>3908</td>\n",
       "      <td>NaN</td>\n",
       "      <td>NaN</td>\n",
       "      <td>3908</td>\n",
       "      <td>NaN</td>\n",
       "      <td>3908</td>\n",
       "      <td>3908</td>\n",
       "      <td>NaN</td>\n",
       "    </tr>\n",
       "    <tr>\n",
       "      <th>mean</th>\n",
       "      <td>NaN</td>\n",
       "      <td>NaN</td>\n",
       "      <td>127.986438</td>\n",
       "      <td>NaN</td>\n",
       "      <td>6125.0</td>\n",
       "      <td>NaN</td>\n",
       "      <td>21032.0</td>\n",
       "      <td>NaN</td>\n",
       "      <td>2010.542733</td>\n",
       "      <td>2010.542733</td>\n",
       "      <td>NaN</td>\n",
       "      <td>-0.050000</td>\n",
       "      <td>NaN</td>\n",
       "      <td>NaN</td>\n",
       "      <td>NaN</td>\n",
       "    </tr>\n",
       "    <tr>\n",
       "      <th>std</th>\n",
       "      <td>NaN</td>\n",
       "      <td>NaN</td>\n",
       "      <td>75.020769</td>\n",
       "      <td>NaN</td>\n",
       "      <td>0.0</td>\n",
       "      <td>NaN</td>\n",
       "      <td>0.0</td>\n",
       "      <td>NaN</td>\n",
       "      <td>5.827217</td>\n",
       "      <td>5.827217</td>\n",
       "      <td>NaN</td>\n",
       "      <td>0.997415</td>\n",
       "      <td>NaN</td>\n",
       "      <td>NaN</td>\n",
       "      <td>NaN</td>\n",
       "    </tr>\n",
       "    <tr>\n",
       "      <th>min</th>\n",
       "      <td>NaN</td>\n",
       "      <td>NaN</td>\n",
       "      <td>1.000000</td>\n",
       "      <td>NaN</td>\n",
       "      <td>6125.0</td>\n",
       "      <td>NaN</td>\n",
       "      <td>21032.0</td>\n",
       "      <td>NaN</td>\n",
       "      <td>2000.000000</td>\n",
       "      <td>2000.000000</td>\n",
       "      <td>NaN</td>\n",
       "      <td>-3.310000</td>\n",
       "      <td>NaN</td>\n",
       "      <td>NaN</td>\n",
       "      <td>NaN</td>\n",
       "    </tr>\n",
       "    <tr>\n",
       "      <th>25%</th>\n",
       "      <td>NaN</td>\n",
       "      <td>NaN</td>\n",
       "      <td>61.000000</td>\n",
       "      <td>NaN</td>\n",
       "      <td>6125.0</td>\n",
       "      <td>NaN</td>\n",
       "      <td>21032.0</td>\n",
       "      <td>NaN</td>\n",
       "      <td>2006.000000</td>\n",
       "      <td>2006.000000</td>\n",
       "      <td>NaN</td>\n",
       "      <td>-0.710000</td>\n",
       "      <td>NaN</td>\n",
       "      <td>NaN</td>\n",
       "      <td>NaN</td>\n",
       "    </tr>\n",
       "    <tr>\n",
       "      <th>50%</th>\n",
       "      <td>NaN</td>\n",
       "      <td>NaN</td>\n",
       "      <td>127.000000</td>\n",
       "      <td>NaN</td>\n",
       "      <td>6125.0</td>\n",
       "      <td>NaN</td>\n",
       "      <td>21032.0</td>\n",
       "      <td>NaN</td>\n",
       "      <td>2011.000000</td>\n",
       "      <td>2011.000000</td>\n",
       "      <td>NaN</td>\n",
       "      <td>0.055000</td>\n",
       "      <td>NaN</td>\n",
       "      <td>NaN</td>\n",
       "      <td>NaN</td>\n",
       "    </tr>\n",
       "    <tr>\n",
       "      <th>75%</th>\n",
       "      <td>NaN</td>\n",
       "      <td>NaN</td>\n",
       "      <td>193.000000</td>\n",
       "      <td>NaN</td>\n",
       "      <td>6125.0</td>\n",
       "      <td>NaN</td>\n",
       "      <td>21032.0</td>\n",
       "      <td>NaN</td>\n",
       "      <td>2016.000000</td>\n",
       "      <td>2016.000000</td>\n",
       "      <td>NaN</td>\n",
       "      <td>0.800000</td>\n",
       "      <td>NaN</td>\n",
       "      <td>NaN</td>\n",
       "      <td>NaN</td>\n",
       "    </tr>\n",
       "    <tr>\n",
       "      <th>max</th>\n",
       "      <td>NaN</td>\n",
       "      <td>NaN</td>\n",
       "      <td>299.000000</td>\n",
       "      <td>NaN</td>\n",
       "      <td>6125.0</td>\n",
       "      <td>NaN</td>\n",
       "      <td>21032.0</td>\n",
       "      <td>NaN</td>\n",
       "      <td>2020.000000</td>\n",
       "      <td>2020.000000</td>\n",
       "      <td>NaN</td>\n",
       "      <td>1.970000</td>\n",
       "      <td>NaN</td>\n",
       "      <td>NaN</td>\n",
       "      <td>NaN</td>\n",
       "    </tr>\n",
       "  </tbody>\n",
       "</table>\n",
       "</div>"
      ],
      "text/plain": [
       "       Code Domaine                             Domaine    Code zone  \\\n",
       "count          3908                                3908  3908.000000   \n",
       "unique            1                                   1          NaN   \n",
       "top              FS  Données de la sécurité alimentaire          NaN   \n",
       "freq           3908                                3908          NaN   \n",
       "mean            NaN                                 NaN   127.986438   \n",
       "std             NaN                                 NaN    75.020769   \n",
       "min             NaN                                 NaN     1.000000   \n",
       "25%             NaN                                 NaN    61.000000   \n",
       "50%             NaN                                 NaN   127.000000   \n",
       "75%             NaN                                 NaN   193.000000   \n",
       "max             NaN                                 NaN   299.000000   \n",
       "\n",
       "               Zone  Code Élément Élément  Code Produit  \\\n",
       "count          3908        3908.0    3908        3908.0   \n",
       "unique          199           NaN       1           NaN   \n",
       "top     Afghanistan           NaN  Valeur           NaN   \n",
       "freq             20           NaN    3908           NaN   \n",
       "mean            NaN        6125.0     NaN       21032.0   \n",
       "std             NaN           0.0     NaN           0.0   \n",
       "min             NaN        6125.0     NaN       21032.0   \n",
       "25%             NaN        6125.0     NaN       21032.0   \n",
       "50%             NaN        6125.0     NaN       21032.0   \n",
       "75%             NaN        6125.0     NaN       21032.0   \n",
       "max             NaN        6125.0     NaN       21032.0   \n",
       "\n",
       "                                                  Produit   Code année  \\\n",
       "count                                                3908  3908.000000   \n",
       "unique                                                  1          NaN   \n",
       "top     Stabilité politique et absence de violence/ter...          NaN   \n",
       "freq                                                 3908          NaN   \n",
       "mean                                                  NaN  2010.542733   \n",
       "std                                                   NaN     5.827217   \n",
       "min                                                   NaN  2000.000000   \n",
       "25%                                                   NaN  2006.000000   \n",
       "50%                                                   NaN  2011.000000   \n",
       "75%                                                   NaN  2016.000000   \n",
       "max                                                   NaN  2020.000000   \n",
       "\n",
       "              Année   Unité       Valeur Symbole  \\\n",
       "count   3908.000000    3908  3908.000000    3908   \n",
       "unique          NaN       1          NaN       1   \n",
       "top             NaN  indice          NaN       X   \n",
       "freq            NaN    3908          NaN    3908   \n",
       "mean    2010.542733     NaN    -0.050000     NaN   \n",
       "std        5.827217     NaN     0.997415     NaN   \n",
       "min     2000.000000     NaN    -3.310000     NaN   \n",
       "25%     2006.000000     NaN    -0.710000     NaN   \n",
       "50%     2011.000000     NaN     0.055000     NaN   \n",
       "75%     2016.000000     NaN     0.800000     NaN   \n",
       "max     2020.000000     NaN     1.970000     NaN   \n",
       "\n",
       "                   Description du Symbole  Note  \n",
       "count                                3908   0.0  \n",
       "unique                                  1   NaN  \n",
       "top     Ciffre de sources internationales   NaN  \n",
       "freq                                 3908   NaN  \n",
       "mean                                  NaN   NaN  \n",
       "std                                   NaN   NaN  \n",
       "min                                   NaN   NaN  \n",
       "25%                                   NaN   NaN  \n",
       "50%                                   NaN   NaN  \n",
       "75%                                   NaN   NaN  \n",
       "max                                   NaN   NaN  "
      ]
     },
     "execution_count": 25,
     "metadata": {},
     "output_type": "execute_result"
    }
   ],
   "source": [
    "political_stability.describe(include= 'all')"
   ]
  },
  {
   "cell_type": "code",
   "execution_count": 26,
   "metadata": {},
   "outputs": [
    {
     "name": "stdout",
     "output_type": "stream",
     "text": [
      "<class 'pandas.core.frame.DataFrame'>\n",
      "RangeIndex: 3908 entries, 0 to 3907\n",
      "Data columns (total 15 columns):\n",
      " #   Column                  Non-Null Count  Dtype  \n",
      "---  ------                  --------------  -----  \n",
      " 0   Code Domaine            3908 non-null   object \n",
      " 1   Domaine                 3908 non-null   object \n",
      " 2   Code zone               3908 non-null   int64  \n",
      " 3   Zone                    3908 non-null   object \n",
      " 4   Code Élément            3908 non-null   int64  \n",
      " 5   Élément                 3908 non-null   object \n",
      " 6   Code Produit            3908 non-null   int64  \n",
      " 7   Produit                 3908 non-null   object \n",
      " 8   Code année              3908 non-null   int64  \n",
      " 9   Année                   3908 non-null   int64  \n",
      " 10  Unité                   3908 non-null   object \n",
      " 11  Valeur                  3908 non-null   float64\n",
      " 12  Symbole                 3908 non-null   object \n",
      " 13  Description du Symbole  3908 non-null   object \n",
      " 14  Note                    0 non-null      float64\n",
      "dtypes: float64(2), int64(5), object(8)\n",
      "memory usage: 458.1+ KB\n"
     ]
    }
   ],
   "source": [
    "political_stability.info()"
   ]
  },
  {
   "cell_type": "markdown",
   "metadata": {},
   "source": [
    "- On a colonne **Zone** qui repésente le **nom du pays** qui sera la clé de liaison.\n",
    "- On a la colonne **Année** qu'on va filtrer sur l'année **2017.**\n",
    "- On a la colonne **Valeur** qui représente **l'indice de la stabilité politique.**\n",
    "- On a aussi plusieurs colonnes inutiles qu'on supprimera."
   ]
  },
  {
   "cell_type": "markdown",
   "metadata": {},
   "source": [
    "### 2.3.2 - Nettoyage et préparation"
   ]
  },
  {
   "cell_type": "code",
   "execution_count": 27,
   "metadata": {},
   "outputs": [
    {
     "data": {
      "text/html": [
       "<div>\n",
       "<style scoped>\n",
       "    .dataframe tbody tr th:only-of-type {\n",
       "        vertical-align: middle;\n",
       "    }\n",
       "\n",
       "    .dataframe tbody tr th {\n",
       "        vertical-align: top;\n",
       "    }\n",
       "\n",
       "    .dataframe thead th {\n",
       "        text-align: right;\n",
       "    }\n",
       "</style>\n",
       "<table border=\"1\" class=\"dataframe\">\n",
       "  <thead>\n",
       "    <tr style=\"text-align: right;\">\n",
       "      <th></th>\n",
       "      <th>Code Domaine</th>\n",
       "      <th>Domaine</th>\n",
       "      <th>Code zone</th>\n",
       "      <th>Zone</th>\n",
       "      <th>Code Élément</th>\n",
       "      <th>Élément</th>\n",
       "      <th>Code Produit</th>\n",
       "      <th>Produit</th>\n",
       "      <th>Code année</th>\n",
       "      <th>Année</th>\n",
       "      <th>Unité</th>\n",
       "      <th>Valeur</th>\n",
       "      <th>Symbole</th>\n",
       "      <th>Description du Symbole</th>\n",
       "      <th>Note</th>\n",
       "    </tr>\n",
       "  </thead>\n",
       "  <tbody>\n",
       "    <tr>\n",
       "      <th>16</th>\n",
       "      <td>FS</td>\n",
       "      <td>Données de la sécurité alimentaire</td>\n",
       "      <td>2</td>\n",
       "      <td>Afghanistan</td>\n",
       "      <td>6125</td>\n",
       "      <td>Valeur</td>\n",
       "      <td>21032</td>\n",
       "      <td>Stabilité politique et absence de violence/ter...</td>\n",
       "      <td>2017</td>\n",
       "      <td>2017</td>\n",
       "      <td>indice</td>\n",
       "      <td>-2.80</td>\n",
       "      <td>X</td>\n",
       "      <td>Ciffre de sources internationales</td>\n",
       "      <td>NaN</td>\n",
       "    </tr>\n",
       "    <tr>\n",
       "      <th>36</th>\n",
       "      <td>FS</td>\n",
       "      <td>Données de la sécurité alimentaire</td>\n",
       "      <td>202</td>\n",
       "      <td>Afrique du Sud</td>\n",
       "      <td>6125</td>\n",
       "      <td>Valeur</td>\n",
       "      <td>21032</td>\n",
       "      <td>Stabilité politique et absence de violence/ter...</td>\n",
       "      <td>2017</td>\n",
       "      <td>2017</td>\n",
       "      <td>indice</td>\n",
       "      <td>-0.28</td>\n",
       "      <td>X</td>\n",
       "      <td>Ciffre de sources internationales</td>\n",
       "      <td>NaN</td>\n",
       "    </tr>\n",
       "    <tr>\n",
       "      <th>56</th>\n",
       "      <td>FS</td>\n",
       "      <td>Données de la sécurité alimentaire</td>\n",
       "      <td>3</td>\n",
       "      <td>Albanie</td>\n",
       "      <td>6125</td>\n",
       "      <td>Valeur</td>\n",
       "      <td>21032</td>\n",
       "      <td>Stabilité politique et absence de violence/ter...</td>\n",
       "      <td>2017</td>\n",
       "      <td>2017</td>\n",
       "      <td>indice</td>\n",
       "      <td>0.38</td>\n",
       "      <td>X</td>\n",
       "      <td>Ciffre de sources internationales</td>\n",
       "      <td>NaN</td>\n",
       "    </tr>\n",
       "    <tr>\n",
       "      <th>76</th>\n",
       "      <td>FS</td>\n",
       "      <td>Données de la sécurité alimentaire</td>\n",
       "      <td>4</td>\n",
       "      <td>Algérie</td>\n",
       "      <td>6125</td>\n",
       "      <td>Valeur</td>\n",
       "      <td>21032</td>\n",
       "      <td>Stabilité politique et absence de violence/ter...</td>\n",
       "      <td>2017</td>\n",
       "      <td>2017</td>\n",
       "      <td>indice</td>\n",
       "      <td>-0.92</td>\n",
       "      <td>X</td>\n",
       "      <td>Ciffre de sources internationales</td>\n",
       "      <td>NaN</td>\n",
       "    </tr>\n",
       "    <tr>\n",
       "      <th>96</th>\n",
       "      <td>FS</td>\n",
       "      <td>Données de la sécurité alimentaire</td>\n",
       "      <td>79</td>\n",
       "      <td>Allemagne</td>\n",
       "      <td>6125</td>\n",
       "      <td>Valeur</td>\n",
       "      <td>21032</td>\n",
       "      <td>Stabilité politique et absence de violence/ter...</td>\n",
       "      <td>2017</td>\n",
       "      <td>2017</td>\n",
       "      <td>indice</td>\n",
       "      <td>0.59</td>\n",
       "      <td>X</td>\n",
       "      <td>Ciffre de sources internationales</td>\n",
       "      <td>NaN</td>\n",
       "    </tr>\n",
       "    <tr>\n",
       "      <th>...</th>\n",
       "      <td>...</td>\n",
       "      <td>...</td>\n",
       "      <td>...</td>\n",
       "      <td>...</td>\n",
       "      <td>...</td>\n",
       "      <td>...</td>\n",
       "      <td>...</td>\n",
       "      <td>...</td>\n",
       "      <td>...</td>\n",
       "      <td>...</td>\n",
       "      <td>...</td>\n",
       "      <td>...</td>\n",
       "      <td>...</td>\n",
       "      <td>...</td>\n",
       "      <td>...</td>\n",
       "    </tr>\n",
       "    <tr>\n",
       "      <th>3824</th>\n",
       "      <td>FS</td>\n",
       "      <td>Données de la sécurité alimentaire</td>\n",
       "      <td>236</td>\n",
       "      <td>Venezuela (République bolivarienne du)</td>\n",
       "      <td>6125</td>\n",
       "      <td>Valeur</td>\n",
       "      <td>21032</td>\n",
       "      <td>Stabilité politique et absence de violence/ter...</td>\n",
       "      <td>2017</td>\n",
       "      <td>2017</td>\n",
       "      <td>indice</td>\n",
       "      <td>-1.27</td>\n",
       "      <td>X</td>\n",
       "      <td>Ciffre de sources internationales</td>\n",
       "      <td>NaN</td>\n",
       "    </tr>\n",
       "    <tr>\n",
       "      <th>3844</th>\n",
       "      <td>FS</td>\n",
       "      <td>Données de la sécurité alimentaire</td>\n",
       "      <td>237</td>\n",
       "      <td>Viet Nam</td>\n",
       "      <td>6125</td>\n",
       "      <td>Valeur</td>\n",
       "      <td>21032</td>\n",
       "      <td>Stabilité politique et absence de violence/ter...</td>\n",
       "      <td>2017</td>\n",
       "      <td>2017</td>\n",
       "      <td>indice</td>\n",
       "      <td>0.23</td>\n",
       "      <td>X</td>\n",
       "      <td>Ciffre de sources internationales</td>\n",
       "      <td>NaN</td>\n",
       "    </tr>\n",
       "    <tr>\n",
       "      <th>3864</th>\n",
       "      <td>FS</td>\n",
       "      <td>Données de la sécurité alimentaire</td>\n",
       "      <td>249</td>\n",
       "      <td>Yémen</td>\n",
       "      <td>6125</td>\n",
       "      <td>Valeur</td>\n",
       "      <td>21032</td>\n",
       "      <td>Stabilité politique et absence de violence/ter...</td>\n",
       "      <td>2017</td>\n",
       "      <td>2017</td>\n",
       "      <td>indice</td>\n",
       "      <td>-2.94</td>\n",
       "      <td>X</td>\n",
       "      <td>Ciffre de sources internationales</td>\n",
       "      <td>NaN</td>\n",
       "    </tr>\n",
       "    <tr>\n",
       "      <th>3884</th>\n",
       "      <td>FS</td>\n",
       "      <td>Données de la sécurité alimentaire</td>\n",
       "      <td>251</td>\n",
       "      <td>Zambie</td>\n",
       "      <td>6125</td>\n",
       "      <td>Valeur</td>\n",
       "      <td>21032</td>\n",
       "      <td>Stabilité politique et absence de violence/ter...</td>\n",
       "      <td>2017</td>\n",
       "      <td>2017</td>\n",
       "      <td>indice</td>\n",
       "      <td>0.15</td>\n",
       "      <td>X</td>\n",
       "      <td>Ciffre de sources internationales</td>\n",
       "      <td>NaN</td>\n",
       "    </tr>\n",
       "    <tr>\n",
       "      <th>3904</th>\n",
       "      <td>FS</td>\n",
       "      <td>Données de la sécurité alimentaire</td>\n",
       "      <td>181</td>\n",
       "      <td>Zimbabwe</td>\n",
       "      <td>6125</td>\n",
       "      <td>Valeur</td>\n",
       "      <td>21032</td>\n",
       "      <td>Stabilité politique et absence de violence/ter...</td>\n",
       "      <td>2017</td>\n",
       "      <td>2017</td>\n",
       "      <td>indice</td>\n",
       "      <td>-0.71</td>\n",
       "      <td>X</td>\n",
       "      <td>Ciffre de sources internationales</td>\n",
       "      <td>NaN</td>\n",
       "    </tr>\n",
       "  </tbody>\n",
       "</table>\n",
       "<p>197 rows × 15 columns</p>\n",
       "</div>"
      ],
      "text/plain": [
       "     Code Domaine                             Domaine  Code zone  \\\n",
       "16             FS  Données de la sécurité alimentaire          2   \n",
       "36             FS  Données de la sécurité alimentaire        202   \n",
       "56             FS  Données de la sécurité alimentaire          3   \n",
       "76             FS  Données de la sécurité alimentaire          4   \n",
       "96             FS  Données de la sécurité alimentaire         79   \n",
       "...           ...                                 ...        ...   \n",
       "3824           FS  Données de la sécurité alimentaire        236   \n",
       "3844           FS  Données de la sécurité alimentaire        237   \n",
       "3864           FS  Données de la sécurité alimentaire        249   \n",
       "3884           FS  Données de la sécurité alimentaire        251   \n",
       "3904           FS  Données de la sécurité alimentaire        181   \n",
       "\n",
       "                                        Zone  Code Élément Élément  \\\n",
       "16                               Afghanistan          6125  Valeur   \n",
       "36                            Afrique du Sud          6125  Valeur   \n",
       "56                                   Albanie          6125  Valeur   \n",
       "76                                   Algérie          6125  Valeur   \n",
       "96                                 Allemagne          6125  Valeur   \n",
       "...                                      ...           ...     ...   \n",
       "3824  Venezuela (République bolivarienne du)          6125  Valeur   \n",
       "3844                                Viet Nam          6125  Valeur   \n",
       "3864                                   Yémen          6125  Valeur   \n",
       "3884                                  Zambie          6125  Valeur   \n",
       "3904                                Zimbabwe          6125  Valeur   \n",
       "\n",
       "      Code Produit                                            Produit  \\\n",
       "16           21032  Stabilité politique et absence de violence/ter...   \n",
       "36           21032  Stabilité politique et absence de violence/ter...   \n",
       "56           21032  Stabilité politique et absence de violence/ter...   \n",
       "76           21032  Stabilité politique et absence de violence/ter...   \n",
       "96           21032  Stabilité politique et absence de violence/ter...   \n",
       "...            ...                                                ...   \n",
       "3824         21032  Stabilité politique et absence de violence/ter...   \n",
       "3844         21032  Stabilité politique et absence de violence/ter...   \n",
       "3864         21032  Stabilité politique et absence de violence/ter...   \n",
       "3884         21032  Stabilité politique et absence de violence/ter...   \n",
       "3904         21032  Stabilité politique et absence de violence/ter...   \n",
       "\n",
       "      Code année  Année   Unité  Valeur Symbole  \\\n",
       "16          2017   2017  indice   -2.80       X   \n",
       "36          2017   2017  indice   -0.28       X   \n",
       "56          2017   2017  indice    0.38       X   \n",
       "76          2017   2017  indice   -0.92       X   \n",
       "96          2017   2017  indice    0.59       X   \n",
       "...          ...    ...     ...     ...     ...   \n",
       "3824        2017   2017  indice   -1.27       X   \n",
       "3844        2017   2017  indice    0.23       X   \n",
       "3864        2017   2017  indice   -2.94       X   \n",
       "3884        2017   2017  indice    0.15       X   \n",
       "3904        2017   2017  indice   -0.71       X   \n",
       "\n",
       "                 Description du Symbole  Note  \n",
       "16    Ciffre de sources internationales   NaN  \n",
       "36    Ciffre de sources internationales   NaN  \n",
       "56    Ciffre de sources internationales   NaN  \n",
       "76    Ciffre de sources internationales   NaN  \n",
       "96    Ciffre de sources internationales   NaN  \n",
       "...                                 ...   ...  \n",
       "3824  Ciffre de sources internationales   NaN  \n",
       "3844  Ciffre de sources internationales   NaN  \n",
       "3864  Ciffre de sources internationales   NaN  \n",
       "3884  Ciffre de sources internationales   NaN  \n",
       "3904  Ciffre de sources internationales   NaN  \n",
       "\n",
       "[197 rows x 15 columns]"
      ]
     },
     "execution_count": 27,
     "metadata": {},
     "output_type": "execute_result"
    }
   ],
   "source": [
    "# On filtre la colonne 'Année' pour ne garder que les données de 2017\n",
    "political_stability = political_stability.loc[political_stability['Année']== 2017]\n",
    "political_stability"
   ]
  },
  {
   "cell_type": "markdown",
   "metadata": {},
   "source": [
    "- On va tout d'abord voir s'il y a des doublons"
   ]
  },
  {
   "cell_type": "code",
   "execution_count": 28,
   "metadata": {},
   "outputs": [
    {
     "data": {
      "text/plain": [
       "0"
      ]
     },
     "execution_count": 28,
     "metadata": {},
     "output_type": "execute_result"
    }
   ],
   "source": [
    "political_stability.duplicated().sum()"
   ]
  },
  {
   "cell_type": "markdown",
   "metadata": {},
   "source": [
    "- Il n'y a aucun doublon"
   ]
  },
  {
   "cell_type": "code",
   "execution_count": 29,
   "metadata": {},
   "outputs": [
    {
     "data": {
      "text/html": [
       "<div>\n",
       "<style scoped>\n",
       "    .dataframe tbody tr th:only-of-type {\n",
       "        vertical-align: middle;\n",
       "    }\n",
       "\n",
       "    .dataframe tbody tr th {\n",
       "        vertical-align: top;\n",
       "    }\n",
       "\n",
       "    .dataframe thead th {\n",
       "        text-align: right;\n",
       "    }\n",
       "</style>\n",
       "<table border=\"1\" class=\"dataframe\">\n",
       "  <thead>\n",
       "    <tr style=\"text-align: right;\">\n",
       "      <th></th>\n",
       "      <th>Zone</th>\n",
       "      <th>Stabilité politique</th>\n",
       "    </tr>\n",
       "  </thead>\n",
       "  <tbody>\n",
       "    <tr>\n",
       "      <th>16</th>\n",
       "      <td>Afghanistan</td>\n",
       "      <td>-2.80</td>\n",
       "    </tr>\n",
       "    <tr>\n",
       "      <th>36</th>\n",
       "      <td>Afrique du Sud</td>\n",
       "      <td>-0.28</td>\n",
       "    </tr>\n",
       "    <tr>\n",
       "      <th>56</th>\n",
       "      <td>Albanie</td>\n",
       "      <td>0.38</td>\n",
       "    </tr>\n",
       "    <tr>\n",
       "      <th>76</th>\n",
       "      <td>Algérie</td>\n",
       "      <td>-0.92</td>\n",
       "    </tr>\n",
       "    <tr>\n",
       "      <th>96</th>\n",
       "      <td>Allemagne</td>\n",
       "      <td>0.59</td>\n",
       "    </tr>\n",
       "    <tr>\n",
       "      <th>...</th>\n",
       "      <td>...</td>\n",
       "      <td>...</td>\n",
       "    </tr>\n",
       "    <tr>\n",
       "      <th>3824</th>\n",
       "      <td>Venezuela (République bolivarienne du)</td>\n",
       "      <td>-1.27</td>\n",
       "    </tr>\n",
       "    <tr>\n",
       "      <th>3844</th>\n",
       "      <td>Viet Nam</td>\n",
       "      <td>0.23</td>\n",
       "    </tr>\n",
       "    <tr>\n",
       "      <th>3864</th>\n",
       "      <td>Yémen</td>\n",
       "      <td>-2.94</td>\n",
       "    </tr>\n",
       "    <tr>\n",
       "      <th>3884</th>\n",
       "      <td>Zambie</td>\n",
       "      <td>0.15</td>\n",
       "    </tr>\n",
       "    <tr>\n",
       "      <th>3904</th>\n",
       "      <td>Zimbabwe</td>\n",
       "      <td>-0.71</td>\n",
       "    </tr>\n",
       "  </tbody>\n",
       "</table>\n",
       "<p>197 rows × 2 columns</p>\n",
       "</div>"
      ],
      "text/plain": [
       "                                        Zone  Stabilité politique\n",
       "16                               Afghanistan                -2.80\n",
       "36                            Afrique du Sud                -0.28\n",
       "56                                   Albanie                 0.38\n",
       "76                                   Algérie                -0.92\n",
       "96                                 Allemagne                 0.59\n",
       "...                                      ...                  ...\n",
       "3824  Venezuela (République bolivarienne du)                -1.27\n",
       "3844                                Viet Nam                 0.23\n",
       "3864                                   Yémen                -2.94\n",
       "3884                                  Zambie                 0.15\n",
       "3904                                Zimbabwe                -0.71\n",
       "\n",
       "[197 rows x 2 columns]"
      ]
     },
     "execution_count": 29,
     "metadata": {},
     "output_type": "execute_result"
    }
   ],
   "source": [
    "# On garde les colonnes 'Zone' et 'Année'\n",
    "political_stability = political_stability[['Zone', 'Valeur']].copy()\n",
    "# On renomme la colonne 'Valeur'\n",
    "political_stability.rename(columns={'Valeur' : 'Stabilité politique'}, inplace=True)\n",
    "\n",
    "political_stability"
   ]
  },
  {
   "cell_type": "markdown",
   "metadata": {},
   "source": [
    "- Maintenant que notre dataframe est propre, on va regarder les variables dans le détail."
   ]
  },
  {
   "cell_type": "markdown",
   "metadata": {},
   "source": [
    "### 2.3.3 - Analyse univariée\n",
    "#### Stabilité politique"
   ]
  },
  {
   "cell_type": "code",
   "execution_count": 30,
   "metadata": {},
   "outputs": [
    {
     "name": "stdout",
     "output_type": "stream",
     "text": [
      "Description rapide\n",
      "--------------\n",
      "Count :                       197\n",
      "Moyenne :                     -0.06\n",
      "Ecart type :                  0.99\n",
      "\n",
      "\n",
      "Minimum :                     -2.94\n",
      "Quantile 25 % :               -0.65\n",
      "Médiane :                     0.04\n",
      "Quantile 75 % :               0.77\n",
      "Maximum :                     1.92\n",
      "\n",
      "\n",
      "Valeur la plus représentée :  0.87\n",
      "\n",
      "\n",
      "--------------\n"
     ]
    },
    {
     "data": {
      "application/vnd.plotly.v1+json": {
       "config": {
        "plotlyServerURL": "https://plot.ly"
       },
       "data": [
        {
         "alignmentgroup": "True",
         "bingroup": "x",
         "hovertemplate": "Stabilité politique=%{x}<br>count=%{y}<extra></extra>",
         "legendgroup": "",
         "marker": {
          "color": "#636efa",
          "pattern": {
           "shape": ""
          }
         },
         "name": "",
         "nbinsx": 50,
         "offsetgroup": "",
         "orientation": "v",
         "showlegend": false,
         "type": "histogram",
         "x": [
          -2.8,
          -0.28,
          0.38,
          -0.92,
          0.59,
          1.42,
          -0.38,
          0.75,
          -0.64,
          0.17,
          -0.62,
          0.9,
          1.05,
          -0.75,
          0.99,
          -0.96,
          -1.26,
          0.97,
          -0.05,
          0.43,
          0.04,
          0.03,
          1,
          1.12,
          -0.28,
          -0.35,
          1.02,
          -0.47,
          1.16,
          0.33,
          -0.93,
          -2.01,
          0.77,
          0.09,
          -1.1,
          1.1,
          0.42,
          0.83,
          1.43,
          0.86,
          0.54,
          -0.77,
          0.04,
          -0.53,
          0.61,
          -1.09,
          0.69,
          0.65,
          0.87,
          -0.74,
          1.2,
          -1.42,
          -0.26,
          0.62,
          -0.07,
          -0.73,
          0.28,
          0.65,
          -0.27,
          0.29,
          -1.68,
          -0.64,
          0.62,
          1.08,
          0.28,
          -0.1,
          -0.08,
          -0.37,
          0.09,
          -0.07,
          1.01,
          1.92,
          -0.65,
          -0.7,
          -0.17,
          -0.5,
          -0.04,
          -0.67,
          -0.56,
          0.81,
          0.87,
          0.2,
          -0.76,
          -0.5,
          -0.93,
          -2.31,
          1,
          1.35,
          -0.89,
          0.31,
          0.31,
          1.11,
          -0.45,
          0.03,
          -1.13,
          -0.38,
          0.88,
          -0.05,
          -0.19,
          0.46,
          -1.63,
          -0.33,
          -2.36,
          0.78,
          1.33,
          -0.25,
          -0.3,
          0.12,
          -0.25,
          0.23,
          -1.91,
          1.25,
          -0.37,
          0.97,
          -0.63,
          -0.8,
          1.18,
          0.79,
          -0.06,
          -0.93,
          -1.08,
          0.63,
          0.52,
          -0.61,
          -0.05,
          -1.27,
          -2,
          1.17,
          1.6,
          0.75,
          -0.57,
          -0.24,
          -2.41,
          0.87,
          -1.66,
          0.39,
          -0.7,
          0,
          0.92,
          -0.26,
          -1.19,
          0.52,
          0.48,
          1.12,
          0.66,
          -2.62,
          -2.01,
          0.39,
          -0.32,
          -2.3,
          0.4,
          0.16,
          -0.5,
          -0.56,
          0.06,
          0.39,
          0.09,
          0.99,
          0.65,
          0.89,
          1.18,
          1.22,
          0.19,
          -0.05,
          0.09,
          0.79,
          -0.04,
          1.62,
          0.91,
          0.87,
          -2.26,
          -1.98,
          -2.45,
          -0.07,
          0.98,
          1.26,
          0.13,
          -0.67,
          -1.29,
          1,
          -0.75,
          0.07,
          -0.88,
          0.79,
          0.28,
          -1.02,
          -0.13,
          -1.79,
          1.24,
          -1.87,
          1.05,
          0.7,
          -1.27,
          0.23,
          -2.94,
          0.15,
          -0.71
         ],
         "xaxis": "x",
         "yaxis": "y"
        },
        {
         "alignmentgroup": "True",
         "hovertemplate": "Stabilité politique=%{x}<extra></extra>",
         "legendgroup": "",
         "marker": {
          "color": "#636efa"
         },
         "name": "",
         "notched": true,
         "offsetgroup": "",
         "showlegend": false,
         "type": "box",
         "x": [
          -2.8,
          -0.28,
          0.38,
          -0.92,
          0.59,
          1.42,
          -0.38,
          0.75,
          -0.64,
          0.17,
          -0.62,
          0.9,
          1.05,
          -0.75,
          0.99,
          -0.96,
          -1.26,
          0.97,
          -0.05,
          0.43,
          0.04,
          0.03,
          1,
          1.12,
          -0.28,
          -0.35,
          1.02,
          -0.47,
          1.16,
          0.33,
          -0.93,
          -2.01,
          0.77,
          0.09,
          -1.1,
          1.1,
          0.42,
          0.83,
          1.43,
          0.86,
          0.54,
          -0.77,
          0.04,
          -0.53,
          0.61,
          -1.09,
          0.69,
          0.65,
          0.87,
          -0.74,
          1.2,
          -1.42,
          -0.26,
          0.62,
          -0.07,
          -0.73,
          0.28,
          0.65,
          -0.27,
          0.29,
          -1.68,
          -0.64,
          0.62,
          1.08,
          0.28,
          -0.1,
          -0.08,
          -0.37,
          0.09,
          -0.07,
          1.01,
          1.92,
          -0.65,
          -0.7,
          -0.17,
          -0.5,
          -0.04,
          -0.67,
          -0.56,
          0.81,
          0.87,
          0.2,
          -0.76,
          -0.5,
          -0.93,
          -2.31,
          1,
          1.35,
          -0.89,
          0.31,
          0.31,
          1.11,
          -0.45,
          0.03,
          -1.13,
          -0.38,
          0.88,
          -0.05,
          -0.19,
          0.46,
          -1.63,
          -0.33,
          -2.36,
          0.78,
          1.33,
          -0.25,
          -0.3,
          0.12,
          -0.25,
          0.23,
          -1.91,
          1.25,
          -0.37,
          0.97,
          -0.63,
          -0.8,
          1.18,
          0.79,
          -0.06,
          -0.93,
          -1.08,
          0.63,
          0.52,
          -0.61,
          -0.05,
          -1.27,
          -2,
          1.17,
          1.6,
          0.75,
          -0.57,
          -0.24,
          -2.41,
          0.87,
          -1.66,
          0.39,
          -0.7,
          0,
          0.92,
          -0.26,
          -1.19,
          0.52,
          0.48,
          1.12,
          0.66,
          -2.62,
          -2.01,
          0.39,
          -0.32,
          -2.3,
          0.4,
          0.16,
          -0.5,
          -0.56,
          0.06,
          0.39,
          0.09,
          0.99,
          0.65,
          0.89,
          1.18,
          1.22,
          0.19,
          -0.05,
          0.09,
          0.79,
          -0.04,
          1.62,
          0.91,
          0.87,
          -2.26,
          -1.98,
          -2.45,
          -0.07,
          0.98,
          1.26,
          0.13,
          -0.67,
          -1.29,
          1,
          -0.75,
          0.07,
          -0.88,
          0.79,
          0.28,
          -1.02,
          -0.13,
          -1.79,
          1.24,
          -1.87,
          1.05,
          0.7,
          -1.27,
          0.23,
          -2.94,
          0.15,
          -0.71
         ],
         "xaxis": "x2",
         "yaxis": "y2"
        }
       ],
       "layout": {
        "barmode": "relative",
        "height": 540,
        "legend": {
         "tracegroupgap": 0
        },
        "margin": {
         "t": 60
        },
        "template": {
         "data": {
          "bar": [
           {
            "error_x": {
             "color": "#f2f5fa"
            },
            "error_y": {
             "color": "#f2f5fa"
            },
            "marker": {
             "line": {
              "color": "rgb(17,17,17)",
              "width": 0.5
             },
             "pattern": {
              "fillmode": "overlay",
              "size": 10,
              "solidity": 0.2
             }
            },
            "type": "bar"
           }
          ],
          "barpolar": [
           {
            "marker": {
             "line": {
              "color": "rgb(17,17,17)",
              "width": 0.5
             },
             "pattern": {
              "fillmode": "overlay",
              "size": 10,
              "solidity": 0.2
             }
            },
            "type": "barpolar"
           }
          ],
          "carpet": [
           {
            "aaxis": {
             "endlinecolor": "#A2B1C6",
             "gridcolor": "#506784",
             "linecolor": "#506784",
             "minorgridcolor": "#506784",
             "startlinecolor": "#A2B1C6"
            },
            "baxis": {
             "endlinecolor": "#A2B1C6",
             "gridcolor": "#506784",
             "linecolor": "#506784",
             "minorgridcolor": "#506784",
             "startlinecolor": "#A2B1C6"
            },
            "type": "carpet"
           }
          ],
          "choropleth": [
           {
            "colorbar": {
             "outlinewidth": 0,
             "ticks": ""
            },
            "type": "choropleth"
           }
          ],
          "contour": [
           {
            "colorbar": {
             "outlinewidth": 0,
             "ticks": ""
            },
            "colorscale": [
             [
              0,
              "#0d0887"
             ],
             [
              0.1111111111111111,
              "#46039f"
             ],
             [
              0.2222222222222222,
              "#7201a8"
             ],
             [
              0.3333333333333333,
              "#9c179e"
             ],
             [
              0.4444444444444444,
              "#bd3786"
             ],
             [
              0.5555555555555556,
              "#d8576b"
             ],
             [
              0.6666666666666666,
              "#ed7953"
             ],
             [
              0.7777777777777778,
              "#fb9f3a"
             ],
             [
              0.8888888888888888,
              "#fdca26"
             ],
             [
              1,
              "#f0f921"
             ]
            ],
            "type": "contour"
           }
          ],
          "contourcarpet": [
           {
            "colorbar": {
             "outlinewidth": 0,
             "ticks": ""
            },
            "type": "contourcarpet"
           }
          ],
          "heatmap": [
           {
            "colorbar": {
             "outlinewidth": 0,
             "ticks": ""
            },
            "colorscale": [
             [
              0,
              "#0d0887"
             ],
             [
              0.1111111111111111,
              "#46039f"
             ],
             [
              0.2222222222222222,
              "#7201a8"
             ],
             [
              0.3333333333333333,
              "#9c179e"
             ],
             [
              0.4444444444444444,
              "#bd3786"
             ],
             [
              0.5555555555555556,
              "#d8576b"
             ],
             [
              0.6666666666666666,
              "#ed7953"
             ],
             [
              0.7777777777777778,
              "#fb9f3a"
             ],
             [
              0.8888888888888888,
              "#fdca26"
             ],
             [
              1,
              "#f0f921"
             ]
            ],
            "type": "heatmap"
           }
          ],
          "heatmapgl": [
           {
            "colorbar": {
             "outlinewidth": 0,
             "ticks": ""
            },
            "colorscale": [
             [
              0,
              "#0d0887"
             ],
             [
              0.1111111111111111,
              "#46039f"
             ],
             [
              0.2222222222222222,
              "#7201a8"
             ],
             [
              0.3333333333333333,
              "#9c179e"
             ],
             [
              0.4444444444444444,
              "#bd3786"
             ],
             [
              0.5555555555555556,
              "#d8576b"
             ],
             [
              0.6666666666666666,
              "#ed7953"
             ],
             [
              0.7777777777777778,
              "#fb9f3a"
             ],
             [
              0.8888888888888888,
              "#fdca26"
             ],
             [
              1,
              "#f0f921"
             ]
            ],
            "type": "heatmapgl"
           }
          ],
          "histogram": [
           {
            "marker": {
             "pattern": {
              "fillmode": "overlay",
              "size": 10,
              "solidity": 0.2
             }
            },
            "type": "histogram"
           }
          ],
          "histogram2d": [
           {
            "colorbar": {
             "outlinewidth": 0,
             "ticks": ""
            },
            "colorscale": [
             [
              0,
              "#0d0887"
             ],
             [
              0.1111111111111111,
              "#46039f"
             ],
             [
              0.2222222222222222,
              "#7201a8"
             ],
             [
              0.3333333333333333,
              "#9c179e"
             ],
             [
              0.4444444444444444,
              "#bd3786"
             ],
             [
              0.5555555555555556,
              "#d8576b"
             ],
             [
              0.6666666666666666,
              "#ed7953"
             ],
             [
              0.7777777777777778,
              "#fb9f3a"
             ],
             [
              0.8888888888888888,
              "#fdca26"
             ],
             [
              1,
              "#f0f921"
             ]
            ],
            "type": "histogram2d"
           }
          ],
          "histogram2dcontour": [
           {
            "colorbar": {
             "outlinewidth": 0,
             "ticks": ""
            },
            "colorscale": [
             [
              0,
              "#0d0887"
             ],
             [
              0.1111111111111111,
              "#46039f"
             ],
             [
              0.2222222222222222,
              "#7201a8"
             ],
             [
              0.3333333333333333,
              "#9c179e"
             ],
             [
              0.4444444444444444,
              "#bd3786"
             ],
             [
              0.5555555555555556,
              "#d8576b"
             ],
             [
              0.6666666666666666,
              "#ed7953"
             ],
             [
              0.7777777777777778,
              "#fb9f3a"
             ],
             [
              0.8888888888888888,
              "#fdca26"
             ],
             [
              1,
              "#f0f921"
             ]
            ],
            "type": "histogram2dcontour"
           }
          ],
          "mesh3d": [
           {
            "colorbar": {
             "outlinewidth": 0,
             "ticks": ""
            },
            "type": "mesh3d"
           }
          ],
          "parcoords": [
           {
            "line": {
             "colorbar": {
              "outlinewidth": 0,
              "ticks": ""
             }
            },
            "type": "parcoords"
           }
          ],
          "pie": [
           {
            "automargin": true,
            "type": "pie"
           }
          ],
          "scatter": [
           {
            "marker": {
             "line": {
              "color": "#283442"
             }
            },
            "type": "scatter"
           }
          ],
          "scatter3d": [
           {
            "line": {
             "colorbar": {
              "outlinewidth": 0,
              "ticks": ""
             }
            },
            "marker": {
             "colorbar": {
              "outlinewidth": 0,
              "ticks": ""
             }
            },
            "type": "scatter3d"
           }
          ],
          "scattercarpet": [
           {
            "marker": {
             "colorbar": {
              "outlinewidth": 0,
              "ticks": ""
             }
            },
            "type": "scattercarpet"
           }
          ],
          "scattergeo": [
           {
            "marker": {
             "colorbar": {
              "outlinewidth": 0,
              "ticks": ""
             }
            },
            "type": "scattergeo"
           }
          ],
          "scattergl": [
           {
            "marker": {
             "line": {
              "color": "#283442"
             }
            },
            "type": "scattergl"
           }
          ],
          "scattermapbox": [
           {
            "marker": {
             "colorbar": {
              "outlinewidth": 0,
              "ticks": ""
             }
            },
            "type": "scattermapbox"
           }
          ],
          "scatterpolar": [
           {
            "marker": {
             "colorbar": {
              "outlinewidth": 0,
              "ticks": ""
             }
            },
            "type": "scatterpolar"
           }
          ],
          "scatterpolargl": [
           {
            "marker": {
             "colorbar": {
              "outlinewidth": 0,
              "ticks": ""
             }
            },
            "type": "scatterpolargl"
           }
          ],
          "scatterternary": [
           {
            "marker": {
             "colorbar": {
              "outlinewidth": 0,
              "ticks": ""
             }
            },
            "type": "scatterternary"
           }
          ],
          "surface": [
           {
            "colorbar": {
             "outlinewidth": 0,
             "ticks": ""
            },
            "colorscale": [
             [
              0,
              "#0d0887"
             ],
             [
              0.1111111111111111,
              "#46039f"
             ],
             [
              0.2222222222222222,
              "#7201a8"
             ],
             [
              0.3333333333333333,
              "#9c179e"
             ],
             [
              0.4444444444444444,
              "#bd3786"
             ],
             [
              0.5555555555555556,
              "#d8576b"
             ],
             [
              0.6666666666666666,
              "#ed7953"
             ],
             [
              0.7777777777777778,
              "#fb9f3a"
             ],
             [
              0.8888888888888888,
              "#fdca26"
             ],
             [
              1,
              "#f0f921"
             ]
            ],
            "type": "surface"
           }
          ],
          "table": [
           {
            "cells": {
             "fill": {
              "color": "#506784"
             },
             "line": {
              "color": "rgb(17,17,17)"
             }
            },
            "header": {
             "fill": {
              "color": "#2a3f5f"
             },
             "line": {
              "color": "rgb(17,17,17)"
             }
            },
            "type": "table"
           }
          ]
         },
         "layout": {
          "annotationdefaults": {
           "arrowcolor": "#f2f5fa",
           "arrowhead": 0,
           "arrowwidth": 1
          },
          "autotypenumbers": "strict",
          "coloraxis": {
           "colorbar": {
            "outlinewidth": 0,
            "ticks": ""
           }
          },
          "colorscale": {
           "diverging": [
            [
             0,
             "#8e0152"
            ],
            [
             0.1,
             "#c51b7d"
            ],
            [
             0.2,
             "#de77ae"
            ],
            [
             0.3,
             "#f1b6da"
            ],
            [
             0.4,
             "#fde0ef"
            ],
            [
             0.5,
             "#f7f7f7"
            ],
            [
             0.6,
             "#e6f5d0"
            ],
            [
             0.7,
             "#b8e186"
            ],
            [
             0.8,
             "#7fbc41"
            ],
            [
             0.9,
             "#4d9221"
            ],
            [
             1,
             "#276419"
            ]
           ],
           "sequential": [
            [
             0,
             "#0d0887"
            ],
            [
             0.1111111111111111,
             "#46039f"
            ],
            [
             0.2222222222222222,
             "#7201a8"
            ],
            [
             0.3333333333333333,
             "#9c179e"
            ],
            [
             0.4444444444444444,
             "#bd3786"
            ],
            [
             0.5555555555555556,
             "#d8576b"
            ],
            [
             0.6666666666666666,
             "#ed7953"
            ],
            [
             0.7777777777777778,
             "#fb9f3a"
            ],
            [
             0.8888888888888888,
             "#fdca26"
            ],
            [
             1,
             "#f0f921"
            ]
           ],
           "sequentialminus": [
            [
             0,
             "#0d0887"
            ],
            [
             0.1111111111111111,
             "#46039f"
            ],
            [
             0.2222222222222222,
             "#7201a8"
            ],
            [
             0.3333333333333333,
             "#9c179e"
            ],
            [
             0.4444444444444444,
             "#bd3786"
            ],
            [
             0.5555555555555556,
             "#d8576b"
            ],
            [
             0.6666666666666666,
             "#ed7953"
            ],
            [
             0.7777777777777778,
             "#fb9f3a"
            ],
            [
             0.8888888888888888,
             "#fdca26"
            ],
            [
             1,
             "#f0f921"
            ]
           ]
          },
          "colorway": [
           "#636efa",
           "#EF553B",
           "#00cc96",
           "#ab63fa",
           "#FFA15A",
           "#19d3f3",
           "#FF6692",
           "#B6E880",
           "#FF97FF",
           "#FECB52"
          ],
          "font": {
           "color": "#f2f5fa"
          },
          "geo": {
           "bgcolor": "rgb(17,17,17)",
           "lakecolor": "rgb(17,17,17)",
           "landcolor": "rgb(17,17,17)",
           "showlakes": true,
           "showland": true,
           "subunitcolor": "#506784"
          },
          "hoverlabel": {
           "align": "left"
          },
          "hovermode": "closest",
          "mapbox": {
           "style": "dark"
          },
          "paper_bgcolor": "rgb(17,17,17)",
          "plot_bgcolor": "rgb(17,17,17)",
          "polar": {
           "angularaxis": {
            "gridcolor": "#506784",
            "linecolor": "#506784",
            "ticks": ""
           },
           "bgcolor": "rgb(17,17,17)",
           "radialaxis": {
            "gridcolor": "#506784",
            "linecolor": "#506784",
            "ticks": ""
           }
          },
          "scene": {
           "xaxis": {
            "backgroundcolor": "rgb(17,17,17)",
            "gridcolor": "#506784",
            "gridwidth": 2,
            "linecolor": "#506784",
            "showbackground": true,
            "ticks": "",
            "zerolinecolor": "#C8D4E3"
           },
           "yaxis": {
            "backgroundcolor": "rgb(17,17,17)",
            "gridcolor": "#506784",
            "gridwidth": 2,
            "linecolor": "#506784",
            "showbackground": true,
            "ticks": "",
            "zerolinecolor": "#C8D4E3"
           },
           "zaxis": {
            "backgroundcolor": "rgb(17,17,17)",
            "gridcolor": "#506784",
            "gridwidth": 2,
            "linecolor": "#506784",
            "showbackground": true,
            "ticks": "",
            "zerolinecolor": "#C8D4E3"
           }
          },
          "shapedefaults": {
           "line": {
            "color": "#f2f5fa"
           }
          },
          "sliderdefaults": {
           "bgcolor": "#C8D4E3",
           "bordercolor": "rgb(17,17,17)",
           "borderwidth": 1,
           "tickwidth": 0
          },
          "ternary": {
           "aaxis": {
            "gridcolor": "#506784",
            "linecolor": "#506784",
            "ticks": ""
           },
           "baxis": {
            "gridcolor": "#506784",
            "linecolor": "#506784",
            "ticks": ""
           },
           "bgcolor": "rgb(17,17,17)",
           "caxis": {
            "gridcolor": "#506784",
            "linecolor": "#506784",
            "ticks": ""
           }
          },
          "title": {
           "x": 0.05
          },
          "updatemenudefaults": {
           "bgcolor": "#506784",
           "borderwidth": 0
          },
          "xaxis": {
           "automargin": true,
           "gridcolor": "#283442",
           "linecolor": "#506784",
           "ticks": "",
           "title": {
            "standoff": 15
           },
           "zerolinecolor": "#283442",
           "zerolinewidth": 2
          },
          "yaxis": {
           "automargin": true,
           "gridcolor": "#283442",
           "linecolor": "#506784",
           "ticks": "",
           "title": {
            "standoff": 15
           },
           "zerolinecolor": "#283442",
           "zerolinewidth": 2
          }
         }
        },
        "title": {
         "text": "Dispersion de la stabilité politique"
        },
        "xaxis": {
         "anchor": "y",
         "domain": [
          0,
          1
         ],
         "linecolor": "#E0E2E5",
         "linewidth": 1,
         "showline": true,
         "title": {
          "text": "Stabilité Politique"
         }
        },
        "xaxis2": {
         "anchor": "y2",
         "domain": [
          0,
          1
         ],
         "linecolor": "#E0E2E5",
         "linewidth": 1,
         "matches": "x",
         "showgrid": true,
         "showline": true,
         "showticklabels": false
        },
        "yaxis": {
         "anchor": "x",
         "domain": [
          0,
          0.8316
         ],
         "title": {
          "text": "Count"
         }
        },
        "yaxis2": {
         "anchor": "x2",
         "domain": [
          0.8416,
          1
         ],
         "matches": "y2",
         "showgrid": false,
         "showline": false,
         "showticklabels": false,
         "ticks": ""
        }
       }
      }
     },
     "metadata": {},
     "output_type": "display_data"
    },
    {
     "name": "stdout",
     "output_type": "stream",
     "text": [
      "--------------------\n",
      "Évaluation de la distribution avec les coefficients d'assymétrie et de Kurtosis.\n",
      "Skewness: -0.672368084877596\n",
      "Kurtosis: 0.06484930155904367\n",
      "--------------------\n"
     ]
    }
   ],
   "source": [
    "analyse_univarie(political_stability, 'Stabilité politique', 50, False, 'Dispersion de la stabilité politique', 'Stabilité Politique')"
   ]
  },
  {
   "cell_type": "markdown",
   "metadata": {},
   "source": [
    "- On a **une asymétrie négative** qui nous indique que l'**on a plus de pays avec une note positive que négative**."
   ]
  },
  {
   "cell_type": "markdown",
   "metadata": {},
   "source": [
    "## 2.4 - ISO3\n",
    "### 2.4.1 - Import"
   ]
  },
  {
   "cell_type": "code",
   "execution_count": 31,
   "metadata": {},
   "outputs": [
    {
     "data": {
      "text/html": [
       "<div>\n",
       "<style scoped>\n",
       "    .dataframe tbody tr th:only-of-type {\n",
       "        vertical-align: middle;\n",
       "    }\n",
       "\n",
       "    .dataframe tbody tr th {\n",
       "        vertical-align: top;\n",
       "    }\n",
       "\n",
       "    .dataframe thead th {\n",
       "        text-align: right;\n",
       "    }\n",
       "</style>\n",
       "<table border=\"1\" class=\"dataframe\">\n",
       "  <thead>\n",
       "    <tr style=\"text-align: right;\">\n",
       "      <th></th>\n",
       "      <th>Code Groupe de pays</th>\n",
       "      <th>Groupe de pays</th>\n",
       "      <th>Code Pays</th>\n",
       "      <th>Pays</th>\n",
       "      <th>Code M49</th>\n",
       "      <th>Code ISO2</th>\n",
       "      <th>Code ISO3</th>\n",
       "    </tr>\n",
       "  </thead>\n",
       "  <tbody>\n",
       "    <tr>\n",
       "      <th>0</th>\n",
       "      <td>5100</td>\n",
       "      <td>Afrique</td>\n",
       "      <td>616</td>\n",
       "      <td>Afrique de l'Ouest, non spécifié</td>\n",
       "      <td>875.0</td>\n",
       "      <td>F616</td>\n",
       "      <td>F616</td>\n",
       "    </tr>\n",
       "    <tr>\n",
       "      <th>1</th>\n",
       "      <td>5100</td>\n",
       "      <td>Afrique</td>\n",
       "      <td>202</td>\n",
       "      <td>Afrique du Sud</td>\n",
       "      <td>710.0</td>\n",
       "      <td>ZA</td>\n",
       "      <td>ZAF</td>\n",
       "    </tr>\n",
       "    <tr>\n",
       "      <th>2</th>\n",
       "      <td>5100</td>\n",
       "      <td>Afrique</td>\n",
       "      <td>4</td>\n",
       "      <td>Algérie</td>\n",
       "      <td>12.0</td>\n",
       "      <td>DZ</td>\n",
       "      <td>DZA</td>\n",
       "    </tr>\n",
       "    <tr>\n",
       "      <th>3</th>\n",
       "      <td>5100</td>\n",
       "      <td>Afrique</td>\n",
       "      <td>7</td>\n",
       "      <td>Angola</td>\n",
       "      <td>24.0</td>\n",
       "      <td>AO</td>\n",
       "      <td>AGO</td>\n",
       "    </tr>\n",
       "    <tr>\n",
       "      <th>4</th>\n",
       "      <td>5100</td>\n",
       "      <td>Afrique</td>\n",
       "      <td>24</td>\n",
       "      <td>Archipel des Chagos</td>\n",
       "      <td>86.0</td>\n",
       "      <td>IO</td>\n",
       "      <td>IOT</td>\n",
       "    </tr>\n",
       "    <tr>\n",
       "      <th>...</th>\n",
       "      <td>...</td>\n",
       "      <td>...</td>\n",
       "      <td>...</td>\n",
       "      <td>...</td>\n",
       "      <td>...</td>\n",
       "      <td>...</td>\n",
       "      <td>...</td>\n",
       "    </tr>\n",
       "    <tr>\n",
       "      <th>1952</th>\n",
       "      <td>5828</td>\n",
       "      <td>Western Asia (exc. Armenia, Azerbaijan, Cyprus...</td>\n",
       "      <td>299</td>\n",
       "      <td>Palestine</td>\n",
       "      <td>275.0</td>\n",
       "      <td>F299</td>\n",
       "      <td>PSE</td>\n",
       "    </tr>\n",
       "    <tr>\n",
       "      <th>1953</th>\n",
       "      <td>5828</td>\n",
       "      <td>Western Asia (exc. Armenia, Azerbaijan, Cyprus...</td>\n",
       "      <td>179</td>\n",
       "      <td>Qatar</td>\n",
       "      <td>634.0</td>\n",
       "      <td>QA</td>\n",
       "      <td>QAT</td>\n",
       "    </tr>\n",
       "    <tr>\n",
       "      <th>1954</th>\n",
       "      <td>5828</td>\n",
       "      <td>Western Asia (exc. Armenia, Azerbaijan, Cyprus...</td>\n",
       "      <td>212</td>\n",
       "      <td>République arabe syrienne</td>\n",
       "      <td>760.0</td>\n",
       "      <td>SY</td>\n",
       "      <td>SYR</td>\n",
       "    </tr>\n",
       "    <tr>\n",
       "      <th>1955</th>\n",
       "      <td>5828</td>\n",
       "      <td>Western Asia (exc. Armenia, Azerbaijan, Cyprus...</td>\n",
       "      <td>223</td>\n",
       "      <td>Turquie</td>\n",
       "      <td>792.0</td>\n",
       "      <td>TR</td>\n",
       "      <td>TUR</td>\n",
       "    </tr>\n",
       "    <tr>\n",
       "      <th>1956</th>\n",
       "      <td>5828</td>\n",
       "      <td>Western Asia (exc. Armenia, Azerbaijan, Cyprus...</td>\n",
       "      <td>249</td>\n",
       "      <td>Yémen</td>\n",
       "      <td>887.0</td>\n",
       "      <td>YE</td>\n",
       "      <td>YEM</td>\n",
       "    </tr>\n",
       "  </tbody>\n",
       "</table>\n",
       "<p>1957 rows × 7 columns</p>\n",
       "</div>"
      ],
      "text/plain": [
       "      Code Groupe de pays                                     Groupe de pays  \\\n",
       "0                    5100                                            Afrique   \n",
       "1                    5100                                            Afrique   \n",
       "2                    5100                                            Afrique   \n",
       "3                    5100                                            Afrique   \n",
       "4                    5100                                            Afrique   \n",
       "...                   ...                                                ...   \n",
       "1952                 5828  Western Asia (exc. Armenia, Azerbaijan, Cyprus...   \n",
       "1953                 5828  Western Asia (exc. Armenia, Azerbaijan, Cyprus...   \n",
       "1954                 5828  Western Asia (exc. Armenia, Azerbaijan, Cyprus...   \n",
       "1955                 5828  Western Asia (exc. Armenia, Azerbaijan, Cyprus...   \n",
       "1956                 5828  Western Asia (exc. Armenia, Azerbaijan, Cyprus...   \n",
       "\n",
       "      Code Pays                              Pays  Code M49 Code ISO2  \\\n",
       "0           616  Afrique de l'Ouest, non spécifié     875.0      F616   \n",
       "1           202                    Afrique du Sud     710.0        ZA   \n",
       "2             4                           Algérie      12.0        DZ   \n",
       "3             7                            Angola      24.0        AO   \n",
       "4            24               Archipel des Chagos      86.0        IO   \n",
       "...         ...                               ...       ...       ...   \n",
       "1952        299                         Palestine     275.0      F299   \n",
       "1953        179                             Qatar     634.0        QA   \n",
       "1954        212         République arabe syrienne     760.0        SY   \n",
       "1955        223                           Turquie     792.0        TR   \n",
       "1956        249                             Yémen     887.0        YE   \n",
       "\n",
       "     Code ISO3  \n",
       "0         F616  \n",
       "1          ZAF  \n",
       "2          DZA  \n",
       "3          AGO  \n",
       "4          IOT  \n",
       "...        ...  \n",
       "1952       PSE  \n",
       "1953       QAT  \n",
       "1954       SYR  \n",
       "1955       TUR  \n",
       "1956       YEM  \n",
       "\n",
       "[1957 rows x 7 columns]"
      ]
     },
     "execution_count": 31,
     "metadata": {},
     "output_type": "execute_result"
    }
   ],
   "source": [
    "iso3 = pd.read_csv(r\"C:\\Users\\imadk\\Downloads\\DAN-P9-data\\DAN-P9-data\\FAOSTAT_data_3-30-2023.csv\", sep=',')\n",
    "iso3"
   ]
  },
  {
   "cell_type": "markdown",
   "metadata": {},
   "source": [
    "### 2.4.2 - Description\n",
    "- Ici, on va voir en détail  notre jeu de données et les variables qu'il contient."
   ]
  },
  {
   "cell_type": "code",
   "execution_count": 32,
   "metadata": {},
   "outputs": [
    {
     "data": {
      "text/html": [
       "<div>\n",
       "<style scoped>\n",
       "    .dataframe tbody tr th:only-of-type {\n",
       "        vertical-align: middle;\n",
       "    }\n",
       "\n",
       "    .dataframe tbody tr th {\n",
       "        vertical-align: top;\n",
       "    }\n",
       "\n",
       "    .dataframe thead th {\n",
       "        text-align: right;\n",
       "    }\n",
       "</style>\n",
       "<table border=\"1\" class=\"dataframe\">\n",
       "  <thead>\n",
       "    <tr style=\"text-align: right;\">\n",
       "      <th></th>\n",
       "      <th>Code Groupe de pays</th>\n",
       "      <th>Groupe de pays</th>\n",
       "      <th>Code Pays</th>\n",
       "      <th>Pays</th>\n",
       "      <th>Code M49</th>\n",
       "      <th>Code ISO2</th>\n",
       "      <th>Code ISO3</th>\n",
       "    </tr>\n",
       "  </thead>\n",
       "  <tbody>\n",
       "    <tr>\n",
       "      <th>count</th>\n",
       "      <td>1957.000000</td>\n",
       "      <td>1957</td>\n",
       "      <td>1957.000000</td>\n",
       "      <td>1957</td>\n",
       "      <td>1957.000000</td>\n",
       "      <td>1949</td>\n",
       "      <td>1957</td>\n",
       "    </tr>\n",
       "    <tr>\n",
       "      <th>unique</th>\n",
       "      <td>NaN</td>\n",
       "      <td>57</td>\n",
       "      <td>NaN</td>\n",
       "      <td>277</td>\n",
       "      <td>NaN</td>\n",
       "      <td>276</td>\n",
       "      <td>278</td>\n",
       "    </tr>\n",
       "    <tr>\n",
       "      <th>top</th>\n",
       "      <td>NaN</td>\n",
       "      <td>Monde</td>\n",
       "      <td>NaN</td>\n",
       "      <td>Chine, continentale</td>\n",
       "      <td>NaN</td>\n",
       "      <td>CN</td>\n",
       "      <td>GNB</td>\n",
       "    </tr>\n",
       "    <tr>\n",
       "      <th>freq</th>\n",
       "      <td>NaN</td>\n",
       "      <td>279</td>\n",
       "      <td>NaN</td>\n",
       "      <td>13</td>\n",
       "      <td>NaN</td>\n",
       "      <td>13</td>\n",
       "      <td>11</td>\n",
       "    </tr>\n",
       "    <tr>\n",
       "      <th>mean</th>\n",
       "      <td>5510.499234</td>\n",
       "      <td>NaN</td>\n",
       "      <td>142.396014</td>\n",
       "      <td>NaN</td>\n",
       "      <td>436.454854</td>\n",
       "      <td>NaN</td>\n",
       "      <td>NaN</td>\n",
       "    </tr>\n",
       "    <tr>\n",
       "      <th>std</th>\n",
       "      <td>1372.714101</td>\n",
       "      <td>NaN</td>\n",
       "      <td>96.894832</td>\n",
       "      <td>NaN</td>\n",
       "      <td>256.152380</td>\n",
       "      <td>NaN</td>\n",
       "      <td>NaN</td>\n",
       "    </tr>\n",
       "    <tr>\n",
       "      <th>min</th>\n",
       "      <td>336.000000</td>\n",
       "      <td>NaN</td>\n",
       "      <td>1.000000</td>\n",
       "      <td>NaN</td>\n",
       "      <td>4.000000</td>\n",
       "      <td>NaN</td>\n",
       "      <td>NaN</td>\n",
       "    </tr>\n",
       "    <tr>\n",
       "      <th>25%</th>\n",
       "      <td>5200.000000</td>\n",
       "      <td>NaN</td>\n",
       "      <td>68.000000</td>\n",
       "      <td>NaN</td>\n",
       "      <td>212.000000</td>\n",
       "      <td>NaN</td>\n",
       "      <td>NaN</td>\n",
       "    </tr>\n",
       "    <tr>\n",
       "      <th>50%</th>\n",
       "      <td>5403.000000</td>\n",
       "      <td>NaN</td>\n",
       "      <td>136.000000</td>\n",
       "      <td>NaN</td>\n",
       "      <td>430.000000</td>\n",
       "      <td>NaN</td>\n",
       "      <td>NaN</td>\n",
       "    </tr>\n",
       "    <tr>\n",
       "      <th>75%</th>\n",
       "      <td>5848.000000</td>\n",
       "      <td>NaN</td>\n",
       "      <td>203.000000</td>\n",
       "      <td>NaN</td>\n",
       "      <td>660.000000</td>\n",
       "      <td>NaN</td>\n",
       "      <td>NaN</td>\n",
       "    </tr>\n",
       "    <tr>\n",
       "      <th>max</th>\n",
       "      <td>9011.000000</td>\n",
       "      <td>NaN</td>\n",
       "      <td>622.000000</td>\n",
       "      <td>NaN</td>\n",
       "      <td>894.000000</td>\n",
       "      <td>NaN</td>\n",
       "      <td>NaN</td>\n",
       "    </tr>\n",
       "  </tbody>\n",
       "</table>\n",
       "</div>"
      ],
      "text/plain": [
       "        Code Groupe de pays Groupe de pays    Code Pays                 Pays  \\\n",
       "count           1957.000000           1957  1957.000000                 1957   \n",
       "unique                  NaN             57          NaN                  277   \n",
       "top                     NaN          Monde          NaN  Chine, continentale   \n",
       "freq                    NaN            279          NaN                   13   \n",
       "mean            5510.499234            NaN   142.396014                  NaN   \n",
       "std             1372.714101            NaN    96.894832                  NaN   \n",
       "min              336.000000            NaN     1.000000                  NaN   \n",
       "25%             5200.000000            NaN    68.000000                  NaN   \n",
       "50%             5403.000000            NaN   136.000000                  NaN   \n",
       "75%             5848.000000            NaN   203.000000                  NaN   \n",
       "max             9011.000000            NaN   622.000000                  NaN   \n",
       "\n",
       "           Code M49 Code ISO2 Code ISO3  \n",
       "count   1957.000000      1949      1957  \n",
       "unique          NaN       276       278  \n",
       "top             NaN        CN       GNB  \n",
       "freq            NaN        13        11  \n",
       "mean     436.454854       NaN       NaN  \n",
       "std      256.152380       NaN       NaN  \n",
       "min        4.000000       NaN       NaN  \n",
       "25%      212.000000       NaN       NaN  \n",
       "50%      430.000000       NaN       NaN  \n",
       "75%      660.000000       NaN       NaN  \n",
       "max      894.000000       NaN       NaN  "
      ]
     },
     "execution_count": 32,
     "metadata": {},
     "output_type": "execute_result"
    }
   ],
   "source": [
    "iso3.describe(include='all')"
   ]
  },
  {
   "cell_type": "code",
   "execution_count": 33,
   "metadata": {},
   "outputs": [
    {
     "name": "stdout",
     "output_type": "stream",
     "text": [
      "<class 'pandas.core.frame.DataFrame'>\n",
      "RangeIndex: 1957 entries, 0 to 1956\n",
      "Data columns (total 7 columns):\n",
      " #   Column               Non-Null Count  Dtype  \n",
      "---  ------               --------------  -----  \n",
      " 0   Code Groupe de pays  1957 non-null   int64  \n",
      " 1   Groupe de pays       1957 non-null   object \n",
      " 2   Code Pays            1957 non-null   int64  \n",
      " 3   Pays                 1957 non-null   object \n",
      " 4   Code M49             1957 non-null   float64\n",
      " 5   Code ISO2            1949 non-null   object \n",
      " 6   Code ISO3            1957 non-null   object \n",
      "dtypes: float64(1), int64(2), object(4)\n",
      "memory usage: 107.1+ KB\n"
     ]
    }
   ],
   "source": [
    "iso3.info()"
   ]
  },
  {
   "cell_type": "markdown",
   "metadata": {},
   "source": [
    "- On a la colonne **Pays** qui est notre clé de liaison à renommer.\n",
    "- On a la colonne **Code ISO3** qui repésente le code du pays à conserver.\n",
    "- On a plusieurs colonnes inutiles qu'on supprimera."
   ]
  },
  {
   "cell_type": "markdown",
   "metadata": {},
   "source": [
    "### 2.4.3 - Nettoyage et préparation\n",
    "- On va tout d'abord voir s'il y a des doublons."
   ]
  },
  {
   "cell_type": "code",
   "execution_count": 34,
   "metadata": {},
   "outputs": [
    {
     "data": {
      "text/plain": [
       "0"
      ]
     },
     "execution_count": 34,
     "metadata": {},
     "output_type": "execute_result"
    }
   ],
   "source": [
    "iso3.duplicated().sum()"
   ]
  },
  {
   "cell_type": "markdown",
   "metadata": {},
   "source": [
    "- Il n'y a aucun doublon."
   ]
  },
  {
   "cell_type": "code",
   "execution_count": 35,
   "metadata": {},
   "outputs": [
    {
     "data": {
      "text/html": [
       "<div>\n",
       "<style scoped>\n",
       "    .dataframe tbody tr th:only-of-type {\n",
       "        vertical-align: middle;\n",
       "    }\n",
       "\n",
       "    .dataframe tbody tr th {\n",
       "        vertical-align: top;\n",
       "    }\n",
       "\n",
       "    .dataframe thead th {\n",
       "        text-align: right;\n",
       "    }\n",
       "</style>\n",
       "<table border=\"1\" class=\"dataframe\">\n",
       "  <thead>\n",
       "    <tr style=\"text-align: right;\">\n",
       "      <th></th>\n",
       "      <th>Zone</th>\n",
       "      <th>Code Zone</th>\n",
       "    </tr>\n",
       "  </thead>\n",
       "  <tbody>\n",
       "    <tr>\n",
       "      <th>0</th>\n",
       "      <td>Afrique de l'Ouest, non spécifié</td>\n",
       "      <td>F616</td>\n",
       "    </tr>\n",
       "    <tr>\n",
       "      <th>1</th>\n",
       "      <td>Afrique du Sud</td>\n",
       "      <td>ZAF</td>\n",
       "    </tr>\n",
       "    <tr>\n",
       "      <th>2</th>\n",
       "      <td>Algérie</td>\n",
       "      <td>DZA</td>\n",
       "    </tr>\n",
       "    <tr>\n",
       "      <th>3</th>\n",
       "      <td>Angola</td>\n",
       "      <td>AGO</td>\n",
       "    </tr>\n",
       "    <tr>\n",
       "      <th>4</th>\n",
       "      <td>Archipel des Chagos</td>\n",
       "      <td>IOT</td>\n",
       "    </tr>\n",
       "    <tr>\n",
       "      <th>...</th>\n",
       "      <td>...</td>\n",
       "      <td>...</td>\n",
       "    </tr>\n",
       "    <tr>\n",
       "      <th>1952</th>\n",
       "      <td>Palestine</td>\n",
       "      <td>PSE</td>\n",
       "    </tr>\n",
       "    <tr>\n",
       "      <th>1953</th>\n",
       "      <td>Qatar</td>\n",
       "      <td>QAT</td>\n",
       "    </tr>\n",
       "    <tr>\n",
       "      <th>1954</th>\n",
       "      <td>République arabe syrienne</td>\n",
       "      <td>SYR</td>\n",
       "    </tr>\n",
       "    <tr>\n",
       "      <th>1955</th>\n",
       "      <td>Turquie</td>\n",
       "      <td>TUR</td>\n",
       "    </tr>\n",
       "    <tr>\n",
       "      <th>1956</th>\n",
       "      <td>Yémen</td>\n",
       "      <td>YEM</td>\n",
       "    </tr>\n",
       "  </tbody>\n",
       "</table>\n",
       "<p>1957 rows × 2 columns</p>\n",
       "</div>"
      ],
      "text/plain": [
       "                                  Zone Code Zone\n",
       "0     Afrique de l'Ouest, non spécifié      F616\n",
       "1                       Afrique du Sud       ZAF\n",
       "2                              Algérie       DZA\n",
       "3                               Angola       AGO\n",
       "4                  Archipel des Chagos       IOT\n",
       "...                                ...       ...\n",
       "1952                         Palestine       PSE\n",
       "1953                             Qatar       QAT\n",
       "1954         République arabe syrienne       SYR\n",
       "1955                           Turquie       TUR\n",
       "1956                             Yémen       YEM\n",
       "\n",
       "[1957 rows x 2 columns]"
      ]
     },
     "execution_count": 35,
     "metadata": {},
     "output_type": "execute_result"
    }
   ],
   "source": [
    "# On garde les colonnes 'Pays' et 'Code ISO3'\n",
    "iso3 = iso3[['Pays', 'Code ISO3']].copy()\n",
    "# On renomme la colonne 'Pays'\n",
    "iso3.rename(columns= {'Pays' : 'Zone', 'Code ISO3' : 'Code Zone'}, inplace= True)\n",
    "iso3"
   ]
  },
  {
   "cell_type": "markdown",
   "metadata": {},
   "source": [
    "- Nous avons un dataframe contenant **1 957 données**, maintenant que l'on a simplifié le dataframe, on va avoir des doublons."
   ]
  },
  {
   "cell_type": "code",
   "execution_count": 36,
   "metadata": {},
   "outputs": [
    {
     "data": {
      "text/plain": [
       "1678"
      ]
     },
     "execution_count": 36,
     "metadata": {},
     "output_type": "execute_result"
    }
   ],
   "source": [
    "iso3.duplicated().sum()"
   ]
  },
  {
   "cell_type": "markdown",
   "metadata": {},
   "source": [
    "Nous avons **`1 678 doublons`**, on va donc les **`supprimer`**."
   ]
  },
  {
   "cell_type": "code",
   "execution_count": 37,
   "metadata": {},
   "outputs": [
    {
     "data": {
      "text/plain": [
       "0"
      ]
     },
     "execution_count": 37,
     "metadata": {},
     "output_type": "execute_result"
    }
   ],
   "source": [
    "# Suppression des doublons\n",
    "iso3.drop_duplicates(keep='first', inplace= True)\n",
    "# Vérifivation des doublons\n",
    "iso3.duplicated().sum()"
   ]
  },
  {
   "cell_type": "code",
   "execution_count": 38,
   "metadata": {},
   "outputs": [
    {
     "data": {
      "text/html": [
       "<div>\n",
       "<style scoped>\n",
       "    .dataframe tbody tr th:only-of-type {\n",
       "        vertical-align: middle;\n",
       "    }\n",
       "\n",
       "    .dataframe tbody tr th {\n",
       "        vertical-align: top;\n",
       "    }\n",
       "\n",
       "    .dataframe thead th {\n",
       "        text-align: right;\n",
       "    }\n",
       "</style>\n",
       "<table border=\"1\" class=\"dataframe\">\n",
       "  <thead>\n",
       "    <tr style=\"text-align: right;\">\n",
       "      <th></th>\n",
       "      <th>Zone</th>\n",
       "      <th>Code Zone</th>\n",
       "    </tr>\n",
       "  </thead>\n",
       "  <tbody>\n",
       "    <tr>\n",
       "      <th>0</th>\n",
       "      <td>Afrique de l'Ouest, non spécifié</td>\n",
       "      <td>F616</td>\n",
       "    </tr>\n",
       "    <tr>\n",
       "      <th>1</th>\n",
       "      <td>Afrique du Sud</td>\n",
       "      <td>ZAF</td>\n",
       "    </tr>\n",
       "    <tr>\n",
       "      <th>2</th>\n",
       "      <td>Algérie</td>\n",
       "      <td>DZA</td>\n",
       "    </tr>\n",
       "    <tr>\n",
       "      <th>3</th>\n",
       "      <td>Angola</td>\n",
       "      <td>AGO</td>\n",
       "    </tr>\n",
       "    <tr>\n",
       "      <th>4</th>\n",
       "      <td>Archipel des Chagos</td>\n",
       "      <td>IOT</td>\n",
       "    </tr>\n",
       "    <tr>\n",
       "      <th>...</th>\n",
       "      <td>...</td>\n",
       "      <td>...</td>\n",
       "    </tr>\n",
       "    <tr>\n",
       "      <th>1163</th>\n",
       "      <td>Polynésie, non spécifié</td>\n",
       "      <td>F618</td>\n",
       "    </tr>\n",
       "    <tr>\n",
       "      <th>1191</th>\n",
       "      <td>Samoa</td>\n",
       "      <td>WSM</td>\n",
       "    </tr>\n",
       "    <tr>\n",
       "      <th>1192</th>\n",
       "      <td>Samoa américaines</td>\n",
       "      <td>ASM</td>\n",
       "    </tr>\n",
       "    <tr>\n",
       "      <th>1220</th>\n",
       "      <td>Tokélaou</td>\n",
       "      <td>TKL</td>\n",
       "    </tr>\n",
       "    <tr>\n",
       "      <th>1221</th>\n",
       "      <td>Tonga</td>\n",
       "      <td>TON</td>\n",
       "    </tr>\n",
       "  </tbody>\n",
       "</table>\n",
       "<p>279 rows × 2 columns</p>\n",
       "</div>"
      ],
      "text/plain": [
       "                                  Zone Code Zone\n",
       "0     Afrique de l'Ouest, non spécifié      F616\n",
       "1                       Afrique du Sud       ZAF\n",
       "2                              Algérie       DZA\n",
       "3                               Angola       AGO\n",
       "4                  Archipel des Chagos       IOT\n",
       "...                                ...       ...\n",
       "1163           Polynésie, non spécifié      F618\n",
       "1191                             Samoa       WSM\n",
       "1192                 Samoa américaines       ASM\n",
       "1220                          Tokélaou       TKL\n",
       "1221                             Tonga       TON\n",
       "\n",
       "[279 rows x 2 columns]"
      ]
     },
     "execution_count": 38,
     "metadata": {},
     "output_type": "execute_result"
    }
   ],
   "source": [
    "iso3"
   ]
  },
  {
   "cell_type": "markdown",
   "metadata": {},
   "source": [
    "- Maintenant on a notre dataframe est propre. \n",
    "- On ne peut pas faire  d'analyse univariée car ce dataframe est une table de correspondance entre **les pays et leurs codes ISO3.**"
   ]
  },
  {
   "cell_type": "markdown",
   "metadata": {},
   "source": [
    "## 2.5 - Doing Business\n",
    "### 2.5.1 - Import"
   ]
  },
  {
   "cell_type": "code",
   "execution_count": 39,
   "metadata": {},
   "outputs": [
    {
     "data": {
      "text/html": [
       "<div>\n",
       "<style scoped>\n",
       "    .dataframe tbody tr th:only-of-type {\n",
       "        vertical-align: middle;\n",
       "    }\n",
       "\n",
       "    .dataframe tbody tr th {\n",
       "        vertical-align: top;\n",
       "    }\n",
       "\n",
       "    .dataframe thead th {\n",
       "        text-align: right;\n",
       "    }\n",
       "</style>\n",
       "<table border=\"1\" class=\"dataframe\">\n",
       "  <thead>\n",
       "    <tr style=\"text-align: right;\">\n",
       "      <th></th>\n",
       "      <th>Country Name</th>\n",
       "      <th>Country Name2</th>\n",
       "      <th>Series Name</th>\n",
       "      <th>Series Code</th>\n",
       "      <th>2017 [YR2017]</th>\n",
       "    </tr>\n",
       "  </thead>\n",
       "  <tbody>\n",
       "    <tr>\n",
       "      <th>0</th>\n",
       "      <td>Afghanistan</td>\n",
       "      <td>AFG</td>\n",
       "      <td>Global: Ease of doing business score (DB17-20 ...</td>\n",
       "      <td>IC.BUS.EASE.DFRN.XQ.DB1719</td>\n",
       "      <td>38.9</td>\n",
       "    </tr>\n",
       "    <tr>\n",
       "      <th>1</th>\n",
       "      <td>Albania</td>\n",
       "      <td>ALB</td>\n",
       "      <td>Global: Ease of doing business score (DB17-20 ...</td>\n",
       "      <td>IC.BUS.EASE.DFRN.XQ.DB1719</td>\n",
       "      <td>64.2</td>\n",
       "    </tr>\n",
       "    <tr>\n",
       "      <th>2</th>\n",
       "      <td>Algeria</td>\n",
       "      <td>DZA</td>\n",
       "      <td>Global: Ease of doing business score (DB17-20 ...</td>\n",
       "      <td>IC.BUS.EASE.DFRN.XQ.DB1719</td>\n",
       "      <td>46.1</td>\n",
       "    </tr>\n",
       "    <tr>\n",
       "      <th>3</th>\n",
       "      <td>Angola</td>\n",
       "      <td>AGO</td>\n",
       "      <td>Global: Ease of doing business score (DB17-20 ...</td>\n",
       "      <td>IC.BUS.EASE.DFRN.XQ.DB1719</td>\n",
       "      <td>37.7</td>\n",
       "    </tr>\n",
       "    <tr>\n",
       "      <th>4</th>\n",
       "      <td>Antigua and Barbuda</td>\n",
       "      <td>ATG</td>\n",
       "      <td>Global: Ease of doing business score (DB17-20 ...</td>\n",
       "      <td>IC.BUS.EASE.DFRN.XQ.DB1719</td>\n",
       "      <td>58.8</td>\n",
       "    </tr>\n",
       "    <tr>\n",
       "      <th>...</th>\n",
       "      <td>...</td>\n",
       "      <td>...</td>\n",
       "      <td>...</td>\n",
       "      <td>...</td>\n",
       "      <td>...</td>\n",
       "    </tr>\n",
       "    <tr>\n",
       "      <th>186</th>\n",
       "      <td>Vietnam</td>\n",
       "      <td>VNM</td>\n",
       "      <td>Global: Ease of doing business score (DB17-20 ...</td>\n",
       "      <td>IC.BUS.EASE.DFRN.XQ.DB1719</td>\n",
       "      <td>65.3</td>\n",
       "    </tr>\n",
       "    <tr>\n",
       "      <th>187</th>\n",
       "      <td>West Bank and Gaza</td>\n",
       "      <td>PSE</td>\n",
       "      <td>Global: Ease of doing business score (DB17-20 ...</td>\n",
       "      <td>IC.BUS.EASE.DFRN.XQ.DB1719</td>\n",
       "      <td>55.5</td>\n",
       "    </tr>\n",
       "    <tr>\n",
       "      <th>188</th>\n",
       "      <td>Yemen, Rep.</td>\n",
       "      <td>YEM</td>\n",
       "      <td>Global: Ease of doing business score (DB17-20 ...</td>\n",
       "      <td>IC.BUS.EASE.DFRN.XQ.DB1719</td>\n",
       "      <td>31.2</td>\n",
       "    </tr>\n",
       "    <tr>\n",
       "      <th>189</th>\n",
       "      <td>Zambia</td>\n",
       "      <td>ZMB</td>\n",
       "      <td>Global: Ease of doing business score (DB17-20 ...</td>\n",
       "      <td>IC.BUS.EASE.DFRN.XQ.DB1719</td>\n",
       "      <td>60.3</td>\n",
       "    </tr>\n",
       "    <tr>\n",
       "      <th>190</th>\n",
       "      <td>Zimbabwe</td>\n",
       "      <td>ZWE</td>\n",
       "      <td>Global: Ease of doing business score (DB17-20 ...</td>\n",
       "      <td>IC.BUS.EASE.DFRN.XQ.DB1719</td>\n",
       "      <td>47.8</td>\n",
       "    </tr>\n",
       "  </tbody>\n",
       "</table>\n",
       "<p>191 rows × 5 columns</p>\n",
       "</div>"
      ],
      "text/plain": [
       "            Country Name Country Name2  \\\n",
       "0            Afghanistan           AFG   \n",
       "1                Albania           ALB   \n",
       "2                Algeria           DZA   \n",
       "3                 Angola           AGO   \n",
       "4    Antigua and Barbuda           ATG   \n",
       "..                   ...           ...   \n",
       "186              Vietnam           VNM   \n",
       "187   West Bank and Gaza           PSE   \n",
       "188          Yemen, Rep.           YEM   \n",
       "189               Zambia           ZMB   \n",
       "190             Zimbabwe           ZWE   \n",
       "\n",
       "                                           Series Name  \\\n",
       "0    Global: Ease of doing business score (DB17-20 ...   \n",
       "1    Global: Ease of doing business score (DB17-20 ...   \n",
       "2    Global: Ease of doing business score (DB17-20 ...   \n",
       "3    Global: Ease of doing business score (DB17-20 ...   \n",
       "4    Global: Ease of doing business score (DB17-20 ...   \n",
       "..                                                 ...   \n",
       "186  Global: Ease of doing business score (DB17-20 ...   \n",
       "187  Global: Ease of doing business score (DB17-20 ...   \n",
       "188  Global: Ease of doing business score (DB17-20 ...   \n",
       "189  Global: Ease of doing business score (DB17-20 ...   \n",
       "190  Global: Ease of doing business score (DB17-20 ...   \n",
       "\n",
       "                    Series Code  2017 [YR2017]  \n",
       "0    IC.BUS.EASE.DFRN.XQ.DB1719           38.9  \n",
       "1    IC.BUS.EASE.DFRN.XQ.DB1719           64.2  \n",
       "2    IC.BUS.EASE.DFRN.XQ.DB1719           46.1  \n",
       "3    IC.BUS.EASE.DFRN.XQ.DB1719           37.7  \n",
       "4    IC.BUS.EASE.DFRN.XQ.DB1719           58.8  \n",
       "..                          ...            ...  \n",
       "186  IC.BUS.EASE.DFRN.XQ.DB1719           65.3  \n",
       "187  IC.BUS.EASE.DFRN.XQ.DB1719           55.5  \n",
       "188  IC.BUS.EASE.DFRN.XQ.DB1719           31.2  \n",
       "189  IC.BUS.EASE.DFRN.XQ.DB1719           60.3  \n",
       "190  IC.BUS.EASE.DFRN.XQ.DB1719           47.8  \n",
       "\n",
       "[191 rows x 5 columns]"
      ]
     },
     "execution_count": 39,
     "metadata": {},
     "output_type": "execute_result"
    }
   ],
   "source": [
    "doing_business = pd.read_excel(r'C:\\Users\\imadk\\Downloads\\doing_buisness.xlsx')\n",
    "doing_business"
   ]
  },
  {
   "cell_type": "markdown",
   "metadata": {},
   "source": [
    "### 2.5.2 - Description\n",
    "- On va voir en détail notre jeu de données et les variables qu'il contient."
   ]
  },
  {
   "cell_type": "code",
   "execution_count": 40,
   "metadata": {},
   "outputs": [
    {
     "data": {
      "text/html": [
       "<div>\n",
       "<style scoped>\n",
       "    .dataframe tbody tr th:only-of-type {\n",
       "        vertical-align: middle;\n",
       "    }\n",
       "\n",
       "    .dataframe tbody tr th {\n",
       "        vertical-align: top;\n",
       "    }\n",
       "\n",
       "    .dataframe thead th {\n",
       "        text-align: right;\n",
       "    }\n",
       "</style>\n",
       "<table border=\"1\" class=\"dataframe\">\n",
       "  <thead>\n",
       "    <tr style=\"text-align: right;\">\n",
       "      <th></th>\n",
       "      <th>Country Name</th>\n",
       "      <th>Country Name2</th>\n",
       "      <th>Series Name</th>\n",
       "      <th>Series Code</th>\n",
       "      <th>2017 [YR2017]</th>\n",
       "    </tr>\n",
       "  </thead>\n",
       "  <tbody>\n",
       "    <tr>\n",
       "      <th>count</th>\n",
       "      <td>191</td>\n",
       "      <td>191</td>\n",
       "      <td>191</td>\n",
       "      <td>191</td>\n",
       "      <td>190.000000</td>\n",
       "    </tr>\n",
       "    <tr>\n",
       "      <th>unique</th>\n",
       "      <td>191</td>\n",
       "      <td>191</td>\n",
       "      <td>1</td>\n",
       "      <td>1</td>\n",
       "      <td>NaN</td>\n",
       "    </tr>\n",
       "    <tr>\n",
       "      <th>top</th>\n",
       "      <td>Afghanistan</td>\n",
       "      <td>AFG</td>\n",
       "      <td>Global: Ease of doing business score (DB17-20 ...</td>\n",
       "      <td>IC.BUS.EASE.DFRN.XQ.DB1719</td>\n",
       "      <td>NaN</td>\n",
       "    </tr>\n",
       "    <tr>\n",
       "      <th>freq</th>\n",
       "      <td>1</td>\n",
       "      <td>1</td>\n",
       "      <td>191</td>\n",
       "      <td>191</td>\n",
       "      <td>NaN</td>\n",
       "    </tr>\n",
       "    <tr>\n",
       "      <th>mean</th>\n",
       "      <td>NaN</td>\n",
       "      <td>NaN</td>\n",
       "      <td>NaN</td>\n",
       "      <td>NaN</td>\n",
       "      <td>60.508947</td>\n",
       "    </tr>\n",
       "    <tr>\n",
       "      <th>std</th>\n",
       "      <td>NaN</td>\n",
       "      <td>NaN</td>\n",
       "      <td>NaN</td>\n",
       "      <td>NaN</td>\n",
       "      <td>13.983273</td>\n",
       "    </tr>\n",
       "    <tr>\n",
       "      <th>min</th>\n",
       "      <td>NaN</td>\n",
       "      <td>NaN</td>\n",
       "      <td>NaN</td>\n",
       "      <td>NaN</td>\n",
       "      <td>20.300000</td>\n",
       "    </tr>\n",
       "    <tr>\n",
       "      <th>25%</th>\n",
       "      <td>NaN</td>\n",
       "      <td>NaN</td>\n",
       "      <td>NaN</td>\n",
       "      <td>NaN</td>\n",
       "      <td>50.925000</td>\n",
       "    </tr>\n",
       "    <tr>\n",
       "      <th>50%</th>\n",
       "      <td>NaN</td>\n",
       "      <td>NaN</td>\n",
       "      <td>NaN</td>\n",
       "      <td>NaN</td>\n",
       "      <td>60.600000</td>\n",
       "    </tr>\n",
       "    <tr>\n",
       "      <th>75%</th>\n",
       "      <td>NaN</td>\n",
       "      <td>NaN</td>\n",
       "      <td>NaN</td>\n",
       "      <td>NaN</td>\n",
       "      <td>71.750000</td>\n",
       "    </tr>\n",
       "    <tr>\n",
       "      <th>max</th>\n",
       "      <td>NaN</td>\n",
       "      <td>NaN</td>\n",
       "      <td>NaN</td>\n",
       "      <td>NaN</td>\n",
       "      <td>87.200000</td>\n",
       "    </tr>\n",
       "  </tbody>\n",
       "</table>\n",
       "</div>"
      ],
      "text/plain": [
       "       Country Name Country Name2  \\\n",
       "count           191           191   \n",
       "unique          191           191   \n",
       "top     Afghanistan           AFG   \n",
       "freq              1             1   \n",
       "mean            NaN           NaN   \n",
       "std             NaN           NaN   \n",
       "min             NaN           NaN   \n",
       "25%             NaN           NaN   \n",
       "50%             NaN           NaN   \n",
       "75%             NaN           NaN   \n",
       "max             NaN           NaN   \n",
       "\n",
       "                                              Series Name  \\\n",
       "count                                                 191   \n",
       "unique                                                  1   \n",
       "top     Global: Ease of doing business score (DB17-20 ...   \n",
       "freq                                                  191   \n",
       "mean                                                  NaN   \n",
       "std                                                   NaN   \n",
       "min                                                   NaN   \n",
       "25%                                                   NaN   \n",
       "50%                                                   NaN   \n",
       "75%                                                   NaN   \n",
       "max                                                   NaN   \n",
       "\n",
       "                       Series Code  2017 [YR2017]  \n",
       "count                          191     190.000000  \n",
       "unique                           1            NaN  \n",
       "top     IC.BUS.EASE.DFRN.XQ.DB1719            NaN  \n",
       "freq                           191            NaN  \n",
       "mean                           NaN      60.508947  \n",
       "std                            NaN      13.983273  \n",
       "min                            NaN      20.300000  \n",
       "25%                            NaN      50.925000  \n",
       "50%                            NaN      60.600000  \n",
       "75%                            NaN      71.750000  \n",
       "max                            NaN      87.200000  "
      ]
     },
     "execution_count": 40,
     "metadata": {},
     "output_type": "execute_result"
    }
   ],
   "source": [
    "doing_business.describe(include= 'all')"
   ]
  },
  {
   "cell_type": "code",
   "execution_count": 41,
   "metadata": {},
   "outputs": [
    {
     "name": "stdout",
     "output_type": "stream",
     "text": [
      "<class 'pandas.core.frame.DataFrame'>\n",
      "RangeIndex: 191 entries, 0 to 190\n",
      "Data columns (total 5 columns):\n",
      " #   Column         Non-Null Count  Dtype  \n",
      "---  ------         --------------  -----  \n",
      " 0   Country Name   191 non-null    object \n",
      " 1   Country Name2  191 non-null    object \n",
      " 2   Series Name    191 non-null    object \n",
      " 3   Series Code    191 non-null    object \n",
      " 4   2017 [YR2017]  190 non-null    float64\n",
      "dtypes: float64(1), object(4)\n",
      "memory usage: 7.6+ KB\n"
     ]
    }
   ],
   "source": [
    "doing_business.info()"
   ]
  },
  {
   "cell_type": "markdown",
   "metadata": {},
   "source": [
    "- On a la colonne Country Name2 qui représente aussi une clé de liaison qu'on renommera en Code ISO3.\n",
    "- On a la colonne 2017[YR2017] qui représente l'indice de la facilité buisness.\n",
    "- Les autres colonnes sont a supprimées puisqu'ils sont inutiles de mon point de vue pour la suite de mon analyse."
   ]
  },
  {
   "cell_type": "markdown",
   "metadata": {},
   "source": [
    "### 2.5.3 - Nettoyage et préparation\n",
    "On va tout d'abord voir s'il y a des doublons"
   ]
  },
  {
   "cell_type": "code",
   "execution_count": 42,
   "metadata": {},
   "outputs": [
    {
     "data": {
      "text/plain": [
       "0"
      ]
     },
     "execution_count": 42,
     "metadata": {},
     "output_type": "execute_result"
    }
   ],
   "source": [
    "doing_business.duplicated().sum()"
   ]
  },
  {
   "cell_type": "markdown",
   "metadata": {},
   "source": [
    "- Il n'y a aucun doublon"
   ]
  },
  {
   "cell_type": "code",
   "execution_count": 43,
   "metadata": {},
   "outputs": [
    {
     "data": {
      "text/html": [
       "<div>\n",
       "<style scoped>\n",
       "    .dataframe tbody tr th:only-of-type {\n",
       "        vertical-align: middle;\n",
       "    }\n",
       "\n",
       "    .dataframe tbody tr th {\n",
       "        vertical-align: top;\n",
       "    }\n",
       "\n",
       "    .dataframe thead th {\n",
       "        text-align: right;\n",
       "    }\n",
       "</style>\n",
       "<table border=\"1\" class=\"dataframe\">\n",
       "  <thead>\n",
       "    <tr style=\"text-align: right;\">\n",
       "      <th></th>\n",
       "      <th>Code Zone</th>\n",
       "      <th>Facilité du Business</th>\n",
       "    </tr>\n",
       "  </thead>\n",
       "  <tbody>\n",
       "    <tr>\n",
       "      <th>0</th>\n",
       "      <td>AFG</td>\n",
       "      <td>38.9</td>\n",
       "    </tr>\n",
       "    <tr>\n",
       "      <th>1</th>\n",
       "      <td>ALB</td>\n",
       "      <td>64.2</td>\n",
       "    </tr>\n",
       "    <tr>\n",
       "      <th>2</th>\n",
       "      <td>DZA</td>\n",
       "      <td>46.1</td>\n",
       "    </tr>\n",
       "    <tr>\n",
       "      <th>3</th>\n",
       "      <td>AGO</td>\n",
       "      <td>37.7</td>\n",
       "    </tr>\n",
       "    <tr>\n",
       "      <th>4</th>\n",
       "      <td>ATG</td>\n",
       "      <td>58.8</td>\n",
       "    </tr>\n",
       "    <tr>\n",
       "      <th>...</th>\n",
       "      <td>...</td>\n",
       "      <td>...</td>\n",
       "    </tr>\n",
       "    <tr>\n",
       "      <th>186</th>\n",
       "      <td>VNM</td>\n",
       "      <td>65.3</td>\n",
       "    </tr>\n",
       "    <tr>\n",
       "      <th>187</th>\n",
       "      <td>PSE</td>\n",
       "      <td>55.5</td>\n",
       "    </tr>\n",
       "    <tr>\n",
       "      <th>188</th>\n",
       "      <td>YEM</td>\n",
       "      <td>31.2</td>\n",
       "    </tr>\n",
       "    <tr>\n",
       "      <th>189</th>\n",
       "      <td>ZMB</td>\n",
       "      <td>60.3</td>\n",
       "    </tr>\n",
       "    <tr>\n",
       "      <th>190</th>\n",
       "      <td>ZWE</td>\n",
       "      <td>47.8</td>\n",
       "    </tr>\n",
       "  </tbody>\n",
       "</table>\n",
       "<p>191 rows × 2 columns</p>\n",
       "</div>"
      ],
      "text/plain": [
       "    Code Zone  Facilité du Business\n",
       "0         AFG                  38.9\n",
       "1         ALB                  64.2\n",
       "2         DZA                  46.1\n",
       "3         AGO                  37.7\n",
       "4         ATG                  58.8\n",
       "..        ...                   ...\n",
       "186       VNM                  65.3\n",
       "187       PSE                  55.5\n",
       "188       YEM                  31.2\n",
       "189       ZMB                  60.3\n",
       "190       ZWE                  47.8\n",
       "\n",
       "[191 rows x 2 columns]"
      ]
     },
     "execution_count": 43,
     "metadata": {},
     "output_type": "execute_result"
    }
   ],
   "source": [
    "# On renomme les colonnes\n",
    "doing_business.rename(columns={'2017 [YR2017]' : 'Facilité du Business',\n",
    "                               'Country Name2' : 'Code Zone'}, inplace= True)\n",
    "# On garde les colonnes 'Country Name2' et '2017 [YR2017]' et cela on supprimant les autres colonnes\n",
    "doing_business.drop(columns=['Country Name','Series Name','Series Code'], inplace= True)\n",
    "doing_business"
   ]
  },
  {
   "cell_type": "markdown",
   "metadata": {},
   "source": [
    "On regarde s'il y a des valeurs **NAN** dans le jeu de données."
   ]
  },
  {
   "cell_type": "code",
   "execution_count": 44,
   "metadata": {},
   "outputs": [
    {
     "data": {
      "text/html": [
       "<div>\n",
       "<style scoped>\n",
       "    .dataframe tbody tr th:only-of-type {\n",
       "        vertical-align: middle;\n",
       "    }\n",
       "\n",
       "    .dataframe tbody tr th {\n",
       "        vertical-align: top;\n",
       "    }\n",
       "\n",
       "    .dataframe thead th {\n",
       "        text-align: right;\n",
       "    }\n",
       "</style>\n",
       "<table border=\"1\" class=\"dataframe\">\n",
       "  <thead>\n",
       "    <tr style=\"text-align: right;\">\n",
       "      <th></th>\n",
       "      <th>Code Zone</th>\n",
       "      <th>Facilité du Business</th>\n",
       "    </tr>\n",
       "  </thead>\n",
       "  <tbody>\n",
       "    <tr>\n",
       "      <th>98</th>\n",
       "      <td>LIE</td>\n",
       "      <td>NaN</td>\n",
       "    </tr>\n",
       "  </tbody>\n",
       "</table>\n",
       "</div>"
      ],
      "text/plain": [
       "   Code Zone  Facilité du Business\n",
       "98       LIE                   NaN"
      ]
     },
     "execution_count": 44,
     "metadata": {},
     "output_type": "execute_result"
    }
   ],
   "source": [
    "doing_business[doing_business['Facilité du Business'].isna()]"
   ]
  },
  {
   "cell_type": "markdown",
   "metadata": {},
   "source": [
    "- Cela correspond à la **principauté du Liechtenstein**\n",
    "- On va le garder parce qu'on est pas sûre que dans les autres DataFrame on est des  données sur cette principauté."
   ]
  },
  {
   "cell_type": "markdown",
   "metadata": {},
   "source": [
    "Maintenant que notre dataframe est propre, on va regarder les variables dans le détail."
   ]
  },
  {
   "cell_type": "markdown",
   "metadata": {},
   "source": [
    "### 2.5.4 - Analyse univariée\n",
    "#### Facilité du Business"
   ]
  },
  {
   "cell_type": "code",
   "execution_count": 45,
   "metadata": {},
   "outputs": [
    {
     "name": "stdout",
     "output_type": "stream",
     "text": [
      "Description rapide\n",
      "--------------\n",
      "Count :                       190\n",
      "Moyenne :                     60.51\n",
      "Ecart type :                  13.98\n",
      "\n",
      "\n",
      "Minimum :                     20.3\n",
      "Quantile 25 % :               50.92\n",
      "Médiane :                     60.6\n",
      "Quantile 75 % :               71.75\n",
      "Maximum :                     87.2\n",
      "\n",
      "\n",
      "Valeur la plus représentée :  58.0\n",
      "\n",
      "\n",
      "--------------\n"
     ]
    },
    {
     "data": {
      "application/vnd.plotly.v1+json": {
       "config": {
        "plotlyServerURL": "https://plot.ly"
       },
       "data": [
        {
         "alignmentgroup": "True",
         "bingroup": "x",
         "hovertemplate": "Facilité du Business=%{x}<br>count=%{y}<extra></extra>",
         "legendgroup": "",
         "marker": {
          "color": "#636efa",
          "pattern": {
           "shape": ""
          }
         },
         "name": "",
         "nbinsx": 20,
         "offsetgroup": "",
         "orientation": "v",
         "showlegend": false,
         "type": "histogram",
         "x": [
          38.9,
          64.2,
          46.1,
          37.7,
          58.8,
          57.2,
          70.6,
          80.2,
          78.9,
          64.3,
          56.9,
          68.7,
          41,
          57.8,
          72.6,
          72.4,
          55.4,
          49.7,
          65,
          50.2,
          64.8,
          65.6,
          55.2,
          62.9,
          71.6,
          50.9,
          45.7,
          53.4,
          53.2,
          41.8,
          79.5,
          32,
          36,
          71.6,
          64.6,
          69.2,
          46.4,
          34.4,
          38.5,
          67.7,
          51,
          72.2,
          72.3,
          76.4,
          84.6,
          47.2,
          61.2,
          57.7,
          57.5,
          55.5,
          62.7,
          38.5,
          20.9,
          80.7,
          58.4,
          44.1,
          61.3,
          80.1,
          76.3,
          43.7,
          47.8,
          80.8,
          79.6,
          58,
          67.1,
          53.4,
          62,
          46,
          42.8,
          56.4,
          37.7,
          55.7,
          84.8,
          71.4,
          79,
          55.9,
          64.7,
          55.7,
          44.1,
          80.1,
          74.2,
          71.8,
          67.3,
          77.9,
          57,
          74.8,
          62.8,
          46.7,
          84,
          64.9,
          60,
          61.3,
          49.1,
          80.6,
          54.5,
          58,
          40,
          32.5,
          null,
          79.2,
          69.2,
          42.7,
          53.2,
          78.3,
          52.4,
          52.6,
          64.8,
          50.9,
          46.9,
          76.5,
          72.4,
          48.1,
          72.5,
          66.1,
          71.2,
          69.2,
          52.1,
          42.7,
          60.1,
          58,
          75.6,
          87.2,
          54.2,
          49.3,
          48.5,
          80.6,
          82.4,
          68.1,
          52.5,
          53.2,
          64.7,
          59.3,
          58,
          67.5,
          59.3,
          77.7,
          76.7,
          69.3,
          65.4,
          72.9,
          75.3,
          69,
          60,
          61.9,
          44.3,
          59.4,
          50.3,
          73.3,
          60.5,
          47.2,
          85.4,
          75,
          75.4,
          55.1,
          20.3,
          65.4,
          32.7,
          77.6,
          59.8,
          54.4,
          63.5,
          57,
          44.8,
          47.4,
          82.2,
          76.4,
          41.4,
          80.3,
          53.4,
          53.9,
          72.8,
          38.2,
          48.1,
          61.1,
          61.3,
          65.5,
          69.4,
          57.3,
          65.4,
          77.4,
          83.3,
          83.6,
          60.7,
          62.1,
          60.9,
          31.1,
          65.3,
          55.5,
          31.2,
          60.3,
          47.8
         ],
         "xaxis": "x",
         "yaxis": "y"
        },
        {
         "alignmentgroup": "True",
         "hovertemplate": "Facilité du Business=%{x}<extra></extra>",
         "legendgroup": "",
         "marker": {
          "color": "#636efa"
         },
         "name": "",
         "notched": true,
         "offsetgroup": "",
         "showlegend": false,
         "type": "box",
         "x": [
          38.9,
          64.2,
          46.1,
          37.7,
          58.8,
          57.2,
          70.6,
          80.2,
          78.9,
          64.3,
          56.9,
          68.7,
          41,
          57.8,
          72.6,
          72.4,
          55.4,
          49.7,
          65,
          50.2,
          64.8,
          65.6,
          55.2,
          62.9,
          71.6,
          50.9,
          45.7,
          53.4,
          53.2,
          41.8,
          79.5,
          32,
          36,
          71.6,
          64.6,
          69.2,
          46.4,
          34.4,
          38.5,
          67.7,
          51,
          72.2,
          72.3,
          76.4,
          84.6,
          47.2,
          61.2,
          57.7,
          57.5,
          55.5,
          62.7,
          38.5,
          20.9,
          80.7,
          58.4,
          44.1,
          61.3,
          80.1,
          76.3,
          43.7,
          47.8,
          80.8,
          79.6,
          58,
          67.1,
          53.4,
          62,
          46,
          42.8,
          56.4,
          37.7,
          55.7,
          84.8,
          71.4,
          79,
          55.9,
          64.7,
          55.7,
          44.1,
          80.1,
          74.2,
          71.8,
          67.3,
          77.9,
          57,
          74.8,
          62.8,
          46.7,
          84,
          64.9,
          60,
          61.3,
          49.1,
          80.6,
          54.5,
          58,
          40,
          32.5,
          null,
          79.2,
          69.2,
          42.7,
          53.2,
          78.3,
          52.4,
          52.6,
          64.8,
          50.9,
          46.9,
          76.5,
          72.4,
          48.1,
          72.5,
          66.1,
          71.2,
          69.2,
          52.1,
          42.7,
          60.1,
          58,
          75.6,
          87.2,
          54.2,
          49.3,
          48.5,
          80.6,
          82.4,
          68.1,
          52.5,
          53.2,
          64.7,
          59.3,
          58,
          67.5,
          59.3,
          77.7,
          76.7,
          69.3,
          65.4,
          72.9,
          75.3,
          69,
          60,
          61.9,
          44.3,
          59.4,
          50.3,
          73.3,
          60.5,
          47.2,
          85.4,
          75,
          75.4,
          55.1,
          20.3,
          65.4,
          32.7,
          77.6,
          59.8,
          54.4,
          63.5,
          57,
          44.8,
          47.4,
          82.2,
          76.4,
          41.4,
          80.3,
          53.4,
          53.9,
          72.8,
          38.2,
          48.1,
          61.1,
          61.3,
          65.5,
          69.4,
          57.3,
          65.4,
          77.4,
          83.3,
          83.6,
          60.7,
          62.1,
          60.9,
          31.1,
          65.3,
          55.5,
          31.2,
          60.3,
          47.8
         ],
         "xaxis": "x2",
         "yaxis": "y2"
        }
       ],
       "layout": {
        "barmode": "relative",
        "height": 540,
        "legend": {
         "tracegroupgap": 0
        },
        "margin": {
         "t": 60
        },
        "template": {
         "data": {
          "bar": [
           {
            "error_x": {
             "color": "#f2f5fa"
            },
            "error_y": {
             "color": "#f2f5fa"
            },
            "marker": {
             "line": {
              "color": "rgb(17,17,17)",
              "width": 0.5
             },
             "pattern": {
              "fillmode": "overlay",
              "size": 10,
              "solidity": 0.2
             }
            },
            "type": "bar"
           }
          ],
          "barpolar": [
           {
            "marker": {
             "line": {
              "color": "rgb(17,17,17)",
              "width": 0.5
             },
             "pattern": {
              "fillmode": "overlay",
              "size": 10,
              "solidity": 0.2
             }
            },
            "type": "barpolar"
           }
          ],
          "carpet": [
           {
            "aaxis": {
             "endlinecolor": "#A2B1C6",
             "gridcolor": "#506784",
             "linecolor": "#506784",
             "minorgridcolor": "#506784",
             "startlinecolor": "#A2B1C6"
            },
            "baxis": {
             "endlinecolor": "#A2B1C6",
             "gridcolor": "#506784",
             "linecolor": "#506784",
             "minorgridcolor": "#506784",
             "startlinecolor": "#A2B1C6"
            },
            "type": "carpet"
           }
          ],
          "choropleth": [
           {
            "colorbar": {
             "outlinewidth": 0,
             "ticks": ""
            },
            "type": "choropleth"
           }
          ],
          "contour": [
           {
            "colorbar": {
             "outlinewidth": 0,
             "ticks": ""
            },
            "colorscale": [
             [
              0,
              "#0d0887"
             ],
             [
              0.1111111111111111,
              "#46039f"
             ],
             [
              0.2222222222222222,
              "#7201a8"
             ],
             [
              0.3333333333333333,
              "#9c179e"
             ],
             [
              0.4444444444444444,
              "#bd3786"
             ],
             [
              0.5555555555555556,
              "#d8576b"
             ],
             [
              0.6666666666666666,
              "#ed7953"
             ],
             [
              0.7777777777777778,
              "#fb9f3a"
             ],
             [
              0.8888888888888888,
              "#fdca26"
             ],
             [
              1,
              "#f0f921"
             ]
            ],
            "type": "contour"
           }
          ],
          "contourcarpet": [
           {
            "colorbar": {
             "outlinewidth": 0,
             "ticks": ""
            },
            "type": "contourcarpet"
           }
          ],
          "heatmap": [
           {
            "colorbar": {
             "outlinewidth": 0,
             "ticks": ""
            },
            "colorscale": [
             [
              0,
              "#0d0887"
             ],
             [
              0.1111111111111111,
              "#46039f"
             ],
             [
              0.2222222222222222,
              "#7201a8"
             ],
             [
              0.3333333333333333,
              "#9c179e"
             ],
             [
              0.4444444444444444,
              "#bd3786"
             ],
             [
              0.5555555555555556,
              "#d8576b"
             ],
             [
              0.6666666666666666,
              "#ed7953"
             ],
             [
              0.7777777777777778,
              "#fb9f3a"
             ],
             [
              0.8888888888888888,
              "#fdca26"
             ],
             [
              1,
              "#f0f921"
             ]
            ],
            "type": "heatmap"
           }
          ],
          "heatmapgl": [
           {
            "colorbar": {
             "outlinewidth": 0,
             "ticks": ""
            },
            "colorscale": [
             [
              0,
              "#0d0887"
             ],
             [
              0.1111111111111111,
              "#46039f"
             ],
             [
              0.2222222222222222,
              "#7201a8"
             ],
             [
              0.3333333333333333,
              "#9c179e"
             ],
             [
              0.4444444444444444,
              "#bd3786"
             ],
             [
              0.5555555555555556,
              "#d8576b"
             ],
             [
              0.6666666666666666,
              "#ed7953"
             ],
             [
              0.7777777777777778,
              "#fb9f3a"
             ],
             [
              0.8888888888888888,
              "#fdca26"
             ],
             [
              1,
              "#f0f921"
             ]
            ],
            "type": "heatmapgl"
           }
          ],
          "histogram": [
           {
            "marker": {
             "pattern": {
              "fillmode": "overlay",
              "size": 10,
              "solidity": 0.2
             }
            },
            "type": "histogram"
           }
          ],
          "histogram2d": [
           {
            "colorbar": {
             "outlinewidth": 0,
             "ticks": ""
            },
            "colorscale": [
             [
              0,
              "#0d0887"
             ],
             [
              0.1111111111111111,
              "#46039f"
             ],
             [
              0.2222222222222222,
              "#7201a8"
             ],
             [
              0.3333333333333333,
              "#9c179e"
             ],
             [
              0.4444444444444444,
              "#bd3786"
             ],
             [
              0.5555555555555556,
              "#d8576b"
             ],
             [
              0.6666666666666666,
              "#ed7953"
             ],
             [
              0.7777777777777778,
              "#fb9f3a"
             ],
             [
              0.8888888888888888,
              "#fdca26"
             ],
             [
              1,
              "#f0f921"
             ]
            ],
            "type": "histogram2d"
           }
          ],
          "histogram2dcontour": [
           {
            "colorbar": {
             "outlinewidth": 0,
             "ticks": ""
            },
            "colorscale": [
             [
              0,
              "#0d0887"
             ],
             [
              0.1111111111111111,
              "#46039f"
             ],
             [
              0.2222222222222222,
              "#7201a8"
             ],
             [
              0.3333333333333333,
              "#9c179e"
             ],
             [
              0.4444444444444444,
              "#bd3786"
             ],
             [
              0.5555555555555556,
              "#d8576b"
             ],
             [
              0.6666666666666666,
              "#ed7953"
             ],
             [
              0.7777777777777778,
              "#fb9f3a"
             ],
             [
              0.8888888888888888,
              "#fdca26"
             ],
             [
              1,
              "#f0f921"
             ]
            ],
            "type": "histogram2dcontour"
           }
          ],
          "mesh3d": [
           {
            "colorbar": {
             "outlinewidth": 0,
             "ticks": ""
            },
            "type": "mesh3d"
           }
          ],
          "parcoords": [
           {
            "line": {
             "colorbar": {
              "outlinewidth": 0,
              "ticks": ""
             }
            },
            "type": "parcoords"
           }
          ],
          "pie": [
           {
            "automargin": true,
            "type": "pie"
           }
          ],
          "scatter": [
           {
            "marker": {
             "line": {
              "color": "#283442"
             }
            },
            "type": "scatter"
           }
          ],
          "scatter3d": [
           {
            "line": {
             "colorbar": {
              "outlinewidth": 0,
              "ticks": ""
             }
            },
            "marker": {
             "colorbar": {
              "outlinewidth": 0,
              "ticks": ""
             }
            },
            "type": "scatter3d"
           }
          ],
          "scattercarpet": [
           {
            "marker": {
             "colorbar": {
              "outlinewidth": 0,
              "ticks": ""
             }
            },
            "type": "scattercarpet"
           }
          ],
          "scattergeo": [
           {
            "marker": {
             "colorbar": {
              "outlinewidth": 0,
              "ticks": ""
             }
            },
            "type": "scattergeo"
           }
          ],
          "scattergl": [
           {
            "marker": {
             "line": {
              "color": "#283442"
             }
            },
            "type": "scattergl"
           }
          ],
          "scattermapbox": [
           {
            "marker": {
             "colorbar": {
              "outlinewidth": 0,
              "ticks": ""
             }
            },
            "type": "scattermapbox"
           }
          ],
          "scatterpolar": [
           {
            "marker": {
             "colorbar": {
              "outlinewidth": 0,
              "ticks": ""
             }
            },
            "type": "scatterpolar"
           }
          ],
          "scatterpolargl": [
           {
            "marker": {
             "colorbar": {
              "outlinewidth": 0,
              "ticks": ""
             }
            },
            "type": "scatterpolargl"
           }
          ],
          "scatterternary": [
           {
            "marker": {
             "colorbar": {
              "outlinewidth": 0,
              "ticks": ""
             }
            },
            "type": "scatterternary"
           }
          ],
          "surface": [
           {
            "colorbar": {
             "outlinewidth": 0,
             "ticks": ""
            },
            "colorscale": [
             [
              0,
              "#0d0887"
             ],
             [
              0.1111111111111111,
              "#46039f"
             ],
             [
              0.2222222222222222,
              "#7201a8"
             ],
             [
              0.3333333333333333,
              "#9c179e"
             ],
             [
              0.4444444444444444,
              "#bd3786"
             ],
             [
              0.5555555555555556,
              "#d8576b"
             ],
             [
              0.6666666666666666,
              "#ed7953"
             ],
             [
              0.7777777777777778,
              "#fb9f3a"
             ],
             [
              0.8888888888888888,
              "#fdca26"
             ],
             [
              1,
              "#f0f921"
             ]
            ],
            "type": "surface"
           }
          ],
          "table": [
           {
            "cells": {
             "fill": {
              "color": "#506784"
             },
             "line": {
              "color": "rgb(17,17,17)"
             }
            },
            "header": {
             "fill": {
              "color": "#2a3f5f"
             },
             "line": {
              "color": "rgb(17,17,17)"
             }
            },
            "type": "table"
           }
          ]
         },
         "layout": {
          "annotationdefaults": {
           "arrowcolor": "#f2f5fa",
           "arrowhead": 0,
           "arrowwidth": 1
          },
          "autotypenumbers": "strict",
          "coloraxis": {
           "colorbar": {
            "outlinewidth": 0,
            "ticks": ""
           }
          },
          "colorscale": {
           "diverging": [
            [
             0,
             "#8e0152"
            ],
            [
             0.1,
             "#c51b7d"
            ],
            [
             0.2,
             "#de77ae"
            ],
            [
             0.3,
             "#f1b6da"
            ],
            [
             0.4,
             "#fde0ef"
            ],
            [
             0.5,
             "#f7f7f7"
            ],
            [
             0.6,
             "#e6f5d0"
            ],
            [
             0.7,
             "#b8e186"
            ],
            [
             0.8,
             "#7fbc41"
            ],
            [
             0.9,
             "#4d9221"
            ],
            [
             1,
             "#276419"
            ]
           ],
           "sequential": [
            [
             0,
             "#0d0887"
            ],
            [
             0.1111111111111111,
             "#46039f"
            ],
            [
             0.2222222222222222,
             "#7201a8"
            ],
            [
             0.3333333333333333,
             "#9c179e"
            ],
            [
             0.4444444444444444,
             "#bd3786"
            ],
            [
             0.5555555555555556,
             "#d8576b"
            ],
            [
             0.6666666666666666,
             "#ed7953"
            ],
            [
             0.7777777777777778,
             "#fb9f3a"
            ],
            [
             0.8888888888888888,
             "#fdca26"
            ],
            [
             1,
             "#f0f921"
            ]
           ],
           "sequentialminus": [
            [
             0,
             "#0d0887"
            ],
            [
             0.1111111111111111,
             "#46039f"
            ],
            [
             0.2222222222222222,
             "#7201a8"
            ],
            [
             0.3333333333333333,
             "#9c179e"
            ],
            [
             0.4444444444444444,
             "#bd3786"
            ],
            [
             0.5555555555555556,
             "#d8576b"
            ],
            [
             0.6666666666666666,
             "#ed7953"
            ],
            [
             0.7777777777777778,
             "#fb9f3a"
            ],
            [
             0.8888888888888888,
             "#fdca26"
            ],
            [
             1,
             "#f0f921"
            ]
           ]
          },
          "colorway": [
           "#636efa",
           "#EF553B",
           "#00cc96",
           "#ab63fa",
           "#FFA15A",
           "#19d3f3",
           "#FF6692",
           "#B6E880",
           "#FF97FF",
           "#FECB52"
          ],
          "font": {
           "color": "#f2f5fa"
          },
          "geo": {
           "bgcolor": "rgb(17,17,17)",
           "lakecolor": "rgb(17,17,17)",
           "landcolor": "rgb(17,17,17)",
           "showlakes": true,
           "showland": true,
           "subunitcolor": "#506784"
          },
          "hoverlabel": {
           "align": "left"
          },
          "hovermode": "closest",
          "mapbox": {
           "style": "dark"
          },
          "paper_bgcolor": "rgb(17,17,17)",
          "plot_bgcolor": "rgb(17,17,17)",
          "polar": {
           "angularaxis": {
            "gridcolor": "#506784",
            "linecolor": "#506784",
            "ticks": ""
           },
           "bgcolor": "rgb(17,17,17)",
           "radialaxis": {
            "gridcolor": "#506784",
            "linecolor": "#506784",
            "ticks": ""
           }
          },
          "scene": {
           "xaxis": {
            "backgroundcolor": "rgb(17,17,17)",
            "gridcolor": "#506784",
            "gridwidth": 2,
            "linecolor": "#506784",
            "showbackground": true,
            "ticks": "",
            "zerolinecolor": "#C8D4E3"
           },
           "yaxis": {
            "backgroundcolor": "rgb(17,17,17)",
            "gridcolor": "#506784",
            "gridwidth": 2,
            "linecolor": "#506784",
            "showbackground": true,
            "ticks": "",
            "zerolinecolor": "#C8D4E3"
           },
           "zaxis": {
            "backgroundcolor": "rgb(17,17,17)",
            "gridcolor": "#506784",
            "gridwidth": 2,
            "linecolor": "#506784",
            "showbackground": true,
            "ticks": "",
            "zerolinecolor": "#C8D4E3"
           }
          },
          "shapedefaults": {
           "line": {
            "color": "#f2f5fa"
           }
          },
          "sliderdefaults": {
           "bgcolor": "#C8D4E3",
           "bordercolor": "rgb(17,17,17)",
           "borderwidth": 1,
           "tickwidth": 0
          },
          "ternary": {
           "aaxis": {
            "gridcolor": "#506784",
            "linecolor": "#506784",
            "ticks": ""
           },
           "baxis": {
            "gridcolor": "#506784",
            "linecolor": "#506784",
            "ticks": ""
           },
           "bgcolor": "rgb(17,17,17)",
           "caxis": {
            "gridcolor": "#506784",
            "linecolor": "#506784",
            "ticks": ""
           }
          },
          "title": {
           "x": 0.05
          },
          "updatemenudefaults": {
           "bgcolor": "#506784",
           "borderwidth": 0
          },
          "xaxis": {
           "automargin": true,
           "gridcolor": "#283442",
           "linecolor": "#506784",
           "ticks": "",
           "title": {
            "standoff": 15
           },
           "zerolinecolor": "#283442",
           "zerolinewidth": 2
          },
          "yaxis": {
           "automargin": true,
           "gridcolor": "#283442",
           "linecolor": "#506784",
           "ticks": "",
           "title": {
            "standoff": 15
           },
           "zerolinecolor": "#283442",
           "zerolinewidth": 2
          }
         }
        },
        "title": {
         "text": "Dispersion de la facilité buisness"
        },
        "xaxis": {
         "anchor": "y",
         "domain": [
          0,
          1
         ],
         "linecolor": "#E0E2E5",
         "linewidth": 1,
         "showline": true,
         "title": {
          "text": "Facilité du Buisness"
         }
        },
        "xaxis2": {
         "anchor": "y2",
         "domain": [
          0,
          1
         ],
         "linecolor": "#E0E2E5",
         "linewidth": 1,
         "matches": "x",
         "showgrid": true,
         "showline": true,
         "showticklabels": false
        },
        "yaxis": {
         "anchor": "x",
         "domain": [
          0,
          0.8316
         ],
         "title": {
          "text": "Count"
         }
        },
        "yaxis2": {
         "anchor": "x2",
         "domain": [
          0.8416,
          1
         ],
         "matches": "y2",
         "showgrid": false,
         "showline": false,
         "showticklabels": false,
         "ticks": ""
        }
       }
      }
     },
     "metadata": {},
     "output_type": "display_data"
    },
    {
     "name": "stdout",
     "output_type": "stream",
     "text": [
      "--------------------\n",
      "Évaluation de la distribution avec les coefficients d'assymétrie et de Kurtosis.\n",
      "Skewness: -0.28978725392208116\n",
      "Kurtosis: -0.37610420953690316\n",
      "--------------------\n"
     ]
    }
   ],
   "source": [
    "analyse_univarie(doing_business,'Facilité du Business', 20, False, 'Dispersion de la facilité buisness', 'Facilité du Buisness')"
   ]
  },
  {
   "cell_type": "markdown",
   "metadata": {},
   "source": [
    "- On peut voir que la dispersion de la facilité du business des pays du monde est assez symétrique autour de la **moyenne de 60,5**. \n",
    "- Et la forme de la dispersion est assez proche **d'une loi normale**."
   ]
  },
  {
   "cell_type": "markdown",
   "metadata": {},
   "source": [
    "## 2.6 - Distance\n",
    "### 2.6.1 - Import"
   ]
  },
  {
   "cell_type": "code",
   "execution_count": 46,
   "metadata": {},
   "outputs": [
    {
     "data": {
      "text/html": [
       "<div>\n",
       "<style scoped>\n",
       "    .dataframe tbody tr th:only-of-type {\n",
       "        vertical-align: middle;\n",
       "    }\n",
       "\n",
       "    .dataframe tbody tr th {\n",
       "        vertical-align: top;\n",
       "    }\n",
       "\n",
       "    .dataframe thead th {\n",
       "        text-align: right;\n",
       "    }\n",
       "</style>\n",
       "<table border=\"1\" class=\"dataframe\">\n",
       "  <thead>\n",
       "    <tr style=\"text-align: right;\">\n",
       "      <th></th>\n",
       "      <th>iso_o</th>\n",
       "      <th>iso_d</th>\n",
       "      <th>contig</th>\n",
       "      <th>comlang_off</th>\n",
       "      <th>comlang_ethno</th>\n",
       "      <th>colony</th>\n",
       "      <th>comcol</th>\n",
       "      <th>curcol</th>\n",
       "      <th>col45</th>\n",
       "      <th>smctry</th>\n",
       "      <th>dist</th>\n",
       "      <th>distcap</th>\n",
       "      <th>distw</th>\n",
       "      <th>distwces</th>\n",
       "    </tr>\n",
       "  </thead>\n",
       "  <tbody>\n",
       "    <tr>\n",
       "      <th>0</th>\n",
       "      <td>ABW</td>\n",
       "      <td>ABW</td>\n",
       "      <td>0</td>\n",
       "      <td>0</td>\n",
       "      <td>0</td>\n",
       "      <td>0</td>\n",
       "      <td>0</td>\n",
       "      <td>0</td>\n",
       "      <td>0</td>\n",
       "      <td>0</td>\n",
       "      <td>5.225315</td>\n",
       "      <td>5.225315</td>\n",
       "      <td>25.09354</td>\n",
       "      <td>23.04723</td>\n",
       "    </tr>\n",
       "    <tr>\n",
       "      <th>1</th>\n",
       "      <td>ABW</td>\n",
       "      <td>AFG</td>\n",
       "      <td>0</td>\n",
       "      <td>0</td>\n",
       "      <td>0</td>\n",
       "      <td>0</td>\n",
       "      <td>0</td>\n",
       "      <td>0</td>\n",
       "      <td>0</td>\n",
       "      <td>0</td>\n",
       "      <td>13257.810000</td>\n",
       "      <td>13257.810000</td>\n",
       "      <td>13168.22</td>\n",
       "      <td>13166.37</td>\n",
       "    </tr>\n",
       "    <tr>\n",
       "      <th>2</th>\n",
       "      <td>ABW</td>\n",
       "      <td>AGO</td>\n",
       "      <td>0</td>\n",
       "      <td>0</td>\n",
       "      <td>0</td>\n",
       "      <td>0</td>\n",
       "      <td>0</td>\n",
       "      <td>0</td>\n",
       "      <td>0</td>\n",
       "      <td>0</td>\n",
       "      <td>9516.913000</td>\n",
       "      <td>9516.913000</td>\n",
       "      <td>9587.316</td>\n",
       "      <td>9584.193</td>\n",
       "    </tr>\n",
       "    <tr>\n",
       "      <th>3</th>\n",
       "      <td>ABW</td>\n",
       "      <td>AIA</td>\n",
       "      <td>0</td>\n",
       "      <td>0</td>\n",
       "      <td>1</td>\n",
       "      <td>0</td>\n",
       "      <td>0</td>\n",
       "      <td>0</td>\n",
       "      <td>0</td>\n",
       "      <td>0</td>\n",
       "      <td>983.268200</td>\n",
       "      <td>983.268200</td>\n",
       "      <td>976.8974</td>\n",
       "      <td>976.8916</td>\n",
       "    </tr>\n",
       "    <tr>\n",
       "      <th>4</th>\n",
       "      <td>ABW</td>\n",
       "      <td>ALB</td>\n",
       "      <td>0</td>\n",
       "      <td>0</td>\n",
       "      <td>0</td>\n",
       "      <td>0</td>\n",
       "      <td>0</td>\n",
       "      <td>0</td>\n",
       "      <td>0</td>\n",
       "      <td>0</td>\n",
       "      <td>9091.742000</td>\n",
       "      <td>9091.742000</td>\n",
       "      <td>9091.576</td>\n",
       "      <td>9091.466</td>\n",
       "    </tr>\n",
       "    <tr>\n",
       "      <th>...</th>\n",
       "      <td>...</td>\n",
       "      <td>...</td>\n",
       "      <td>...</td>\n",
       "      <td>...</td>\n",
       "      <td>...</td>\n",
       "      <td>...</td>\n",
       "      <td>...</td>\n",
       "      <td>...</td>\n",
       "      <td>...</td>\n",
       "      <td>...</td>\n",
       "      <td>...</td>\n",
       "      <td>...</td>\n",
       "      <td>...</td>\n",
       "      <td>...</td>\n",
       "    </tr>\n",
       "    <tr>\n",
       "      <th>50171</th>\n",
       "      <td>ZWE</td>\n",
       "      <td>YUG</td>\n",
       "      <td>0</td>\n",
       "      <td>0</td>\n",
       "      <td>0</td>\n",
       "      <td>0</td>\n",
       "      <td>0</td>\n",
       "      <td>0</td>\n",
       "      <td>0</td>\n",
       "      <td>0</td>\n",
       "      <td>7056.402000</td>\n",
       "      <td>7056.402000</td>\n",
       "      <td>7046.432</td>\n",
       "      <td>7042.83</td>\n",
       "    </tr>\n",
       "    <tr>\n",
       "      <th>50172</th>\n",
       "      <td>ZWE</td>\n",
       "      <td>ZAF</td>\n",
       "      <td>1</td>\n",
       "      <td>1</td>\n",
       "      <td>1</td>\n",
       "      <td>0</td>\n",
       "      <td>0</td>\n",
       "      <td>0</td>\n",
       "      <td>0</td>\n",
       "      <td>0</td>\n",
       "      <td>2186.206000</td>\n",
       "      <td>926.174300</td>\n",
       "      <td>1258.552</td>\n",
       "      <td>1101.438</td>\n",
       "    </tr>\n",
       "    <tr>\n",
       "      <th>50173</th>\n",
       "      <td>ZWE</td>\n",
       "      <td>ZAR</td>\n",
       "      <td>0</td>\n",
       "      <td>0</td>\n",
       "      <td>0</td>\n",
       "      <td>0</td>\n",
       "      <td>0</td>\n",
       "      <td>0</td>\n",
       "      <td>0</td>\n",
       "      <td>0</td>\n",
       "      <td>2283.061000</td>\n",
       "      <td>2283.061000</td>\n",
       "      <td>1930.976</td>\n",
       "      <td>1719.147</td>\n",
       "    </tr>\n",
       "    <tr>\n",
       "      <th>50174</th>\n",
       "      <td>ZWE</td>\n",
       "      <td>ZMB</td>\n",
       "      <td>1</td>\n",
       "      <td>1</td>\n",
       "      <td>1</td>\n",
       "      <td>0</td>\n",
       "      <td>1</td>\n",
       "      <td>0</td>\n",
       "      <td>0</td>\n",
       "      <td>0</td>\n",
       "      <td>396.804100</td>\n",
       "      <td>396.804100</td>\n",
       "      <td>583.7954</td>\n",
       "      <td>525.0734</td>\n",
       "    </tr>\n",
       "    <tr>\n",
       "      <th>50175</th>\n",
       "      <td>ZWE</td>\n",
       "      <td>ZWE</td>\n",
       "      <td>0</td>\n",
       "      <td>0</td>\n",
       "      <td>0</td>\n",
       "      <td>0</td>\n",
       "      <td>0</td>\n",
       "      <td>0</td>\n",
       "      <td>0</td>\n",
       "      <td>0</td>\n",
       "      <td>235.119300</td>\n",
       "      <td>235.119300</td>\n",
       "      <td>199.8205</td>\n",
       "      <td>67.83789</td>\n",
       "    </tr>\n",
       "  </tbody>\n",
       "</table>\n",
       "<p>50176 rows × 14 columns</p>\n",
       "</div>"
      ],
      "text/plain": [
       "      iso_o iso_d  contig  comlang_off  comlang_ethno  colony  comcol  curcol  \\\n",
       "0       ABW   ABW       0            0              0       0       0       0   \n",
       "1       ABW   AFG       0            0              0       0       0       0   \n",
       "2       ABW   AGO       0            0              0       0       0       0   \n",
       "3       ABW   AIA       0            0              1       0       0       0   \n",
       "4       ABW   ALB       0            0              0       0       0       0   \n",
       "...     ...   ...     ...          ...            ...     ...     ...     ...   \n",
       "50171   ZWE   YUG       0            0              0       0       0       0   \n",
       "50172   ZWE   ZAF       1            1              1       0       0       0   \n",
       "50173   ZWE   ZAR       0            0              0       0       0       0   \n",
       "50174   ZWE   ZMB       1            1              1       0       1       0   \n",
       "50175   ZWE   ZWE       0            0              0       0       0       0   \n",
       "\n",
       "       col45  smctry          dist       distcap     distw  distwces  \n",
       "0          0       0      5.225315      5.225315  25.09354  23.04723  \n",
       "1          0       0  13257.810000  13257.810000  13168.22  13166.37  \n",
       "2          0       0   9516.913000   9516.913000  9587.316  9584.193  \n",
       "3          0       0    983.268200    983.268200  976.8974  976.8916  \n",
       "4          0       0   9091.742000   9091.742000  9091.576  9091.466  \n",
       "...      ...     ...           ...           ...       ...       ...  \n",
       "50171      0       0   7056.402000   7056.402000  7046.432   7042.83  \n",
       "50172      0       0   2186.206000    926.174300  1258.552  1101.438  \n",
       "50173      0       0   2283.061000   2283.061000  1930.976  1719.147  \n",
       "50174      0       0    396.804100    396.804100  583.7954  525.0734  \n",
       "50175      0       0    235.119300    235.119300  199.8205  67.83789  \n",
       "\n",
       "[50176 rows x 14 columns]"
      ]
     },
     "execution_count": 46,
     "metadata": {},
     "output_type": "execute_result"
    }
   ],
   "source": [
    "distance = pd.read_excel(r'C:\\Users\\imadk\\Downloads\\dist_cepii\\dist_cepii.xls')\n",
    "distance"
   ]
  },
  {
   "cell_type": "markdown",
   "metadata": {},
   "source": [
    "### 2.6.2 - Description\n",
    "- On va voir en détail notre jeu de données et les variables qu'il contient"
   ]
  },
  {
   "cell_type": "code",
   "execution_count": 47,
   "metadata": {},
   "outputs": [
    {
     "data": {
      "text/html": [
       "<div>\n",
       "<style scoped>\n",
       "    .dataframe tbody tr th:only-of-type {\n",
       "        vertical-align: middle;\n",
       "    }\n",
       "\n",
       "    .dataframe tbody tr th {\n",
       "        vertical-align: top;\n",
       "    }\n",
       "\n",
       "    .dataframe thead th {\n",
       "        text-align: right;\n",
       "    }\n",
       "</style>\n",
       "<table border=\"1\" class=\"dataframe\">\n",
       "  <thead>\n",
       "    <tr style=\"text-align: right;\">\n",
       "      <th></th>\n",
       "      <th>iso_o</th>\n",
       "      <th>iso_d</th>\n",
       "      <th>contig</th>\n",
       "      <th>comlang_off</th>\n",
       "      <th>comlang_ethno</th>\n",
       "      <th>colony</th>\n",
       "      <th>comcol</th>\n",
       "      <th>curcol</th>\n",
       "      <th>col45</th>\n",
       "      <th>smctry</th>\n",
       "      <th>dist</th>\n",
       "      <th>distcap</th>\n",
       "      <th>distw</th>\n",
       "      <th>distwces</th>\n",
       "    </tr>\n",
       "  </thead>\n",
       "  <tbody>\n",
       "    <tr>\n",
       "      <th>count</th>\n",
       "      <td>50176</td>\n",
       "      <td>50176</td>\n",
       "      <td>50176.000000</td>\n",
       "      <td>50176.000000</td>\n",
       "      <td>50176.000000</td>\n",
       "      <td>50176.000000</td>\n",
       "      <td>50176.000000</td>\n",
       "      <td>50176.000000</td>\n",
       "      <td>50176.000000</td>\n",
       "      <td>50176.000000</td>\n",
       "      <td>50176.000000</td>\n",
       "      <td>50176.000000</td>\n",
       "      <td>50176</td>\n",
       "      <td>50176</td>\n",
       "    </tr>\n",
       "    <tr>\n",
       "      <th>unique</th>\n",
       "      <td>224</td>\n",
       "      <td>224</td>\n",
       "      <td>NaN</td>\n",
       "      <td>NaN</td>\n",
       "      <td>NaN</td>\n",
       "      <td>NaN</td>\n",
       "      <td>NaN</td>\n",
       "      <td>NaN</td>\n",
       "      <td>NaN</td>\n",
       "      <td>NaN</td>\n",
       "      <td>NaN</td>\n",
       "      <td>NaN</td>\n",
       "      <td>25526</td>\n",
       "      <td>25606</td>\n",
       "    </tr>\n",
       "    <tr>\n",
       "      <th>top</th>\n",
       "      <td>ABW</td>\n",
       "      <td>ABW</td>\n",
       "      <td>NaN</td>\n",
       "      <td>NaN</td>\n",
       "      <td>NaN</td>\n",
       "      <td>NaN</td>\n",
       "      <td>NaN</td>\n",
       "      <td>NaN</td>\n",
       "      <td>NaN</td>\n",
       "      <td>NaN</td>\n",
       "      <td>NaN</td>\n",
       "      <td>NaN</td>\n",
       "      <td>.</td>\n",
       "      <td>.</td>\n",
       "    </tr>\n",
       "    <tr>\n",
       "      <th>freq</th>\n",
       "      <td>224</td>\n",
       "      <td>224</td>\n",
       "      <td>NaN</td>\n",
       "      <td>NaN</td>\n",
       "      <td>NaN</td>\n",
       "      <td>NaN</td>\n",
       "      <td>NaN</td>\n",
       "      <td>NaN</td>\n",
       "      <td>NaN</td>\n",
       "      <td>NaN</td>\n",
       "      <td>NaN</td>\n",
       "      <td>NaN</td>\n",
       "      <td>2215</td>\n",
       "      <td>2215</td>\n",
       "    </tr>\n",
       "    <tr>\n",
       "      <th>mean</th>\n",
       "      <td>NaN</td>\n",
       "      <td>NaN</td>\n",
       "      <td>0.012277</td>\n",
       "      <td>0.174386</td>\n",
       "      <td>0.169165</td>\n",
       "      <td>0.009606</td>\n",
       "      <td>0.117307</td>\n",
       "      <td>0.001276</td>\n",
       "      <td>0.006218</td>\n",
       "      <td>0.007992</td>\n",
       "      <td>8481.799404</td>\n",
       "      <td>8471.597042</td>\n",
       "      <td>NaN</td>\n",
       "      <td>NaN</td>\n",
       "    </tr>\n",
       "    <tr>\n",
       "      <th>std</th>\n",
       "      <td>NaN</td>\n",
       "      <td>NaN</td>\n",
       "      <td>0.110120</td>\n",
       "      <td>0.379445</td>\n",
       "      <td>0.374901</td>\n",
       "      <td>0.097540</td>\n",
       "      <td>0.321789</td>\n",
       "      <td>0.035692</td>\n",
       "      <td>0.078610</td>\n",
       "      <td>0.089040</td>\n",
       "      <td>4703.571509</td>\n",
       "      <td>4704.894938</td>\n",
       "      <td>NaN</td>\n",
       "      <td>NaN</td>\n",
       "    </tr>\n",
       "    <tr>\n",
       "      <th>min</th>\n",
       "      <td>NaN</td>\n",
       "      <td>NaN</td>\n",
       "      <td>0.000000</td>\n",
       "      <td>0.000000</td>\n",
       "      <td>0.000000</td>\n",
       "      <td>0.000000</td>\n",
       "      <td>0.000000</td>\n",
       "      <td>0.000000</td>\n",
       "      <td>0.000000</td>\n",
       "      <td>0.000000</td>\n",
       "      <td>0.995137</td>\n",
       "      <td>0.995137</td>\n",
       "      <td>NaN</td>\n",
       "      <td>NaN</td>\n",
       "    </tr>\n",
       "    <tr>\n",
       "      <th>25%</th>\n",
       "      <td>NaN</td>\n",
       "      <td>NaN</td>\n",
       "      <td>0.000000</td>\n",
       "      <td>0.000000</td>\n",
       "      <td>0.000000</td>\n",
       "      <td>0.000000</td>\n",
       "      <td>0.000000</td>\n",
       "      <td>0.000000</td>\n",
       "      <td>0.000000</td>\n",
       "      <td>0.000000</td>\n",
       "      <td>4783.383250</td>\n",
       "      <td>4768.617750</td>\n",
       "      <td>NaN</td>\n",
       "      <td>NaN</td>\n",
       "    </tr>\n",
       "    <tr>\n",
       "      <th>50%</th>\n",
       "      <td>NaN</td>\n",
       "      <td>NaN</td>\n",
       "      <td>0.000000</td>\n",
       "      <td>0.000000</td>\n",
       "      <td>0.000000</td>\n",
       "      <td>0.000000</td>\n",
       "      <td>0.000000</td>\n",
       "      <td>0.000000</td>\n",
       "      <td>0.000000</td>\n",
       "      <td>0.000000</td>\n",
       "      <td>8084.515500</td>\n",
       "      <td>8080.471000</td>\n",
       "      <td>NaN</td>\n",
       "      <td>NaN</td>\n",
       "    </tr>\n",
       "    <tr>\n",
       "      <th>75%</th>\n",
       "      <td>NaN</td>\n",
       "      <td>NaN</td>\n",
       "      <td>0.000000</td>\n",
       "      <td>0.000000</td>\n",
       "      <td>0.000000</td>\n",
       "      <td>0.000000</td>\n",
       "      <td>0.000000</td>\n",
       "      <td>0.000000</td>\n",
       "      <td>0.000000</td>\n",
       "      <td>0.000000</td>\n",
       "      <td>12030.087500</td>\n",
       "      <td>12004.520000</td>\n",
       "      <td>NaN</td>\n",
       "      <td>NaN</td>\n",
       "    </tr>\n",
       "    <tr>\n",
       "      <th>max</th>\n",
       "      <td>NaN</td>\n",
       "      <td>NaN</td>\n",
       "      <td>1.000000</td>\n",
       "      <td>1.000000</td>\n",
       "      <td>1.000000</td>\n",
       "      <td>1.000000</td>\n",
       "      <td>1.000000</td>\n",
       "      <td>1.000000</td>\n",
       "      <td>1.000000</td>\n",
       "      <td>1.000000</td>\n",
       "      <td>19951.160000</td>\n",
       "      <td>19951.160000</td>\n",
       "      <td>NaN</td>\n",
       "      <td>NaN</td>\n",
       "    </tr>\n",
       "  </tbody>\n",
       "</table>\n",
       "</div>"
      ],
      "text/plain": [
       "        iso_o  iso_d        contig   comlang_off  comlang_ethno        colony  \\\n",
       "count   50176  50176  50176.000000  50176.000000   50176.000000  50176.000000   \n",
       "unique    224    224           NaN           NaN            NaN           NaN   \n",
       "top       ABW    ABW           NaN           NaN            NaN           NaN   \n",
       "freq      224    224           NaN           NaN            NaN           NaN   \n",
       "mean      NaN    NaN      0.012277      0.174386       0.169165      0.009606   \n",
       "std       NaN    NaN      0.110120      0.379445       0.374901      0.097540   \n",
       "min       NaN    NaN      0.000000      0.000000       0.000000      0.000000   \n",
       "25%       NaN    NaN      0.000000      0.000000       0.000000      0.000000   \n",
       "50%       NaN    NaN      0.000000      0.000000       0.000000      0.000000   \n",
       "75%       NaN    NaN      0.000000      0.000000       0.000000      0.000000   \n",
       "max       NaN    NaN      1.000000      1.000000       1.000000      1.000000   \n",
       "\n",
       "              comcol        curcol         col45        smctry          dist  \\\n",
       "count   50176.000000  50176.000000  50176.000000  50176.000000  50176.000000   \n",
       "unique           NaN           NaN           NaN           NaN           NaN   \n",
       "top              NaN           NaN           NaN           NaN           NaN   \n",
       "freq             NaN           NaN           NaN           NaN           NaN   \n",
       "mean        0.117307      0.001276      0.006218      0.007992   8481.799404   \n",
       "std         0.321789      0.035692      0.078610      0.089040   4703.571509   \n",
       "min         0.000000      0.000000      0.000000      0.000000      0.995137   \n",
       "25%         0.000000      0.000000      0.000000      0.000000   4783.383250   \n",
       "50%         0.000000      0.000000      0.000000      0.000000   8084.515500   \n",
       "75%         0.000000      0.000000      0.000000      0.000000  12030.087500   \n",
       "max         1.000000      1.000000      1.000000      1.000000  19951.160000   \n",
       "\n",
       "             distcap  distw distwces  \n",
       "count   50176.000000  50176    50176  \n",
       "unique           NaN  25526    25606  \n",
       "top              NaN      .        .  \n",
       "freq             NaN   2215     2215  \n",
       "mean     8471.597042    NaN      NaN  \n",
       "std      4704.894938    NaN      NaN  \n",
       "min         0.995137    NaN      NaN  \n",
       "25%      4768.617750    NaN      NaN  \n",
       "50%      8080.471000    NaN      NaN  \n",
       "75%     12004.520000    NaN      NaN  \n",
       "max     19951.160000    NaN      NaN  "
      ]
     },
     "execution_count": 47,
     "metadata": {},
     "output_type": "execute_result"
    }
   ],
   "source": [
    "distance.describe(include= 'all')"
   ]
  },
  {
   "cell_type": "code",
   "execution_count": 48,
   "metadata": {},
   "outputs": [
    {
     "name": "stdout",
     "output_type": "stream",
     "text": [
      "<class 'pandas.core.frame.DataFrame'>\n",
      "RangeIndex: 50176 entries, 0 to 50175\n",
      "Data columns (total 14 columns):\n",
      " #   Column         Non-Null Count  Dtype  \n",
      "---  ------         --------------  -----  \n",
      " 0   iso_o          50176 non-null  object \n",
      " 1   iso_d          50176 non-null  object \n",
      " 2   contig         50176 non-null  int64  \n",
      " 3   comlang_off    50176 non-null  int64  \n",
      " 4   comlang_ethno  50176 non-null  int64  \n",
      " 5   colony         50176 non-null  int64  \n",
      " 6   comcol         50176 non-null  int64  \n",
      " 7   curcol         50176 non-null  int64  \n",
      " 8   col45          50176 non-null  int64  \n",
      " 9   smctry         50176 non-null  int64  \n",
      " 10  dist           50176 non-null  float64\n",
      " 11  distcap        50176 non-null  float64\n",
      " 12  distw          50176 non-null  object \n",
      " 13  distwces       50176 non-null  object \n",
      "dtypes: float64(2), int64(8), object(4)\n",
      "memory usage: 5.4+ MB\n"
     ]
    }
   ],
   "source": [
    "distance.info()"
   ]
  },
  {
   "cell_type": "markdown",
   "metadata": {},
   "source": [
    "- On a la colonne **iso_o** qu'on filtrer sur **FRA et la supprimé.**\n",
    "- On a la colonne **iso_d** qu'on renommera en **Code ISO3**\n",
    "- On a la colonne **dist** qui repésennte la **distance** entre la france et le pays cible.\n",
    "- On a des colonnes inutiles pour notre analyse donc on va les supprimées."
   ]
  },
  {
   "cell_type": "markdown",
   "metadata": {},
   "source": [
    "### 2.6.3 - Nettoyage et préparation\n",
    "On va tout d'abord voir s'il y a des doublons"
   ]
  },
  {
   "cell_type": "code",
   "execution_count": 49,
   "metadata": {},
   "outputs": [
    {
     "data": {
      "text/plain": [
       "0"
      ]
     },
     "execution_count": 49,
     "metadata": {},
     "output_type": "execute_result"
    }
   ],
   "source": [
    "distance.duplicated().sum()"
   ]
  },
  {
   "cell_type": "markdown",
   "metadata": {},
   "source": [
    "- Il n'y a pas de doublon."
   ]
  },
  {
   "cell_type": "code",
   "execution_count": 50,
   "metadata": {},
   "outputs": [
    {
     "data": {
      "text/html": [
       "<div>\n",
       "<style scoped>\n",
       "    .dataframe tbody tr th:only-of-type {\n",
       "        vertical-align: middle;\n",
       "    }\n",
       "\n",
       "    .dataframe tbody tr th {\n",
       "        vertical-align: top;\n",
       "    }\n",
       "\n",
       "    .dataframe thead th {\n",
       "        text-align: right;\n",
       "    }\n",
       "</style>\n",
       "<table border=\"1\" class=\"dataframe\">\n",
       "  <thead>\n",
       "    <tr style=\"text-align: right;\">\n",
       "      <th></th>\n",
       "      <th>Code Zone</th>\n",
       "      <th>Distance</th>\n",
       "    </tr>\n",
       "  </thead>\n",
       "  <tbody>\n",
       "    <tr>\n",
       "      <th>15008</th>\n",
       "      <td>ABW</td>\n",
       "      <td>7685.884</td>\n",
       "    </tr>\n",
       "    <tr>\n",
       "      <th>15009</th>\n",
       "      <td>AFG</td>\n",
       "      <td>5590.381</td>\n",
       "    </tr>\n",
       "    <tr>\n",
       "      <th>15010</th>\n",
       "      <td>AGO</td>\n",
       "      <td>6510.322</td>\n",
       "    </tr>\n",
       "    <tr>\n",
       "      <th>15011</th>\n",
       "      <td>AIA</td>\n",
       "      <td>6710.570</td>\n",
       "    </tr>\n",
       "    <tr>\n",
       "      <th>15012</th>\n",
       "      <td>ALB</td>\n",
       "      <td>1603.534</td>\n",
       "    </tr>\n",
       "    <tr>\n",
       "      <th>...</th>\n",
       "      <td>...</td>\n",
       "      <td>...</td>\n",
       "    </tr>\n",
       "    <tr>\n",
       "      <th>15227</th>\n",
       "      <td>YUG</td>\n",
       "      <td>1449.718</td>\n",
       "    </tr>\n",
       "    <tr>\n",
       "      <th>15228</th>\n",
       "      <td>ZAF</td>\n",
       "      <td>9353.552</td>\n",
       "    </tr>\n",
       "    <tr>\n",
       "      <th>15229</th>\n",
       "      <td>ZAR</td>\n",
       "      <td>6049.656</td>\n",
       "    </tr>\n",
       "    <tr>\n",
       "      <th>15230</th>\n",
       "      <td>ZMB</td>\n",
       "      <td>7604.841</td>\n",
       "    </tr>\n",
       "    <tr>\n",
       "      <th>15231</th>\n",
       "      <td>ZWE</td>\n",
       "      <td>7949.676</td>\n",
       "    </tr>\n",
       "  </tbody>\n",
       "</table>\n",
       "<p>224 rows × 2 columns</p>\n",
       "</div>"
      ],
      "text/plain": [
       "      Code Zone  Distance\n",
       "15008       ABW  7685.884\n",
       "15009       AFG  5590.381\n",
       "15010       AGO  6510.322\n",
       "15011       AIA  6710.570\n",
       "15012       ALB  1603.534\n",
       "...         ...       ...\n",
       "15227       YUG  1449.718\n",
       "15228       ZAF  9353.552\n",
       "15229       ZAR  6049.656\n",
       "15230       ZMB  7604.841\n",
       "15231       ZWE  7949.676\n",
       "\n",
       "[224 rows x 2 columns]"
      ]
     },
     "execution_count": 50,
     "metadata": {},
     "output_type": "execute_result"
    }
   ],
   "source": [
    "# On filtre la colonne 'iso_o' sur 'FRA' \n",
    "distance = distance[distance['iso_o'] == 'FRA']\n",
    "#On renomme la colonne 'iso_d' \n",
    "distance.rename(columns={'iso_d' : 'Code Zone', 'dist' : 'Distance'}, inplace= True)\n",
    "# On supprime la colonne 'iso_o' ainsi que les colonnes inutiles\n",
    "distance.drop(columns=['iso_o','comlang_off','comlang_ethno','colony','comcol', 'curcol', 'col45','smctry', 'distcap', 'distw', 'distwces','contig'], inplace= True)\n",
    "distance"
   ]
  },
  {
   "cell_type": "markdown",
   "metadata": {},
   "source": [
    "Maintenant que notre dataframe est propre, on va regarder les variables dans le détail."
   ]
  },
  {
   "cell_type": "markdown",
   "metadata": {},
   "source": [
    "### 2.6.4 - Analyse univariée\n",
    "#### distance"
   ]
  },
  {
   "cell_type": "code",
   "execution_count": 51,
   "metadata": {},
   "outputs": [
    {
     "name": "stdout",
     "output_type": "stream",
     "text": [
      "Description rapide\n",
      "--------------\n",
      "Count :                       224\n",
      "Moyenne :                     6671.63\n",
      "Ecart type :                  4263.68\n",
      "\n",
      "\n",
      "Minimum :                     262.38\n",
      "Quantile 25 % :               3418.89\n",
      "Médiane :                     6552.28\n",
      "Quantile 75 % :               8934.95\n",
      "Maximum :                     19263.88\n",
      "\n",
      "\n",
      "Valeur la plus représentée :  19263.88\n",
      "\n",
      "\n",
      "--------------\n"
     ]
    },
    {
     "data": {
      "application/vnd.plotly.v1+json": {
       "config": {
        "plotlyServerURL": "https://plot.ly"
       },
       "data": [
        {
         "alignmentgroup": "True",
         "bingroup": "x",
         "hovertemplate": "Distance=%{x}<br>count=%{y}<extra></extra>",
         "legendgroup": "",
         "marker": {
          "color": "#636efa",
          "pattern": {
           "shape": ""
          }
         },
         "name": "",
         "nbinsx": 20,
         "offsetgroup": "",
         "orientation": "v",
         "showlegend": false,
         "type": "histogram",
         "x": [
          7685.884,
          5590.381,
          6510.322,
          6710.57,
          1603.534,
          711.5485,
          7638.026,
          5249.535,
          11072.25,
          3434.071,
          6708.77,
          16975.46,
          1035.144,
          3817.547,
          6371.986,
          262.3845,
          4726.537,
          4082.87,
          7916.79,
          1760.707,
          4843.391,
          7209.45,
          1352.463,
          1823.709,
          8664.439,
          5764.324,
          10038.45,
          9408.406,
          6882.34,
          11219.33,
          7569.353,
          8522.764,
          5186.042,
          6004.645,
          11388.36,
          436.0778,
          11663.39,
          8225.232,
          4884.159,
          5085.718,
          6041.018,
          16568.87,
          8707.677,
          7842.67,
          4452.386,
          8919.449,
          7729.485,
          11866.1,
          7960.709,
          2954.551,
          884.6105,
          439.8984,
          5595.459,
          6826.396,
          1027.609,
          7178.52,
          1340.39,
          9367.098,
          3215.215,
          4993.154,
          2759.848,
          1054.656,
          1859.091,
          5582.502,
          1911.138,
          16595.08,
          12560.39,
          278.1876,
          1568.769,
          13396.33,
          5438.787,
          342.9475,
          3373.349,
          4827.292,
          1549.175,
          4691.556,
          6794.139,
          4308.25,
          4440.633,
          5058.926,
          2098.726,
          7120.287,
          3584.681,
          9001.048,
          7084.598,
          7320.075,
          9639.476,
          8810.234,
          1081.762,
          7361.197,
          1247.24,
          11584.25,
          6594.23,
          778.2031,
          4218.442,
          3867.434,
          2234.723,
          3281.899,
          1109.901,
          7734.696,
          3371.398,
          9725.629,
          5561.785,
          6491.402,
          5424.702,
          9947.79,
          14371.47,
          6760.687,
          8981.467,
          4415.222,
          9245.57,
          3197.032,
          4892.298,
          2007.716,
          6903.772,
          8526.015,
          9054.14,
          1700.296,
          289.1023,
          1704.598,
          9601.923,
          1816.853,
          1976.854,
          8763.332,
          8294.178,
          9206.813,
          13705.24,
          1672.04,
          4139.756,
          1752.693,
          8892.726,
          7053.423,
          12042.09,
          8855.655,
          3794.96,
          6771.885,
          6862.589,
          9422.744,
          7650.657,
          10436.4,
          8084.97,
          16757.74,
          3932.638,
          17511.67,
          4722.149,
          8906.699,
          16639.5,
          427.9169,
          1342.89,
          7244.016,
          14455.09,
          19263.88,
          5620.005,
          5932.586,
          3303.196,
          8671.104,
          15152.12,
          10268.11,
          10751.64,
          12240.69,
          14565.84,
          1368.178,
          6916.064,
          8783.568,
          1452.86,
          10168.73,
          15724.43,
          4981.916,
          9374.991,
          1875.018,
          2494.316,
          6253.41,
          4694.5,
          4612.387,
          4217.159,
          10748.26,
          7254.018,
          15178.2,
          4724.351,
          8984.298,
          951.0759,
          6623.439,
          4273.723,
          5432.882,
          7196.987,
          1094.61,
          965.7366,
          1545.797,
          8846.426,
          7855.244,
          3280.692,
          7041.488,
          4248.435,
          4753.381,
          9454.805,
          5291.823,
          15565.23,
          4581.08,
          13128.84,
          16941.44,
          7225.325,
          1483.828,
          2255.81,
          15531.51,
          9834.232,
          7168.277,
          6128.938,
          2025.144,
          10972.42,
          5838.157,
          5153.064,
          6989.701,
          7618.86,
          6804.749,
          9208.554,
          16346.35,
          16073.01,
          16011.92,
          5317.261,
          1449.718,
          9353.552,
          6049.656,
          7604.841,
          7949.676
         ],
         "xaxis": "x",
         "yaxis": "y"
        },
        {
         "alignmentgroup": "True",
         "hovertemplate": "Distance=%{x}<extra></extra>",
         "legendgroup": "",
         "marker": {
          "color": "#636efa"
         },
         "name": "",
         "notched": true,
         "offsetgroup": "",
         "showlegend": false,
         "type": "box",
         "x": [
          7685.884,
          5590.381,
          6510.322,
          6710.57,
          1603.534,
          711.5485,
          7638.026,
          5249.535,
          11072.25,
          3434.071,
          6708.77,
          16975.46,
          1035.144,
          3817.547,
          6371.986,
          262.3845,
          4726.537,
          4082.87,
          7916.79,
          1760.707,
          4843.391,
          7209.45,
          1352.463,
          1823.709,
          8664.439,
          5764.324,
          10038.45,
          9408.406,
          6882.34,
          11219.33,
          7569.353,
          8522.764,
          5186.042,
          6004.645,
          11388.36,
          436.0778,
          11663.39,
          8225.232,
          4884.159,
          5085.718,
          6041.018,
          16568.87,
          8707.677,
          7842.67,
          4452.386,
          8919.449,
          7729.485,
          11866.1,
          7960.709,
          2954.551,
          884.6105,
          439.8984,
          5595.459,
          6826.396,
          1027.609,
          7178.52,
          1340.39,
          9367.098,
          3215.215,
          4993.154,
          2759.848,
          1054.656,
          1859.091,
          5582.502,
          1911.138,
          16595.08,
          12560.39,
          278.1876,
          1568.769,
          13396.33,
          5438.787,
          342.9475,
          3373.349,
          4827.292,
          1549.175,
          4691.556,
          6794.139,
          4308.25,
          4440.633,
          5058.926,
          2098.726,
          7120.287,
          3584.681,
          9001.048,
          7084.598,
          7320.075,
          9639.476,
          8810.234,
          1081.762,
          7361.197,
          1247.24,
          11584.25,
          6594.23,
          778.2031,
          4218.442,
          3867.434,
          2234.723,
          3281.899,
          1109.901,
          7734.696,
          3371.398,
          9725.629,
          5561.785,
          6491.402,
          5424.702,
          9947.79,
          14371.47,
          6760.687,
          8981.467,
          4415.222,
          9245.57,
          3197.032,
          4892.298,
          2007.716,
          6903.772,
          8526.015,
          9054.14,
          1700.296,
          289.1023,
          1704.598,
          9601.923,
          1816.853,
          1976.854,
          8763.332,
          8294.178,
          9206.813,
          13705.24,
          1672.04,
          4139.756,
          1752.693,
          8892.726,
          7053.423,
          12042.09,
          8855.655,
          3794.96,
          6771.885,
          6862.589,
          9422.744,
          7650.657,
          10436.4,
          8084.97,
          16757.74,
          3932.638,
          17511.67,
          4722.149,
          8906.699,
          16639.5,
          427.9169,
          1342.89,
          7244.016,
          14455.09,
          19263.88,
          5620.005,
          5932.586,
          3303.196,
          8671.104,
          15152.12,
          10268.11,
          10751.64,
          12240.69,
          14565.84,
          1368.178,
          6916.064,
          8783.568,
          1452.86,
          10168.73,
          15724.43,
          4981.916,
          9374.991,
          1875.018,
          2494.316,
          6253.41,
          4694.5,
          4612.387,
          4217.159,
          10748.26,
          7254.018,
          15178.2,
          4724.351,
          8984.298,
          951.0759,
          6623.439,
          4273.723,
          5432.882,
          7196.987,
          1094.61,
          965.7366,
          1545.797,
          8846.426,
          7855.244,
          3280.692,
          7041.488,
          4248.435,
          4753.381,
          9454.805,
          5291.823,
          15565.23,
          4581.08,
          13128.84,
          16941.44,
          7225.325,
          1483.828,
          2255.81,
          15531.51,
          9834.232,
          7168.277,
          6128.938,
          2025.144,
          10972.42,
          5838.157,
          5153.064,
          6989.701,
          7618.86,
          6804.749,
          9208.554,
          16346.35,
          16073.01,
          16011.92,
          5317.261,
          1449.718,
          9353.552,
          6049.656,
          7604.841,
          7949.676
         ],
         "xaxis": "x2",
         "yaxis": "y2"
        }
       ],
       "layout": {
        "barmode": "relative",
        "height": 540,
        "legend": {
         "tracegroupgap": 0
        },
        "margin": {
         "t": 60
        },
        "template": {
         "data": {
          "bar": [
           {
            "error_x": {
             "color": "#f2f5fa"
            },
            "error_y": {
             "color": "#f2f5fa"
            },
            "marker": {
             "line": {
              "color": "rgb(17,17,17)",
              "width": 0.5
             },
             "pattern": {
              "fillmode": "overlay",
              "size": 10,
              "solidity": 0.2
             }
            },
            "type": "bar"
           }
          ],
          "barpolar": [
           {
            "marker": {
             "line": {
              "color": "rgb(17,17,17)",
              "width": 0.5
             },
             "pattern": {
              "fillmode": "overlay",
              "size": 10,
              "solidity": 0.2
             }
            },
            "type": "barpolar"
           }
          ],
          "carpet": [
           {
            "aaxis": {
             "endlinecolor": "#A2B1C6",
             "gridcolor": "#506784",
             "linecolor": "#506784",
             "minorgridcolor": "#506784",
             "startlinecolor": "#A2B1C6"
            },
            "baxis": {
             "endlinecolor": "#A2B1C6",
             "gridcolor": "#506784",
             "linecolor": "#506784",
             "minorgridcolor": "#506784",
             "startlinecolor": "#A2B1C6"
            },
            "type": "carpet"
           }
          ],
          "choropleth": [
           {
            "colorbar": {
             "outlinewidth": 0,
             "ticks": ""
            },
            "type": "choropleth"
           }
          ],
          "contour": [
           {
            "colorbar": {
             "outlinewidth": 0,
             "ticks": ""
            },
            "colorscale": [
             [
              0,
              "#0d0887"
             ],
             [
              0.1111111111111111,
              "#46039f"
             ],
             [
              0.2222222222222222,
              "#7201a8"
             ],
             [
              0.3333333333333333,
              "#9c179e"
             ],
             [
              0.4444444444444444,
              "#bd3786"
             ],
             [
              0.5555555555555556,
              "#d8576b"
             ],
             [
              0.6666666666666666,
              "#ed7953"
             ],
             [
              0.7777777777777778,
              "#fb9f3a"
             ],
             [
              0.8888888888888888,
              "#fdca26"
             ],
             [
              1,
              "#f0f921"
             ]
            ],
            "type": "contour"
           }
          ],
          "contourcarpet": [
           {
            "colorbar": {
             "outlinewidth": 0,
             "ticks": ""
            },
            "type": "contourcarpet"
           }
          ],
          "heatmap": [
           {
            "colorbar": {
             "outlinewidth": 0,
             "ticks": ""
            },
            "colorscale": [
             [
              0,
              "#0d0887"
             ],
             [
              0.1111111111111111,
              "#46039f"
             ],
             [
              0.2222222222222222,
              "#7201a8"
             ],
             [
              0.3333333333333333,
              "#9c179e"
             ],
             [
              0.4444444444444444,
              "#bd3786"
             ],
             [
              0.5555555555555556,
              "#d8576b"
             ],
             [
              0.6666666666666666,
              "#ed7953"
             ],
             [
              0.7777777777777778,
              "#fb9f3a"
             ],
             [
              0.8888888888888888,
              "#fdca26"
             ],
             [
              1,
              "#f0f921"
             ]
            ],
            "type": "heatmap"
           }
          ],
          "heatmapgl": [
           {
            "colorbar": {
             "outlinewidth": 0,
             "ticks": ""
            },
            "colorscale": [
             [
              0,
              "#0d0887"
             ],
             [
              0.1111111111111111,
              "#46039f"
             ],
             [
              0.2222222222222222,
              "#7201a8"
             ],
             [
              0.3333333333333333,
              "#9c179e"
             ],
             [
              0.4444444444444444,
              "#bd3786"
             ],
             [
              0.5555555555555556,
              "#d8576b"
             ],
             [
              0.6666666666666666,
              "#ed7953"
             ],
             [
              0.7777777777777778,
              "#fb9f3a"
             ],
             [
              0.8888888888888888,
              "#fdca26"
             ],
             [
              1,
              "#f0f921"
             ]
            ],
            "type": "heatmapgl"
           }
          ],
          "histogram": [
           {
            "marker": {
             "pattern": {
              "fillmode": "overlay",
              "size": 10,
              "solidity": 0.2
             }
            },
            "type": "histogram"
           }
          ],
          "histogram2d": [
           {
            "colorbar": {
             "outlinewidth": 0,
             "ticks": ""
            },
            "colorscale": [
             [
              0,
              "#0d0887"
             ],
             [
              0.1111111111111111,
              "#46039f"
             ],
             [
              0.2222222222222222,
              "#7201a8"
             ],
             [
              0.3333333333333333,
              "#9c179e"
             ],
             [
              0.4444444444444444,
              "#bd3786"
             ],
             [
              0.5555555555555556,
              "#d8576b"
             ],
             [
              0.6666666666666666,
              "#ed7953"
             ],
             [
              0.7777777777777778,
              "#fb9f3a"
             ],
             [
              0.8888888888888888,
              "#fdca26"
             ],
             [
              1,
              "#f0f921"
             ]
            ],
            "type": "histogram2d"
           }
          ],
          "histogram2dcontour": [
           {
            "colorbar": {
             "outlinewidth": 0,
             "ticks": ""
            },
            "colorscale": [
             [
              0,
              "#0d0887"
             ],
             [
              0.1111111111111111,
              "#46039f"
             ],
             [
              0.2222222222222222,
              "#7201a8"
             ],
             [
              0.3333333333333333,
              "#9c179e"
             ],
             [
              0.4444444444444444,
              "#bd3786"
             ],
             [
              0.5555555555555556,
              "#d8576b"
             ],
             [
              0.6666666666666666,
              "#ed7953"
             ],
             [
              0.7777777777777778,
              "#fb9f3a"
             ],
             [
              0.8888888888888888,
              "#fdca26"
             ],
             [
              1,
              "#f0f921"
             ]
            ],
            "type": "histogram2dcontour"
           }
          ],
          "mesh3d": [
           {
            "colorbar": {
             "outlinewidth": 0,
             "ticks": ""
            },
            "type": "mesh3d"
           }
          ],
          "parcoords": [
           {
            "line": {
             "colorbar": {
              "outlinewidth": 0,
              "ticks": ""
             }
            },
            "type": "parcoords"
           }
          ],
          "pie": [
           {
            "automargin": true,
            "type": "pie"
           }
          ],
          "scatter": [
           {
            "marker": {
             "line": {
              "color": "#283442"
             }
            },
            "type": "scatter"
           }
          ],
          "scatter3d": [
           {
            "line": {
             "colorbar": {
              "outlinewidth": 0,
              "ticks": ""
             }
            },
            "marker": {
             "colorbar": {
              "outlinewidth": 0,
              "ticks": ""
             }
            },
            "type": "scatter3d"
           }
          ],
          "scattercarpet": [
           {
            "marker": {
             "colorbar": {
              "outlinewidth": 0,
              "ticks": ""
             }
            },
            "type": "scattercarpet"
           }
          ],
          "scattergeo": [
           {
            "marker": {
             "colorbar": {
              "outlinewidth": 0,
              "ticks": ""
             }
            },
            "type": "scattergeo"
           }
          ],
          "scattergl": [
           {
            "marker": {
             "line": {
              "color": "#283442"
             }
            },
            "type": "scattergl"
           }
          ],
          "scattermapbox": [
           {
            "marker": {
             "colorbar": {
              "outlinewidth": 0,
              "ticks": ""
             }
            },
            "type": "scattermapbox"
           }
          ],
          "scatterpolar": [
           {
            "marker": {
             "colorbar": {
              "outlinewidth": 0,
              "ticks": ""
             }
            },
            "type": "scatterpolar"
           }
          ],
          "scatterpolargl": [
           {
            "marker": {
             "colorbar": {
              "outlinewidth": 0,
              "ticks": ""
             }
            },
            "type": "scatterpolargl"
           }
          ],
          "scatterternary": [
           {
            "marker": {
             "colorbar": {
              "outlinewidth": 0,
              "ticks": ""
             }
            },
            "type": "scatterternary"
           }
          ],
          "surface": [
           {
            "colorbar": {
             "outlinewidth": 0,
             "ticks": ""
            },
            "colorscale": [
             [
              0,
              "#0d0887"
             ],
             [
              0.1111111111111111,
              "#46039f"
             ],
             [
              0.2222222222222222,
              "#7201a8"
             ],
             [
              0.3333333333333333,
              "#9c179e"
             ],
             [
              0.4444444444444444,
              "#bd3786"
             ],
             [
              0.5555555555555556,
              "#d8576b"
             ],
             [
              0.6666666666666666,
              "#ed7953"
             ],
             [
              0.7777777777777778,
              "#fb9f3a"
             ],
             [
              0.8888888888888888,
              "#fdca26"
             ],
             [
              1,
              "#f0f921"
             ]
            ],
            "type": "surface"
           }
          ],
          "table": [
           {
            "cells": {
             "fill": {
              "color": "#506784"
             },
             "line": {
              "color": "rgb(17,17,17)"
             }
            },
            "header": {
             "fill": {
              "color": "#2a3f5f"
             },
             "line": {
              "color": "rgb(17,17,17)"
             }
            },
            "type": "table"
           }
          ]
         },
         "layout": {
          "annotationdefaults": {
           "arrowcolor": "#f2f5fa",
           "arrowhead": 0,
           "arrowwidth": 1
          },
          "autotypenumbers": "strict",
          "coloraxis": {
           "colorbar": {
            "outlinewidth": 0,
            "ticks": ""
           }
          },
          "colorscale": {
           "diverging": [
            [
             0,
             "#8e0152"
            ],
            [
             0.1,
             "#c51b7d"
            ],
            [
             0.2,
             "#de77ae"
            ],
            [
             0.3,
             "#f1b6da"
            ],
            [
             0.4,
             "#fde0ef"
            ],
            [
             0.5,
             "#f7f7f7"
            ],
            [
             0.6,
             "#e6f5d0"
            ],
            [
             0.7,
             "#b8e186"
            ],
            [
             0.8,
             "#7fbc41"
            ],
            [
             0.9,
             "#4d9221"
            ],
            [
             1,
             "#276419"
            ]
           ],
           "sequential": [
            [
             0,
             "#0d0887"
            ],
            [
             0.1111111111111111,
             "#46039f"
            ],
            [
             0.2222222222222222,
             "#7201a8"
            ],
            [
             0.3333333333333333,
             "#9c179e"
            ],
            [
             0.4444444444444444,
             "#bd3786"
            ],
            [
             0.5555555555555556,
             "#d8576b"
            ],
            [
             0.6666666666666666,
             "#ed7953"
            ],
            [
             0.7777777777777778,
             "#fb9f3a"
            ],
            [
             0.8888888888888888,
             "#fdca26"
            ],
            [
             1,
             "#f0f921"
            ]
           ],
           "sequentialminus": [
            [
             0,
             "#0d0887"
            ],
            [
             0.1111111111111111,
             "#46039f"
            ],
            [
             0.2222222222222222,
             "#7201a8"
            ],
            [
             0.3333333333333333,
             "#9c179e"
            ],
            [
             0.4444444444444444,
             "#bd3786"
            ],
            [
             0.5555555555555556,
             "#d8576b"
            ],
            [
             0.6666666666666666,
             "#ed7953"
            ],
            [
             0.7777777777777778,
             "#fb9f3a"
            ],
            [
             0.8888888888888888,
             "#fdca26"
            ],
            [
             1,
             "#f0f921"
            ]
           ]
          },
          "colorway": [
           "#636efa",
           "#EF553B",
           "#00cc96",
           "#ab63fa",
           "#FFA15A",
           "#19d3f3",
           "#FF6692",
           "#B6E880",
           "#FF97FF",
           "#FECB52"
          ],
          "font": {
           "color": "#f2f5fa"
          },
          "geo": {
           "bgcolor": "rgb(17,17,17)",
           "lakecolor": "rgb(17,17,17)",
           "landcolor": "rgb(17,17,17)",
           "showlakes": true,
           "showland": true,
           "subunitcolor": "#506784"
          },
          "hoverlabel": {
           "align": "left"
          },
          "hovermode": "closest",
          "mapbox": {
           "style": "dark"
          },
          "paper_bgcolor": "rgb(17,17,17)",
          "plot_bgcolor": "rgb(17,17,17)",
          "polar": {
           "angularaxis": {
            "gridcolor": "#506784",
            "linecolor": "#506784",
            "ticks": ""
           },
           "bgcolor": "rgb(17,17,17)",
           "radialaxis": {
            "gridcolor": "#506784",
            "linecolor": "#506784",
            "ticks": ""
           }
          },
          "scene": {
           "xaxis": {
            "backgroundcolor": "rgb(17,17,17)",
            "gridcolor": "#506784",
            "gridwidth": 2,
            "linecolor": "#506784",
            "showbackground": true,
            "ticks": "",
            "zerolinecolor": "#C8D4E3"
           },
           "yaxis": {
            "backgroundcolor": "rgb(17,17,17)",
            "gridcolor": "#506784",
            "gridwidth": 2,
            "linecolor": "#506784",
            "showbackground": true,
            "ticks": "",
            "zerolinecolor": "#C8D4E3"
           },
           "zaxis": {
            "backgroundcolor": "rgb(17,17,17)",
            "gridcolor": "#506784",
            "gridwidth": 2,
            "linecolor": "#506784",
            "showbackground": true,
            "ticks": "",
            "zerolinecolor": "#C8D4E3"
           }
          },
          "shapedefaults": {
           "line": {
            "color": "#f2f5fa"
           }
          },
          "sliderdefaults": {
           "bgcolor": "#C8D4E3",
           "bordercolor": "rgb(17,17,17)",
           "borderwidth": 1,
           "tickwidth": 0
          },
          "ternary": {
           "aaxis": {
            "gridcolor": "#506784",
            "linecolor": "#506784",
            "ticks": ""
           },
           "baxis": {
            "gridcolor": "#506784",
            "linecolor": "#506784",
            "ticks": ""
           },
           "bgcolor": "rgb(17,17,17)",
           "caxis": {
            "gridcolor": "#506784",
            "linecolor": "#506784",
            "ticks": ""
           }
          },
          "title": {
           "x": 0.05
          },
          "updatemenudefaults": {
           "bgcolor": "#506784",
           "borderwidth": 0
          },
          "xaxis": {
           "automargin": true,
           "gridcolor": "#283442",
           "linecolor": "#506784",
           "ticks": "",
           "title": {
            "standoff": 15
           },
           "zerolinecolor": "#283442",
           "zerolinewidth": 2
          },
          "yaxis": {
           "automargin": true,
           "gridcolor": "#283442",
           "linecolor": "#506784",
           "ticks": "",
           "title": {
            "standoff": 15
           },
           "zerolinecolor": "#283442",
           "zerolinewidth": 2
          }
         }
        },
        "title": {
         "text": "Dispersion des distances"
        },
        "xaxis": {
         "anchor": "y",
         "domain": [
          0,
          1
         ],
         "linecolor": "#E0E2E5",
         "linewidth": 1,
         "showline": true,
         "title": {
          "text": "Distance"
         }
        },
        "xaxis2": {
         "anchor": "y2",
         "domain": [
          0,
          1
         ],
         "linecolor": "#E0E2E5",
         "linewidth": 1,
         "matches": "x",
         "showgrid": true,
         "showline": true,
         "showticklabels": false
        },
        "yaxis": {
         "anchor": "x",
         "domain": [
          0,
          0.8316
         ],
         "title": {
          "text": "Count"
         }
        },
        "yaxis2": {
         "anchor": "x2",
         "domain": [
          0.8416,
          1
         ],
         "matches": "y2",
         "showgrid": false,
         "showline": false,
         "showticklabels": false,
         "ticks": ""
        }
       }
      }
     },
     "metadata": {},
     "output_type": "display_data"
    },
    {
     "name": "stdout",
     "output_type": "stream",
     "text": [
      "--------------------\n",
      "Évaluation de la distribution avec les coefficients d'assymétrie et de Kurtosis.\n",
      "Skewness: 0.6794496254634893\n",
      "Kurtosis: 0.07840924008572081\n",
      "--------------------\n"
     ]
    }
   ],
   "source": [
    "analyse_univarie(distance, 'Distance', 20, False, 'Dispersion des distances', 'Distance')"
   ]
  },
  {
   "cell_type": "markdown",
   "metadata": {},
   "source": [
    "- Il y a **41 pays à moins de 2000 km de nous** , et la **plus grande majorité des pays est à moins de 10 000 km de nous**."
   ]
  },
  {
   "cell_type": "markdown",
   "metadata": {},
   "source": [
    "# 3 - Merge\n",
    "\n",
    "On fusionne les tables sur la variable Zone ou son code Zone"
   ]
  },
  {
   "cell_type": "markdown",
   "metadata": {},
   "source": [
    "## 3.1 - \"Disponibilité alimentaire\" + \"Population\" "
   ]
  },
  {
   "cell_type": "code",
   "execution_count": 52,
   "metadata": {},
   "outputs": [
    {
     "data": {
      "text/html": [
       "<div>\n",
       "<style scoped>\n",
       "    .dataframe tbody tr th:only-of-type {\n",
       "        vertical-align: middle;\n",
       "    }\n",
       "\n",
       "    .dataframe tbody tr th {\n",
       "        vertical-align: top;\n",
       "    }\n",
       "\n",
       "    .dataframe thead th {\n",
       "        text-align: right;\n",
       "    }\n",
       "</style>\n",
       "<table border=\"1\" class=\"dataframe\">\n",
       "  <thead>\n",
       "    <tr style=\"text-align: right;\">\n",
       "      <th></th>\n",
       "      <th>Zone</th>\n",
       "      <th>Exportations Volailles (en milliers tonnes)</th>\n",
       "      <th>Importations Volailles (en milliers tonnes)</th>\n",
       "      <th>Nourritures (en milliers tonnes)</th>\n",
       "      <th>Productions Volailles (en milliers tonnes)</th>\n",
       "      <th>Population en 2017 (milliers de personnes)</th>\n",
       "      <th>True</th>\n",
       "    </tr>\n",
       "  </thead>\n",
       "  <tbody>\n",
       "    <tr>\n",
       "      <th>0</th>\n",
       "      <td>Afghanistan</td>\n",
       "      <td>0.0</td>\n",
       "      <td>29.0</td>\n",
       "      <td>55.0</td>\n",
       "      <td>28.0</td>\n",
       "      <td>36296.113</td>\n",
       "      <td>both</td>\n",
       "    </tr>\n",
       "    <tr>\n",
       "      <th>1</th>\n",
       "      <td>Afrique du Sud</td>\n",
       "      <td>63.0</td>\n",
       "      <td>514.0</td>\n",
       "      <td>2035.0</td>\n",
       "      <td>1667.0</td>\n",
       "      <td>57009.756</td>\n",
       "      <td>both</td>\n",
       "    </tr>\n",
       "    <tr>\n",
       "      <th>2</th>\n",
       "      <td>Albanie</td>\n",
       "      <td>0.0</td>\n",
       "      <td>38.0</td>\n",
       "      <td>47.0</td>\n",
       "      <td>13.0</td>\n",
       "      <td>2884.169</td>\n",
       "      <td>both</td>\n",
       "    </tr>\n",
       "    <tr>\n",
       "      <th>3</th>\n",
       "      <td>Algérie</td>\n",
       "      <td>0.0</td>\n",
       "      <td>2.0</td>\n",
       "      <td>264.0</td>\n",
       "      <td>275.0</td>\n",
       "      <td>41389.189</td>\n",
       "      <td>both</td>\n",
       "    </tr>\n",
       "    <tr>\n",
       "      <th>4</th>\n",
       "      <td>Allemagne</td>\n",
       "      <td>646.0</td>\n",
       "      <td>842.0</td>\n",
       "      <td>1609.0</td>\n",
       "      <td>1514.0</td>\n",
       "      <td>82658.409</td>\n",
       "      <td>both</td>\n",
       "    </tr>\n",
       "    <tr>\n",
       "      <th>...</th>\n",
       "      <td>...</td>\n",
       "      <td>...</td>\n",
       "      <td>...</td>\n",
       "      <td>...</td>\n",
       "      <td>...</td>\n",
       "      <td>...</td>\n",
       "      <td>...</td>\n",
       "    </tr>\n",
       "    <tr>\n",
       "      <th>233</th>\n",
       "      <td>Îles Marshall</td>\n",
       "      <td>NaN</td>\n",
       "      <td>NaN</td>\n",
       "      <td>NaN</td>\n",
       "      <td>NaN</td>\n",
       "      <td>58.058</td>\n",
       "      <td>right_only</td>\n",
       "    </tr>\n",
       "    <tr>\n",
       "      <th>234</th>\n",
       "      <td>Îles Turques-et-Caïques</td>\n",
       "      <td>NaN</td>\n",
       "      <td>NaN</td>\n",
       "      <td>NaN</td>\n",
       "      <td>NaN</td>\n",
       "      <td>37.115</td>\n",
       "      <td>right_only</td>\n",
       "    </tr>\n",
       "    <tr>\n",
       "      <th>235</th>\n",
       "      <td>Îles Vierges américaines</td>\n",
       "      <td>NaN</td>\n",
       "      <td>NaN</td>\n",
       "      <td>NaN</td>\n",
       "      <td>NaN</td>\n",
       "      <td>104.751</td>\n",
       "      <td>right_only</td>\n",
       "    </tr>\n",
       "    <tr>\n",
       "      <th>236</th>\n",
       "      <td>Îles Vierges britanniques</td>\n",
       "      <td>NaN</td>\n",
       "      <td>NaN</td>\n",
       "      <td>NaN</td>\n",
       "      <td>NaN</td>\n",
       "      <td>29.577</td>\n",
       "      <td>right_only</td>\n",
       "    </tr>\n",
       "    <tr>\n",
       "      <th>237</th>\n",
       "      <td>Îles Wallis-et-Futuna</td>\n",
       "      <td>NaN</td>\n",
       "      <td>NaN</td>\n",
       "      <td>NaN</td>\n",
       "      <td>NaN</td>\n",
       "      <td>11.900</td>\n",
       "      <td>right_only</td>\n",
       "    </tr>\n",
       "  </tbody>\n",
       "</table>\n",
       "<p>238 rows × 7 columns</p>\n",
       "</div>"
      ],
      "text/plain": [
       "                          Zone  Exportations Volailles (en milliers tonnes)  \\\n",
       "0                  Afghanistan                                          0.0   \n",
       "1               Afrique du Sud                                         63.0   \n",
       "2                      Albanie                                          0.0   \n",
       "3                      Algérie                                          0.0   \n",
       "4                    Allemagne                                        646.0   \n",
       "..                         ...                                          ...   \n",
       "233              Îles Marshall                                          NaN   \n",
       "234    Îles Turques-et-Caïques                                          NaN   \n",
       "235   Îles Vierges américaines                                          NaN   \n",
       "236  Îles Vierges britanniques                                          NaN   \n",
       "237      Îles Wallis-et-Futuna                                          NaN   \n",
       "\n",
       "     Importations Volailles (en milliers tonnes)  \\\n",
       "0                                           29.0   \n",
       "1                                          514.0   \n",
       "2                                           38.0   \n",
       "3                                            2.0   \n",
       "4                                          842.0   \n",
       "..                                           ...   \n",
       "233                                          NaN   \n",
       "234                                          NaN   \n",
       "235                                          NaN   \n",
       "236                                          NaN   \n",
       "237                                          NaN   \n",
       "\n",
       "     Nourritures (en milliers tonnes)  \\\n",
       "0                                55.0   \n",
       "1                              2035.0   \n",
       "2                                47.0   \n",
       "3                               264.0   \n",
       "4                              1609.0   \n",
       "..                                ...   \n",
       "233                               NaN   \n",
       "234                               NaN   \n",
       "235                               NaN   \n",
       "236                               NaN   \n",
       "237                               NaN   \n",
       "\n",
       "     Productions Volailles (en milliers tonnes)  \\\n",
       "0                                          28.0   \n",
       "1                                        1667.0   \n",
       "2                                          13.0   \n",
       "3                                         275.0   \n",
       "4                                        1514.0   \n",
       "..                                          ...   \n",
       "233                                         NaN   \n",
       "234                                         NaN   \n",
       "235                                         NaN   \n",
       "236                                         NaN   \n",
       "237                                         NaN   \n",
       "\n",
       "     Population en 2017 (milliers de personnes)        True  \n",
       "0                                     36296.113        both  \n",
       "1                                     57009.756        both  \n",
       "2                                      2884.169        both  \n",
       "3                                     41389.189        both  \n",
       "4                                     82658.409        both  \n",
       "..                                          ...         ...  \n",
       "233                                      58.058  right_only  \n",
       "234                                      37.115  right_only  \n",
       "235                                     104.751  right_only  \n",
       "236                                      29.577  right_only  \n",
       "237                                      11.900  right_only  \n",
       "\n",
       "[238 rows x 7 columns]"
      ]
     },
     "execution_count": 52,
     "metadata": {},
     "output_type": "execute_result"
    }
   ],
   "source": [
    "df = dispo_alim.merge(population, how= 'outer', on='Zone', indicator= 'True')\n",
    "df"
   ]
  },
  {
   "cell_type": "markdown",
   "metadata": {},
   "source": [
    "- On teste si pour chaque ligne, la fusion a trouvé des données dans chaque table."
   ]
  },
  {
   "cell_type": "code",
   "execution_count": 53,
   "metadata": {},
   "outputs": [
    {
     "data": {
      "text/plain": [
       "['both', 'right_only']\n",
       "Categories (3, object): ['left_only', 'right_only', 'both']"
      ]
     },
     "execution_count": 53,
     "metadata": {},
     "output_type": "execute_result"
    }
   ],
   "source": [
    "df['True'].unique()"
   ]
  },
  {
   "cell_type": "markdown",
   "metadata": {},
   "source": [
    "- On remarque qu'il y a des données importées qui proviennent seulement de la table **population**"
   ]
  },
  {
   "cell_type": "code",
   "execution_count": 54,
   "metadata": {},
   "outputs": [
    {
     "data": {
      "text/html": [
       "<div>\n",
       "<style scoped>\n",
       "    .dataframe tbody tr th:only-of-type {\n",
       "        vertical-align: middle;\n",
       "    }\n",
       "\n",
       "    .dataframe tbody tr th {\n",
       "        vertical-align: top;\n",
       "    }\n",
       "\n",
       "    .dataframe thead th {\n",
       "        text-align: right;\n",
       "    }\n",
       "</style>\n",
       "<table border=\"1\" class=\"dataframe\">\n",
       "  <thead>\n",
       "    <tr style=\"text-align: right;\">\n",
       "      <th></th>\n",
       "      <th>Zone</th>\n",
       "      <th>Exportations Volailles (en milliers tonnes)</th>\n",
       "      <th>Importations Volailles (en milliers tonnes)</th>\n",
       "      <th>Nourritures (en milliers tonnes)</th>\n",
       "      <th>Productions Volailles (en milliers tonnes)</th>\n",
       "      <th>Population en 2017 (milliers de personnes)</th>\n",
       "      <th>True</th>\n",
       "    </tr>\n",
       "  </thead>\n",
       "  <tbody>\n",
       "    <tr>\n",
       "      <th>172</th>\n",
       "      <td>Andorre</td>\n",
       "      <td>NaN</td>\n",
       "      <td>NaN</td>\n",
       "      <td>NaN</td>\n",
       "      <td>NaN</td>\n",
       "      <td>77.001</td>\n",
       "      <td>right_only</td>\n",
       "    </tr>\n",
       "    <tr>\n",
       "      <th>173</th>\n",
       "      <td>Anguilla</td>\n",
       "      <td>NaN</td>\n",
       "      <td>NaN</td>\n",
       "      <td>NaN</td>\n",
       "      <td>NaN</td>\n",
       "      <td>14.584</td>\n",
       "      <td>right_only</td>\n",
       "    </tr>\n",
       "    <tr>\n",
       "      <th>174</th>\n",
       "      <td>Antilles néerlandaises (ex)</td>\n",
       "      <td>NaN</td>\n",
       "      <td>NaN</td>\n",
       "      <td>NaN</td>\n",
       "      <td>NaN</td>\n",
       "      <td>275.186</td>\n",
       "      <td>right_only</td>\n",
       "    </tr>\n",
       "    <tr>\n",
       "      <th>175</th>\n",
       "      <td>Aruba</td>\n",
       "      <td>NaN</td>\n",
       "      <td>NaN</td>\n",
       "      <td>NaN</td>\n",
       "      <td>NaN</td>\n",
       "      <td>105.366</td>\n",
       "      <td>right_only</td>\n",
       "    </tr>\n",
       "    <tr>\n",
       "      <th>176</th>\n",
       "      <td>Bahreïn</td>\n",
       "      <td>NaN</td>\n",
       "      <td>NaN</td>\n",
       "      <td>NaN</td>\n",
       "      <td>NaN</td>\n",
       "      <td>1494.076</td>\n",
       "      <td>right_only</td>\n",
       "    </tr>\n",
       "    <tr>\n",
       "      <th>...</th>\n",
       "      <td>...</td>\n",
       "      <td>...</td>\n",
       "      <td>...</td>\n",
       "      <td>...</td>\n",
       "      <td>...</td>\n",
       "      <td>...</td>\n",
       "      <td>...</td>\n",
       "    </tr>\n",
       "    <tr>\n",
       "      <th>233</th>\n",
       "      <td>Îles Marshall</td>\n",
       "      <td>NaN</td>\n",
       "      <td>NaN</td>\n",
       "      <td>NaN</td>\n",
       "      <td>NaN</td>\n",
       "      <td>58.058</td>\n",
       "      <td>right_only</td>\n",
       "    </tr>\n",
       "    <tr>\n",
       "      <th>234</th>\n",
       "      <td>Îles Turques-et-Caïques</td>\n",
       "      <td>NaN</td>\n",
       "      <td>NaN</td>\n",
       "      <td>NaN</td>\n",
       "      <td>NaN</td>\n",
       "      <td>37.115</td>\n",
       "      <td>right_only</td>\n",
       "    </tr>\n",
       "    <tr>\n",
       "      <th>235</th>\n",
       "      <td>Îles Vierges américaines</td>\n",
       "      <td>NaN</td>\n",
       "      <td>NaN</td>\n",
       "      <td>NaN</td>\n",
       "      <td>NaN</td>\n",
       "      <td>104.751</td>\n",
       "      <td>right_only</td>\n",
       "    </tr>\n",
       "    <tr>\n",
       "      <th>236</th>\n",
       "      <td>Îles Vierges britanniques</td>\n",
       "      <td>NaN</td>\n",
       "      <td>NaN</td>\n",
       "      <td>NaN</td>\n",
       "      <td>NaN</td>\n",
       "      <td>29.577</td>\n",
       "      <td>right_only</td>\n",
       "    </tr>\n",
       "    <tr>\n",
       "      <th>237</th>\n",
       "      <td>Îles Wallis-et-Futuna</td>\n",
       "      <td>NaN</td>\n",
       "      <td>NaN</td>\n",
       "      <td>NaN</td>\n",
       "      <td>NaN</td>\n",
       "      <td>11.900</td>\n",
       "      <td>right_only</td>\n",
       "    </tr>\n",
       "  </tbody>\n",
       "</table>\n",
       "<p>66 rows × 7 columns</p>\n",
       "</div>"
      ],
      "text/plain": [
       "                            Zone  Exportations Volailles (en milliers tonnes)  \\\n",
       "172                      Andorre                                          NaN   \n",
       "173                     Anguilla                                          NaN   \n",
       "174  Antilles néerlandaises (ex)                                          NaN   \n",
       "175                        Aruba                                          NaN   \n",
       "176                      Bahreïn                                          NaN   \n",
       "..                           ...                                          ...   \n",
       "233                Îles Marshall                                          NaN   \n",
       "234      Îles Turques-et-Caïques                                          NaN   \n",
       "235     Îles Vierges américaines                                          NaN   \n",
       "236    Îles Vierges britanniques                                          NaN   \n",
       "237        Îles Wallis-et-Futuna                                          NaN   \n",
       "\n",
       "     Importations Volailles (en milliers tonnes)  \\\n",
       "172                                          NaN   \n",
       "173                                          NaN   \n",
       "174                                          NaN   \n",
       "175                                          NaN   \n",
       "176                                          NaN   \n",
       "..                                           ...   \n",
       "233                                          NaN   \n",
       "234                                          NaN   \n",
       "235                                          NaN   \n",
       "236                                          NaN   \n",
       "237                                          NaN   \n",
       "\n",
       "     Nourritures (en milliers tonnes)  \\\n",
       "172                               NaN   \n",
       "173                               NaN   \n",
       "174                               NaN   \n",
       "175                               NaN   \n",
       "176                               NaN   \n",
       "..                                ...   \n",
       "233                               NaN   \n",
       "234                               NaN   \n",
       "235                               NaN   \n",
       "236                               NaN   \n",
       "237                               NaN   \n",
       "\n",
       "     Productions Volailles (en milliers tonnes)  \\\n",
       "172                                         NaN   \n",
       "173                                         NaN   \n",
       "174                                         NaN   \n",
       "175                                         NaN   \n",
       "176                                         NaN   \n",
       "..                                          ...   \n",
       "233                                         NaN   \n",
       "234                                         NaN   \n",
       "235                                         NaN   \n",
       "236                                         NaN   \n",
       "237                                         NaN   \n",
       "\n",
       "     Population en 2017 (milliers de personnes)        True  \n",
       "172                                      77.001  right_only  \n",
       "173                                      14.584  right_only  \n",
       "174                                     275.186  right_only  \n",
       "175                                     105.366  right_only  \n",
       "176                                    1494.076  right_only  \n",
       "..                                          ...         ...  \n",
       "233                                      58.058  right_only  \n",
       "234                                      37.115  right_only  \n",
       "235                                     104.751  right_only  \n",
       "236                                      29.577  right_only  \n",
       "237                                      11.900  right_only  \n",
       "\n",
       "[66 rows x 7 columns]"
      ]
     },
     "execution_count": 54,
     "metadata": {},
     "output_type": "execute_result"
    }
   ],
   "source": [
    "country_without_data = df[df['True'] == 'right_only']\n",
    "country_without_data"
   ]
  },
  {
   "cell_type": "markdown",
   "metadata": {},
   "source": [
    "- La liste des pays que nous avons ici sont **des pays qui n'ont pas communiqué sur leurs données à la FAO**, on peut supprimer ces lignes du jeu de données."
   ]
  },
  {
   "cell_type": "code",
   "execution_count": 55,
   "metadata": {},
   "outputs": [
    {
     "data": {
      "text/html": [
       "<div>\n",
       "<style scoped>\n",
       "    .dataframe tbody tr th:only-of-type {\n",
       "        vertical-align: middle;\n",
       "    }\n",
       "\n",
       "    .dataframe tbody tr th {\n",
       "        vertical-align: top;\n",
       "    }\n",
       "\n",
       "    .dataframe thead th {\n",
       "        text-align: right;\n",
       "    }\n",
       "</style>\n",
       "<table border=\"1\" class=\"dataframe\">\n",
       "  <thead>\n",
       "    <tr style=\"text-align: right;\">\n",
       "      <th></th>\n",
       "      <th>Zone</th>\n",
       "      <th>Exportations Volailles (en milliers tonnes)</th>\n",
       "      <th>Importations Volailles (en milliers tonnes)</th>\n",
       "      <th>Nourritures (en milliers tonnes)</th>\n",
       "      <th>Productions Volailles (en milliers tonnes)</th>\n",
       "      <th>Population en 2017 (milliers de personnes)</th>\n",
       "    </tr>\n",
       "  </thead>\n",
       "  <tbody>\n",
       "    <tr>\n",
       "      <th>0</th>\n",
       "      <td>Afghanistan</td>\n",
       "      <td>0.0</td>\n",
       "      <td>29.0</td>\n",
       "      <td>55.0</td>\n",
       "      <td>28.0</td>\n",
       "      <td>36296.113</td>\n",
       "    </tr>\n",
       "    <tr>\n",
       "      <th>1</th>\n",
       "      <td>Afrique du Sud</td>\n",
       "      <td>63.0</td>\n",
       "      <td>514.0</td>\n",
       "      <td>2035.0</td>\n",
       "      <td>1667.0</td>\n",
       "      <td>57009.756</td>\n",
       "    </tr>\n",
       "    <tr>\n",
       "      <th>2</th>\n",
       "      <td>Albanie</td>\n",
       "      <td>0.0</td>\n",
       "      <td>38.0</td>\n",
       "      <td>47.0</td>\n",
       "      <td>13.0</td>\n",
       "      <td>2884.169</td>\n",
       "    </tr>\n",
       "    <tr>\n",
       "      <th>3</th>\n",
       "      <td>Algérie</td>\n",
       "      <td>0.0</td>\n",
       "      <td>2.0</td>\n",
       "      <td>264.0</td>\n",
       "      <td>275.0</td>\n",
       "      <td>41389.189</td>\n",
       "    </tr>\n",
       "    <tr>\n",
       "      <th>4</th>\n",
       "      <td>Allemagne</td>\n",
       "      <td>646.0</td>\n",
       "      <td>842.0</td>\n",
       "      <td>1609.0</td>\n",
       "      <td>1514.0</td>\n",
       "      <td>82658.409</td>\n",
       "    </tr>\n",
       "    <tr>\n",
       "      <th>...</th>\n",
       "      <td>...</td>\n",
       "      <td>...</td>\n",
       "      <td>...</td>\n",
       "      <td>...</td>\n",
       "      <td>...</td>\n",
       "      <td>...</td>\n",
       "    </tr>\n",
       "    <tr>\n",
       "      <th>167</th>\n",
       "      <td>Émirats arabes unis</td>\n",
       "      <td>94.0</td>\n",
       "      <td>433.0</td>\n",
       "      <td>412.0</td>\n",
       "      <td>48.0</td>\n",
       "      <td>9487.203</td>\n",
       "    </tr>\n",
       "    <tr>\n",
       "      <th>168</th>\n",
       "      <td>Équateur</td>\n",
       "      <td>0.0</td>\n",
       "      <td>0.0</td>\n",
       "      <td>324.0</td>\n",
       "      <td>340.0</td>\n",
       "      <td>16785.361</td>\n",
       "    </tr>\n",
       "    <tr>\n",
       "      <th>169</th>\n",
       "      <td>États-Unis d'Amérique</td>\n",
       "      <td>3692.0</td>\n",
       "      <td>123.0</td>\n",
       "      <td>18100.0</td>\n",
       "      <td>21914.0</td>\n",
       "      <td>325084.756</td>\n",
       "    </tr>\n",
       "    <tr>\n",
       "      <th>170</th>\n",
       "      <td>Éthiopie</td>\n",
       "      <td>0.0</td>\n",
       "      <td>1.0</td>\n",
       "      <td>14.0</td>\n",
       "      <td>14.0</td>\n",
       "      <td>106399.924</td>\n",
       "    </tr>\n",
       "    <tr>\n",
       "      <th>171</th>\n",
       "      <td>Îles Salomon</td>\n",
       "      <td>0.0</td>\n",
       "      <td>6.0</td>\n",
       "      <td>3.0</td>\n",
       "      <td>0.0</td>\n",
       "      <td>636.039</td>\n",
       "    </tr>\n",
       "  </tbody>\n",
       "</table>\n",
       "<p>172 rows × 6 columns</p>\n",
       "</div>"
      ],
      "text/plain": [
       "                      Zone  Exportations Volailles (en milliers tonnes)  \\\n",
       "0              Afghanistan                                          0.0   \n",
       "1           Afrique du Sud                                         63.0   \n",
       "2                  Albanie                                          0.0   \n",
       "3                  Algérie                                          0.0   \n",
       "4                Allemagne                                        646.0   \n",
       "..                     ...                                          ...   \n",
       "167    Émirats arabes unis                                         94.0   \n",
       "168               Équateur                                          0.0   \n",
       "169  États-Unis d'Amérique                                       3692.0   \n",
       "170               Éthiopie                                          0.0   \n",
       "171           Îles Salomon                                          0.0   \n",
       "\n",
       "     Importations Volailles (en milliers tonnes)  \\\n",
       "0                                           29.0   \n",
       "1                                          514.0   \n",
       "2                                           38.0   \n",
       "3                                            2.0   \n",
       "4                                          842.0   \n",
       "..                                           ...   \n",
       "167                                        433.0   \n",
       "168                                          0.0   \n",
       "169                                        123.0   \n",
       "170                                          1.0   \n",
       "171                                          6.0   \n",
       "\n",
       "     Nourritures (en milliers tonnes)  \\\n",
       "0                                55.0   \n",
       "1                              2035.0   \n",
       "2                                47.0   \n",
       "3                               264.0   \n",
       "4                              1609.0   \n",
       "..                                ...   \n",
       "167                             412.0   \n",
       "168                             324.0   \n",
       "169                           18100.0   \n",
       "170                              14.0   \n",
       "171                               3.0   \n",
       "\n",
       "     Productions Volailles (en milliers tonnes)  \\\n",
       "0                                          28.0   \n",
       "1                                        1667.0   \n",
       "2                                          13.0   \n",
       "3                                         275.0   \n",
       "4                                        1514.0   \n",
       "..                                          ...   \n",
       "167                                        48.0   \n",
       "168                                       340.0   \n",
       "169                                     21914.0   \n",
       "170                                        14.0   \n",
       "171                                         0.0   \n",
       "\n",
       "     Population en 2017 (milliers de personnes)  \n",
       "0                                     36296.113  \n",
       "1                                     57009.756  \n",
       "2                                      2884.169  \n",
       "3                                     41389.189  \n",
       "4                                     82658.409  \n",
       "..                                          ...  \n",
       "167                                    9487.203  \n",
       "168                                   16785.361  \n",
       "169                                  325084.756  \n",
       "170                                  106399.924  \n",
       "171                                     636.039  \n",
       "\n",
       "[172 rows x 6 columns]"
      ]
     },
     "execution_count": 55,
     "metadata": {},
     "output_type": "execute_result"
    }
   ],
   "source": [
    "df = df.loc[df['True'] == 'both'].drop(columns='True')\n",
    "df"
   ]
  },
  {
   "cell_type": "markdown",
   "metadata": {},
   "source": [
    "## 3.2 - \"df\" + \"Stabilité Politique\""
   ]
  },
  {
   "cell_type": "code",
   "execution_count": 56,
   "metadata": {},
   "outputs": [
    {
     "data": {
      "text/html": [
       "<div>\n",
       "<style scoped>\n",
       "    .dataframe tbody tr th:only-of-type {\n",
       "        vertical-align: middle;\n",
       "    }\n",
       "\n",
       "    .dataframe tbody tr th {\n",
       "        vertical-align: top;\n",
       "    }\n",
       "\n",
       "    .dataframe thead th {\n",
       "        text-align: right;\n",
       "    }\n",
       "</style>\n",
       "<table border=\"1\" class=\"dataframe\">\n",
       "  <thead>\n",
       "    <tr style=\"text-align: right;\">\n",
       "      <th></th>\n",
       "      <th>Zone</th>\n",
       "      <th>Exportations Volailles (en milliers tonnes)</th>\n",
       "      <th>Importations Volailles (en milliers tonnes)</th>\n",
       "      <th>Nourritures (en milliers tonnes)</th>\n",
       "      <th>Productions Volailles (en milliers tonnes)</th>\n",
       "      <th>Population en 2017 (milliers de personnes)</th>\n",
       "      <th>Stabilité politique</th>\n",
       "      <th>True</th>\n",
       "    </tr>\n",
       "  </thead>\n",
       "  <tbody>\n",
       "    <tr>\n",
       "      <th>0</th>\n",
       "      <td>Afghanistan</td>\n",
       "      <td>0.0</td>\n",
       "      <td>29.0</td>\n",
       "      <td>55.0</td>\n",
       "      <td>28.0</td>\n",
       "      <td>36296.113</td>\n",
       "      <td>-2.80</td>\n",
       "      <td>both</td>\n",
       "    </tr>\n",
       "    <tr>\n",
       "      <th>1</th>\n",
       "      <td>Afrique du Sud</td>\n",
       "      <td>63.0</td>\n",
       "      <td>514.0</td>\n",
       "      <td>2035.0</td>\n",
       "      <td>1667.0</td>\n",
       "      <td>57009.756</td>\n",
       "      <td>-0.28</td>\n",
       "      <td>both</td>\n",
       "    </tr>\n",
       "    <tr>\n",
       "      <th>2</th>\n",
       "      <td>Albanie</td>\n",
       "      <td>0.0</td>\n",
       "      <td>38.0</td>\n",
       "      <td>47.0</td>\n",
       "      <td>13.0</td>\n",
       "      <td>2884.169</td>\n",
       "      <td>0.38</td>\n",
       "      <td>both</td>\n",
       "    </tr>\n",
       "    <tr>\n",
       "      <th>3</th>\n",
       "      <td>Algérie</td>\n",
       "      <td>0.0</td>\n",
       "      <td>2.0</td>\n",
       "      <td>264.0</td>\n",
       "      <td>275.0</td>\n",
       "      <td>41389.189</td>\n",
       "      <td>-0.92</td>\n",
       "      <td>both</td>\n",
       "    </tr>\n",
       "    <tr>\n",
       "      <th>4</th>\n",
       "      <td>Allemagne</td>\n",
       "      <td>646.0</td>\n",
       "      <td>842.0</td>\n",
       "      <td>1609.0</td>\n",
       "      <td>1514.0</td>\n",
       "      <td>82658.409</td>\n",
       "      <td>0.59</td>\n",
       "      <td>both</td>\n",
       "    </tr>\n",
       "    <tr>\n",
       "      <th>...</th>\n",
       "      <td>...</td>\n",
       "      <td>...</td>\n",
       "      <td>...</td>\n",
       "      <td>...</td>\n",
       "      <td>...</td>\n",
       "      <td>...</td>\n",
       "      <td>...</td>\n",
       "      <td>...</td>\n",
       "    </tr>\n",
       "    <tr>\n",
       "      <th>195</th>\n",
       "      <td>Singapour</td>\n",
       "      <td>NaN</td>\n",
       "      <td>NaN</td>\n",
       "      <td>NaN</td>\n",
       "      <td>NaN</td>\n",
       "      <td>NaN</td>\n",
       "      <td>1.62</td>\n",
       "      <td>right_only</td>\n",
       "    </tr>\n",
       "    <tr>\n",
       "      <th>196</th>\n",
       "      <td>Somalie</td>\n",
       "      <td>NaN</td>\n",
       "      <td>NaN</td>\n",
       "      <td>NaN</td>\n",
       "      <td>NaN</td>\n",
       "      <td>NaN</td>\n",
       "      <td>-2.26</td>\n",
       "      <td>right_only</td>\n",
       "    </tr>\n",
       "    <tr>\n",
       "      <th>197</th>\n",
       "      <td>Soudan du Sud</td>\n",
       "      <td>NaN</td>\n",
       "      <td>NaN</td>\n",
       "      <td>NaN</td>\n",
       "      <td>NaN</td>\n",
       "      <td>NaN</td>\n",
       "      <td>-2.45</td>\n",
       "      <td>right_only</td>\n",
       "    </tr>\n",
       "    <tr>\n",
       "      <th>198</th>\n",
       "      <td>Tonga</td>\n",
       "      <td>NaN</td>\n",
       "      <td>NaN</td>\n",
       "      <td>NaN</td>\n",
       "      <td>NaN</td>\n",
       "      <td>NaN</td>\n",
       "      <td>0.79</td>\n",
       "      <td>right_only</td>\n",
       "    </tr>\n",
       "    <tr>\n",
       "      <th>199</th>\n",
       "      <td>Tuvalu</td>\n",
       "      <td>NaN</td>\n",
       "      <td>NaN</td>\n",
       "      <td>NaN</td>\n",
       "      <td>NaN</td>\n",
       "      <td>NaN</td>\n",
       "      <td>1.24</td>\n",
       "      <td>right_only</td>\n",
       "    </tr>\n",
       "  </tbody>\n",
       "</table>\n",
       "<p>200 rows × 8 columns</p>\n",
       "</div>"
      ],
      "text/plain": [
       "               Zone  Exportations Volailles (en milliers tonnes)  \\\n",
       "0       Afghanistan                                          0.0   \n",
       "1    Afrique du Sud                                         63.0   \n",
       "2           Albanie                                          0.0   \n",
       "3           Algérie                                          0.0   \n",
       "4         Allemagne                                        646.0   \n",
       "..              ...                                          ...   \n",
       "195       Singapour                                          NaN   \n",
       "196         Somalie                                          NaN   \n",
       "197   Soudan du Sud                                          NaN   \n",
       "198           Tonga                                          NaN   \n",
       "199          Tuvalu                                          NaN   \n",
       "\n",
       "     Importations Volailles (en milliers tonnes)  \\\n",
       "0                                           29.0   \n",
       "1                                          514.0   \n",
       "2                                           38.0   \n",
       "3                                            2.0   \n",
       "4                                          842.0   \n",
       "..                                           ...   \n",
       "195                                          NaN   \n",
       "196                                          NaN   \n",
       "197                                          NaN   \n",
       "198                                          NaN   \n",
       "199                                          NaN   \n",
       "\n",
       "     Nourritures (en milliers tonnes)  \\\n",
       "0                                55.0   \n",
       "1                              2035.0   \n",
       "2                                47.0   \n",
       "3                               264.0   \n",
       "4                              1609.0   \n",
       "..                                ...   \n",
       "195                               NaN   \n",
       "196                               NaN   \n",
       "197                               NaN   \n",
       "198                               NaN   \n",
       "199                               NaN   \n",
       "\n",
       "     Productions Volailles (en milliers tonnes)  \\\n",
       "0                                          28.0   \n",
       "1                                        1667.0   \n",
       "2                                          13.0   \n",
       "3                                         275.0   \n",
       "4                                        1514.0   \n",
       "..                                          ...   \n",
       "195                                         NaN   \n",
       "196                                         NaN   \n",
       "197                                         NaN   \n",
       "198                                         NaN   \n",
       "199                                         NaN   \n",
       "\n",
       "     Population en 2017 (milliers de personnes)  Stabilité politique  \\\n",
       "0                                     36296.113                -2.80   \n",
       "1                                     57009.756                -0.28   \n",
       "2                                      2884.169                 0.38   \n",
       "3                                     41389.189                -0.92   \n",
       "4                                     82658.409                 0.59   \n",
       "..                                          ...                  ...   \n",
       "195                                         NaN                 1.62   \n",
       "196                                         NaN                -2.26   \n",
       "197                                         NaN                -2.45   \n",
       "198                                         NaN                 0.79   \n",
       "199                                         NaN                 1.24   \n",
       "\n",
       "           True  \n",
       "0          both  \n",
       "1          both  \n",
       "2          both  \n",
       "3          both  \n",
       "4          both  \n",
       "..          ...  \n",
       "195  right_only  \n",
       "196  right_only  \n",
       "197  right_only  \n",
       "198  right_only  \n",
       "199  right_only  \n",
       "\n",
       "[200 rows x 8 columns]"
      ]
     },
     "execution_count": 56,
     "metadata": {},
     "output_type": "execute_result"
    }
   ],
   "source": [
    "df = df.merge(political_stability, how= 'outer', on='Zone', indicator= 'True')\n",
    "df"
   ]
  },
  {
   "cell_type": "code",
   "execution_count": 57,
   "metadata": {},
   "outputs": [
    {
     "data": {
      "text/plain": [
       "['both', 'left_only', 'right_only']\n",
       "Categories (3, object): ['left_only', 'right_only', 'both']"
      ]
     },
     "execution_count": 57,
     "metadata": {},
     "output_type": "execute_result"
    }
   ],
   "source": [
    "df['True'].unique()"
   ]
  },
  {
   "cell_type": "markdown",
   "metadata": {},
   "source": [
    "- On remarque qu'il y a des données importées qui proviennent seulement de la table **political_stability**"
   ]
  },
  {
   "cell_type": "code",
   "execution_count": 58,
   "metadata": {},
   "outputs": [
    {
     "data": {
      "text/html": [
       "<div>\n",
       "<style scoped>\n",
       "    .dataframe tbody tr th:only-of-type {\n",
       "        vertical-align: middle;\n",
       "    }\n",
       "\n",
       "    .dataframe tbody tr th {\n",
       "        vertical-align: top;\n",
       "    }\n",
       "\n",
       "    .dataframe thead th {\n",
       "        text-align: right;\n",
       "    }\n",
       "</style>\n",
       "<table border=\"1\" class=\"dataframe\">\n",
       "  <thead>\n",
       "    <tr style=\"text-align: right;\">\n",
       "      <th></th>\n",
       "      <th>Zone</th>\n",
       "      <th>Exportations Volailles (en milliers tonnes)</th>\n",
       "      <th>Importations Volailles (en milliers tonnes)</th>\n",
       "      <th>Nourritures (en milliers tonnes)</th>\n",
       "      <th>Productions Volailles (en milliers tonnes)</th>\n",
       "      <th>Population en 2017 (milliers de personnes)</th>\n",
       "      <th>Stabilité politique</th>\n",
       "      <th>True</th>\n",
       "    </tr>\n",
       "  </thead>\n",
       "  <tbody>\n",
       "    <tr>\n",
       "      <th>172</th>\n",
       "      <td>Andorre</td>\n",
       "      <td>NaN</td>\n",
       "      <td>NaN</td>\n",
       "      <td>NaN</td>\n",
       "      <td>NaN</td>\n",
       "      <td>NaN</td>\n",
       "      <td>1.42</td>\n",
       "      <td>right_only</td>\n",
       "    </tr>\n",
       "    <tr>\n",
       "      <th>173</th>\n",
       "      <td>Bahreïn</td>\n",
       "      <td>NaN</td>\n",
       "      <td>NaN</td>\n",
       "      <td>NaN</td>\n",
       "      <td>NaN</td>\n",
       "      <td>NaN</td>\n",
       "      <td>-0.96</td>\n",
       "      <td>right_only</td>\n",
       "    </tr>\n",
       "    <tr>\n",
       "      <th>174</th>\n",
       "      <td>Bermudes</td>\n",
       "      <td>NaN</td>\n",
       "      <td>NaN</td>\n",
       "      <td>NaN</td>\n",
       "      <td>NaN</td>\n",
       "      <td>NaN</td>\n",
       "      <td>1.00</td>\n",
       "      <td>right_only</td>\n",
       "    </tr>\n",
       "    <tr>\n",
       "      <th>175</th>\n",
       "      <td>Bhoutan</td>\n",
       "      <td>NaN</td>\n",
       "      <td>NaN</td>\n",
       "      <td>NaN</td>\n",
       "      <td>NaN</td>\n",
       "      <td>NaN</td>\n",
       "      <td>1.12</td>\n",
       "      <td>right_only</td>\n",
       "    </tr>\n",
       "    <tr>\n",
       "      <th>176</th>\n",
       "      <td>Brunéi Darussalam</td>\n",
       "      <td>NaN</td>\n",
       "      <td>NaN</td>\n",
       "      <td>NaN</td>\n",
       "      <td>NaN</td>\n",
       "      <td>NaN</td>\n",
       "      <td>1.16</td>\n",
       "      <td>right_only</td>\n",
       "    </tr>\n",
       "    <tr>\n",
       "      <th>177</th>\n",
       "      <td>Burundi</td>\n",
       "      <td>NaN</td>\n",
       "      <td>NaN</td>\n",
       "      <td>NaN</td>\n",
       "      <td>NaN</td>\n",
       "      <td>NaN</td>\n",
       "      <td>-2.01</td>\n",
       "      <td>right_only</td>\n",
       "    </tr>\n",
       "    <tr>\n",
       "      <th>178</th>\n",
       "      <td>Comores</td>\n",
       "      <td>NaN</td>\n",
       "      <td>NaN</td>\n",
       "      <td>NaN</td>\n",
       "      <td>NaN</td>\n",
       "      <td>NaN</td>\n",
       "      <td>0.04</td>\n",
       "      <td>right_only</td>\n",
       "    </tr>\n",
       "    <tr>\n",
       "      <th>179</th>\n",
       "      <td>Érythrée</td>\n",
       "      <td>NaN</td>\n",
       "      <td>NaN</td>\n",
       "      <td>NaN</td>\n",
       "      <td>NaN</td>\n",
       "      <td>NaN</td>\n",
       "      <td>-0.73</td>\n",
       "      <td>right_only</td>\n",
       "    </tr>\n",
       "    <tr>\n",
       "      <th>180</th>\n",
       "      <td>Groenland</td>\n",
       "      <td>NaN</td>\n",
       "      <td>NaN</td>\n",
       "      <td>NaN</td>\n",
       "      <td>NaN</td>\n",
       "      <td>NaN</td>\n",
       "      <td>1.92</td>\n",
       "      <td>right_only</td>\n",
       "    </tr>\n",
       "    <tr>\n",
       "      <th>181</th>\n",
       "      <td>Guinée équatoriale</td>\n",
       "      <td>NaN</td>\n",
       "      <td>NaN</td>\n",
       "      <td>NaN</td>\n",
       "      <td>NaN</td>\n",
       "      <td>NaN</td>\n",
       "      <td>-0.17</td>\n",
       "      <td>right_only</td>\n",
       "    </tr>\n",
       "    <tr>\n",
       "      <th>182</th>\n",
       "      <td>Îles Marshall</td>\n",
       "      <td>NaN</td>\n",
       "      <td>NaN</td>\n",
       "      <td>NaN</td>\n",
       "      <td>NaN</td>\n",
       "      <td>NaN</td>\n",
       "      <td>0.87</td>\n",
       "      <td>right_only</td>\n",
       "    </tr>\n",
       "    <tr>\n",
       "      <th>183</th>\n",
       "      <td>Libye</td>\n",
       "      <td>NaN</td>\n",
       "      <td>NaN</td>\n",
       "      <td>NaN</td>\n",
       "      <td>NaN</td>\n",
       "      <td>NaN</td>\n",
       "      <td>-2.36</td>\n",
       "      <td>right_only</td>\n",
       "    </tr>\n",
       "    <tr>\n",
       "      <th>184</th>\n",
       "      <td>Micronésie (États fédérés de)</td>\n",
       "      <td>NaN</td>\n",
       "      <td>NaN</td>\n",
       "      <td>NaN</td>\n",
       "      <td>NaN</td>\n",
       "      <td>NaN</td>\n",
       "      <td>1.18</td>\n",
       "      <td>right_only</td>\n",
       "    </tr>\n",
       "    <tr>\n",
       "      <th>185</th>\n",
       "      <td>Nauru</td>\n",
       "      <td>NaN</td>\n",
       "      <td>NaN</td>\n",
       "      <td>NaN</td>\n",
       "      <td>NaN</td>\n",
       "      <td>NaN</td>\n",
       "      <td>0.52</td>\n",
       "      <td>right_only</td>\n",
       "    </tr>\n",
       "    <tr>\n",
       "      <th>186</th>\n",
       "      <td>Palaos</td>\n",
       "      <td>NaN</td>\n",
       "      <td>NaN</td>\n",
       "      <td>NaN</td>\n",
       "      <td>NaN</td>\n",
       "      <td>NaN</td>\n",
       "      <td>0.87</td>\n",
       "      <td>right_only</td>\n",
       "    </tr>\n",
       "    <tr>\n",
       "      <th>187</th>\n",
       "      <td>Palestine</td>\n",
       "      <td>NaN</td>\n",
       "      <td>NaN</td>\n",
       "      <td>NaN</td>\n",
       "      <td>NaN</td>\n",
       "      <td>NaN</td>\n",
       "      <td>-1.66</td>\n",
       "      <td>right_only</td>\n",
       "    </tr>\n",
       "    <tr>\n",
       "      <th>188</th>\n",
       "      <td>Papouasie-Nouvelle-Guinée</td>\n",
       "      <td>NaN</td>\n",
       "      <td>NaN</td>\n",
       "      <td>NaN</td>\n",
       "      <td>NaN</td>\n",
       "      <td>NaN</td>\n",
       "      <td>-0.70</td>\n",
       "      <td>right_only</td>\n",
       "    </tr>\n",
       "    <tr>\n",
       "      <th>189</th>\n",
       "      <td>Porto Rico</td>\n",
       "      <td>NaN</td>\n",
       "      <td>NaN</td>\n",
       "      <td>NaN</td>\n",
       "      <td>NaN</td>\n",
       "      <td>NaN</td>\n",
       "      <td>0.48</td>\n",
       "      <td>right_only</td>\n",
       "    </tr>\n",
       "    <tr>\n",
       "      <th>190</th>\n",
       "      <td>Qatar</td>\n",
       "      <td>NaN</td>\n",
       "      <td>NaN</td>\n",
       "      <td>NaN</td>\n",
       "      <td>NaN</td>\n",
       "      <td>NaN</td>\n",
       "      <td>0.66</td>\n",
       "      <td>right_only</td>\n",
       "    </tr>\n",
       "    <tr>\n",
       "      <th>191</th>\n",
       "      <td>République arabe syrienne</td>\n",
       "      <td>NaN</td>\n",
       "      <td>NaN</td>\n",
       "      <td>NaN</td>\n",
       "      <td>NaN</td>\n",
       "      <td>NaN</td>\n",
       "      <td>-2.62</td>\n",
       "      <td>right_only</td>\n",
       "    </tr>\n",
       "    <tr>\n",
       "      <th>192</th>\n",
       "      <td>République démocratique du Congo</td>\n",
       "      <td>NaN</td>\n",
       "      <td>NaN</td>\n",
       "      <td>NaN</td>\n",
       "      <td>NaN</td>\n",
       "      <td>NaN</td>\n",
       "      <td>-2.30</td>\n",
       "      <td>right_only</td>\n",
       "    </tr>\n",
       "    <tr>\n",
       "      <th>193</th>\n",
       "      <td>Samoa américaines</td>\n",
       "      <td>NaN</td>\n",
       "      <td>NaN</td>\n",
       "      <td>NaN</td>\n",
       "      <td>NaN</td>\n",
       "      <td>NaN</td>\n",
       "      <td>1.22</td>\n",
       "      <td>right_only</td>\n",
       "    </tr>\n",
       "    <tr>\n",
       "      <th>194</th>\n",
       "      <td>Seychelles</td>\n",
       "      <td>NaN</td>\n",
       "      <td>NaN</td>\n",
       "      <td>NaN</td>\n",
       "      <td>NaN</td>\n",
       "      <td>NaN</td>\n",
       "      <td>0.79</td>\n",
       "      <td>right_only</td>\n",
       "    </tr>\n",
       "    <tr>\n",
       "      <th>195</th>\n",
       "      <td>Singapour</td>\n",
       "      <td>NaN</td>\n",
       "      <td>NaN</td>\n",
       "      <td>NaN</td>\n",
       "      <td>NaN</td>\n",
       "      <td>NaN</td>\n",
       "      <td>1.62</td>\n",
       "      <td>right_only</td>\n",
       "    </tr>\n",
       "    <tr>\n",
       "      <th>196</th>\n",
       "      <td>Somalie</td>\n",
       "      <td>NaN</td>\n",
       "      <td>NaN</td>\n",
       "      <td>NaN</td>\n",
       "      <td>NaN</td>\n",
       "      <td>NaN</td>\n",
       "      <td>-2.26</td>\n",
       "      <td>right_only</td>\n",
       "    </tr>\n",
       "    <tr>\n",
       "      <th>197</th>\n",
       "      <td>Soudan du Sud</td>\n",
       "      <td>NaN</td>\n",
       "      <td>NaN</td>\n",
       "      <td>NaN</td>\n",
       "      <td>NaN</td>\n",
       "      <td>NaN</td>\n",
       "      <td>-2.45</td>\n",
       "      <td>right_only</td>\n",
       "    </tr>\n",
       "    <tr>\n",
       "      <th>198</th>\n",
       "      <td>Tonga</td>\n",
       "      <td>NaN</td>\n",
       "      <td>NaN</td>\n",
       "      <td>NaN</td>\n",
       "      <td>NaN</td>\n",
       "      <td>NaN</td>\n",
       "      <td>0.79</td>\n",
       "      <td>right_only</td>\n",
       "    </tr>\n",
       "    <tr>\n",
       "      <th>199</th>\n",
       "      <td>Tuvalu</td>\n",
       "      <td>NaN</td>\n",
       "      <td>NaN</td>\n",
       "      <td>NaN</td>\n",
       "      <td>NaN</td>\n",
       "      <td>NaN</td>\n",
       "      <td>1.24</td>\n",
       "      <td>right_only</td>\n",
       "    </tr>\n",
       "  </tbody>\n",
       "</table>\n",
       "</div>"
      ],
      "text/plain": [
       "                                 Zone  \\\n",
       "172                           Andorre   \n",
       "173                           Bahreïn   \n",
       "174                          Bermudes   \n",
       "175                           Bhoutan   \n",
       "176                 Brunéi Darussalam   \n",
       "177                           Burundi   \n",
       "178                           Comores   \n",
       "179                          Érythrée   \n",
       "180                         Groenland   \n",
       "181                Guinée équatoriale   \n",
       "182                     Îles Marshall   \n",
       "183                             Libye   \n",
       "184     Micronésie (États fédérés de)   \n",
       "185                             Nauru   \n",
       "186                            Palaos   \n",
       "187                         Palestine   \n",
       "188         Papouasie-Nouvelle-Guinée   \n",
       "189                        Porto Rico   \n",
       "190                             Qatar   \n",
       "191         République arabe syrienne   \n",
       "192  République démocratique du Congo   \n",
       "193                 Samoa américaines   \n",
       "194                        Seychelles   \n",
       "195                         Singapour   \n",
       "196                           Somalie   \n",
       "197                     Soudan du Sud   \n",
       "198                             Tonga   \n",
       "199                            Tuvalu   \n",
       "\n",
       "     Exportations Volailles (en milliers tonnes)  \\\n",
       "172                                          NaN   \n",
       "173                                          NaN   \n",
       "174                                          NaN   \n",
       "175                                          NaN   \n",
       "176                                          NaN   \n",
       "177                                          NaN   \n",
       "178                                          NaN   \n",
       "179                                          NaN   \n",
       "180                                          NaN   \n",
       "181                                          NaN   \n",
       "182                                          NaN   \n",
       "183                                          NaN   \n",
       "184                                          NaN   \n",
       "185                                          NaN   \n",
       "186                                          NaN   \n",
       "187                                          NaN   \n",
       "188                                          NaN   \n",
       "189                                          NaN   \n",
       "190                                          NaN   \n",
       "191                                          NaN   \n",
       "192                                          NaN   \n",
       "193                                          NaN   \n",
       "194                                          NaN   \n",
       "195                                          NaN   \n",
       "196                                          NaN   \n",
       "197                                          NaN   \n",
       "198                                          NaN   \n",
       "199                                          NaN   \n",
       "\n",
       "     Importations Volailles (en milliers tonnes)  \\\n",
       "172                                          NaN   \n",
       "173                                          NaN   \n",
       "174                                          NaN   \n",
       "175                                          NaN   \n",
       "176                                          NaN   \n",
       "177                                          NaN   \n",
       "178                                          NaN   \n",
       "179                                          NaN   \n",
       "180                                          NaN   \n",
       "181                                          NaN   \n",
       "182                                          NaN   \n",
       "183                                          NaN   \n",
       "184                                          NaN   \n",
       "185                                          NaN   \n",
       "186                                          NaN   \n",
       "187                                          NaN   \n",
       "188                                          NaN   \n",
       "189                                          NaN   \n",
       "190                                          NaN   \n",
       "191                                          NaN   \n",
       "192                                          NaN   \n",
       "193                                          NaN   \n",
       "194                                          NaN   \n",
       "195                                          NaN   \n",
       "196                                          NaN   \n",
       "197                                          NaN   \n",
       "198                                          NaN   \n",
       "199                                          NaN   \n",
       "\n",
       "     Nourritures (en milliers tonnes)  \\\n",
       "172                               NaN   \n",
       "173                               NaN   \n",
       "174                               NaN   \n",
       "175                               NaN   \n",
       "176                               NaN   \n",
       "177                               NaN   \n",
       "178                               NaN   \n",
       "179                               NaN   \n",
       "180                               NaN   \n",
       "181                               NaN   \n",
       "182                               NaN   \n",
       "183                               NaN   \n",
       "184                               NaN   \n",
       "185                               NaN   \n",
       "186                               NaN   \n",
       "187                               NaN   \n",
       "188                               NaN   \n",
       "189                               NaN   \n",
       "190                               NaN   \n",
       "191                               NaN   \n",
       "192                               NaN   \n",
       "193                               NaN   \n",
       "194                               NaN   \n",
       "195                               NaN   \n",
       "196                               NaN   \n",
       "197                               NaN   \n",
       "198                               NaN   \n",
       "199                               NaN   \n",
       "\n",
       "     Productions Volailles (en milliers tonnes)  \\\n",
       "172                                         NaN   \n",
       "173                                         NaN   \n",
       "174                                         NaN   \n",
       "175                                         NaN   \n",
       "176                                         NaN   \n",
       "177                                         NaN   \n",
       "178                                         NaN   \n",
       "179                                         NaN   \n",
       "180                                         NaN   \n",
       "181                                         NaN   \n",
       "182                                         NaN   \n",
       "183                                         NaN   \n",
       "184                                         NaN   \n",
       "185                                         NaN   \n",
       "186                                         NaN   \n",
       "187                                         NaN   \n",
       "188                                         NaN   \n",
       "189                                         NaN   \n",
       "190                                         NaN   \n",
       "191                                         NaN   \n",
       "192                                         NaN   \n",
       "193                                         NaN   \n",
       "194                                         NaN   \n",
       "195                                         NaN   \n",
       "196                                         NaN   \n",
       "197                                         NaN   \n",
       "198                                         NaN   \n",
       "199                                         NaN   \n",
       "\n",
       "     Population en 2017 (milliers de personnes)  Stabilité politique  \\\n",
       "172                                         NaN                 1.42   \n",
       "173                                         NaN                -0.96   \n",
       "174                                         NaN                 1.00   \n",
       "175                                         NaN                 1.12   \n",
       "176                                         NaN                 1.16   \n",
       "177                                         NaN                -2.01   \n",
       "178                                         NaN                 0.04   \n",
       "179                                         NaN                -0.73   \n",
       "180                                         NaN                 1.92   \n",
       "181                                         NaN                -0.17   \n",
       "182                                         NaN                 0.87   \n",
       "183                                         NaN                -2.36   \n",
       "184                                         NaN                 1.18   \n",
       "185                                         NaN                 0.52   \n",
       "186                                         NaN                 0.87   \n",
       "187                                         NaN                -1.66   \n",
       "188                                         NaN                -0.70   \n",
       "189                                         NaN                 0.48   \n",
       "190                                         NaN                 0.66   \n",
       "191                                         NaN                -2.62   \n",
       "192                                         NaN                -2.30   \n",
       "193                                         NaN                 1.22   \n",
       "194                                         NaN                 0.79   \n",
       "195                                         NaN                 1.62   \n",
       "196                                         NaN                -2.26   \n",
       "197                                         NaN                -2.45   \n",
       "198                                         NaN                 0.79   \n",
       "199                                         NaN                 1.24   \n",
       "\n",
       "           True  \n",
       "172  right_only  \n",
       "173  right_only  \n",
       "174  right_only  \n",
       "175  right_only  \n",
       "176  right_only  \n",
       "177  right_only  \n",
       "178  right_only  \n",
       "179  right_only  \n",
       "180  right_only  \n",
       "181  right_only  \n",
       "182  right_only  \n",
       "183  right_only  \n",
       "184  right_only  \n",
       "185  right_only  \n",
       "186  right_only  \n",
       "187  right_only  \n",
       "188  right_only  \n",
       "189  right_only  \n",
       "190  right_only  \n",
       "191  right_only  \n",
       "192  right_only  \n",
       "193  right_only  \n",
       "194  right_only  \n",
       "195  right_only  \n",
       "196  right_only  \n",
       "197  right_only  \n",
       "198  right_only  \n",
       "199  right_only  "
      ]
     },
     "execution_count": 58,
     "metadata": {},
     "output_type": "execute_result"
    }
   ],
   "source": [
    "df[df['True'] == 'right_only']"
   ]
  },
  {
   "cell_type": "markdown",
   "metadata": {},
   "source": [
    "- On remarque aussi que ce sont **les mêmes pays qui n'ont pas voulu partager leurs informations sur leurs disponibilités alimentaires`** . \n",
    "- Donc on peut les supprimées de notre jeu de données."
   ]
  },
  {
   "cell_type": "code",
   "execution_count": 59,
   "metadata": {},
   "outputs": [
    {
     "data": {
      "text/html": [
       "<div>\n",
       "<style scoped>\n",
       "    .dataframe tbody tr th:only-of-type {\n",
       "        vertical-align: middle;\n",
       "    }\n",
       "\n",
       "    .dataframe tbody tr th {\n",
       "        vertical-align: top;\n",
       "    }\n",
       "\n",
       "    .dataframe thead th {\n",
       "        text-align: right;\n",
       "    }\n",
       "</style>\n",
       "<table border=\"1\" class=\"dataframe\">\n",
       "  <thead>\n",
       "    <tr style=\"text-align: right;\">\n",
       "      <th></th>\n",
       "      <th>Zone</th>\n",
       "      <th>Exportations Volailles (en milliers tonnes)</th>\n",
       "      <th>Importations Volailles (en milliers tonnes)</th>\n",
       "      <th>Nourritures (en milliers tonnes)</th>\n",
       "      <th>Productions Volailles (en milliers tonnes)</th>\n",
       "      <th>Population en 2017 (milliers de personnes)</th>\n",
       "      <th>Stabilité politique</th>\n",
       "      <th>True</th>\n",
       "    </tr>\n",
       "  </thead>\n",
       "  <tbody>\n",
       "    <tr>\n",
       "      <th>0</th>\n",
       "      <td>Afghanistan</td>\n",
       "      <td>0.0</td>\n",
       "      <td>29.0</td>\n",
       "      <td>55.0</td>\n",
       "      <td>28.0</td>\n",
       "      <td>36296.113</td>\n",
       "      <td>-2.80</td>\n",
       "      <td>both</td>\n",
       "    </tr>\n",
       "    <tr>\n",
       "      <th>1</th>\n",
       "      <td>Afrique du Sud</td>\n",
       "      <td>63.0</td>\n",
       "      <td>514.0</td>\n",
       "      <td>2035.0</td>\n",
       "      <td>1667.0</td>\n",
       "      <td>57009.756</td>\n",
       "      <td>-0.28</td>\n",
       "      <td>both</td>\n",
       "    </tr>\n",
       "    <tr>\n",
       "      <th>2</th>\n",
       "      <td>Albanie</td>\n",
       "      <td>0.0</td>\n",
       "      <td>38.0</td>\n",
       "      <td>47.0</td>\n",
       "      <td>13.0</td>\n",
       "      <td>2884.169</td>\n",
       "      <td>0.38</td>\n",
       "      <td>both</td>\n",
       "    </tr>\n",
       "    <tr>\n",
       "      <th>3</th>\n",
       "      <td>Algérie</td>\n",
       "      <td>0.0</td>\n",
       "      <td>2.0</td>\n",
       "      <td>264.0</td>\n",
       "      <td>275.0</td>\n",
       "      <td>41389.189</td>\n",
       "      <td>-0.92</td>\n",
       "      <td>both</td>\n",
       "    </tr>\n",
       "    <tr>\n",
       "      <th>4</th>\n",
       "      <td>Allemagne</td>\n",
       "      <td>646.0</td>\n",
       "      <td>842.0</td>\n",
       "      <td>1609.0</td>\n",
       "      <td>1514.0</td>\n",
       "      <td>82658.409</td>\n",
       "      <td>0.59</td>\n",
       "      <td>both</td>\n",
       "    </tr>\n",
       "    <tr>\n",
       "      <th>...</th>\n",
       "      <td>...</td>\n",
       "      <td>...</td>\n",
       "      <td>...</td>\n",
       "      <td>...</td>\n",
       "      <td>...</td>\n",
       "      <td>...</td>\n",
       "      <td>...</td>\n",
       "      <td>...</td>\n",
       "    </tr>\n",
       "    <tr>\n",
       "      <th>167</th>\n",
       "      <td>Émirats arabes unis</td>\n",
       "      <td>94.0</td>\n",
       "      <td>433.0</td>\n",
       "      <td>412.0</td>\n",
       "      <td>48.0</td>\n",
       "      <td>9487.203</td>\n",
       "      <td>0.62</td>\n",
       "      <td>both</td>\n",
       "    </tr>\n",
       "    <tr>\n",
       "      <th>168</th>\n",
       "      <td>Équateur</td>\n",
       "      <td>0.0</td>\n",
       "      <td>0.0</td>\n",
       "      <td>324.0</td>\n",
       "      <td>340.0</td>\n",
       "      <td>16785.361</td>\n",
       "      <td>-0.07</td>\n",
       "      <td>both</td>\n",
       "    </tr>\n",
       "    <tr>\n",
       "      <th>169</th>\n",
       "      <td>États-Unis d'Amérique</td>\n",
       "      <td>3692.0</td>\n",
       "      <td>123.0</td>\n",
       "      <td>18100.0</td>\n",
       "      <td>21914.0</td>\n",
       "      <td>325084.756</td>\n",
       "      <td>0.29</td>\n",
       "      <td>both</td>\n",
       "    </tr>\n",
       "    <tr>\n",
       "      <th>170</th>\n",
       "      <td>Éthiopie</td>\n",
       "      <td>0.0</td>\n",
       "      <td>1.0</td>\n",
       "      <td>14.0</td>\n",
       "      <td>14.0</td>\n",
       "      <td>106399.924</td>\n",
       "      <td>-1.68</td>\n",
       "      <td>both</td>\n",
       "    </tr>\n",
       "    <tr>\n",
       "      <th>171</th>\n",
       "      <td>Îles Salomon</td>\n",
       "      <td>0.0</td>\n",
       "      <td>6.0</td>\n",
       "      <td>3.0</td>\n",
       "      <td>0.0</td>\n",
       "      <td>636.039</td>\n",
       "      <td>0.20</td>\n",
       "      <td>both</td>\n",
       "    </tr>\n",
       "  </tbody>\n",
       "</table>\n",
       "<p>172 rows × 8 columns</p>\n",
       "</div>"
      ],
      "text/plain": [
       "                      Zone  Exportations Volailles (en milliers tonnes)  \\\n",
       "0              Afghanistan                                          0.0   \n",
       "1           Afrique du Sud                                         63.0   \n",
       "2                  Albanie                                          0.0   \n",
       "3                  Algérie                                          0.0   \n",
       "4                Allemagne                                        646.0   \n",
       "..                     ...                                          ...   \n",
       "167    Émirats arabes unis                                         94.0   \n",
       "168               Équateur                                          0.0   \n",
       "169  États-Unis d'Amérique                                       3692.0   \n",
       "170               Éthiopie                                          0.0   \n",
       "171           Îles Salomon                                          0.0   \n",
       "\n",
       "     Importations Volailles (en milliers tonnes)  \\\n",
       "0                                           29.0   \n",
       "1                                          514.0   \n",
       "2                                           38.0   \n",
       "3                                            2.0   \n",
       "4                                          842.0   \n",
       "..                                           ...   \n",
       "167                                        433.0   \n",
       "168                                          0.0   \n",
       "169                                        123.0   \n",
       "170                                          1.0   \n",
       "171                                          6.0   \n",
       "\n",
       "     Nourritures (en milliers tonnes)  \\\n",
       "0                                55.0   \n",
       "1                              2035.0   \n",
       "2                                47.0   \n",
       "3                               264.0   \n",
       "4                              1609.0   \n",
       "..                                ...   \n",
       "167                             412.0   \n",
       "168                             324.0   \n",
       "169                           18100.0   \n",
       "170                              14.0   \n",
       "171                               3.0   \n",
       "\n",
       "     Productions Volailles (en milliers tonnes)  \\\n",
       "0                                          28.0   \n",
       "1                                        1667.0   \n",
       "2                                          13.0   \n",
       "3                                         275.0   \n",
       "4                                        1514.0   \n",
       "..                                          ...   \n",
       "167                                        48.0   \n",
       "168                                       340.0   \n",
       "169                                     21914.0   \n",
       "170                                        14.0   \n",
       "171                                         0.0   \n",
       "\n",
       "     Population en 2017 (milliers de personnes)  Stabilité politique  True  \n",
       "0                                     36296.113                -2.80  both  \n",
       "1                                     57009.756                -0.28  both  \n",
       "2                                      2884.169                 0.38  both  \n",
       "3                                     41389.189                -0.92  both  \n",
       "4                                     82658.409                 0.59  both  \n",
       "..                                          ...                  ...   ...  \n",
       "167                                    9487.203                 0.62  both  \n",
       "168                                   16785.361                -0.07  both  \n",
       "169                                  325084.756                 0.29  both  \n",
       "170                                  106399.924                -1.68  both  \n",
       "171                                     636.039                 0.20  both  \n",
       "\n",
       "[172 rows x 8 columns]"
      ]
     },
     "execution_count": 59,
     "metadata": {},
     "output_type": "execute_result"
    }
   ],
   "source": [
    "# On garde que les lignes complètes, et on supprime la colonne de test `True`\n",
    "df = df.loc[(df['True'] == 'both') | (df['True'] == 'left_only'), :]\n",
    "df"
   ]
  },
  {
   "cell_type": "markdown",
   "metadata": {},
   "source": [
    "- On remarque aussi qu'il y a des données importées qui n'ont pas de correspondance dans la table **political_stability**"
   ]
  },
  {
   "cell_type": "code",
   "execution_count": 60,
   "metadata": {},
   "outputs": [
    {
     "data": {
      "text/html": [
       "<div>\n",
       "<style scoped>\n",
       "    .dataframe tbody tr th:only-of-type {\n",
       "        vertical-align: middle;\n",
       "    }\n",
       "\n",
       "    .dataframe tbody tr th {\n",
       "        vertical-align: top;\n",
       "    }\n",
       "\n",
       "    .dataframe thead th {\n",
       "        text-align: right;\n",
       "    }\n",
       "</style>\n",
       "<table border=\"1\" class=\"dataframe\">\n",
       "  <thead>\n",
       "    <tr style=\"text-align: right;\">\n",
       "      <th></th>\n",
       "      <th>Zone</th>\n",
       "      <th>Exportations Volailles (en milliers tonnes)</th>\n",
       "      <th>Importations Volailles (en milliers tonnes)</th>\n",
       "      <th>Nourritures (en milliers tonnes)</th>\n",
       "      <th>Productions Volailles (en milliers tonnes)</th>\n",
       "      <th>Population en 2017 (milliers de personnes)</th>\n",
       "      <th>Stabilité politique</th>\n",
       "      <th>True</th>\n",
       "    </tr>\n",
       "  </thead>\n",
       "  <tbody>\n",
       "    <tr>\n",
       "      <th>34</th>\n",
       "      <td>Chine, continentale</td>\n",
       "      <td>576.0</td>\n",
       "      <td>452.0</td>\n",
       "      <td>17518.0</td>\n",
       "      <td>18236.0</td>\n",
       "      <td>1421021.791</td>\n",
       "      <td>NaN</td>\n",
       "      <td>left_only</td>\n",
       "    </tr>\n",
       "    <tr>\n",
       "      <th>108</th>\n",
       "      <td>Nouvelle-Calédonie</td>\n",
       "      <td>0.0</td>\n",
       "      <td>9.0</td>\n",
       "      <td>11.0</td>\n",
       "      <td>1.0</td>\n",
       "      <td>277.150</td>\n",
       "      <td>NaN</td>\n",
       "      <td>left_only</td>\n",
       "    </tr>\n",
       "    <tr>\n",
       "      <th>120</th>\n",
       "      <td>Polynésie française</td>\n",
       "      <td>0.0</td>\n",
       "      <td>15.0</td>\n",
       "      <td>13.0</td>\n",
       "      <td>1.0</td>\n",
       "      <td>276.102</td>\n",
       "      <td>NaN</td>\n",
       "      <td>left_only</td>\n",
       "    </tr>\n",
       "  </tbody>\n",
       "</table>\n",
       "</div>"
      ],
      "text/plain": [
       "                    Zone  Exportations Volailles (en milliers tonnes)  \\\n",
       "34   Chine, continentale                                        576.0   \n",
       "108   Nouvelle-Calédonie                                          0.0   \n",
       "120  Polynésie française                                          0.0   \n",
       "\n",
       "     Importations Volailles (en milliers tonnes)  \\\n",
       "34                                         452.0   \n",
       "108                                          9.0   \n",
       "120                                         15.0   \n",
       "\n",
       "     Nourritures (en milliers tonnes)  \\\n",
       "34                            17518.0   \n",
       "108                              11.0   \n",
       "120                              13.0   \n",
       "\n",
       "     Productions Volailles (en milliers tonnes)  \\\n",
       "34                                      18236.0   \n",
       "108                                         1.0   \n",
       "120                                         1.0   \n",
       "\n",
       "     Population en 2017 (milliers de personnes)  Stabilité politique  \\\n",
       "34                                  1421021.791                  NaN   \n",
       "108                                     277.150                  NaN   \n",
       "120                                     276.102                  NaN   \n",
       "\n",
       "          True  \n",
       "34   left_only  \n",
       "108  left_only  \n",
       "120  left_only  "
      ]
     },
     "execution_count": 60,
     "metadata": {},
     "output_type": "execute_result"
    }
   ],
   "source": [
    "df[df['True'] == 'left_only']"
   ]
  },
  {
   "cell_type": "markdown",
   "metadata": {},
   "source": [
    "- Pour **la Nouvelle-Calédonie et la Polynésie française**, on va pouvoir prendre la valeur de la **France** puiqu'ils sont des territoires d'outre mer. "
   ]
  },
  {
   "cell_type": "code",
   "execution_count": 61,
   "metadata": {},
   "outputs": [
    {
     "data": {
      "text/plain": [
       "51    0.28\n",
       "Name: Stabilité politique, dtype: float64"
      ]
     },
     "execution_count": 61,
     "metadata": {},
     "output_type": "execute_result"
    }
   ],
   "source": [
    "# Valeur de la stabilité politique de la France\n",
    "df.loc[df[\"Zone\"]==\"France\"]['Stabilité politique']"
   ]
  },
  {
   "cell_type": "code",
   "execution_count": 62,
   "metadata": {},
   "outputs": [
    {
     "data": {
      "text/html": [
       "<div>\n",
       "<style scoped>\n",
       "    .dataframe tbody tr th:only-of-type {\n",
       "        vertical-align: middle;\n",
       "    }\n",
       "\n",
       "    .dataframe tbody tr th {\n",
       "        vertical-align: top;\n",
       "    }\n",
       "\n",
       "    .dataframe thead th {\n",
       "        text-align: right;\n",
       "    }\n",
       "</style>\n",
       "<table border=\"1\" class=\"dataframe\">\n",
       "  <thead>\n",
       "    <tr style=\"text-align: right;\">\n",
       "      <th></th>\n",
       "      <th>Zone</th>\n",
       "      <th>Exportations Volailles (en milliers tonnes)</th>\n",
       "      <th>Importations Volailles (en milliers tonnes)</th>\n",
       "      <th>Nourritures (en milliers tonnes)</th>\n",
       "      <th>Productions Volailles (en milliers tonnes)</th>\n",
       "      <th>Population en 2017 (milliers de personnes)</th>\n",
       "      <th>Stabilité politique</th>\n",
       "      <th>True</th>\n",
       "    </tr>\n",
       "  </thead>\n",
       "  <tbody>\n",
       "    <tr>\n",
       "      <th>34</th>\n",
       "      <td>Chine, continentale</td>\n",
       "      <td>576.0</td>\n",
       "      <td>452.0</td>\n",
       "      <td>17518.0</td>\n",
       "      <td>18236.0</td>\n",
       "      <td>1421021.791</td>\n",
       "      <td>NaN</td>\n",
       "      <td>left_only</td>\n",
       "    </tr>\n",
       "    <tr>\n",
       "      <th>108</th>\n",
       "      <td>Nouvelle-Calédonie</td>\n",
       "      <td>0.0</td>\n",
       "      <td>9.0</td>\n",
       "      <td>11.0</td>\n",
       "      <td>1.0</td>\n",
       "      <td>277.150</td>\n",
       "      <td>0.28</td>\n",
       "      <td>left_only</td>\n",
       "    </tr>\n",
       "    <tr>\n",
       "      <th>120</th>\n",
       "      <td>Polynésie française</td>\n",
       "      <td>0.0</td>\n",
       "      <td>15.0</td>\n",
       "      <td>13.0</td>\n",
       "      <td>1.0</td>\n",
       "      <td>276.102</td>\n",
       "      <td>0.28</td>\n",
       "      <td>left_only</td>\n",
       "    </tr>\n",
       "  </tbody>\n",
       "</table>\n",
       "</div>"
      ],
      "text/plain": [
       "                    Zone  Exportations Volailles (en milliers tonnes)  \\\n",
       "34   Chine, continentale                                        576.0   \n",
       "108   Nouvelle-Calédonie                                          0.0   \n",
       "120  Polynésie française                                          0.0   \n",
       "\n",
       "     Importations Volailles (en milliers tonnes)  \\\n",
       "34                                         452.0   \n",
       "108                                          9.0   \n",
       "120                                         15.0   \n",
       "\n",
       "     Nourritures (en milliers tonnes)  \\\n",
       "34                            17518.0   \n",
       "108                              11.0   \n",
       "120                              13.0   \n",
       "\n",
       "     Productions Volailles (en milliers tonnes)  \\\n",
       "34                                      18236.0   \n",
       "108                                         1.0   \n",
       "120                                         1.0   \n",
       "\n",
       "     Population en 2017 (milliers de personnes)  Stabilité politique  \\\n",
       "34                                  1421021.791                  NaN   \n",
       "108                                     277.150                 0.28   \n",
       "120                                     276.102                 0.28   \n",
       "\n",
       "          True  \n",
       "34   left_only  \n",
       "108  left_only  \n",
       "120  left_only  "
      ]
     },
     "execution_count": 62,
     "metadata": {},
     "output_type": "execute_result"
    }
   ],
   "source": [
    "# Remplacement de la valeur pour la Nouvelle-calédonie et la polynésie française par celle de la france\n",
    "df.loc[df[\"Zone\"]==\"Nouvelle-Calédonie\", 'Stabilité politique']=  np.unique(df[(df['Zone']==\"France\" )]['Stabilité politique'])\n",
    "df.loc[df[\"Zone\"]==\"Polynésie française\", 'Stabilité politique']= np.unique(df[(df['Zone']==\"France\" )]['Stabilité politique'])\n",
    "df[df['True'] == 'left_only']"
   ]
  },
  {
   "cell_type": "markdown",
   "metadata": {},
   "source": [
    "- Pour la **Chine**, on va regarder sur une autre source de données sur la stabilité politique afin de pouvoir renseigner la valeur. "
   ]
  },
  {
   "cell_type": "code",
   "execution_count": 63,
   "metadata": {},
   "outputs": [
    {
     "data": {
      "text/html": [
       "<div>\n",
       "<style scoped>\n",
       "    .dataframe tbody tr th:only-of-type {\n",
       "        vertical-align: middle;\n",
       "    }\n",
       "\n",
       "    .dataframe tbody tr th {\n",
       "        vertical-align: top;\n",
       "    }\n",
       "\n",
       "    .dataframe thead th {\n",
       "        text-align: right;\n",
       "    }\n",
       "</style>\n",
       "<table border=\"1\" class=\"dataframe\">\n",
       "  <thead>\n",
       "    <tr style=\"text-align: right;\">\n",
       "      <th></th>\n",
       "      <th>Country</th>\n",
       "      <th>Year</th>\n",
       "      <th>Political_Stability</th>\n",
       "      <th>Granularity</th>\n",
       "    </tr>\n",
       "  </thead>\n",
       "  <tbody>\n",
       "    <tr>\n",
       "      <th>0</th>\n",
       "      <td>Afghanistan</td>\n",
       "      <td>2000</td>\n",
       "      <td>-2.44</td>\n",
       "      <td>Total</td>\n",
       "    </tr>\n",
       "    <tr>\n",
       "      <th>1</th>\n",
       "      <td>Afghanistan</td>\n",
       "      <td>2002</td>\n",
       "      <td>-2.04</td>\n",
       "      <td>Total</td>\n",
       "    </tr>\n",
       "    <tr>\n",
       "      <th>2</th>\n",
       "      <td>Afghanistan</td>\n",
       "      <td>2003</td>\n",
       "      <td>-2.20</td>\n",
       "      <td>Total</td>\n",
       "    </tr>\n",
       "    <tr>\n",
       "      <th>3</th>\n",
       "      <td>Afghanistan</td>\n",
       "      <td>2004</td>\n",
       "      <td>-2.30</td>\n",
       "      <td>Total</td>\n",
       "    </tr>\n",
       "    <tr>\n",
       "      <th>4</th>\n",
       "      <td>Afghanistan</td>\n",
       "      <td>2005</td>\n",
       "      <td>-2.07</td>\n",
       "      <td>Total</td>\n",
       "    </tr>\n",
       "    <tr>\n",
       "      <th>...</th>\n",
       "      <td>...</td>\n",
       "      <td>...</td>\n",
       "      <td>...</td>\n",
       "      <td>...</td>\n",
       "    </tr>\n",
       "    <tr>\n",
       "      <th>3521</th>\n",
       "      <td>Zimbabwe</td>\n",
       "      <td>2014</td>\n",
       "      <td>-0.71</td>\n",
       "      <td>Total</td>\n",
       "    </tr>\n",
       "    <tr>\n",
       "      <th>3522</th>\n",
       "      <td>Zimbabwe</td>\n",
       "      <td>2015</td>\n",
       "      <td>-0.62</td>\n",
       "      <td>Total</td>\n",
       "    </tr>\n",
       "    <tr>\n",
       "      <th>3523</th>\n",
       "      <td>Zimbabwe</td>\n",
       "      <td>2016</td>\n",
       "      <td>-0.62</td>\n",
       "      <td>Total</td>\n",
       "    </tr>\n",
       "    <tr>\n",
       "      <th>3524</th>\n",
       "      <td>Zimbabwe</td>\n",
       "      <td>2017</td>\n",
       "      <td>-0.71</td>\n",
       "      <td>Total</td>\n",
       "    </tr>\n",
       "    <tr>\n",
       "      <th>3525</th>\n",
       "      <td>Zimbabwe</td>\n",
       "      <td>2018</td>\n",
       "      <td>-0.71</td>\n",
       "      <td>Total</td>\n",
       "    </tr>\n",
       "  </tbody>\n",
       "</table>\n",
       "<p>3526 rows × 4 columns</p>\n",
       "</div>"
      ],
      "text/plain": [
       "          Country  Year  Political_Stability Granularity\n",
       "0     Afghanistan  2000                -2.44       Total\n",
       "1     Afghanistan  2002                -2.04       Total\n",
       "2     Afghanistan  2003                -2.20       Total\n",
       "3     Afghanistan  2004                -2.30       Total\n",
       "4     Afghanistan  2005                -2.07       Total\n",
       "...           ...   ...                  ...         ...\n",
       "3521     Zimbabwe  2014                -0.71       Total\n",
       "3522     Zimbabwe  2015                -0.62       Total\n",
       "3523     Zimbabwe  2016                -0.62       Total\n",
       "3524     Zimbabwe  2017                -0.71       Total\n",
       "3525     Zimbabwe  2018                -0.71       Total\n",
       "\n",
       "[3526 rows x 4 columns]"
      ]
     },
     "execution_count": 63,
     "metadata": {},
     "output_type": "execute_result"
    }
   ],
   "source": [
    "political_stability_1 = pd.read_csv(r\"C:\\Users\\imadk\\Downloads\\DAN-P8-donnees\\PoliticalStability.csv\", sep=',')\n",
    "political_stability_1 "
   ]
  },
  {
   "cell_type": "code",
   "execution_count": 64,
   "metadata": {},
   "outputs": [
    {
     "data": {
      "text/html": [
       "<div>\n",
       "<style scoped>\n",
       "    .dataframe tbody tr th:only-of-type {\n",
       "        vertical-align: middle;\n",
       "    }\n",
       "\n",
       "    .dataframe tbody tr th {\n",
       "        vertical-align: top;\n",
       "    }\n",
       "\n",
       "    .dataframe thead th {\n",
       "        text-align: right;\n",
       "    }\n",
       "</style>\n",
       "<table border=\"1\" class=\"dataframe\">\n",
       "  <thead>\n",
       "    <tr style=\"text-align: right;\">\n",
       "      <th></th>\n",
       "      <th>Country</th>\n",
       "      <th>Year</th>\n",
       "      <th>Political_Stability</th>\n",
       "      <th>Granularity</th>\n",
       "    </tr>\n",
       "  </thead>\n",
       "  <tbody>\n",
       "    <tr>\n",
       "      <th>715</th>\n",
       "      <td>China, mainland</td>\n",
       "      <td>2017</td>\n",
       "      <td>-0.23</td>\n",
       "      <td>Total</td>\n",
       "    </tr>\n",
       "  </tbody>\n",
       "</table>\n",
       "</div>"
      ],
      "text/plain": [
       "             Country  Year  Political_Stability Granularity\n",
       "715  China, mainland  2017                -0.23       Total"
      ]
     },
     "execution_count": 64,
     "metadata": {},
     "output_type": "execute_result"
    }
   ],
   "source": [
    "political_stability_1[(political_stability_1[\"Country\"]==\"China, mainland\") & (political_stability_1['Year']== 2017)]"
   ]
  },
  {
   "cell_type": "code",
   "execution_count": 65,
   "metadata": {},
   "outputs": [
    {
     "data": {
      "text/html": [
       "<div>\n",
       "<style scoped>\n",
       "    .dataframe tbody tr th:only-of-type {\n",
       "        vertical-align: middle;\n",
       "    }\n",
       "\n",
       "    .dataframe tbody tr th {\n",
       "        vertical-align: top;\n",
       "    }\n",
       "\n",
       "    .dataframe thead th {\n",
       "        text-align: right;\n",
       "    }\n",
       "</style>\n",
       "<table border=\"1\" class=\"dataframe\">\n",
       "  <thead>\n",
       "    <tr style=\"text-align: right;\">\n",
       "      <th></th>\n",
       "      <th>Zone</th>\n",
       "      <th>Exportations Volailles (en milliers tonnes)</th>\n",
       "      <th>Importations Volailles (en milliers tonnes)</th>\n",
       "      <th>Nourritures (en milliers tonnes)</th>\n",
       "      <th>Productions Volailles (en milliers tonnes)</th>\n",
       "      <th>Population en 2017 (milliers de personnes)</th>\n",
       "      <th>Stabilité politique</th>\n",
       "      <th>True</th>\n",
       "    </tr>\n",
       "  </thead>\n",
       "  <tbody>\n",
       "    <tr>\n",
       "      <th>34</th>\n",
       "      <td>Chine, continentale</td>\n",
       "      <td>576.0</td>\n",
       "      <td>452.0</td>\n",
       "      <td>17518.0</td>\n",
       "      <td>18236.0</td>\n",
       "      <td>1421021.791</td>\n",
       "      <td>-0.23</td>\n",
       "      <td>left_only</td>\n",
       "    </tr>\n",
       "    <tr>\n",
       "      <th>108</th>\n",
       "      <td>Nouvelle-Calédonie</td>\n",
       "      <td>0.0</td>\n",
       "      <td>9.0</td>\n",
       "      <td>11.0</td>\n",
       "      <td>1.0</td>\n",
       "      <td>277.150</td>\n",
       "      <td>0.28</td>\n",
       "      <td>left_only</td>\n",
       "    </tr>\n",
       "    <tr>\n",
       "      <th>120</th>\n",
       "      <td>Polynésie française</td>\n",
       "      <td>0.0</td>\n",
       "      <td>15.0</td>\n",
       "      <td>13.0</td>\n",
       "      <td>1.0</td>\n",
       "      <td>276.102</td>\n",
       "      <td>0.28</td>\n",
       "      <td>left_only</td>\n",
       "    </tr>\n",
       "  </tbody>\n",
       "</table>\n",
       "</div>"
      ],
      "text/plain": [
       "                    Zone  Exportations Volailles (en milliers tonnes)  \\\n",
       "34   Chine, continentale                                        576.0   \n",
       "108   Nouvelle-Calédonie                                          0.0   \n",
       "120  Polynésie française                                          0.0   \n",
       "\n",
       "     Importations Volailles (en milliers tonnes)  \\\n",
       "34                                         452.0   \n",
       "108                                          9.0   \n",
       "120                                         15.0   \n",
       "\n",
       "     Nourritures (en milliers tonnes)  \\\n",
       "34                            17518.0   \n",
       "108                              11.0   \n",
       "120                              13.0   \n",
       "\n",
       "     Productions Volailles (en milliers tonnes)  \\\n",
       "34                                      18236.0   \n",
       "108                                         1.0   \n",
       "120                                         1.0   \n",
       "\n",
       "     Population en 2017 (milliers de personnes)  Stabilité politique  \\\n",
       "34                                  1421021.791                -0.23   \n",
       "108                                     277.150                 0.28   \n",
       "120                                     276.102                 0.28   \n",
       "\n",
       "          True  \n",
       "34   left_only  \n",
       "108  left_only  \n",
       "120  left_only  "
      ]
     },
     "execution_count": 65,
     "metadata": {},
     "output_type": "execute_result"
    }
   ],
   "source": [
    "df.loc[df[\"Zone\"]==\"Chine, continentale\", 'Stabilité politique'] = -0.23\n",
    "df[df['True'] == 'left_only']"
   ]
  },
  {
   "cell_type": "code",
   "execution_count": 66,
   "metadata": {},
   "outputs": [
    {
     "data": {
      "text/html": [
       "<div>\n",
       "<style scoped>\n",
       "    .dataframe tbody tr th:only-of-type {\n",
       "        vertical-align: middle;\n",
       "    }\n",
       "\n",
       "    .dataframe tbody tr th {\n",
       "        vertical-align: top;\n",
       "    }\n",
       "\n",
       "    .dataframe thead th {\n",
       "        text-align: right;\n",
       "    }\n",
       "</style>\n",
       "<table border=\"1\" class=\"dataframe\">\n",
       "  <thead>\n",
       "    <tr style=\"text-align: right;\">\n",
       "      <th></th>\n",
       "      <th>Zone</th>\n",
       "      <th>Exportations Volailles (en milliers tonnes)</th>\n",
       "      <th>Importations Volailles (en milliers tonnes)</th>\n",
       "      <th>Nourritures (en milliers tonnes)</th>\n",
       "      <th>Productions Volailles (en milliers tonnes)</th>\n",
       "      <th>Population en 2017 (milliers de personnes)</th>\n",
       "      <th>Stabilité politique</th>\n",
       "    </tr>\n",
       "  </thead>\n",
       "  <tbody>\n",
       "    <tr>\n",
       "      <th>0</th>\n",
       "      <td>Afghanistan</td>\n",
       "      <td>0.0</td>\n",
       "      <td>29.0</td>\n",
       "      <td>55.0</td>\n",
       "      <td>28.0</td>\n",
       "      <td>36296.113</td>\n",
       "      <td>-2.80</td>\n",
       "    </tr>\n",
       "    <tr>\n",
       "      <th>1</th>\n",
       "      <td>Afrique du Sud</td>\n",
       "      <td>63.0</td>\n",
       "      <td>514.0</td>\n",
       "      <td>2035.0</td>\n",
       "      <td>1667.0</td>\n",
       "      <td>57009.756</td>\n",
       "      <td>-0.28</td>\n",
       "    </tr>\n",
       "    <tr>\n",
       "      <th>2</th>\n",
       "      <td>Albanie</td>\n",
       "      <td>0.0</td>\n",
       "      <td>38.0</td>\n",
       "      <td>47.0</td>\n",
       "      <td>13.0</td>\n",
       "      <td>2884.169</td>\n",
       "      <td>0.38</td>\n",
       "    </tr>\n",
       "    <tr>\n",
       "      <th>3</th>\n",
       "      <td>Algérie</td>\n",
       "      <td>0.0</td>\n",
       "      <td>2.0</td>\n",
       "      <td>264.0</td>\n",
       "      <td>275.0</td>\n",
       "      <td>41389.189</td>\n",
       "      <td>-0.92</td>\n",
       "    </tr>\n",
       "    <tr>\n",
       "      <th>4</th>\n",
       "      <td>Allemagne</td>\n",
       "      <td>646.0</td>\n",
       "      <td>842.0</td>\n",
       "      <td>1609.0</td>\n",
       "      <td>1514.0</td>\n",
       "      <td>82658.409</td>\n",
       "      <td>0.59</td>\n",
       "    </tr>\n",
       "    <tr>\n",
       "      <th>...</th>\n",
       "      <td>...</td>\n",
       "      <td>...</td>\n",
       "      <td>...</td>\n",
       "      <td>...</td>\n",
       "      <td>...</td>\n",
       "      <td>...</td>\n",
       "      <td>...</td>\n",
       "    </tr>\n",
       "    <tr>\n",
       "      <th>167</th>\n",
       "      <td>Émirats arabes unis</td>\n",
       "      <td>94.0</td>\n",
       "      <td>433.0</td>\n",
       "      <td>412.0</td>\n",
       "      <td>48.0</td>\n",
       "      <td>9487.203</td>\n",
       "      <td>0.62</td>\n",
       "    </tr>\n",
       "    <tr>\n",
       "      <th>168</th>\n",
       "      <td>Équateur</td>\n",
       "      <td>0.0</td>\n",
       "      <td>0.0</td>\n",
       "      <td>324.0</td>\n",
       "      <td>340.0</td>\n",
       "      <td>16785.361</td>\n",
       "      <td>-0.07</td>\n",
       "    </tr>\n",
       "    <tr>\n",
       "      <th>169</th>\n",
       "      <td>États-Unis d'Amérique</td>\n",
       "      <td>3692.0</td>\n",
       "      <td>123.0</td>\n",
       "      <td>18100.0</td>\n",
       "      <td>21914.0</td>\n",
       "      <td>325084.756</td>\n",
       "      <td>0.29</td>\n",
       "    </tr>\n",
       "    <tr>\n",
       "      <th>170</th>\n",
       "      <td>Éthiopie</td>\n",
       "      <td>0.0</td>\n",
       "      <td>1.0</td>\n",
       "      <td>14.0</td>\n",
       "      <td>14.0</td>\n",
       "      <td>106399.924</td>\n",
       "      <td>-1.68</td>\n",
       "    </tr>\n",
       "    <tr>\n",
       "      <th>171</th>\n",
       "      <td>Îles Salomon</td>\n",
       "      <td>0.0</td>\n",
       "      <td>6.0</td>\n",
       "      <td>3.0</td>\n",
       "      <td>0.0</td>\n",
       "      <td>636.039</td>\n",
       "      <td>0.20</td>\n",
       "    </tr>\n",
       "  </tbody>\n",
       "</table>\n",
       "<p>172 rows × 7 columns</p>\n",
       "</div>"
      ],
      "text/plain": [
       "                      Zone  Exportations Volailles (en milliers tonnes)  \\\n",
       "0              Afghanistan                                          0.0   \n",
       "1           Afrique du Sud                                         63.0   \n",
       "2                  Albanie                                          0.0   \n",
       "3                  Algérie                                          0.0   \n",
       "4                Allemagne                                        646.0   \n",
       "..                     ...                                          ...   \n",
       "167    Émirats arabes unis                                         94.0   \n",
       "168               Équateur                                          0.0   \n",
       "169  États-Unis d'Amérique                                       3692.0   \n",
       "170               Éthiopie                                          0.0   \n",
       "171           Îles Salomon                                          0.0   \n",
       "\n",
       "     Importations Volailles (en milliers tonnes)  \\\n",
       "0                                           29.0   \n",
       "1                                          514.0   \n",
       "2                                           38.0   \n",
       "3                                            2.0   \n",
       "4                                          842.0   \n",
       "..                                           ...   \n",
       "167                                        433.0   \n",
       "168                                          0.0   \n",
       "169                                        123.0   \n",
       "170                                          1.0   \n",
       "171                                          6.0   \n",
       "\n",
       "     Nourritures (en milliers tonnes)  \\\n",
       "0                                55.0   \n",
       "1                              2035.0   \n",
       "2                                47.0   \n",
       "3                               264.0   \n",
       "4                              1609.0   \n",
       "..                                ...   \n",
       "167                             412.0   \n",
       "168                             324.0   \n",
       "169                           18100.0   \n",
       "170                              14.0   \n",
       "171                               3.0   \n",
       "\n",
       "     Productions Volailles (en milliers tonnes)  \\\n",
       "0                                          28.0   \n",
       "1                                        1667.0   \n",
       "2                                          13.0   \n",
       "3                                         275.0   \n",
       "4                                        1514.0   \n",
       "..                                          ...   \n",
       "167                                        48.0   \n",
       "168                                       340.0   \n",
       "169                                     21914.0   \n",
       "170                                        14.0   \n",
       "171                                         0.0   \n",
       "\n",
       "     Population en 2017 (milliers de personnes)  Stabilité politique  \n",
       "0                                     36296.113                -2.80  \n",
       "1                                     57009.756                -0.28  \n",
       "2                                      2884.169                 0.38  \n",
       "3                                     41389.189                -0.92  \n",
       "4                                     82658.409                 0.59  \n",
       "..                                          ...                  ...  \n",
       "167                                    9487.203                 0.62  \n",
       "168                                   16785.361                -0.07  \n",
       "169                                  325084.756                 0.29  \n",
       "170                                  106399.924                -1.68  \n",
       "171                                     636.039                 0.20  \n",
       "\n",
       "[172 rows x 7 columns]"
      ]
     },
     "execution_count": 66,
     "metadata": {},
     "output_type": "execute_result"
    }
   ],
   "source": [
    "# On garde que les lignes complètes, et on supprime la colonne de test `True`\n",
    "df = df.loc[(df['True'] == 'both') | (df['True'] == 'left_only'), :]\n",
    "df= df.drop(columns= 'True')\n",
    "df"
   ]
  },
  {
   "cell_type": "markdown",
   "metadata": {},
   "source": [
    "## 3.3 - 'df' + 'ISO 3'"
   ]
  },
  {
   "cell_type": "code",
   "execution_count": 67,
   "metadata": {},
   "outputs": [
    {
     "data": {
      "text/html": [
       "<div>\n",
       "<style scoped>\n",
       "    .dataframe tbody tr th:only-of-type {\n",
       "        vertical-align: middle;\n",
       "    }\n",
       "\n",
       "    .dataframe tbody tr th {\n",
       "        vertical-align: top;\n",
       "    }\n",
       "\n",
       "    .dataframe thead th {\n",
       "        text-align: right;\n",
       "    }\n",
       "</style>\n",
       "<table border=\"1\" class=\"dataframe\">\n",
       "  <thead>\n",
       "    <tr style=\"text-align: right;\">\n",
       "      <th></th>\n",
       "      <th>Zone</th>\n",
       "      <th>Exportations Volailles (en milliers tonnes)</th>\n",
       "      <th>Importations Volailles (en milliers tonnes)</th>\n",
       "      <th>Nourritures (en milliers tonnes)</th>\n",
       "      <th>Productions Volailles (en milliers tonnes)</th>\n",
       "      <th>Population en 2017 (milliers de personnes)</th>\n",
       "      <th>Stabilité politique</th>\n",
       "      <th>Code Zone</th>\n",
       "    </tr>\n",
       "  </thead>\n",
       "  <tbody>\n",
       "    <tr>\n",
       "      <th>0</th>\n",
       "      <td>Afghanistan</td>\n",
       "      <td>0.0</td>\n",
       "      <td>29.0</td>\n",
       "      <td>55.0</td>\n",
       "      <td>28.0</td>\n",
       "      <td>36296.113</td>\n",
       "      <td>-2.80</td>\n",
       "      <td>AFG</td>\n",
       "    </tr>\n",
       "    <tr>\n",
       "      <th>1</th>\n",
       "      <td>Afrique du Sud</td>\n",
       "      <td>63.0</td>\n",
       "      <td>514.0</td>\n",
       "      <td>2035.0</td>\n",
       "      <td>1667.0</td>\n",
       "      <td>57009.756</td>\n",
       "      <td>-0.28</td>\n",
       "      <td>ZAF</td>\n",
       "    </tr>\n",
       "    <tr>\n",
       "      <th>2</th>\n",
       "      <td>Albanie</td>\n",
       "      <td>0.0</td>\n",
       "      <td>38.0</td>\n",
       "      <td>47.0</td>\n",
       "      <td>13.0</td>\n",
       "      <td>2884.169</td>\n",
       "      <td>0.38</td>\n",
       "      <td>ALB</td>\n",
       "    </tr>\n",
       "    <tr>\n",
       "      <th>3</th>\n",
       "      <td>Algérie</td>\n",
       "      <td>0.0</td>\n",
       "      <td>2.0</td>\n",
       "      <td>264.0</td>\n",
       "      <td>275.0</td>\n",
       "      <td>41389.189</td>\n",
       "      <td>-0.92</td>\n",
       "      <td>DZA</td>\n",
       "    </tr>\n",
       "    <tr>\n",
       "      <th>4</th>\n",
       "      <td>Allemagne</td>\n",
       "      <td>646.0</td>\n",
       "      <td>842.0</td>\n",
       "      <td>1609.0</td>\n",
       "      <td>1514.0</td>\n",
       "      <td>82658.409</td>\n",
       "      <td>0.59</td>\n",
       "      <td>DEU</td>\n",
       "    </tr>\n",
       "    <tr>\n",
       "      <th>...</th>\n",
       "      <td>...</td>\n",
       "      <td>...</td>\n",
       "      <td>...</td>\n",
       "      <td>...</td>\n",
       "      <td>...</td>\n",
       "      <td>...</td>\n",
       "      <td>...</td>\n",
       "      <td>...</td>\n",
       "    </tr>\n",
       "    <tr>\n",
       "      <th>168</th>\n",
       "      <td>Émirats arabes unis</td>\n",
       "      <td>94.0</td>\n",
       "      <td>433.0</td>\n",
       "      <td>412.0</td>\n",
       "      <td>48.0</td>\n",
       "      <td>9487.203</td>\n",
       "      <td>0.62</td>\n",
       "      <td>ARE</td>\n",
       "    </tr>\n",
       "    <tr>\n",
       "      <th>169</th>\n",
       "      <td>Équateur</td>\n",
       "      <td>0.0</td>\n",
       "      <td>0.0</td>\n",
       "      <td>324.0</td>\n",
       "      <td>340.0</td>\n",
       "      <td>16785.361</td>\n",
       "      <td>-0.07</td>\n",
       "      <td>ECU</td>\n",
       "    </tr>\n",
       "    <tr>\n",
       "      <th>170</th>\n",
       "      <td>États-Unis d'Amérique</td>\n",
       "      <td>3692.0</td>\n",
       "      <td>123.0</td>\n",
       "      <td>18100.0</td>\n",
       "      <td>21914.0</td>\n",
       "      <td>325084.756</td>\n",
       "      <td>0.29</td>\n",
       "      <td>USA</td>\n",
       "    </tr>\n",
       "    <tr>\n",
       "      <th>171</th>\n",
       "      <td>Éthiopie</td>\n",
       "      <td>0.0</td>\n",
       "      <td>1.0</td>\n",
       "      <td>14.0</td>\n",
       "      <td>14.0</td>\n",
       "      <td>106399.924</td>\n",
       "      <td>-1.68</td>\n",
       "      <td>ETH</td>\n",
       "    </tr>\n",
       "    <tr>\n",
       "      <th>172</th>\n",
       "      <td>Îles Salomon</td>\n",
       "      <td>0.0</td>\n",
       "      <td>6.0</td>\n",
       "      <td>3.0</td>\n",
       "      <td>0.0</td>\n",
       "      <td>636.039</td>\n",
       "      <td>0.20</td>\n",
       "      <td>SLB</td>\n",
       "    </tr>\n",
       "  </tbody>\n",
       "</table>\n",
       "<p>173 rows × 8 columns</p>\n",
       "</div>"
      ],
      "text/plain": [
       "                      Zone  Exportations Volailles (en milliers tonnes)  \\\n",
       "0              Afghanistan                                          0.0   \n",
       "1           Afrique du Sud                                         63.0   \n",
       "2                  Albanie                                          0.0   \n",
       "3                  Algérie                                          0.0   \n",
       "4                Allemagne                                        646.0   \n",
       "..                     ...                                          ...   \n",
       "168    Émirats arabes unis                                         94.0   \n",
       "169               Équateur                                          0.0   \n",
       "170  États-Unis d'Amérique                                       3692.0   \n",
       "171               Éthiopie                                          0.0   \n",
       "172           Îles Salomon                                          0.0   \n",
       "\n",
       "     Importations Volailles (en milliers tonnes)  \\\n",
       "0                                           29.0   \n",
       "1                                          514.0   \n",
       "2                                           38.0   \n",
       "3                                            2.0   \n",
       "4                                          842.0   \n",
       "..                                           ...   \n",
       "168                                        433.0   \n",
       "169                                          0.0   \n",
       "170                                        123.0   \n",
       "171                                          1.0   \n",
       "172                                          6.0   \n",
       "\n",
       "     Nourritures (en milliers tonnes)  \\\n",
       "0                                55.0   \n",
       "1                              2035.0   \n",
       "2                                47.0   \n",
       "3                               264.0   \n",
       "4                              1609.0   \n",
       "..                                ...   \n",
       "168                             412.0   \n",
       "169                             324.0   \n",
       "170                           18100.0   \n",
       "171                              14.0   \n",
       "172                               3.0   \n",
       "\n",
       "     Productions Volailles (en milliers tonnes)  \\\n",
       "0                                          28.0   \n",
       "1                                        1667.0   \n",
       "2                                          13.0   \n",
       "3                                         275.0   \n",
       "4                                        1514.0   \n",
       "..                                          ...   \n",
       "168                                        48.0   \n",
       "169                                       340.0   \n",
       "170                                     21914.0   \n",
       "171                                        14.0   \n",
       "172                                         0.0   \n",
       "\n",
       "     Population en 2017 (milliers de personnes)  Stabilité politique Code Zone  \n",
       "0                                     36296.113                -2.80       AFG  \n",
       "1                                     57009.756                -0.28       ZAF  \n",
       "2                                      2884.169                 0.38       ALB  \n",
       "3                                     41389.189                -0.92       DZA  \n",
       "4                                     82658.409                 0.59       DEU  \n",
       "..                                          ...                  ...       ...  \n",
       "168                                    9487.203                 0.62       ARE  \n",
       "169                                   16785.361                -0.07       ECU  \n",
       "170                                  325084.756                 0.29       USA  \n",
       "171                                  106399.924                -1.68       ETH  \n",
       "172                                     636.039                 0.20       SLB  \n",
       "\n",
       "[173 rows x 8 columns]"
      ]
     },
     "execution_count": 67,
     "metadata": {},
     "output_type": "execute_result"
    }
   ],
   "source": [
    "df = df.merge(iso3, how='left', on= 'Zone')\n",
    "df"
   ]
  },
  {
   "cell_type": "markdown",
   "metadata": {},
   "source": [
    "- On vérifie s'il y des doublons"
   ]
  },
  {
   "cell_type": "code",
   "execution_count": 68,
   "metadata": {},
   "outputs": [
    {
     "data": {
      "text/plain": [
       "1"
      ]
     },
     "execution_count": 68,
     "metadata": {},
     "output_type": "execute_result"
    }
   ],
   "source": [
    "df['Zone'].duplicated().sum()"
   ]
  },
  {
   "cell_type": "code",
   "execution_count": 69,
   "metadata": {},
   "outputs": [
    {
     "data": {
      "text/html": [
       "<div>\n",
       "<style scoped>\n",
       "    .dataframe tbody tr th:only-of-type {\n",
       "        vertical-align: middle;\n",
       "    }\n",
       "\n",
       "    .dataframe tbody tr th {\n",
       "        vertical-align: top;\n",
       "    }\n",
       "\n",
       "    .dataframe thead th {\n",
       "        text-align: right;\n",
       "    }\n",
       "</style>\n",
       "<table border=\"1\" class=\"dataframe\">\n",
       "  <thead>\n",
       "    <tr style=\"text-align: right;\">\n",
       "      <th></th>\n",
       "      <th>Zone</th>\n",
       "      <th>Exportations Volailles (en milliers tonnes)</th>\n",
       "      <th>Importations Volailles (en milliers tonnes)</th>\n",
       "      <th>Nourritures (en milliers tonnes)</th>\n",
       "      <th>Productions Volailles (en milliers tonnes)</th>\n",
       "      <th>Population en 2017 (milliers de personnes)</th>\n",
       "      <th>Stabilité politique</th>\n",
       "      <th>Code Zone</th>\n",
       "    </tr>\n",
       "  </thead>\n",
       "  <tbody>\n",
       "    <tr>\n",
       "      <th>35</th>\n",
       "      <td>Chine, continentale</td>\n",
       "      <td>576.0</td>\n",
       "      <td>452.0</td>\n",
       "      <td>17518.0</td>\n",
       "      <td>18236.0</td>\n",
       "      <td>1421021.791</td>\n",
       "      <td>-0.23</td>\n",
       "      <td>F41</td>\n",
       "    </tr>\n",
       "  </tbody>\n",
       "</table>\n",
       "</div>"
      ],
      "text/plain": [
       "                   Zone  Exportations Volailles (en milliers tonnes)  \\\n",
       "35  Chine, continentale                                        576.0   \n",
       "\n",
       "    Importations Volailles (en milliers tonnes)  \\\n",
       "35                                        452.0   \n",
       "\n",
       "    Nourritures (en milliers tonnes)  \\\n",
       "35                           17518.0   \n",
       "\n",
       "    Productions Volailles (en milliers tonnes)  \\\n",
       "35                                     18236.0   \n",
       "\n",
       "    Population en 2017 (milliers de personnes)  Stabilité politique Code Zone  \n",
       "35                                 1421021.791                -0.23       F41  "
      ]
     },
     "execution_count": 69,
     "metadata": {},
     "output_type": "execute_result"
    }
   ],
   "source": [
    "duplicated_country = df[df.duplicated(subset=['Zone'])]\n",
    "duplicated_country"
   ]
  },
  {
   "cell_type": "code",
   "execution_count": 70,
   "metadata": {},
   "outputs": [
    {
     "data": {
      "text/html": [
       "<div>\n",
       "<style scoped>\n",
       "    .dataframe tbody tr th:only-of-type {\n",
       "        vertical-align: middle;\n",
       "    }\n",
       "\n",
       "    .dataframe tbody tr th {\n",
       "        vertical-align: top;\n",
       "    }\n",
       "\n",
       "    .dataframe thead th {\n",
       "        text-align: right;\n",
       "    }\n",
       "</style>\n",
       "<table border=\"1\" class=\"dataframe\">\n",
       "  <thead>\n",
       "    <tr style=\"text-align: right;\">\n",
       "      <th></th>\n",
       "      <th>Zone</th>\n",
       "      <th>Exportations Volailles (en milliers tonnes)</th>\n",
       "      <th>Importations Volailles (en milliers tonnes)</th>\n",
       "      <th>Nourritures (en milliers tonnes)</th>\n",
       "      <th>Productions Volailles (en milliers tonnes)</th>\n",
       "      <th>Population en 2017 (milliers de personnes)</th>\n",
       "      <th>Stabilité politique</th>\n",
       "      <th>Code Zone</th>\n",
       "    </tr>\n",
       "  </thead>\n",
       "  <tbody>\n",
       "    <tr>\n",
       "      <th>34</th>\n",
       "      <td>Chine, continentale</td>\n",
       "      <td>576.0</td>\n",
       "      <td>452.0</td>\n",
       "      <td>17518.0</td>\n",
       "      <td>18236.0</td>\n",
       "      <td>1421021.791</td>\n",
       "      <td>-0.23</td>\n",
       "      <td>CHN</td>\n",
       "    </tr>\n",
       "    <tr>\n",
       "      <th>35</th>\n",
       "      <td>Chine, continentale</td>\n",
       "      <td>576.0</td>\n",
       "      <td>452.0</td>\n",
       "      <td>17518.0</td>\n",
       "      <td>18236.0</td>\n",
       "      <td>1421021.791</td>\n",
       "      <td>-0.23</td>\n",
       "      <td>F41</td>\n",
       "    </tr>\n",
       "  </tbody>\n",
       "</table>\n",
       "</div>"
      ],
      "text/plain": [
       "                   Zone  Exportations Volailles (en milliers tonnes)  \\\n",
       "34  Chine, continentale                                        576.0   \n",
       "35  Chine, continentale                                        576.0   \n",
       "\n",
       "    Importations Volailles (en milliers tonnes)  \\\n",
       "34                                        452.0   \n",
       "35                                        452.0   \n",
       "\n",
       "    Nourritures (en milliers tonnes)  \\\n",
       "34                           17518.0   \n",
       "35                           17518.0   \n",
       "\n",
       "    Productions Volailles (en milliers tonnes)  \\\n",
       "34                                     18236.0   \n",
       "35                                     18236.0   \n",
       "\n",
       "    Population en 2017 (milliers de personnes)  Stabilité politique Code Zone  \n",
       "34                                 1421021.791                -0.23       CHN  \n",
       "35                                 1421021.791                -0.23       F41  "
      ]
     },
     "execution_count": 70,
     "metadata": {},
     "output_type": "execute_result"
    }
   ],
   "source": [
    "df[df['Zone'] == 'Chine, continentale']"
   ]
  },
  {
   "cell_type": "markdown",
   "metadata": {},
   "source": [
    "- Si l'on regarde la **Chine continentale**, on peut voir que le **code Zone** est bizarre, normalement le code Zone de la **Chine** est **CHN**.\n",
    "- On va donc garder **le Code Zone CHN**"
   ]
  },
  {
   "cell_type": "code",
   "execution_count": 71,
   "metadata": {},
   "outputs": [
    {
     "data": {
      "text/html": [
       "<div>\n",
       "<style scoped>\n",
       "    .dataframe tbody tr th:only-of-type {\n",
       "        vertical-align: middle;\n",
       "    }\n",
       "\n",
       "    .dataframe tbody tr th {\n",
       "        vertical-align: top;\n",
       "    }\n",
       "\n",
       "    .dataframe thead th {\n",
       "        text-align: right;\n",
       "    }\n",
       "</style>\n",
       "<table border=\"1\" class=\"dataframe\">\n",
       "  <thead>\n",
       "    <tr style=\"text-align: right;\">\n",
       "      <th></th>\n",
       "      <th>Zone</th>\n",
       "      <th>Exportations Volailles (en milliers tonnes)</th>\n",
       "      <th>Importations Volailles (en milliers tonnes)</th>\n",
       "      <th>Nourritures (en milliers tonnes)</th>\n",
       "      <th>Productions Volailles (en milliers tonnes)</th>\n",
       "      <th>Population en 2017 (milliers de personnes)</th>\n",
       "      <th>Stabilité politique</th>\n",
       "      <th>Code Zone</th>\n",
       "    </tr>\n",
       "  </thead>\n",
       "  <tbody>\n",
       "    <tr>\n",
       "      <th>34</th>\n",
       "      <td>Chine, continentale</td>\n",
       "      <td>576.0</td>\n",
       "      <td>452.0</td>\n",
       "      <td>17518.0</td>\n",
       "      <td>18236.0</td>\n",
       "      <td>1421021.791</td>\n",
       "      <td>-0.23</td>\n",
       "      <td>CHN</td>\n",
       "    </tr>\n",
       "  </tbody>\n",
       "</table>\n",
       "</div>"
      ],
      "text/plain": [
       "                   Zone  Exportations Volailles (en milliers tonnes)  \\\n",
       "34  Chine, continentale                                        576.0   \n",
       "\n",
       "    Importations Volailles (en milliers tonnes)  \\\n",
       "34                                        452.0   \n",
       "\n",
       "    Nourritures (en milliers tonnes)  \\\n",
       "34                           17518.0   \n",
       "\n",
       "    Productions Volailles (en milliers tonnes)  \\\n",
       "34                                     18236.0   \n",
       "\n",
       "    Population en 2017 (milliers de personnes)  Stabilité politique Code Zone  \n",
       "34                                 1421021.791                -0.23       CHN  "
      ]
     },
     "execution_count": 71,
     "metadata": {},
     "output_type": "execute_result"
    }
   ],
   "source": [
    "df= df.drop(df.index[35])\n",
    "df[df['Zone'] == 'Chine, continentale']"
   ]
  },
  {
   "cell_type": "code",
   "execution_count": 72,
   "metadata": {},
   "outputs": [
    {
     "data": {
      "text/plain": [
       "0"
      ]
     },
     "execution_count": 72,
     "metadata": {},
     "output_type": "execute_result"
    }
   ],
   "source": [
    "df['Zone'].duplicated().sum()"
   ]
  },
  {
   "cell_type": "markdown",
   "metadata": {},
   "source": [
    "## 3.4 - 'df' + 'Facilité buisness'"
   ]
  },
  {
   "cell_type": "code",
   "execution_count": 73,
   "metadata": {},
   "outputs": [
    {
     "data": {
      "text/html": [
       "<div>\n",
       "<style scoped>\n",
       "    .dataframe tbody tr th:only-of-type {\n",
       "        vertical-align: middle;\n",
       "    }\n",
       "\n",
       "    .dataframe tbody tr th {\n",
       "        vertical-align: top;\n",
       "    }\n",
       "\n",
       "    .dataframe thead th {\n",
       "        text-align: right;\n",
       "    }\n",
       "</style>\n",
       "<table border=\"1\" class=\"dataframe\">\n",
       "  <thead>\n",
       "    <tr style=\"text-align: right;\">\n",
       "      <th></th>\n",
       "      <th>Zone</th>\n",
       "      <th>Exportations Volailles (en milliers tonnes)</th>\n",
       "      <th>Importations Volailles (en milliers tonnes)</th>\n",
       "      <th>Nourritures (en milliers tonnes)</th>\n",
       "      <th>Productions Volailles (en milliers tonnes)</th>\n",
       "      <th>Population en 2017 (milliers de personnes)</th>\n",
       "      <th>Stabilité politique</th>\n",
       "      <th>Code Zone</th>\n",
       "      <th>Facilité du Business</th>\n",
       "    </tr>\n",
       "  </thead>\n",
       "  <tbody>\n",
       "    <tr>\n",
       "      <th>0</th>\n",
       "      <td>Afghanistan</td>\n",
       "      <td>0.0</td>\n",
       "      <td>29.0</td>\n",
       "      <td>55.0</td>\n",
       "      <td>28.0</td>\n",
       "      <td>36296.113</td>\n",
       "      <td>-2.80</td>\n",
       "      <td>AFG</td>\n",
       "      <td>38.9</td>\n",
       "    </tr>\n",
       "    <tr>\n",
       "      <th>1</th>\n",
       "      <td>Afrique du Sud</td>\n",
       "      <td>63.0</td>\n",
       "      <td>514.0</td>\n",
       "      <td>2035.0</td>\n",
       "      <td>1667.0</td>\n",
       "      <td>57009.756</td>\n",
       "      <td>-0.28</td>\n",
       "      <td>ZAF</td>\n",
       "      <td>65.4</td>\n",
       "    </tr>\n",
       "    <tr>\n",
       "      <th>2</th>\n",
       "      <td>Albanie</td>\n",
       "      <td>0.0</td>\n",
       "      <td>38.0</td>\n",
       "      <td>47.0</td>\n",
       "      <td>13.0</td>\n",
       "      <td>2884.169</td>\n",
       "      <td>0.38</td>\n",
       "      <td>ALB</td>\n",
       "      <td>64.2</td>\n",
       "    </tr>\n",
       "    <tr>\n",
       "      <th>3</th>\n",
       "      <td>Algérie</td>\n",
       "      <td>0.0</td>\n",
       "      <td>2.0</td>\n",
       "      <td>264.0</td>\n",
       "      <td>275.0</td>\n",
       "      <td>41389.189</td>\n",
       "      <td>-0.92</td>\n",
       "      <td>DZA</td>\n",
       "      <td>46.1</td>\n",
       "    </tr>\n",
       "    <tr>\n",
       "      <th>4</th>\n",
       "      <td>Allemagne</td>\n",
       "      <td>646.0</td>\n",
       "      <td>842.0</td>\n",
       "      <td>1609.0</td>\n",
       "      <td>1514.0</td>\n",
       "      <td>82658.409</td>\n",
       "      <td>0.59</td>\n",
       "      <td>DEU</td>\n",
       "      <td>79.6</td>\n",
       "    </tr>\n",
       "    <tr>\n",
       "      <th>...</th>\n",
       "      <td>...</td>\n",
       "      <td>...</td>\n",
       "      <td>...</td>\n",
       "      <td>...</td>\n",
       "      <td>...</td>\n",
       "      <td>...</td>\n",
       "      <td>...</td>\n",
       "      <td>...</td>\n",
       "      <td>...</td>\n",
       "    </tr>\n",
       "    <tr>\n",
       "      <th>167</th>\n",
       "      <td>Émirats arabes unis</td>\n",
       "      <td>94.0</td>\n",
       "      <td>433.0</td>\n",
       "      <td>412.0</td>\n",
       "      <td>48.0</td>\n",
       "      <td>9487.203</td>\n",
       "      <td>0.62</td>\n",
       "      <td>ARE</td>\n",
       "      <td>77.4</td>\n",
       "    </tr>\n",
       "    <tr>\n",
       "      <th>168</th>\n",
       "      <td>Équateur</td>\n",
       "      <td>0.0</td>\n",
       "      <td>0.0</td>\n",
       "      <td>324.0</td>\n",
       "      <td>340.0</td>\n",
       "      <td>16785.361</td>\n",
       "      <td>-0.07</td>\n",
       "      <td>ECU</td>\n",
       "      <td>57.5</td>\n",
       "    </tr>\n",
       "    <tr>\n",
       "      <th>169</th>\n",
       "      <td>États-Unis d'Amérique</td>\n",
       "      <td>3692.0</td>\n",
       "      <td>123.0</td>\n",
       "      <td>18100.0</td>\n",
       "      <td>21914.0</td>\n",
       "      <td>325084.756</td>\n",
       "      <td>0.29</td>\n",
       "      <td>USA</td>\n",
       "      <td>83.6</td>\n",
       "    </tr>\n",
       "    <tr>\n",
       "      <th>170</th>\n",
       "      <td>Éthiopie</td>\n",
       "      <td>0.0</td>\n",
       "      <td>1.0</td>\n",
       "      <td>14.0</td>\n",
       "      <td>14.0</td>\n",
       "      <td>106399.924</td>\n",
       "      <td>-1.68</td>\n",
       "      <td>ETH</td>\n",
       "      <td>44.1</td>\n",
       "    </tr>\n",
       "    <tr>\n",
       "      <th>171</th>\n",
       "      <td>Îles Salomon</td>\n",
       "      <td>0.0</td>\n",
       "      <td>6.0</td>\n",
       "      <td>3.0</td>\n",
       "      <td>0.0</td>\n",
       "      <td>636.039</td>\n",
       "      <td>0.20</td>\n",
       "      <td>SLB</td>\n",
       "      <td>55.1</td>\n",
       "    </tr>\n",
       "  </tbody>\n",
       "</table>\n",
       "<p>172 rows × 9 columns</p>\n",
       "</div>"
      ],
      "text/plain": [
       "                      Zone  Exportations Volailles (en milliers tonnes)  \\\n",
       "0              Afghanistan                                          0.0   \n",
       "1           Afrique du Sud                                         63.0   \n",
       "2                  Albanie                                          0.0   \n",
       "3                  Algérie                                          0.0   \n",
       "4                Allemagne                                        646.0   \n",
       "..                     ...                                          ...   \n",
       "167    Émirats arabes unis                                         94.0   \n",
       "168               Équateur                                          0.0   \n",
       "169  États-Unis d'Amérique                                       3692.0   \n",
       "170               Éthiopie                                          0.0   \n",
       "171           Îles Salomon                                          0.0   \n",
       "\n",
       "     Importations Volailles (en milliers tonnes)  \\\n",
       "0                                           29.0   \n",
       "1                                          514.0   \n",
       "2                                           38.0   \n",
       "3                                            2.0   \n",
       "4                                          842.0   \n",
       "..                                           ...   \n",
       "167                                        433.0   \n",
       "168                                          0.0   \n",
       "169                                        123.0   \n",
       "170                                          1.0   \n",
       "171                                          6.0   \n",
       "\n",
       "     Nourritures (en milliers tonnes)  \\\n",
       "0                                55.0   \n",
       "1                              2035.0   \n",
       "2                                47.0   \n",
       "3                               264.0   \n",
       "4                              1609.0   \n",
       "..                                ...   \n",
       "167                             412.0   \n",
       "168                             324.0   \n",
       "169                           18100.0   \n",
       "170                              14.0   \n",
       "171                               3.0   \n",
       "\n",
       "     Productions Volailles (en milliers tonnes)  \\\n",
       "0                                          28.0   \n",
       "1                                        1667.0   \n",
       "2                                          13.0   \n",
       "3                                         275.0   \n",
       "4                                        1514.0   \n",
       "..                                          ...   \n",
       "167                                        48.0   \n",
       "168                                       340.0   \n",
       "169                                     21914.0   \n",
       "170                                        14.0   \n",
       "171                                         0.0   \n",
       "\n",
       "     Population en 2017 (milliers de personnes)  Stabilité politique  \\\n",
       "0                                     36296.113                -2.80   \n",
       "1                                     57009.756                -0.28   \n",
       "2                                      2884.169                 0.38   \n",
       "3                                     41389.189                -0.92   \n",
       "4                                     82658.409                 0.59   \n",
       "..                                          ...                  ...   \n",
       "167                                    9487.203                 0.62   \n",
       "168                                   16785.361                -0.07   \n",
       "169                                  325084.756                 0.29   \n",
       "170                                  106399.924                -1.68   \n",
       "171                                     636.039                 0.20   \n",
       "\n",
       "    Code Zone  Facilité du Business  \n",
       "0         AFG                  38.9  \n",
       "1         ZAF                  65.4  \n",
       "2         ALB                  64.2  \n",
       "3         DZA                  46.1  \n",
       "4         DEU                  79.6  \n",
       "..        ...                   ...  \n",
       "167       ARE                  77.4  \n",
       "168       ECU                  57.5  \n",
       "169       USA                  83.6  \n",
       "170       ETH                  44.1  \n",
       "171       SLB                  55.1  \n",
       "\n",
       "[172 rows x 9 columns]"
      ]
     },
     "execution_count": 73,
     "metadata": {},
     "output_type": "execute_result"
    }
   ],
   "source": [
    "df = df.merge(doing_business, how='left', on= 'Code Zone')\n",
    "df"
   ]
  },
  {
   "cell_type": "markdown",
   "metadata": {},
   "source": [
    "- On vérifie s'il y a des valeurs **NAN** dans notre jeu de données."
   ]
  },
  {
   "cell_type": "code",
   "execution_count": 74,
   "metadata": {},
   "outputs": [
    {
     "data": {
      "text/html": [
       "<div>\n",
       "<style scoped>\n",
       "    .dataframe tbody tr th:only-of-type {\n",
       "        vertical-align: middle;\n",
       "    }\n",
       "\n",
       "    .dataframe tbody tr th {\n",
       "        vertical-align: top;\n",
       "    }\n",
       "\n",
       "    .dataframe thead th {\n",
       "        text-align: right;\n",
       "    }\n",
       "</style>\n",
       "<table border=\"1\" class=\"dataframe\">\n",
       "  <thead>\n",
       "    <tr style=\"text-align: right;\">\n",
       "      <th></th>\n",
       "      <th>Zone</th>\n",
       "      <th>Exportations Volailles (en milliers tonnes)</th>\n",
       "      <th>Importations Volailles (en milliers tonnes)</th>\n",
       "      <th>Nourritures (en milliers tonnes)</th>\n",
       "      <th>Productions Volailles (en milliers tonnes)</th>\n",
       "      <th>Population en 2017 (milliers de personnes)</th>\n",
       "      <th>Stabilité politique</th>\n",
       "      <th>Code Zone</th>\n",
       "      <th>Facilité du Business</th>\n",
       "    </tr>\n",
       "  </thead>\n",
       "  <tbody>\n",
       "    <tr>\n",
       "      <th>32</th>\n",
       "      <td>Chine - RAS de Macao</td>\n",
       "      <td>0.0</td>\n",
       "      <td>23.0</td>\n",
       "      <td>21.0</td>\n",
       "      <td>3.0</td>\n",
       "      <td>622.585</td>\n",
       "      <td>1.43</td>\n",
       "      <td>MAC</td>\n",
       "      <td>NaN</td>\n",
       "    </tr>\n",
       "    <tr>\n",
       "      <th>40</th>\n",
       "      <td>Cuba</td>\n",
       "      <td>0.0</td>\n",
       "      <td>312.0</td>\n",
       "      <td>269.0</td>\n",
       "      <td>29.0</td>\n",
       "      <td>11339.254</td>\n",
       "      <td>0.65</td>\n",
       "      <td>CUB</td>\n",
       "      <td>NaN</td>\n",
       "    </tr>\n",
       "    <tr>\n",
       "      <th>108</th>\n",
       "      <td>Nouvelle-Calédonie</td>\n",
       "      <td>0.0</td>\n",
       "      <td>9.0</td>\n",
       "      <td>11.0</td>\n",
       "      <td>1.0</td>\n",
       "      <td>277.150</td>\n",
       "      <td>0.28</td>\n",
       "      <td>NCL</td>\n",
       "      <td>NaN</td>\n",
       "    </tr>\n",
       "    <tr>\n",
       "      <th>120</th>\n",
       "      <td>Polynésie française</td>\n",
       "      <td>0.0</td>\n",
       "      <td>15.0</td>\n",
       "      <td>13.0</td>\n",
       "      <td>1.0</td>\n",
       "      <td>276.102</td>\n",
       "      <td>0.28</td>\n",
       "      <td>PYF</td>\n",
       "      <td>NaN</td>\n",
       "    </tr>\n",
       "    <tr>\n",
       "      <th>131</th>\n",
       "      <td>République populaire démocratique de Corée</td>\n",
       "      <td>0.0</td>\n",
       "      <td>0.0</td>\n",
       "      <td>41.0</td>\n",
       "      <td>43.0</td>\n",
       "      <td>25429.825</td>\n",
       "      <td>-0.50</td>\n",
       "      <td>PRK</td>\n",
       "      <td>NaN</td>\n",
       "    </tr>\n",
       "    <tr>\n",
       "      <th>156</th>\n",
       "      <td>Turkménistan</td>\n",
       "      <td>0.0</td>\n",
       "      <td>9.0</td>\n",
       "      <td>26.0</td>\n",
       "      <td>20.0</td>\n",
       "      <td>5757.667</td>\n",
       "      <td>-0.13</td>\n",
       "      <td>TKM</td>\n",
       "      <td>NaN</td>\n",
       "    </tr>\n",
       "  </tbody>\n",
       "</table>\n",
       "</div>"
      ],
      "text/plain": [
       "                                           Zone  \\\n",
       "32                         Chine - RAS de Macao   \n",
       "40                                         Cuba   \n",
       "108                          Nouvelle-Calédonie   \n",
       "120                         Polynésie française   \n",
       "131  République populaire démocratique de Corée   \n",
       "156                                Turkménistan   \n",
       "\n",
       "     Exportations Volailles (en milliers tonnes)  \\\n",
       "32                                           0.0   \n",
       "40                                           0.0   \n",
       "108                                          0.0   \n",
       "120                                          0.0   \n",
       "131                                          0.0   \n",
       "156                                          0.0   \n",
       "\n",
       "     Importations Volailles (en milliers tonnes)  \\\n",
       "32                                          23.0   \n",
       "40                                         312.0   \n",
       "108                                          9.0   \n",
       "120                                         15.0   \n",
       "131                                          0.0   \n",
       "156                                          9.0   \n",
       "\n",
       "     Nourritures (en milliers tonnes)  \\\n",
       "32                               21.0   \n",
       "40                              269.0   \n",
       "108                              11.0   \n",
       "120                              13.0   \n",
       "131                              41.0   \n",
       "156                              26.0   \n",
       "\n",
       "     Productions Volailles (en milliers tonnes)  \\\n",
       "32                                          3.0   \n",
       "40                                         29.0   \n",
       "108                                         1.0   \n",
       "120                                         1.0   \n",
       "131                                        43.0   \n",
       "156                                        20.0   \n",
       "\n",
       "     Population en 2017 (milliers de personnes)  Stabilité politique  \\\n",
       "32                                      622.585                 1.43   \n",
       "40                                    11339.254                 0.65   \n",
       "108                                     277.150                 0.28   \n",
       "120                                     276.102                 0.28   \n",
       "131                                   25429.825                -0.50   \n",
       "156                                    5757.667                -0.13   \n",
       "\n",
       "    Code Zone  Facilité du Business  \n",
       "32        MAC                   NaN  \n",
       "40        CUB                   NaN  \n",
       "108       NCL                   NaN  \n",
       "120       PYF                   NaN  \n",
       "131       PRK                   NaN  \n",
       "156       TKM                   NaN  "
      ]
     },
     "execution_count": 74,
     "metadata": {},
     "output_type": "execute_result"
    }
   ],
   "source": [
    "df[df['Facilité du Business'].isna()]"
   ]
  },
  {
   "cell_type": "markdown",
   "metadata": {},
   "source": [
    "- Pour la **Nouvelle-Calédonie et la Polynésie française**, on va faire comme on a fait aupparavant on va récupérer la valeur de la **France**"
   ]
  },
  {
   "cell_type": "code",
   "execution_count": 75,
   "metadata": {},
   "outputs": [
    {
     "data": {
      "text/plain": [
       "51    76.3\n",
       "Name: Facilité du Business, dtype: float64"
      ]
     },
     "execution_count": 75,
     "metadata": {},
     "output_type": "execute_result"
    }
   ],
   "source": [
    "# Valeur de la stabilité politique de la France\n",
    "df[df[\"Zone\"]==\"France\"]['Facilité du Business']"
   ]
  },
  {
   "cell_type": "code",
   "execution_count": 76,
   "metadata": {},
   "outputs": [
    {
     "data": {
      "text/html": [
       "<div>\n",
       "<style scoped>\n",
       "    .dataframe tbody tr th:only-of-type {\n",
       "        vertical-align: middle;\n",
       "    }\n",
       "\n",
       "    .dataframe tbody tr th {\n",
       "        vertical-align: top;\n",
       "    }\n",
       "\n",
       "    .dataframe thead th {\n",
       "        text-align: right;\n",
       "    }\n",
       "</style>\n",
       "<table border=\"1\" class=\"dataframe\">\n",
       "  <thead>\n",
       "    <tr style=\"text-align: right;\">\n",
       "      <th></th>\n",
       "      <th>Zone</th>\n",
       "      <th>Exportations Volailles (en milliers tonnes)</th>\n",
       "      <th>Importations Volailles (en milliers tonnes)</th>\n",
       "      <th>Nourritures (en milliers tonnes)</th>\n",
       "      <th>Productions Volailles (en milliers tonnes)</th>\n",
       "      <th>Population en 2017 (milliers de personnes)</th>\n",
       "      <th>Stabilité politique</th>\n",
       "      <th>Code Zone</th>\n",
       "      <th>Facilité du Business</th>\n",
       "    </tr>\n",
       "  </thead>\n",
       "  <tbody>\n",
       "    <tr>\n",
       "      <th>108</th>\n",
       "      <td>Nouvelle-Calédonie</td>\n",
       "      <td>0.0</td>\n",
       "      <td>9.0</td>\n",
       "      <td>11.0</td>\n",
       "      <td>1.0</td>\n",
       "      <td>277.150</td>\n",
       "      <td>0.28</td>\n",
       "      <td>NCL</td>\n",
       "      <td>76.3</td>\n",
       "    </tr>\n",
       "    <tr>\n",
       "      <th>120</th>\n",
       "      <td>Polynésie française</td>\n",
       "      <td>0.0</td>\n",
       "      <td>15.0</td>\n",
       "      <td>13.0</td>\n",
       "      <td>1.0</td>\n",
       "      <td>276.102</td>\n",
       "      <td>0.28</td>\n",
       "      <td>PYF</td>\n",
       "      <td>76.3</td>\n",
       "    </tr>\n",
       "  </tbody>\n",
       "</table>\n",
       "</div>"
      ],
      "text/plain": [
       "                    Zone  Exportations Volailles (en milliers tonnes)  \\\n",
       "108   Nouvelle-Calédonie                                          0.0   \n",
       "120  Polynésie française                                          0.0   \n",
       "\n",
       "     Importations Volailles (en milliers tonnes)  \\\n",
       "108                                          9.0   \n",
       "120                                         15.0   \n",
       "\n",
       "     Nourritures (en milliers tonnes)  \\\n",
       "108                              11.0   \n",
       "120                              13.0   \n",
       "\n",
       "     Productions Volailles (en milliers tonnes)  \\\n",
       "108                                         1.0   \n",
       "120                                         1.0   \n",
       "\n",
       "     Population en 2017 (milliers de personnes)  Stabilité politique  \\\n",
       "108                                     277.150                 0.28   \n",
       "120                                     276.102                 0.28   \n",
       "\n",
       "    Code Zone  Facilité du Business  \n",
       "108       NCL                  76.3  \n",
       "120       PYF                  76.3  "
      ]
     },
     "execution_count": 76,
     "metadata": {},
     "output_type": "execute_result"
    }
   ],
   "source": [
    "df.loc[df[\"Zone\"]==\"Nouvelle-Calédonie\", 'Facilité du Business']= np.unique(df[(df['Zone']==\"France\" )]['Facilité du Business'])\n",
    "df.loc[df[\"Zone\"]==\"Polynésie française\", 'Facilité du Business']= np.unique(df[(df['Zone']==\"France\" )]['Facilité du Business'])\n",
    "df[df[\"Zone\"].isin([\"Nouvelle-Calédonie\",\"Polynésie française\"])]"
   ]
  },
  {
   "cell_type": "markdown",
   "metadata": {},
   "source": [
    "- Il reste le cas de la `Corée-du-nord` où je pense que la facilité du business est **difficile** à cause des problèmes politiques."
   ]
  },
  {
   "cell_type": "code",
   "execution_count": 77,
   "metadata": {},
   "outputs": [
    {
     "data": {
      "text/html": [
       "<div>\n",
       "<style scoped>\n",
       "    .dataframe tbody tr th:only-of-type {\n",
       "        vertical-align: middle;\n",
       "    }\n",
       "\n",
       "    .dataframe tbody tr th {\n",
       "        vertical-align: top;\n",
       "    }\n",
       "\n",
       "    .dataframe thead th {\n",
       "        text-align: right;\n",
       "    }\n",
       "</style>\n",
       "<table border=\"1\" class=\"dataframe\">\n",
       "  <thead>\n",
       "    <tr style=\"text-align: right;\">\n",
       "      <th></th>\n",
       "      <th>Zone</th>\n",
       "      <th>Exportations Volailles (en milliers tonnes)</th>\n",
       "      <th>Importations Volailles (en milliers tonnes)</th>\n",
       "      <th>Nourritures (en milliers tonnes)</th>\n",
       "      <th>Productions Volailles (en milliers tonnes)</th>\n",
       "      <th>Population en 2017 (milliers de personnes)</th>\n",
       "      <th>Stabilité politique</th>\n",
       "      <th>Code Zone</th>\n",
       "      <th>Facilité du Business</th>\n",
       "    </tr>\n",
       "  </thead>\n",
       "  <tbody>\n",
       "  </tbody>\n",
       "</table>\n",
       "</div>"
      ],
      "text/plain": [
       "Empty DataFrame\n",
       "Columns: [Zone, Exportations Volailles (en milliers tonnes), Importations Volailles (en milliers tonnes), Nourritures (en milliers tonnes), Productions Volailles (en milliers tonnes), Population en 2017 (milliers de personnes), Stabilité politique, Code Zone, Facilité du Business]\n",
       "Index: []"
      ]
     },
     "execution_count": 77,
     "metadata": {},
     "output_type": "execute_result"
    }
   ],
   "source": [
    "df= df.drop(df.index[131])\n",
    "df[df['Zone'] == 'République populaire démocratique de Corée']"
   ]
  },
  {
   "cell_type": "markdown",
   "metadata": {},
   "source": [
    "- Il nous reste **3 pays** à traiter : **Macao, Cuba, et le Turkménistan** qui n'ont pas de valeurs **facilité buisness** \n",
    "- La solution qui me reste et de calculer **la valeur moyenne** de notre jeu de données afin de l'imputer pour ces **3 pays** ."
   ]
  },
  {
   "cell_type": "code",
   "execution_count": 78,
   "metadata": {},
   "outputs": [
    {
     "data": {
      "text/html": [
       "<div>\n",
       "<style scoped>\n",
       "    .dataframe tbody tr th:only-of-type {\n",
       "        vertical-align: middle;\n",
       "    }\n",
       "\n",
       "    .dataframe tbody tr th {\n",
       "        vertical-align: top;\n",
       "    }\n",
       "\n",
       "    .dataframe thead th {\n",
       "        text-align: right;\n",
       "    }\n",
       "</style>\n",
       "<table border=\"1\" class=\"dataframe\">\n",
       "  <thead>\n",
       "    <tr style=\"text-align: right;\">\n",
       "      <th></th>\n",
       "      <th>Zone</th>\n",
       "      <th>Exportations Volailles (en milliers tonnes)</th>\n",
       "      <th>Importations Volailles (en milliers tonnes)</th>\n",
       "      <th>Nourritures (en milliers tonnes)</th>\n",
       "      <th>Productions Volailles (en milliers tonnes)</th>\n",
       "      <th>Population en 2017 (milliers de personnes)</th>\n",
       "      <th>Stabilité politique</th>\n",
       "      <th>Code Zone</th>\n",
       "      <th>Facilité du Business</th>\n",
       "    </tr>\n",
       "  </thead>\n",
       "  <tbody>\n",
       "    <tr>\n",
       "      <th>32</th>\n",
       "      <td>Chine - RAS de Macao</td>\n",
       "      <td>0.0</td>\n",
       "      <td>23.0</td>\n",
       "      <td>21.0</td>\n",
       "      <td>3.0</td>\n",
       "      <td>622.585</td>\n",
       "      <td>1.43</td>\n",
       "      <td>MAC</td>\n",
       "      <td>60.51</td>\n",
       "    </tr>\n",
       "    <tr>\n",
       "      <th>40</th>\n",
       "      <td>Cuba</td>\n",
       "      <td>0.0</td>\n",
       "      <td>312.0</td>\n",
       "      <td>269.0</td>\n",
       "      <td>29.0</td>\n",
       "      <td>11339.254</td>\n",
       "      <td>0.65</td>\n",
       "      <td>CUB</td>\n",
       "      <td>60.51</td>\n",
       "    </tr>\n",
       "    <tr>\n",
       "      <th>156</th>\n",
       "      <td>Turkménistan</td>\n",
       "      <td>0.0</td>\n",
       "      <td>9.0</td>\n",
       "      <td>26.0</td>\n",
       "      <td>20.0</td>\n",
       "      <td>5757.667</td>\n",
       "      <td>-0.13</td>\n",
       "      <td>TKM</td>\n",
       "      <td>60.51</td>\n",
       "    </tr>\n",
       "  </tbody>\n",
       "</table>\n",
       "</div>"
      ],
      "text/plain": [
       "                     Zone  Exportations Volailles (en milliers tonnes)  \\\n",
       "32   Chine - RAS de Macao                                          0.0   \n",
       "40                   Cuba                                          0.0   \n",
       "156          Turkménistan                                          0.0   \n",
       "\n",
       "     Importations Volailles (en milliers tonnes)  \\\n",
       "32                                          23.0   \n",
       "40                                         312.0   \n",
       "156                                          9.0   \n",
       "\n",
       "     Nourritures (en milliers tonnes)  \\\n",
       "32                               21.0   \n",
       "40                              269.0   \n",
       "156                              26.0   \n",
       "\n",
       "     Productions Volailles (en milliers tonnes)  \\\n",
       "32                                          3.0   \n",
       "40                                         29.0   \n",
       "156                                        20.0   \n",
       "\n",
       "     Population en 2017 (milliers de personnes)  Stabilité politique  \\\n",
       "32                                      622.585                 1.43   \n",
       "40                                    11339.254                 0.65   \n",
       "156                                    5757.667                -0.13   \n",
       "\n",
       "    Code Zone  Facilité du Business  \n",
       "32        MAC                 60.51  \n",
       "40        CUB                 60.51  \n",
       "156       TKM                 60.51  "
      ]
     },
     "execution_count": 78,
     "metadata": {},
     "output_type": "execute_result"
    }
   ],
   "source": [
    "df.loc[df[\"Zone\"]==\"Chine - RAS de Macao\", 'Facilité du Business']=round(np.mean(doing_business['Facilité du Business']), 2)\n",
    "df.loc[df[\"Zone\"]==\"Cuba\", 'Facilité du Business']=round(np.mean(doing_business['Facilité du Business']), 2)\n",
    "df.loc[df[\"Zone\"]==\"Turkménistan\", 'Facilité du Business']=round(np.mean(doing_business['Facilité du Business']), 2)\n",
    "df.loc[df[\"Zone\"].isin(['Turkménistan', 'Cuba', 'Chine - RAS de Macao'])]"
   ]
  },
  {
   "cell_type": "code",
   "execution_count": 79,
   "metadata": {},
   "outputs": [
    {
     "data": {
      "text/html": [
       "<div>\n",
       "<style scoped>\n",
       "    .dataframe tbody tr th:only-of-type {\n",
       "        vertical-align: middle;\n",
       "    }\n",
       "\n",
       "    .dataframe tbody tr th {\n",
       "        vertical-align: top;\n",
       "    }\n",
       "\n",
       "    .dataframe thead th {\n",
       "        text-align: right;\n",
       "    }\n",
       "</style>\n",
       "<table border=\"1\" class=\"dataframe\">\n",
       "  <thead>\n",
       "    <tr style=\"text-align: right;\">\n",
       "      <th></th>\n",
       "      <th>Zone</th>\n",
       "      <th>Exportations Volailles (en milliers tonnes)</th>\n",
       "      <th>Importations Volailles (en milliers tonnes)</th>\n",
       "      <th>Nourritures (en milliers tonnes)</th>\n",
       "      <th>Productions Volailles (en milliers tonnes)</th>\n",
       "      <th>Population en 2017 (milliers de personnes)</th>\n",
       "      <th>Stabilité politique</th>\n",
       "      <th>Code Zone</th>\n",
       "      <th>Facilité du Business</th>\n",
       "    </tr>\n",
       "  </thead>\n",
       "  <tbody>\n",
       "  </tbody>\n",
       "</table>\n",
       "</div>"
      ],
      "text/plain": [
       "Empty DataFrame\n",
       "Columns: [Zone, Exportations Volailles (en milliers tonnes), Importations Volailles (en milliers tonnes), Nourritures (en milliers tonnes), Productions Volailles (en milliers tonnes), Population en 2017 (milliers de personnes), Stabilité politique, Code Zone, Facilité du Business]\n",
       "Index: []"
      ]
     },
     "execution_count": 79,
     "metadata": {},
     "output_type": "execute_result"
    }
   ],
   "source": [
    "# On revérifie s'il y a encore des valeurs NAN\n",
    "df[df['Facilité du Business'].isna()]"
   ]
  },
  {
   "cell_type": "markdown",
   "metadata": {},
   "source": [
    "- Maintenant on peut continuer a construire notre dataframe final"
   ]
  },
  {
   "cell_type": "markdown",
   "metadata": {},
   "source": [
    "## 3.5 - 'df' + 'Distance'"
   ]
  },
  {
   "cell_type": "code",
   "execution_count": 80,
   "metadata": {},
   "outputs": [
    {
     "data": {
      "text/html": [
       "<div>\n",
       "<style scoped>\n",
       "    .dataframe tbody tr th:only-of-type {\n",
       "        vertical-align: middle;\n",
       "    }\n",
       "\n",
       "    .dataframe tbody tr th {\n",
       "        vertical-align: top;\n",
       "    }\n",
       "\n",
       "    .dataframe thead th {\n",
       "        text-align: right;\n",
       "    }\n",
       "</style>\n",
       "<table border=\"1\" class=\"dataframe\">\n",
       "  <thead>\n",
       "    <tr style=\"text-align: right;\">\n",
       "      <th></th>\n",
       "      <th>Zone</th>\n",
       "      <th>Exportations Volailles (en milliers tonnes)</th>\n",
       "      <th>Importations Volailles (en milliers tonnes)</th>\n",
       "      <th>Nourritures (en milliers tonnes)</th>\n",
       "      <th>Productions Volailles (en milliers tonnes)</th>\n",
       "      <th>Population en 2017 (milliers de personnes)</th>\n",
       "      <th>Stabilité politique</th>\n",
       "      <th>Code Zone</th>\n",
       "      <th>Facilité du Business</th>\n",
       "      <th>Distance</th>\n",
       "      <th>_merge</th>\n",
       "    </tr>\n",
       "  </thead>\n",
       "  <tbody>\n",
       "    <tr>\n",
       "      <th>0</th>\n",
       "      <td>Afghanistan</td>\n",
       "      <td>0.0</td>\n",
       "      <td>29.0</td>\n",
       "      <td>55.0</td>\n",
       "      <td>28.0</td>\n",
       "      <td>36296.113</td>\n",
       "      <td>-2.80</td>\n",
       "      <td>AFG</td>\n",
       "      <td>38.9</td>\n",
       "      <td>5590.3810</td>\n",
       "      <td>both</td>\n",
       "    </tr>\n",
       "    <tr>\n",
       "      <th>1</th>\n",
       "      <td>Afrique du Sud</td>\n",
       "      <td>63.0</td>\n",
       "      <td>514.0</td>\n",
       "      <td>2035.0</td>\n",
       "      <td>1667.0</td>\n",
       "      <td>57009.756</td>\n",
       "      <td>-0.28</td>\n",
       "      <td>ZAF</td>\n",
       "      <td>65.4</td>\n",
       "      <td>9353.5520</td>\n",
       "      <td>both</td>\n",
       "    </tr>\n",
       "    <tr>\n",
       "      <th>2</th>\n",
       "      <td>Albanie</td>\n",
       "      <td>0.0</td>\n",
       "      <td>38.0</td>\n",
       "      <td>47.0</td>\n",
       "      <td>13.0</td>\n",
       "      <td>2884.169</td>\n",
       "      <td>0.38</td>\n",
       "      <td>ALB</td>\n",
       "      <td>64.2</td>\n",
       "      <td>1603.5340</td>\n",
       "      <td>both</td>\n",
       "    </tr>\n",
       "    <tr>\n",
       "      <th>3</th>\n",
       "      <td>Algérie</td>\n",
       "      <td>0.0</td>\n",
       "      <td>2.0</td>\n",
       "      <td>264.0</td>\n",
       "      <td>275.0</td>\n",
       "      <td>41389.189</td>\n",
       "      <td>-0.92</td>\n",
       "      <td>DZA</td>\n",
       "      <td>46.1</td>\n",
       "      <td>1340.3900</td>\n",
       "      <td>both</td>\n",
       "    </tr>\n",
       "    <tr>\n",
       "      <th>4</th>\n",
       "      <td>Allemagne</td>\n",
       "      <td>646.0</td>\n",
       "      <td>842.0</td>\n",
       "      <td>1609.0</td>\n",
       "      <td>1514.0</td>\n",
       "      <td>82658.409</td>\n",
       "      <td>0.59</td>\n",
       "      <td>DEU</td>\n",
       "      <td>79.6</td>\n",
       "      <td>439.8984</td>\n",
       "      <td>both</td>\n",
       "    </tr>\n",
       "    <tr>\n",
       "      <th>...</th>\n",
       "      <td>...</td>\n",
       "      <td>...</td>\n",
       "      <td>...</td>\n",
       "      <td>...</td>\n",
       "      <td>...</td>\n",
       "      <td>...</td>\n",
       "      <td>...</td>\n",
       "      <td>...</td>\n",
       "      <td>...</td>\n",
       "      <td>...</td>\n",
       "      <td>...</td>\n",
       "    </tr>\n",
       "    <tr>\n",
       "      <th>166</th>\n",
       "      <td>Émirats arabes unis</td>\n",
       "      <td>94.0</td>\n",
       "      <td>433.0</td>\n",
       "      <td>412.0</td>\n",
       "      <td>48.0</td>\n",
       "      <td>9487.203</td>\n",
       "      <td>0.62</td>\n",
       "      <td>ARE</td>\n",
       "      <td>77.4</td>\n",
       "      <td>5249.5350</td>\n",
       "      <td>both</td>\n",
       "    </tr>\n",
       "    <tr>\n",
       "      <th>167</th>\n",
       "      <td>Équateur</td>\n",
       "      <td>0.0</td>\n",
       "      <td>0.0</td>\n",
       "      <td>324.0</td>\n",
       "      <td>340.0</td>\n",
       "      <td>16785.361</td>\n",
       "      <td>-0.07</td>\n",
       "      <td>ECU</td>\n",
       "      <td>57.5</td>\n",
       "      <td>9367.0980</td>\n",
       "      <td>both</td>\n",
       "    </tr>\n",
       "    <tr>\n",
       "      <th>168</th>\n",
       "      <td>États-Unis d'Amérique</td>\n",
       "      <td>3692.0</td>\n",
       "      <td>123.0</td>\n",
       "      <td>18100.0</td>\n",
       "      <td>21914.0</td>\n",
       "      <td>325084.756</td>\n",
       "      <td>0.29</td>\n",
       "      <td>USA</td>\n",
       "      <td>83.6</td>\n",
       "      <td>5838.1570</td>\n",
       "      <td>both</td>\n",
       "    </tr>\n",
       "    <tr>\n",
       "      <th>169</th>\n",
       "      <td>Éthiopie</td>\n",
       "      <td>0.0</td>\n",
       "      <td>1.0</td>\n",
       "      <td>14.0</td>\n",
       "      <td>14.0</td>\n",
       "      <td>106399.924</td>\n",
       "      <td>-1.68</td>\n",
       "      <td>ETH</td>\n",
       "      <td>44.1</td>\n",
       "      <td>5582.5020</td>\n",
       "      <td>both</td>\n",
       "    </tr>\n",
       "    <tr>\n",
       "      <th>170</th>\n",
       "      <td>Îles Salomon</td>\n",
       "      <td>0.0</td>\n",
       "      <td>6.0</td>\n",
       "      <td>3.0</td>\n",
       "      <td>0.0</td>\n",
       "      <td>636.039</td>\n",
       "      <td>0.20</td>\n",
       "      <td>SLB</td>\n",
       "      <td>55.1</td>\n",
       "      <td>15178.2000</td>\n",
       "      <td>both</td>\n",
       "    </tr>\n",
       "  </tbody>\n",
       "</table>\n",
       "<p>171 rows × 11 columns</p>\n",
       "</div>"
      ],
      "text/plain": [
       "                      Zone  Exportations Volailles (en milliers tonnes)  \\\n",
       "0              Afghanistan                                          0.0   \n",
       "1           Afrique du Sud                                         63.0   \n",
       "2                  Albanie                                          0.0   \n",
       "3                  Algérie                                          0.0   \n",
       "4                Allemagne                                        646.0   \n",
       "..                     ...                                          ...   \n",
       "166    Émirats arabes unis                                         94.0   \n",
       "167               Équateur                                          0.0   \n",
       "168  États-Unis d'Amérique                                       3692.0   \n",
       "169               Éthiopie                                          0.0   \n",
       "170           Îles Salomon                                          0.0   \n",
       "\n",
       "     Importations Volailles (en milliers tonnes)  \\\n",
       "0                                           29.0   \n",
       "1                                          514.0   \n",
       "2                                           38.0   \n",
       "3                                            2.0   \n",
       "4                                          842.0   \n",
       "..                                           ...   \n",
       "166                                        433.0   \n",
       "167                                          0.0   \n",
       "168                                        123.0   \n",
       "169                                          1.0   \n",
       "170                                          6.0   \n",
       "\n",
       "     Nourritures (en milliers tonnes)  \\\n",
       "0                                55.0   \n",
       "1                              2035.0   \n",
       "2                                47.0   \n",
       "3                               264.0   \n",
       "4                              1609.0   \n",
       "..                                ...   \n",
       "166                             412.0   \n",
       "167                             324.0   \n",
       "168                           18100.0   \n",
       "169                              14.0   \n",
       "170                               3.0   \n",
       "\n",
       "     Productions Volailles (en milliers tonnes)  \\\n",
       "0                                          28.0   \n",
       "1                                        1667.0   \n",
       "2                                          13.0   \n",
       "3                                         275.0   \n",
       "4                                        1514.0   \n",
       "..                                          ...   \n",
       "166                                        48.0   \n",
       "167                                       340.0   \n",
       "168                                     21914.0   \n",
       "169                                        14.0   \n",
       "170                                         0.0   \n",
       "\n",
       "     Population en 2017 (milliers de personnes)  Stabilité politique  \\\n",
       "0                                     36296.113                -2.80   \n",
       "1                                     57009.756                -0.28   \n",
       "2                                      2884.169                 0.38   \n",
       "3                                     41389.189                -0.92   \n",
       "4                                     82658.409                 0.59   \n",
       "..                                          ...                  ...   \n",
       "166                                    9487.203                 0.62   \n",
       "167                                   16785.361                -0.07   \n",
       "168                                  325084.756                 0.29   \n",
       "169                                  106399.924                -1.68   \n",
       "170                                     636.039                 0.20   \n",
       "\n",
       "    Code Zone  Facilité du Business    Distance _merge  \n",
       "0         AFG                  38.9   5590.3810   both  \n",
       "1         ZAF                  65.4   9353.5520   both  \n",
       "2         ALB                  64.2   1603.5340   both  \n",
       "3         DZA                  46.1   1340.3900   both  \n",
       "4         DEU                  79.6    439.8984   both  \n",
       "..        ...                   ...         ...    ...  \n",
       "166       ARE                  77.4   5249.5350   both  \n",
       "167       ECU                  57.5   9367.0980   both  \n",
       "168       USA                  83.6   5838.1570   both  \n",
       "169       ETH                  44.1   5582.5020   both  \n",
       "170       SLB                  55.1  15178.2000   both  \n",
       "\n",
       "[171 rows x 11 columns]"
      ]
     },
     "execution_count": 80,
     "metadata": {},
     "output_type": "execute_result"
    }
   ],
   "source": [
    "df_final = df.merge(distance, how='left', on= 'Code Zone', indicator=True)\n",
    "df_final"
   ]
  },
  {
   "cell_type": "markdown",
   "metadata": {},
   "source": [
    "- On regarde s'il y a des valeurs **NAN**"
   ]
  },
  {
   "cell_type": "code",
   "execution_count": 81,
   "metadata": {},
   "outputs": [
    {
     "data": {
      "text/html": [
       "<div>\n",
       "<style scoped>\n",
       "    .dataframe tbody tr th:only-of-type {\n",
       "        vertical-align: middle;\n",
       "    }\n",
       "\n",
       "    .dataframe tbody tr th {\n",
       "        vertical-align: top;\n",
       "    }\n",
       "\n",
       "    .dataframe thead th {\n",
       "        text-align: right;\n",
       "    }\n",
       "</style>\n",
       "<table border=\"1\" class=\"dataframe\">\n",
       "  <thead>\n",
       "    <tr style=\"text-align: right;\">\n",
       "      <th></th>\n",
       "      <th>Zone</th>\n",
       "      <th>Exportations Volailles (en milliers tonnes)</th>\n",
       "      <th>Importations Volailles (en milliers tonnes)</th>\n",
       "      <th>Nourritures (en milliers tonnes)</th>\n",
       "      <th>Productions Volailles (en milliers tonnes)</th>\n",
       "      <th>Population en 2017 (milliers de personnes)</th>\n",
       "      <th>Stabilité politique</th>\n",
       "      <th>Code Zone</th>\n",
       "      <th>Facilité du Business</th>\n",
       "      <th>Distance</th>\n",
       "      <th>_merge</th>\n",
       "    </tr>\n",
       "  </thead>\n",
       "  <tbody>\n",
       "    <tr>\n",
       "      <th>100</th>\n",
       "      <td>Monténégro</td>\n",
       "      <td>0.0</td>\n",
       "      <td>8.0</td>\n",
       "      <td>10.0</td>\n",
       "      <td>4.0</td>\n",
       "      <td>627.563</td>\n",
       "      <td>-0.06</td>\n",
       "      <td>MNE</td>\n",
       "      <td>71.2</td>\n",
       "      <td>NaN</td>\n",
       "      <td>left_only</td>\n",
       "    </tr>\n",
       "    <tr>\n",
       "      <th>123</th>\n",
       "      <td>Roumanie</td>\n",
       "      <td>69.0</td>\n",
       "      <td>146.0</td>\n",
       "      <td>381.0</td>\n",
       "      <td>392.0</td>\n",
       "      <td>19653.969</td>\n",
       "      <td>0.06</td>\n",
       "      <td>ROU</td>\n",
       "      <td>72.9</td>\n",
       "      <td>NaN</td>\n",
       "      <td>left_only</td>\n",
       "    </tr>\n",
       "    <tr>\n",
       "      <th>137</th>\n",
       "      <td>Serbie</td>\n",
       "      <td>7.0</td>\n",
       "      <td>12.0</td>\n",
       "      <td>90.0</td>\n",
       "      <td>85.0</td>\n",
       "      <td>8829.628</td>\n",
       "      <td>0.09</td>\n",
       "      <td>SRB</td>\n",
       "      <td>73.3</td>\n",
       "      <td>NaN</td>\n",
       "      <td>left_only</td>\n",
       "    </tr>\n",
       "    <tr>\n",
       "      <th>151</th>\n",
       "      <td>Timor-Leste</td>\n",
       "      <td>0.0</td>\n",
       "      <td>11.0</td>\n",
       "      <td>5.0</td>\n",
       "      <td>1.0</td>\n",
       "      <td>1243.258</td>\n",
       "      <td>0.07</td>\n",
       "      <td>TLS</td>\n",
       "      <td>38.2</td>\n",
       "      <td>NaN</td>\n",
       "      <td>left_only</td>\n",
       "    </tr>\n",
       "  </tbody>\n",
       "</table>\n",
       "</div>"
      ],
      "text/plain": [
       "            Zone  Exportations Volailles (en milliers tonnes)  \\\n",
       "100   Monténégro                                          0.0   \n",
       "123     Roumanie                                         69.0   \n",
       "137       Serbie                                          7.0   \n",
       "151  Timor-Leste                                          0.0   \n",
       "\n",
       "     Importations Volailles (en milliers tonnes)  \\\n",
       "100                                          8.0   \n",
       "123                                        146.0   \n",
       "137                                         12.0   \n",
       "151                                         11.0   \n",
       "\n",
       "     Nourritures (en milliers tonnes)  \\\n",
       "100                              10.0   \n",
       "123                             381.0   \n",
       "137                              90.0   \n",
       "151                               5.0   \n",
       "\n",
       "     Productions Volailles (en milliers tonnes)  \\\n",
       "100                                         4.0   \n",
       "123                                       392.0   \n",
       "137                                        85.0   \n",
       "151                                         1.0   \n",
       "\n",
       "     Population en 2017 (milliers de personnes)  Stabilité politique  \\\n",
       "100                                     627.563                -0.06   \n",
       "123                                   19653.969                 0.06   \n",
       "137                                    8829.628                 0.09   \n",
       "151                                    1243.258                 0.07   \n",
       "\n",
       "    Code Zone  Facilité du Business  Distance     _merge  \n",
       "100       MNE                  71.2       NaN  left_only  \n",
       "123       ROU                  72.9       NaN  left_only  \n",
       "137       SRB                  73.3       NaN  left_only  \n",
       "151       TLS                  38.2       NaN  left_only  "
      ]
     },
     "execution_count": 81,
     "metadata": {},
     "output_type": "execute_result"
    }
   ],
   "source": [
    "df_final[df_final['Distance'].isna()]"
   ]
  },
  {
   "cell_type": "markdown",
   "metadata": {},
   "source": [
    "- Il manque **4 valeurs: (Monténégro, Roumanie, Serbie, Timor-Leste).**\n",
    "- Pour la **Roumanie**, on a encore un problème sur le **Code Zone**.  \n",
    "- Nous avons le code **ROU** alors que c'est le code **ROM**. \n",
    "- On va récupérer dans la dataframe distance la valeur."
   ]
  },
  {
   "cell_type": "code",
   "execution_count": 82,
   "metadata": {},
   "outputs": [
    {
     "data": {
      "text/plain": [
       "15177    1875.018\n",
       "Name: Distance, dtype: float64"
      ]
     },
     "execution_count": 82,
     "metadata": {},
     "output_type": "execute_result"
    }
   ],
   "source": [
    "distance[distance['Code Zone']=='ROM']['Distance']"
   ]
  },
  {
   "cell_type": "code",
   "execution_count": 83,
   "metadata": {},
   "outputs": [
    {
     "data": {
      "text/html": [
       "<div>\n",
       "<style scoped>\n",
       "    .dataframe tbody tr th:only-of-type {\n",
       "        vertical-align: middle;\n",
       "    }\n",
       "\n",
       "    .dataframe tbody tr th {\n",
       "        vertical-align: top;\n",
       "    }\n",
       "\n",
       "    .dataframe thead th {\n",
       "        text-align: right;\n",
       "    }\n",
       "</style>\n",
       "<table border=\"1\" class=\"dataframe\">\n",
       "  <thead>\n",
       "    <tr style=\"text-align: right;\">\n",
       "      <th></th>\n",
       "      <th>Zone</th>\n",
       "      <th>Exportations Volailles (en milliers tonnes)</th>\n",
       "      <th>Importations Volailles (en milliers tonnes)</th>\n",
       "      <th>Nourritures (en milliers tonnes)</th>\n",
       "      <th>Productions Volailles (en milliers tonnes)</th>\n",
       "      <th>Population en 2017 (milliers de personnes)</th>\n",
       "      <th>Stabilité politique</th>\n",
       "      <th>Code Zone</th>\n",
       "      <th>Facilité du Business</th>\n",
       "      <th>Distance</th>\n",
       "      <th>_merge</th>\n",
       "    </tr>\n",
       "  </thead>\n",
       "  <tbody>\n",
       "    <tr>\n",
       "      <th>123</th>\n",
       "      <td>Roumanie</td>\n",
       "      <td>69.0</td>\n",
       "      <td>146.0</td>\n",
       "      <td>381.0</td>\n",
       "      <td>392.0</td>\n",
       "      <td>19653.969</td>\n",
       "      <td>0.06</td>\n",
       "      <td>ROU</td>\n",
       "      <td>72.9</td>\n",
       "      <td>1875.018</td>\n",
       "      <td>left_only</td>\n",
       "    </tr>\n",
       "  </tbody>\n",
       "</table>\n",
       "</div>"
      ],
      "text/plain": [
       "         Zone  Exportations Volailles (en milliers tonnes)  \\\n",
       "123  Roumanie                                         69.0   \n",
       "\n",
       "     Importations Volailles (en milliers tonnes)  \\\n",
       "123                                        146.0   \n",
       "\n",
       "     Nourritures (en milliers tonnes)  \\\n",
       "123                             381.0   \n",
       "\n",
       "     Productions Volailles (en milliers tonnes)  \\\n",
       "123                                       392.0   \n",
       "\n",
       "     Population en 2017 (milliers de personnes)  Stabilité politique  \\\n",
       "123                                   19653.969                 0.06   \n",
       "\n",
       "    Code Zone  Facilité du Business  Distance     _merge  \n",
       "123       ROU                  72.9  1875.018  left_only  "
      ]
     },
     "execution_count": 83,
     "metadata": {},
     "output_type": "execute_result"
    }
   ],
   "source": [
    "df_final.loc[df_final['Code Zone']==\"ROU\", 'Distance']= np.unique(distance[(distance['Code Zone']==\"ROM\" )]['Distance'])\n",
    "df_final[df_final['Code Zone']==\"ROU\"]"
   ]
  },
  {
   "cell_type": "code",
   "execution_count": 84,
   "metadata": {},
   "outputs": [
    {
     "data": {
      "text/html": [
       "<div>\n",
       "<style scoped>\n",
       "    .dataframe tbody tr th:only-of-type {\n",
       "        vertical-align: middle;\n",
       "    }\n",
       "\n",
       "    .dataframe tbody tr th {\n",
       "        vertical-align: top;\n",
       "    }\n",
       "\n",
       "    .dataframe thead th {\n",
       "        text-align: right;\n",
       "    }\n",
       "</style>\n",
       "<table border=\"1\" class=\"dataframe\">\n",
       "  <thead>\n",
       "    <tr style=\"text-align: right;\">\n",
       "      <th></th>\n",
       "      <th>Zone</th>\n",
       "      <th>Exportations Volailles (en milliers tonnes)</th>\n",
       "      <th>Importations Volailles (en milliers tonnes)</th>\n",
       "      <th>Nourritures (en milliers tonnes)</th>\n",
       "      <th>Productions Volailles (en milliers tonnes)</th>\n",
       "      <th>Population en 2017 (milliers de personnes)</th>\n",
       "      <th>Stabilité politique</th>\n",
       "      <th>Code Zone</th>\n",
       "      <th>Facilité du Business</th>\n",
       "      <th>Distance</th>\n",
       "      <th>_merge</th>\n",
       "    </tr>\n",
       "  </thead>\n",
       "  <tbody>\n",
       "    <tr>\n",
       "      <th>100</th>\n",
       "      <td>Monténégro</td>\n",
       "      <td>0.0</td>\n",
       "      <td>8.0</td>\n",
       "      <td>10.0</td>\n",
       "      <td>4.0</td>\n",
       "      <td>627.563</td>\n",
       "      <td>-0.06</td>\n",
       "      <td>MNE</td>\n",
       "      <td>71.2</td>\n",
       "      <td>NaN</td>\n",
       "      <td>left_only</td>\n",
       "    </tr>\n",
       "    <tr>\n",
       "      <th>137</th>\n",
       "      <td>Serbie</td>\n",
       "      <td>7.0</td>\n",
       "      <td>12.0</td>\n",
       "      <td>90.0</td>\n",
       "      <td>85.0</td>\n",
       "      <td>8829.628</td>\n",
       "      <td>0.09</td>\n",
       "      <td>SRB</td>\n",
       "      <td>73.3</td>\n",
       "      <td>NaN</td>\n",
       "      <td>left_only</td>\n",
       "    </tr>\n",
       "    <tr>\n",
       "      <th>151</th>\n",
       "      <td>Timor-Leste</td>\n",
       "      <td>0.0</td>\n",
       "      <td>11.0</td>\n",
       "      <td>5.0</td>\n",
       "      <td>1.0</td>\n",
       "      <td>1243.258</td>\n",
       "      <td>0.07</td>\n",
       "      <td>TLS</td>\n",
       "      <td>38.2</td>\n",
       "      <td>NaN</td>\n",
       "      <td>left_only</td>\n",
       "    </tr>\n",
       "  </tbody>\n",
       "</table>\n",
       "</div>"
      ],
      "text/plain": [
       "            Zone  Exportations Volailles (en milliers tonnes)  \\\n",
       "100   Monténégro                                          0.0   \n",
       "137       Serbie                                          7.0   \n",
       "151  Timor-Leste                                          0.0   \n",
       "\n",
       "     Importations Volailles (en milliers tonnes)  \\\n",
       "100                                          8.0   \n",
       "137                                         12.0   \n",
       "151                                         11.0   \n",
       "\n",
       "     Nourritures (en milliers tonnes)  \\\n",
       "100                              10.0   \n",
       "137                              90.0   \n",
       "151                               5.0   \n",
       "\n",
       "     Productions Volailles (en milliers tonnes)  \\\n",
       "100                                         4.0   \n",
       "137                                        85.0   \n",
       "151                                         1.0   \n",
       "\n",
       "     Population en 2017 (milliers de personnes)  Stabilité politique  \\\n",
       "100                                     627.563                -0.06   \n",
       "137                                    8829.628                 0.09   \n",
       "151                                    1243.258                 0.07   \n",
       "\n",
       "    Code Zone  Facilité du Business  Distance     _merge  \n",
       "100       MNE                  71.2       NaN  left_only  \n",
       "137       SRB                  73.3       NaN  left_only  \n",
       "151       TLS                  38.2       NaN  left_only  "
      ]
     },
     "execution_count": 84,
     "metadata": {},
     "output_type": "execute_result"
    }
   ],
   "source": [
    "df_final[df_final['Distance'].isna()]"
   ]
  },
  {
   "cell_type": "markdown",
   "metadata": {},
   "source": [
    "- En ce qui concerne **le Monténégro et la Serbie**, elles faisaient partie de l'ancien **Yougoslavie** . \n",
    "- On va donc prendre le **Code Zone de la Yougoslavie**, c'est-à-dire, **YUG** et mettre la valeur aux deux pays"
   ]
  },
  {
   "cell_type": "code",
   "execution_count": 85,
   "metadata": {},
   "outputs": [
    {
     "data": {
      "text/html": [
       "<div>\n",
       "<style scoped>\n",
       "    .dataframe tbody tr th:only-of-type {\n",
       "        vertical-align: middle;\n",
       "    }\n",
       "\n",
       "    .dataframe tbody tr th {\n",
       "        vertical-align: top;\n",
       "    }\n",
       "\n",
       "    .dataframe thead th {\n",
       "        text-align: right;\n",
       "    }\n",
       "</style>\n",
       "<table border=\"1\" class=\"dataframe\">\n",
       "  <thead>\n",
       "    <tr style=\"text-align: right;\">\n",
       "      <th></th>\n",
       "      <th>Zone</th>\n",
       "      <th>Exportations Volailles (en milliers tonnes)</th>\n",
       "      <th>Importations Volailles (en milliers tonnes)</th>\n",
       "      <th>Nourritures (en milliers tonnes)</th>\n",
       "      <th>Productions Volailles (en milliers tonnes)</th>\n",
       "      <th>Population en 2017 (milliers de personnes)</th>\n",
       "      <th>Stabilité politique</th>\n",
       "      <th>Code Zone</th>\n",
       "      <th>Facilité du Business</th>\n",
       "      <th>Distance</th>\n",
       "      <th>_merge</th>\n",
       "    </tr>\n",
       "  </thead>\n",
       "  <tbody>\n",
       "    <tr>\n",
       "      <th>100</th>\n",
       "      <td>Monténégro</td>\n",
       "      <td>0.0</td>\n",
       "      <td>8.0</td>\n",
       "      <td>10.0</td>\n",
       "      <td>4.0</td>\n",
       "      <td>627.563</td>\n",
       "      <td>-0.06</td>\n",
       "      <td>MNE</td>\n",
       "      <td>71.2</td>\n",
       "      <td>1449.718</td>\n",
       "      <td>left_only</td>\n",
       "    </tr>\n",
       "    <tr>\n",
       "      <th>137</th>\n",
       "      <td>Serbie</td>\n",
       "      <td>7.0</td>\n",
       "      <td>12.0</td>\n",
       "      <td>90.0</td>\n",
       "      <td>85.0</td>\n",
       "      <td>8829.628</td>\n",
       "      <td>0.09</td>\n",
       "      <td>SRB</td>\n",
       "      <td>73.3</td>\n",
       "      <td>1449.718</td>\n",
       "      <td>left_only</td>\n",
       "    </tr>\n",
       "  </tbody>\n",
       "</table>\n",
       "</div>"
      ],
      "text/plain": [
       "           Zone  Exportations Volailles (en milliers tonnes)  \\\n",
       "100  Monténégro                                          0.0   \n",
       "137      Serbie                                          7.0   \n",
       "\n",
       "     Importations Volailles (en milliers tonnes)  \\\n",
       "100                                          8.0   \n",
       "137                                         12.0   \n",
       "\n",
       "     Nourritures (en milliers tonnes)  \\\n",
       "100                              10.0   \n",
       "137                              90.0   \n",
       "\n",
       "     Productions Volailles (en milliers tonnes)  \\\n",
       "100                                         4.0   \n",
       "137                                        85.0   \n",
       "\n",
       "     Population en 2017 (milliers de personnes)  Stabilité politique  \\\n",
       "100                                     627.563                -0.06   \n",
       "137                                    8829.628                 0.09   \n",
       "\n",
       "    Code Zone  Facilité du Business  Distance     _merge  \n",
       "100       MNE                  71.2  1449.718  left_only  \n",
       "137       SRB                  73.3  1449.718  left_only  "
      ]
     },
     "execution_count": 85,
     "metadata": {},
     "output_type": "execute_result"
    }
   ],
   "source": [
    "df_final.loc[df_final[\"Zone\"]==\"Monténégro\", 'Distance'] = np.unique(distance[(distance['Code Zone']==\"YUG\" )]['Distance'])\n",
    "df_final.loc[df_final[\"Zone\"]==\"Serbie\", 'Distance']= np.unique(distance[(distance['Code Zone']==\"YUG\" )]['Distance'])\n",
    "df_final.loc[df_final[\"Zone\"].isin(['Monténégro', 'Serbie'])]"
   ]
  },
  {
   "cell_type": "code",
   "execution_count": 86,
   "metadata": {},
   "outputs": [
    {
     "data": {
      "text/html": [
       "<div>\n",
       "<style scoped>\n",
       "    .dataframe tbody tr th:only-of-type {\n",
       "        vertical-align: middle;\n",
       "    }\n",
       "\n",
       "    .dataframe tbody tr th {\n",
       "        vertical-align: top;\n",
       "    }\n",
       "\n",
       "    .dataframe thead th {\n",
       "        text-align: right;\n",
       "    }\n",
       "</style>\n",
       "<table border=\"1\" class=\"dataframe\">\n",
       "  <thead>\n",
       "    <tr style=\"text-align: right;\">\n",
       "      <th></th>\n",
       "      <th>Zone</th>\n",
       "      <th>Exportations Volailles (en milliers tonnes)</th>\n",
       "      <th>Importations Volailles (en milliers tonnes)</th>\n",
       "      <th>Nourritures (en milliers tonnes)</th>\n",
       "      <th>Productions Volailles (en milliers tonnes)</th>\n",
       "      <th>Population en 2017 (milliers de personnes)</th>\n",
       "      <th>Stabilité politique</th>\n",
       "      <th>Code Zone</th>\n",
       "      <th>Facilité du Business</th>\n",
       "      <th>Distance</th>\n",
       "      <th>_merge</th>\n",
       "    </tr>\n",
       "  </thead>\n",
       "  <tbody>\n",
       "    <tr>\n",
       "      <th>151</th>\n",
       "      <td>Timor-Leste</td>\n",
       "      <td>0.0</td>\n",
       "      <td>11.0</td>\n",
       "      <td>5.0</td>\n",
       "      <td>1.0</td>\n",
       "      <td>1243.258</td>\n",
       "      <td>0.07</td>\n",
       "      <td>TLS</td>\n",
       "      <td>38.2</td>\n",
       "      <td>NaN</td>\n",
       "      <td>left_only</td>\n",
       "    </tr>\n",
       "  </tbody>\n",
       "</table>\n",
       "</div>"
      ],
      "text/plain": [
       "            Zone  Exportations Volailles (en milliers tonnes)  \\\n",
       "151  Timor-Leste                                          0.0   \n",
       "\n",
       "     Importations Volailles (en milliers tonnes)  \\\n",
       "151                                         11.0   \n",
       "\n",
       "     Nourritures (en milliers tonnes)  \\\n",
       "151                               5.0   \n",
       "\n",
       "     Productions Volailles (en milliers tonnes)  \\\n",
       "151                                         1.0   \n",
       "\n",
       "     Population en 2017 (milliers de personnes)  Stabilité politique  \\\n",
       "151                                    1243.258                 0.07   \n",
       "\n",
       "    Code Zone  Facilité du Business  Distance     _merge  \n",
       "151       TLS                  38.2       NaN  left_only  "
      ]
     },
     "execution_count": 86,
     "metadata": {},
     "output_type": "execute_result"
    }
   ],
   "source": [
    "df_final[df_final['Distance'].isna()]"
   ]
  },
  {
   "cell_type": "markdown",
   "metadata": {},
   "source": [
    "- En ce qui concerne le **Timor-leste** on a encore un problème sur le **Code Zone**."
   ]
  },
  {
   "cell_type": "code",
   "execution_count": 87,
   "metadata": {},
   "outputs": [
    {
     "data": {
      "text/plain": [
       "15206    13128.84\n",
       "Name: Distance, dtype: float64"
      ]
     },
     "execution_count": 87,
     "metadata": {},
     "output_type": "execute_result"
    }
   ],
   "source": [
    "distance[distance['Code Zone']=='TMP']['Distance']"
   ]
  },
  {
   "cell_type": "code",
   "execution_count": 88,
   "metadata": {},
   "outputs": [
    {
     "data": {
      "text/html": [
       "<div>\n",
       "<style scoped>\n",
       "    .dataframe tbody tr th:only-of-type {\n",
       "        vertical-align: middle;\n",
       "    }\n",
       "\n",
       "    .dataframe tbody tr th {\n",
       "        vertical-align: top;\n",
       "    }\n",
       "\n",
       "    .dataframe thead th {\n",
       "        text-align: right;\n",
       "    }\n",
       "</style>\n",
       "<table border=\"1\" class=\"dataframe\">\n",
       "  <thead>\n",
       "    <tr style=\"text-align: right;\">\n",
       "      <th></th>\n",
       "      <th>Zone</th>\n",
       "      <th>Exportations Volailles (en milliers tonnes)</th>\n",
       "      <th>Importations Volailles (en milliers tonnes)</th>\n",
       "      <th>Nourritures (en milliers tonnes)</th>\n",
       "      <th>Productions Volailles (en milliers tonnes)</th>\n",
       "      <th>Population en 2017 (milliers de personnes)</th>\n",
       "      <th>Stabilité politique</th>\n",
       "      <th>Code Zone</th>\n",
       "      <th>Facilité du Business</th>\n",
       "      <th>Distance</th>\n",
       "      <th>_merge</th>\n",
       "    </tr>\n",
       "  </thead>\n",
       "  <tbody>\n",
       "    <tr>\n",
       "      <th>151</th>\n",
       "      <td>Timor-Leste</td>\n",
       "      <td>0.0</td>\n",
       "      <td>11.0</td>\n",
       "      <td>5.0</td>\n",
       "      <td>1.0</td>\n",
       "      <td>1243.258</td>\n",
       "      <td>0.07</td>\n",
       "      <td>TLS</td>\n",
       "      <td>38.2</td>\n",
       "      <td>13128.84</td>\n",
       "      <td>left_only</td>\n",
       "    </tr>\n",
       "  </tbody>\n",
       "</table>\n",
       "</div>"
      ],
      "text/plain": [
       "            Zone  Exportations Volailles (en milliers tonnes)  \\\n",
       "151  Timor-Leste                                          0.0   \n",
       "\n",
       "     Importations Volailles (en milliers tonnes)  \\\n",
       "151                                         11.0   \n",
       "\n",
       "     Nourritures (en milliers tonnes)  \\\n",
       "151                               5.0   \n",
       "\n",
       "     Productions Volailles (en milliers tonnes)  \\\n",
       "151                                         1.0   \n",
       "\n",
       "     Population en 2017 (milliers de personnes)  Stabilité politique  \\\n",
       "151                                    1243.258                 0.07   \n",
       "\n",
       "    Code Zone  Facilité du Business  Distance     _merge  \n",
       "151       TLS                  38.2  13128.84  left_only  "
      ]
     },
     "execution_count": 88,
     "metadata": {},
     "output_type": "execute_result"
    }
   ],
   "source": [
    "df_final.loc[df_final[\"Zone\"]==\"Timor-Leste\", 'Distance']= np.unique(distance[(distance['Code Zone']==\"TMP\" )]['Distance'])\n",
    "df_final.loc[df_final[\"Zone\"].isin(['Timor-Leste'])]"
   ]
  },
  {
   "cell_type": "code",
   "execution_count": 89,
   "metadata": {},
   "outputs": [
    {
     "data": {
      "text/html": [
       "<div>\n",
       "<style scoped>\n",
       "    .dataframe tbody tr th:only-of-type {\n",
       "        vertical-align: middle;\n",
       "    }\n",
       "\n",
       "    .dataframe tbody tr th {\n",
       "        vertical-align: top;\n",
       "    }\n",
       "\n",
       "    .dataframe thead th {\n",
       "        text-align: right;\n",
       "    }\n",
       "</style>\n",
       "<table border=\"1\" class=\"dataframe\">\n",
       "  <thead>\n",
       "    <tr style=\"text-align: right;\">\n",
       "      <th></th>\n",
       "      <th>Zone</th>\n",
       "      <th>Exportations Volailles (en milliers tonnes)</th>\n",
       "      <th>Importations Volailles (en milliers tonnes)</th>\n",
       "      <th>Nourritures (en milliers tonnes)</th>\n",
       "      <th>Productions Volailles (en milliers tonnes)</th>\n",
       "      <th>Population en 2017 (milliers de personnes)</th>\n",
       "      <th>Stabilité politique</th>\n",
       "      <th>Code Zone</th>\n",
       "      <th>Facilité du Business</th>\n",
       "      <th>Distance</th>\n",
       "      <th>_merge</th>\n",
       "    </tr>\n",
       "  </thead>\n",
       "  <tbody>\n",
       "  </tbody>\n",
       "</table>\n",
       "</div>"
      ],
      "text/plain": [
       "Empty DataFrame\n",
       "Columns: [Zone, Exportations Volailles (en milliers tonnes), Importations Volailles (en milliers tonnes), Nourritures (en milliers tonnes), Productions Volailles (en milliers tonnes), Population en 2017 (milliers de personnes), Stabilité politique, Code Zone, Facilité du Business, Distance, _merge]\n",
       "Index: []"
      ]
     },
     "execution_count": 89,
     "metadata": {},
     "output_type": "execute_result"
    }
   ],
   "source": [
    "df_final[df_final['Distance'].isna()]"
   ]
  },
  {
   "cell_type": "code",
   "execution_count": 90,
   "metadata": {},
   "outputs": [
    {
     "data": {
      "text/html": [
       "<div>\n",
       "<style scoped>\n",
       "    .dataframe tbody tr th:only-of-type {\n",
       "        vertical-align: middle;\n",
       "    }\n",
       "\n",
       "    .dataframe tbody tr th {\n",
       "        vertical-align: top;\n",
       "    }\n",
       "\n",
       "    .dataframe thead th {\n",
       "        text-align: right;\n",
       "    }\n",
       "</style>\n",
       "<table border=\"1\" class=\"dataframe\">\n",
       "  <thead>\n",
       "    <tr style=\"text-align: right;\">\n",
       "      <th></th>\n",
       "      <th>Zone</th>\n",
       "      <th>Exportations Volailles (en milliers tonnes)</th>\n",
       "      <th>Importations Volailles (en milliers tonnes)</th>\n",
       "      <th>Nourritures (en milliers tonnes)</th>\n",
       "      <th>Productions Volailles (en milliers tonnes)</th>\n",
       "      <th>Population en 2017 (milliers de personnes)</th>\n",
       "      <th>Stabilité politique</th>\n",
       "      <th>Code Zone</th>\n",
       "      <th>Facilité du Business</th>\n",
       "      <th>Distance</th>\n",
       "    </tr>\n",
       "  </thead>\n",
       "  <tbody>\n",
       "    <tr>\n",
       "      <th>0</th>\n",
       "      <td>Afghanistan</td>\n",
       "      <td>0.0</td>\n",
       "      <td>29.0</td>\n",
       "      <td>55.0</td>\n",
       "      <td>28.0</td>\n",
       "      <td>36296.113</td>\n",
       "      <td>-2.80</td>\n",
       "      <td>AFG</td>\n",
       "      <td>38.9</td>\n",
       "      <td>5590.3810</td>\n",
       "    </tr>\n",
       "    <tr>\n",
       "      <th>1</th>\n",
       "      <td>Afrique du Sud</td>\n",
       "      <td>63.0</td>\n",
       "      <td>514.0</td>\n",
       "      <td>2035.0</td>\n",
       "      <td>1667.0</td>\n",
       "      <td>57009.756</td>\n",
       "      <td>-0.28</td>\n",
       "      <td>ZAF</td>\n",
       "      <td>65.4</td>\n",
       "      <td>9353.5520</td>\n",
       "    </tr>\n",
       "    <tr>\n",
       "      <th>2</th>\n",
       "      <td>Albanie</td>\n",
       "      <td>0.0</td>\n",
       "      <td>38.0</td>\n",
       "      <td>47.0</td>\n",
       "      <td>13.0</td>\n",
       "      <td>2884.169</td>\n",
       "      <td>0.38</td>\n",
       "      <td>ALB</td>\n",
       "      <td>64.2</td>\n",
       "      <td>1603.5340</td>\n",
       "    </tr>\n",
       "    <tr>\n",
       "      <th>3</th>\n",
       "      <td>Algérie</td>\n",
       "      <td>0.0</td>\n",
       "      <td>2.0</td>\n",
       "      <td>264.0</td>\n",
       "      <td>275.0</td>\n",
       "      <td>41389.189</td>\n",
       "      <td>-0.92</td>\n",
       "      <td>DZA</td>\n",
       "      <td>46.1</td>\n",
       "      <td>1340.3900</td>\n",
       "    </tr>\n",
       "    <tr>\n",
       "      <th>4</th>\n",
       "      <td>Allemagne</td>\n",
       "      <td>646.0</td>\n",
       "      <td>842.0</td>\n",
       "      <td>1609.0</td>\n",
       "      <td>1514.0</td>\n",
       "      <td>82658.409</td>\n",
       "      <td>0.59</td>\n",
       "      <td>DEU</td>\n",
       "      <td>79.6</td>\n",
       "      <td>439.8984</td>\n",
       "    </tr>\n",
       "    <tr>\n",
       "      <th>...</th>\n",
       "      <td>...</td>\n",
       "      <td>...</td>\n",
       "      <td>...</td>\n",
       "      <td>...</td>\n",
       "      <td>...</td>\n",
       "      <td>...</td>\n",
       "      <td>...</td>\n",
       "      <td>...</td>\n",
       "      <td>...</td>\n",
       "      <td>...</td>\n",
       "    </tr>\n",
       "    <tr>\n",
       "      <th>166</th>\n",
       "      <td>Émirats arabes unis</td>\n",
       "      <td>94.0</td>\n",
       "      <td>433.0</td>\n",
       "      <td>412.0</td>\n",
       "      <td>48.0</td>\n",
       "      <td>9487.203</td>\n",
       "      <td>0.62</td>\n",
       "      <td>ARE</td>\n",
       "      <td>77.4</td>\n",
       "      <td>5249.5350</td>\n",
       "    </tr>\n",
       "    <tr>\n",
       "      <th>167</th>\n",
       "      <td>Équateur</td>\n",
       "      <td>0.0</td>\n",
       "      <td>0.0</td>\n",
       "      <td>324.0</td>\n",
       "      <td>340.0</td>\n",
       "      <td>16785.361</td>\n",
       "      <td>-0.07</td>\n",
       "      <td>ECU</td>\n",
       "      <td>57.5</td>\n",
       "      <td>9367.0980</td>\n",
       "    </tr>\n",
       "    <tr>\n",
       "      <th>168</th>\n",
       "      <td>États-Unis d'Amérique</td>\n",
       "      <td>3692.0</td>\n",
       "      <td>123.0</td>\n",
       "      <td>18100.0</td>\n",
       "      <td>21914.0</td>\n",
       "      <td>325084.756</td>\n",
       "      <td>0.29</td>\n",
       "      <td>USA</td>\n",
       "      <td>83.6</td>\n",
       "      <td>5838.1570</td>\n",
       "    </tr>\n",
       "    <tr>\n",
       "      <th>169</th>\n",
       "      <td>Éthiopie</td>\n",
       "      <td>0.0</td>\n",
       "      <td>1.0</td>\n",
       "      <td>14.0</td>\n",
       "      <td>14.0</td>\n",
       "      <td>106399.924</td>\n",
       "      <td>-1.68</td>\n",
       "      <td>ETH</td>\n",
       "      <td>44.1</td>\n",
       "      <td>5582.5020</td>\n",
       "    </tr>\n",
       "    <tr>\n",
       "      <th>170</th>\n",
       "      <td>Îles Salomon</td>\n",
       "      <td>0.0</td>\n",
       "      <td>6.0</td>\n",
       "      <td>3.0</td>\n",
       "      <td>0.0</td>\n",
       "      <td>636.039</td>\n",
       "      <td>0.20</td>\n",
       "      <td>SLB</td>\n",
       "      <td>55.1</td>\n",
       "      <td>15178.2000</td>\n",
       "    </tr>\n",
       "  </tbody>\n",
       "</table>\n",
       "<p>171 rows × 10 columns</p>\n",
       "</div>"
      ],
      "text/plain": [
       "                      Zone  Exportations Volailles (en milliers tonnes)  \\\n",
       "0              Afghanistan                                          0.0   \n",
       "1           Afrique du Sud                                         63.0   \n",
       "2                  Albanie                                          0.0   \n",
       "3                  Algérie                                          0.0   \n",
       "4                Allemagne                                        646.0   \n",
       "..                     ...                                          ...   \n",
       "166    Émirats arabes unis                                         94.0   \n",
       "167               Équateur                                          0.0   \n",
       "168  États-Unis d'Amérique                                       3692.0   \n",
       "169               Éthiopie                                          0.0   \n",
       "170           Îles Salomon                                          0.0   \n",
       "\n",
       "     Importations Volailles (en milliers tonnes)  \\\n",
       "0                                           29.0   \n",
       "1                                          514.0   \n",
       "2                                           38.0   \n",
       "3                                            2.0   \n",
       "4                                          842.0   \n",
       "..                                           ...   \n",
       "166                                        433.0   \n",
       "167                                          0.0   \n",
       "168                                        123.0   \n",
       "169                                          1.0   \n",
       "170                                          6.0   \n",
       "\n",
       "     Nourritures (en milliers tonnes)  \\\n",
       "0                                55.0   \n",
       "1                              2035.0   \n",
       "2                                47.0   \n",
       "3                               264.0   \n",
       "4                              1609.0   \n",
       "..                                ...   \n",
       "166                             412.0   \n",
       "167                             324.0   \n",
       "168                           18100.0   \n",
       "169                              14.0   \n",
       "170                               3.0   \n",
       "\n",
       "     Productions Volailles (en milliers tonnes)  \\\n",
       "0                                          28.0   \n",
       "1                                        1667.0   \n",
       "2                                          13.0   \n",
       "3                                         275.0   \n",
       "4                                        1514.0   \n",
       "..                                          ...   \n",
       "166                                        48.0   \n",
       "167                                       340.0   \n",
       "168                                     21914.0   \n",
       "169                                        14.0   \n",
       "170                                         0.0   \n",
       "\n",
       "     Population en 2017 (milliers de personnes)  Stabilité politique  \\\n",
       "0                                     36296.113                -2.80   \n",
       "1                                     57009.756                -0.28   \n",
       "2                                      2884.169                 0.38   \n",
       "3                                     41389.189                -0.92   \n",
       "4                                     82658.409                 0.59   \n",
       "..                                          ...                  ...   \n",
       "166                                    9487.203                 0.62   \n",
       "167                                   16785.361                -0.07   \n",
       "168                                  325084.756                 0.29   \n",
       "169                                  106399.924                -1.68   \n",
       "170                                     636.039                 0.20   \n",
       "\n",
       "    Code Zone  Facilité du Business    Distance  \n",
       "0         AFG                  38.9   5590.3810  \n",
       "1         ZAF                  65.4   9353.5520  \n",
       "2         ALB                  64.2   1603.5340  \n",
       "3         DZA                  46.1   1340.3900  \n",
       "4         DEU                  79.6    439.8984  \n",
       "..        ...                   ...         ...  \n",
       "166       ARE                  77.4   5249.5350  \n",
       "167       ECU                  57.5   9367.0980  \n",
       "168       USA                  83.6   5838.1570  \n",
       "169       ETH                  44.1   5582.5020  \n",
       "170       SLB                  55.1  15178.2000  \n",
       "\n",
       "[171 rows x 10 columns]"
      ]
     },
     "execution_count": 90,
     "metadata": {},
     "output_type": "execute_result"
    }
   ],
   "source": [
    "df_final = df_final.drop(columns='_merge')\n",
    "df_final"
   ]
  },
  {
   "cell_type": "code",
   "execution_count": 91,
   "metadata": {},
   "outputs": [
    {
     "name": "stdout",
     "output_type": "stream",
     "text": [
      "<class 'pandas.core.frame.DataFrame'>\n",
      "Int64Index: 171 entries, 0 to 170\n",
      "Data columns (total 10 columns):\n",
      " #   Column                                       Non-Null Count  Dtype  \n",
      "---  ------                                       --------------  -----  \n",
      " 0   Zone                                         171 non-null    object \n",
      " 1   Exportations Volailles (en milliers tonnes)  171 non-null    float64\n",
      " 2   Importations Volailles (en milliers tonnes)  171 non-null    float64\n",
      " 3   Nourritures (en milliers tonnes)             171 non-null    float64\n",
      " 4   Productions Volailles (en milliers tonnes)   171 non-null    float64\n",
      " 5   Population en 2017 (milliers de personnes)   171 non-null    float64\n",
      " 6   Stabilité politique                          171 non-null    float64\n",
      " 7   Code Zone                                    171 non-null    object \n",
      " 8   Facilité du Business                         171 non-null    float64\n",
      " 9   Distance                                     171 non-null    float64\n",
      "dtypes: float64(8), object(2)\n",
      "memory usage: 14.7+ KB\n"
     ]
    }
   ],
   "source": [
    "df_final.info()"
   ]
  },
  {
   "cell_type": "code",
   "execution_count": 92,
   "metadata": {},
   "outputs": [],
   "source": [
    "df_final.to_csv('df_final.csv', index= False)"
   ]
  }
 ],
 "metadata": {
  "kernelspec": {
   "display_name": "base",
   "language": "python",
   "name": "python3"
  },
  "language_info": {
   "codemirror_mode": {
    "name": "ipython",
    "version": 3
   },
   "file_extension": ".py",
   "mimetype": "text/x-python",
   "name": "python",
   "nbconvert_exporter": "python",
   "pygments_lexer": "ipython3",
   "version": "3.9.16"
  },
  "orig_nbformat": 4
 },
 "nbformat": 4,
 "nbformat_minor": 2
}
